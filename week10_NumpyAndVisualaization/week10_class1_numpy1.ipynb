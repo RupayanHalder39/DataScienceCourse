{
  "nbformat": 4,
  "nbformat_minor": 0,
  "metadata": {
    "colab": {
      "provenance": []
    },
    "kernelspec": {
      "name": "python3",
      "display_name": "Python 3"
    },
    "language_info": {
      "name": "python"
    }
  },
  "cells": [
    {
      "cell_type": "code",
      "execution_count": null,
      "metadata": {
        "id": "Ow30djsDWSkS"
      },
      "outputs": [],
      "source": [
        "import numpy as np\n",
        "#numpy --> package , np---> alias"
      ]
    },
    {
      "cell_type": "code",
      "source": [
        "l=[1,2,3,4]"
      ],
      "metadata": {
        "id": "_twi2aNBWmuw"
      },
      "execution_count": null,
      "outputs": []
    },
    {
      "cell_type": "code",
      "source": [
        "#convert this to array\n",
        "ar=np.array(l)"
      ],
      "metadata": {
        "id": "AfV51qlhWpmV"
      },
      "execution_count": null,
      "outputs": []
    },
    {
      "cell_type": "code",
      "source": [
        "type(ar)\n",
        "#ndarray mane n dimensitional array"
      ],
      "metadata": {
        "colab": {
          "base_uri": "https://localhost:8080/"
        },
        "id": "9bq543k9WyqT",
        "outputId": "051d5d88-d6ec-4451-f172-a1737e139639"
      },
      "execution_count": null,
      "outputs": [
        {
          "output_type": "execute_result",
          "data": {
            "text/plain": [
              "numpy.ndarray"
            ]
          },
          "metadata": {},
          "execution_count": 5
        }
      ]
    },
    {
      "cell_type": "code",
      "source": [
        "#let's create a 2d array:\n",
        "np.array([ [1,2],[3,4] ])"
      ],
      "metadata": {
        "colab": {
          "base_uri": "https://localhost:8080/"
        },
        "id": "arFmbdabXB_c",
        "outputId": "dad762f5-0abf-48f6-b879-063cbfee723f"
      },
      "execution_count": null,
      "outputs": [
        {
          "output_type": "execute_result",
          "data": {
            "text/plain": [
              "array([[1, 2],\n",
              "       [3, 4]])"
            ]
          },
          "metadata": {},
          "execution_count": 6
        }
      ]
    },
    {
      "cell_type": "markdown",
      "source": [
        "array moddhe list , tar moddhe list pass korachhi\n",
        "\n",
        "index of 2d array:\n",
        "![image.png](data:image/png;base64,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)"
      ],
      "metadata": {
        "id": "UUd7JdrNXXTr"
      }
    },
    {
      "cell_type": "code",
      "source": [
        "a=[2,3,4]"
      ],
      "metadata": {
        "id": "WhYHpQi7X9H3"
      },
      "execution_count": null,
      "outputs": []
    },
    {
      "cell_type": "code",
      "source": [
        "np.asarray(a)"
      ],
      "metadata": {
        "colab": {
          "base_uri": "https://localhost:8080/"
        },
        "id": "Ux_ZyMhUYi9L",
        "outputId": "66539105-ba03-4f10-974c-a2de81e0339d"
      },
      "execution_count": null,
      "outputs": [
        {
          "output_type": "execute_result",
          "data": {
            "text/plain": [
              "array([2, 3, 4])"
            ]
          },
          "metadata": {},
          "execution_count": 8
        }
      ]
    },
    {
      "cell_type": "code",
      "source": [
        "np.asanyarray(a)"
      ],
      "metadata": {
        "colab": {
          "base_uri": "https://localhost:8080/"
        },
        "id": "VvVtsem8Ypda",
        "outputId": "c63369f6-f2b7-4fb1-e814-a20d03dae090"
      },
      "execution_count": null,
      "outputs": [
        {
          "output_type": "execute_result",
          "data": {
            "text/plain": [
              "array([2, 3, 4])"
            ]
          },
          "metadata": {},
          "execution_count": 9
        }
      ]
    },
    {
      "cell_type": "markdown",
      "source": [
        "ei 3 tei same kaj korbe"
      ],
      "metadata": {
        "id": "T3gbdIlXYuo1"
      }
    },
    {
      "cell_type": "code",
      "source": [
        "b=np.matrix(a)"
      ],
      "metadata": {
        "id": "-65eck_-ZGwP"
      },
      "execution_count": null,
      "outputs": []
    },
    {
      "cell_type": "code",
      "source": [
        "b"
      ],
      "metadata": {
        "colab": {
          "base_uri": "https://localhost:8080/"
        },
        "id": "nfZH8kWAZMif",
        "outputId": "afc4a2dd-8bdf-4ffc-de18-d36a3d51fb40"
      },
      "execution_count": null,
      "outputs": [
        {
          "output_type": "execute_result",
          "data": {
            "text/plain": [
              "matrix([[2, 3, 4]])"
            ]
          },
          "metadata": {},
          "execution_count": 11
        }
      ]
    },
    {
      "cell_type": "markdown",
      "source": [
        "matrix by default 2d hoy"
      ],
      "metadata": {
        "id": "sscKilUnZPxE"
      }
    },
    {
      "cell_type": "code",
      "source": [
        "#matrix ke array te convert kora jay na\n",
        "np.asanyarray(b)"
      ],
      "metadata": {
        "colab": {
          "base_uri": "https://localhost:8080/"
        },
        "id": "tamxjMgUZV3j",
        "outputId": "ada6218f-a33a-4f9f-f4cb-72f1ee712b52"
      },
      "execution_count": null,
      "outputs": [
        {
          "output_type": "execute_result",
          "data": {
            "text/plain": [
              "matrix([[2, 3, 4]])"
            ]
          },
          "metadata": {},
          "execution_count": 12
        }
      ]
    },
    {
      "cell_type": "code",
      "source": [
        "a=np.array(l)"
      ],
      "metadata": {
        "id": "mDKkgQRyZibO"
      },
      "execution_count": null,
      "outputs": []
    },
    {
      "cell_type": "code",
      "source": [
        "c=a"
      ],
      "metadata": {
        "id": "KoGNM9USZnws"
      },
      "execution_count": null,
      "outputs": []
    },
    {
      "cell_type": "code",
      "source": [
        "print(\"c:\",c)\n",
        "print(\"a:\",a)"
      ],
      "metadata": {
        "colab": {
          "base_uri": "https://localhost:8080/"
        },
        "id": "IO80WLFbZw3h",
        "outputId": "4bd2f8e3-93ce-4060-dadc-a3f00fc7ecc6"
      },
      "execution_count": null,
      "outputs": [
        {
          "output_type": "stream",
          "name": "stdout",
          "text": [
            "c: [1 2 3 4]\n",
            "a: [1 2 3 4]\n"
          ]
        }
      ]
    },
    {
      "cell_type": "code",
      "source": [
        "#now let's make changes in c\n",
        "c[0]=101"
      ],
      "metadata": {
        "id": "CD1M1Ub9ZrBJ"
      },
      "execution_count": null,
      "outputs": []
    },
    {
      "cell_type": "code",
      "source": [
        "print(\"c:\",c)\n",
        "print(\"a:\",a)"
      ],
      "metadata": {
        "colab": {
          "base_uri": "https://localhost:8080/"
        },
        "id": "VVdCpPhraSgC",
        "outputId": "7d01c77a-bc7a-41b5-c77b-8119bf6650a5"
      },
      "execution_count": null,
      "outputs": [
        {
          "output_type": "stream",
          "name": "stdout",
          "text": [
            "c: [101   2   3   4]\n",
            "a: [101   2   3   4]\n"
          ]
        }
      ]
    },
    {
      "cell_type": "markdown",
      "source": [
        "etar karon holo eta same value kei point kore ,tai ekta te change korle ar ekta teo changes dekhay"
      ],
      "metadata": {
        "id": "-hE2HlGSaViq"
      }
    },
    {
      "cell_type": "code",
      "source": [
        "#solution\n",
        "d=np.copy(a)\n",
        "print(\"d:\",d)\n",
        "print(\"a:\",a)"
      ],
      "metadata": {
        "colab": {
          "base_uri": "https://localhost:8080/"
        },
        "id": "gbdSnQSPahGi",
        "outputId": "61f9742c-1a86-4795-931a-e87c2a7db6cc"
      },
      "execution_count": null,
      "outputs": [
        {
          "output_type": "stream",
          "name": "stdout",
          "text": [
            "d: [101   2   3   4]\n",
            "a: [101   2   3   4]\n"
          ]
        }
      ]
    },
    {
      "cell_type": "markdown",
      "source": [
        "eta te amra notun location e copy korchi"
      ],
      "metadata": {
        "id": "hdK_DjRJb0WU"
      }
    },
    {
      "cell_type": "code",
      "source": [
        "a[1]=400\n",
        "print(\"d:\",d)\n",
        "print(\"a:\",a)"
      ],
      "metadata": {
        "colab": {
          "base_uri": "https://localhost:8080/"
        },
        "id": "qw3jVDcVbqif",
        "outputId": "01609f66-4049-485c-f86d-527df40e0a88"
      },
      "execution_count": null,
      "outputs": [
        {
          "output_type": "stream",
          "name": "stdout",
          "text": [
            "d: [101   2   3   4]\n",
            "a: [101 400   3   4]\n"
          ]
        }
      ]
    },
    {
      "cell_type": "code",
      "source": [
        "#fromfunction ki kore kaj kore?\n",
        "np.fromfunction(lambda i,j : i==j , (3,3))\n",
        "#3x3 data genarate koro"
      ],
      "metadata": {
        "colab": {
          "base_uri": "https://localhost:8080/"
        },
        "id": "yO8MwdtQcTck",
        "outputId": "d186eb74-183e-4a0d-88d9-c938cdbcedc6"
      },
      "execution_count": null,
      "outputs": [
        {
          "output_type": "execute_result",
          "data": {
            "text/plain": [
              "array([[ True, False, False],\n",
              "       [False,  True, False],\n",
              "       [False, False,  True]])"
            ]
          },
          "metadata": {},
          "execution_count": 20
        }
      ]
    },
    {
      "cell_type": "code",
      "source": [
        "#Another example:\n",
        "np.fromfunction(lambda i,j : i*j , (3,3))"
      ],
      "metadata": {
        "colab": {
          "base_uri": "https://localhost:8080/"
        },
        "id": "Rm7uUOV4dMwa",
        "outputId": "6d1c791f-5f2e-4405-c8f7-b5f4e22e9921"
      },
      "execution_count": null,
      "outputs": [
        {
          "output_type": "execute_result",
          "data": {
            "text/plain": [
              "array([[0., 0., 0.],\n",
              "       [0., 1., 2.],\n",
              "       [0., 2., 4.]])"
            ]
          },
          "metadata": {},
          "execution_count": 21
        }
      ]
    },
    {
      "cell_type": "markdown",
      "source": [
        "ebar dekhi fromiter ki vabe kaj kore"
      ],
      "metadata": {
        "id": "gU5YoLRkeMZ9"
      }
    },
    {
      "cell_type": "code",
      "source": [
        "iterable=(i*i for i in range(5))"
      ],
      "metadata": {
        "id": "J7Dz54sCdnvT"
      },
      "execution_count": null,
      "outputs": []
    },
    {
      "cell_type": "code",
      "source": [
        "np.fromiter(iterable, float)"
      ],
      "metadata": {
        "colab": {
          "base_uri": "https://localhost:8080/"
        },
        "id": "Wb6_dfRadXTr",
        "outputId": "d7a738cf-d2d2-4c5c-d92d-a8c25916f3c5"
      },
      "execution_count": null,
      "outputs": [
        {
          "output_type": "execute_result",
          "data": {
            "text/plain": [
              "array([ 0.,  1.,  4.,  9., 16.])"
            ]
          },
          "metadata": {},
          "execution_count": 23
        }
      ]
    },
    {
      "cell_type": "markdown",
      "source": [
        "String ke array te convert kore:"
      ],
      "metadata": {
        "id": "EaeH6croeT-P"
      }
    },
    {
      "cell_type": "code",
      "source": [
        "#example1:\n",
        "np.fromstring('234 234', sep=' ')"
      ],
      "metadata": {
        "colab": {
          "base_uri": "https://localhost:8080/"
        },
        "id": "i2YiNW1MeeGo",
        "outputId": "351b3810-e5f1-4fb8-c0bc-3e4852b49ccf"
      },
      "execution_count": null,
      "outputs": [
        {
          "output_type": "execute_result",
          "data": {
            "text/plain": [
              "array([234., 234.])"
            ]
          },
          "metadata": {},
          "execution_count": 24
        }
      ]
    },
    {
      "cell_type": "code",
      "source": [
        "#example2:\n",
        "np.fromstring('234,234', sep=', ')"
      ],
      "metadata": {
        "colab": {
          "base_uri": "https://localhost:8080/"
        },
        "id": "pYLCMt4igTMi",
        "outputId": "8393de4a-71e8-4d86-842e-8d748bf7ffda"
      },
      "execution_count": null,
      "outputs": [
        {
          "output_type": "execute_result",
          "data": {
            "text/plain": [
              "array([234., 234.])"
            ]
          },
          "metadata": {},
          "execution_count": 25
        }
      ]
    },
    {
      "cell_type": "markdown",
      "source": [
        "##Numpy data types"
      ],
      "metadata": {
        "id": "BRczzsfBgsvA"
      }
    },
    {
      "cell_type": "code",
      "source": [
        "l=[2,3,4,5,6]"
      ],
      "metadata": {
        "id": "bylPNG0agw72"
      },
      "execution_count": null,
      "outputs": []
    },
    {
      "cell_type": "code",
      "source": [
        "ar=np.array(l)"
      ],
      "metadata": {
        "id": "5RSTCFSCg19q"
      },
      "execution_count": null,
      "outputs": []
    },
    {
      "cell_type": "code",
      "source": [
        "ar"
      ],
      "metadata": {
        "colab": {
          "base_uri": "https://localhost:8080/"
        },
        "id": "W_vqEvqxg8lX",
        "outputId": "56a5a9b4-a100-4e22-fbe3-26ad56df8e34"
      },
      "execution_count": null,
      "outputs": [
        {
          "output_type": "execute_result",
          "data": {
            "text/plain": [
              "array([2, 3, 4, 5, 6])"
            ]
          },
          "metadata": {},
          "execution_count": 28
        }
      ]
    },
    {
      "cell_type": "code",
      "source": [
        "#dimension of array\n",
        "ar.ndim"
      ],
      "metadata": {
        "colab": {
          "base_uri": "https://localhost:8080/"
        },
        "id": "JRCAmtZzhCtt",
        "outputId": "6c216180-edcb-4e14-b7fc-8e4d4ee27bcd"
      },
      "execution_count": null,
      "outputs": [
        {
          "output_type": "execute_result",
          "data": {
            "text/plain": [
              "1"
            ]
          },
          "metadata": {},
          "execution_count": 29
        }
      ]
    },
    {
      "cell_type": "code",
      "source": [
        "ar2=np.array([ [1,2,3],[4,5,6] ])"
      ],
      "metadata": {
        "id": "-V_pFVHphRxz"
      },
      "execution_count": null,
      "outputs": []
    },
    {
      "cell_type": "code",
      "source": [
        "#now check dimension:\n",
        "ar2.ndim"
      ],
      "metadata": {
        "colab": {
          "base_uri": "https://localhost:8080/"
        },
        "id": "X0lbNaiShhf2",
        "outputId": "c6bc9e99-9d19-4d16-b8dd-e6146aa8d718"
      },
      "execution_count": null,
      "outputs": [
        {
          "output_type": "execute_result",
          "data": {
            "text/plain": [
              "2"
            ]
          },
          "metadata": {},
          "execution_count": 31
        }
      ]
    },
    {
      "cell_type": "code",
      "source": [
        "#now check the size:\n",
        "ar2.size\n",
        "#kota element ache bolbe"
      ],
      "metadata": {
        "colab": {
          "base_uri": "https://localhost:8080/"
        },
        "id": "a913rrlpiLHy",
        "outputId": "bd707964-1aad-407e-e5b9-a8f8c08c486d"
      },
      "execution_count": null,
      "outputs": [
        {
          "output_type": "execute_result",
          "data": {
            "text/plain": [
              "6"
            ]
          },
          "metadata": {},
          "execution_count": 32
        }
      ]
    },
    {
      "cell_type": "code",
      "source": [
        "ar2.shape\n",
        "#(row,column) format asbe"
      ],
      "metadata": {
        "colab": {
          "base_uri": "https://localhost:8080/"
        },
        "id": "9FWovHociTT-",
        "outputId": "fca08710-45fb-41c6-90b5-e4655c4275f9"
      },
      "execution_count": null,
      "outputs": [
        {
          "output_type": "execute_result",
          "data": {
            "text/plain": [
              "(2, 3)"
            ]
          },
          "metadata": {},
          "execution_count": 33
        }
      ]
    },
    {
      "cell_type": "code",
      "source": [
        "#check data type:\n",
        "ar2.dtype"
      ],
      "metadata": {
        "colab": {
          "base_uri": "https://localhost:8080/"
        },
        "id": "sMNWszx8idUN",
        "outputId": "0d0ee70d-952d-46a0-e52f-e1e963d244cd"
      },
      "execution_count": null,
      "outputs": [
        {
          "output_type": "execute_result",
          "data": {
            "text/plain": [
              "dtype('int64')"
            ]
          },
          "metadata": {},
          "execution_count": 34
        }
      ]
    },
    {
      "cell_type": "code",
      "source": [
        "ar22=np.array([ (1.4,45,45),(23,45,66) ])"
      ],
      "metadata": {
        "id": "G8GtrkKIit-d"
      },
      "execution_count": null,
      "outputs": []
    },
    {
      "cell_type": "code",
      "source": [
        "ar22"
      ],
      "metadata": {
        "colab": {
          "base_uri": "https://localhost:8080/"
        },
        "id": "eHm9_BRLjAwe",
        "outputId": "7cc83e77-906f-48f7-a207-85587d738a35"
      },
      "execution_count": null,
      "outputs": [
        {
          "output_type": "execute_result",
          "data": {
            "text/plain": [
              "array([[ 1.4, 45. , 45. ],\n",
              "       [23. , 45. , 66. ]])"
            ]
          },
          "metadata": {},
          "execution_count": 36
        }
      ]
    },
    {
      "cell_type": "code",
      "source": [
        "ar22.dtype"
      ],
      "metadata": {
        "colab": {
          "base_uri": "https://localhost:8080/"
        },
        "id": "nrWmwqasjD9g",
        "outputId": "8418de08-a242-46a9-b267-a8aae039f342"
      },
      "execution_count": null,
      "outputs": [
        {
          "output_type": "execute_result",
          "data": {
            "text/plain": [
              "dtype('float64')"
            ]
          },
          "metadata": {},
          "execution_count": 37
        }
      ]
    },
    {
      "cell_type": "markdown",
      "source": [
        "tale dekho jodio ami ekta float ar baki integer dilam , kintu tao eta sob kota ke float e convert kore dilo , karon float ta integer er cheye besi jayga nay"
      ],
      "metadata": {
        "id": "Y--nGCymjIAq"
      }
    },
    {
      "cell_type": "code",
      "source": [
        "list(range(5))"
      ],
      "metadata": {
        "colab": {
          "base_uri": "https://localhost:8080/"
        },
        "id": "A2ErQNbljeGv",
        "outputId": "31cde55d-1791-4cfe-bba2-625eb68964f0"
      },
      "execution_count": null,
      "outputs": [
        {
          "output_type": "execute_result",
          "data": {
            "text/plain": [
              "[0, 1, 2, 3, 4]"
            ]
          },
          "metadata": {},
          "execution_count": 38
        }
      ]
    },
    {
      "cell_type": "code",
      "source": [
        "#eta kokhn o float nite pare na:\n",
        "list(range(0.1,5))\n",
        "#error asbe"
      ],
      "metadata": {
        "colab": {
          "base_uri": "https://localhost:8080/",
          "height": 209
        },
        "id": "eOl1KtUoj_el",
        "outputId": "a2e77a8d-b5d3-4111-c492-9bba5198b837"
      },
      "execution_count": null,
      "outputs": [
        {
          "output_type": "error",
          "ename": "TypeError",
          "evalue": "ignored",
          "traceback": [
            "\u001b[0;31m---------------------------------------------------------------------------\u001b[0m",
            "\u001b[0;31mTypeError\u001b[0m                                 Traceback (most recent call last)",
            "\u001b[0;32m<ipython-input-40-45b93d6a9921>\u001b[0m in \u001b[0;36m<cell line: 2>\u001b[0;34m()\u001b[0m\n\u001b[1;32m      1\u001b[0m \u001b[0;31m#eta kokhn o float nite pare na:\u001b[0m\u001b[0;34m\u001b[0m\u001b[0;34m\u001b[0m\u001b[0m\n\u001b[0;32m----> 2\u001b[0;31m \u001b[0mlist\u001b[0m\u001b[0;34m(\u001b[0m\u001b[0mrange\u001b[0m\u001b[0;34m(\u001b[0m\u001b[0;36m0.1\u001b[0m\u001b[0;34m,\u001b[0m\u001b[0;36m5\u001b[0m\u001b[0;34m)\u001b[0m\u001b[0;34m)\u001b[0m\u001b[0;34m\u001b[0m\u001b[0;34m\u001b[0m\u001b[0m\n\u001b[0m\u001b[1;32m      3\u001b[0m \u001b[0;31m#error asbe\u001b[0m\u001b[0;34m\u001b[0m\u001b[0;34m\u001b[0m\u001b[0m\n",
            "\u001b[0;31mTypeError\u001b[0m: 'float' object cannot be interpreted as an integer"
          ]
        }
      ]
    },
    {
      "cell_type": "markdown",
      "source": [
        "kintu nupmy te float diye o kora jay"
      ],
      "metadata": {
        "id": "X3L6fNiOkpY-"
      }
    },
    {
      "cell_type": "code",
      "source": [
        "np.arange(2.3,5.6)"
      ],
      "metadata": {
        "colab": {
          "base_uri": "https://localhost:8080/"
        },
        "id": "9kwrMNcDku1h",
        "outputId": "3ad31c41-22d9-4c26-d78b-1d50ae5af82f"
      },
      "execution_count": null,
      "outputs": [
        {
          "output_type": "execute_result",
          "data": {
            "text/plain": [
              "array([2.3, 3.3, 4.3, 5.3])"
            ]
          },
          "metadata": {},
          "execution_count": 41
        }
      ]
    },
    {
      "cell_type": "code",
      "source": [
        "#np.arange(InitialValue , (FinalValue-k) , jump)\n",
        "np.arange(2.3,5.6,0.4)"
      ],
      "metadata": {
        "colab": {
          "base_uri": "https://localhost:8080/"
        },
        "id": "tAA6ZFArk-A-",
        "outputId": "1c2c9f4a-394f-44ad-e299-eff313952915"
      },
      "execution_count": null,
      "outputs": [
        {
          "output_type": "execute_result",
          "data": {
            "text/plain": [
              "array([2.3, 2.7, 3.1, 3.5, 3.9, 4.3, 4.7, 5.1, 5.5])"
            ]
          },
          "metadata": {},
          "execution_count": 42
        }
      ]
    },
    {
      "cell_type": "code",
      "source": [
        "#list this data:\n",
        "list(np.arange(2.3,5.6,0.4))"
      ],
      "metadata": {
        "colab": {
          "base_uri": "https://localhost:8080/"
        },
        "id": "uSoa0gUdlnKI",
        "outputId": "d78fd40b-fff4-415b-c6f2-de5a9542bd66"
      },
      "execution_count": null,
      "outputs": [
        {
          "output_type": "execute_result",
          "data": {
            "text/plain": [
              "[2.3,\n",
              " 2.6999999999999997,\n",
              " 3.0999999999999996,\n",
              " 3.4999999999999996,\n",
              " 3.8999999999999995,\n",
              " 4.299999999999999,\n",
              " 4.699999999999999,\n",
              " 5.1,\n",
              " 5.499999999999999]"
            ]
          },
          "metadata": {},
          "execution_count": 43
        }
      ]
    },
    {
      "cell_type": "markdown",
      "source": [
        "Array to list conversion is possible"
      ],
      "metadata": {
        "id": "_gP1xKbrlvLE"
      }
    },
    {
      "cell_type": "code",
      "source": [
        "#linspace function\n",
        "\n",
        "np.linspace(1,5,10)\n",
        "#1 theke 5 er moddhe 10 ta data genarate kore debe"
      ],
      "metadata": {
        "colab": {
          "base_uri": "https://localhost:8080/"
        },
        "id": "4RWExs23l76t",
        "outputId": "c1aa5e77-cfe7-461f-86a8-79e0dc06cb13"
      },
      "execution_count": null,
      "outputs": [
        {
          "output_type": "execute_result",
          "data": {
            "text/plain": [
              "array([1.        , 1.44444444, 1.88888889, 2.33333333, 2.77777778,\n",
              "       3.22222222, 3.66666667, 4.11111111, 4.55555556, 5.        ])"
            ]
          },
          "metadata": {},
          "execution_count": 44
        }
      ]
    },
    {
      "cell_type": "code",
      "source": [
        "np.zeros(5)\n",
        "#5 ta element er array produce korbe ,jekhane sobar value=0"
      ],
      "metadata": {
        "colab": {
          "base_uri": "https://localhost:8080/"
        },
        "id": "RPUDirKgmVlv",
        "outputId": "eb02afcd-45d4-4894-c509-baae2a3f2022"
      },
      "execution_count": null,
      "outputs": [
        {
          "output_type": "execute_result",
          "data": {
            "text/plain": [
              "array([0., 0., 0., 0., 0.])"
            ]
          },
          "metadata": {},
          "execution_count": 45
        }
      ]
    },
    {
      "cell_type": "code",
      "source": [
        "#create a 2d array:\n",
        "np.zeros((3,4))"
      ],
      "metadata": {
        "colab": {
          "base_uri": "https://localhost:8080/"
        },
        "id": "m4djYFvSOsv9",
        "outputId": "9af4a077-414b-4a3f-d5d3-78649a04e750"
      },
      "execution_count": null,
      "outputs": [
        {
          "output_type": "execute_result",
          "data": {
            "text/plain": [
              "array([[0., 0., 0., 0.],\n",
              "       [0., 0., 0., 0.],\n",
              "       [0., 0., 0., 0.]])"
            ]
          },
          "metadata": {},
          "execution_count": 46
        }
      ]
    },
    {
      "cell_type": "code",
      "source": [
        "#creating a 3d array:\n",
        "np.zeros((3,4,2))\n",
        "#(3 te 4x2 matrix banao zero er)"
      ],
      "metadata": {
        "colab": {
          "base_uri": "https://localhost:8080/"
        },
        "id": "oZDJjjUfO9TQ",
        "outputId": "cc0ce5fc-18e2-4a74-dc89-4e974ec6771c"
      },
      "execution_count": null,
      "outputs": [
        {
          "output_type": "execute_result",
          "data": {
            "text/plain": [
              "array([[[0., 0.],\n",
              "        [0., 0.],\n",
              "        [0., 0.],\n",
              "        [0., 0.]],\n",
              "\n",
              "       [[0., 0.],\n",
              "        [0., 0.],\n",
              "        [0., 0.],\n",
              "        [0., 0.]],\n",
              "\n",
              "       [[0., 0.],\n",
              "        [0., 0.],\n",
              "        [0., 0.],\n",
              "        [0., 0.]]])"
            ]
          },
          "metadata": {},
          "execution_count": 48
        }
      ]
    },
    {
      "cell_type": "markdown",
      "source": [
        "Till 3d you can visualize"
      ],
      "metadata": {
        "id": "4BxQskR4Ydnt"
      }
    },
    {
      "cell_type": "code",
      "source": [
        "np.ones(4)"
      ],
      "metadata": {
        "colab": {
          "base_uri": "https://localhost:8080/"
        },
        "id": "8TmO9-qjYnYy",
        "outputId": "c2bfda9f-68dd-4de7-b560-7c7c29524006"
      },
      "execution_count": null,
      "outputs": [
        {
          "output_type": "execute_result",
          "data": {
            "text/plain": [
              "array([1., 1., 1., 1.])"
            ]
          },
          "metadata": {},
          "execution_count": 49
        }
      ]
    },
    {
      "cell_type": "code",
      "source": [
        "#2d array with element 1\n",
        "np.ones((2,3))"
      ],
      "metadata": {
        "colab": {
          "base_uri": "https://localhost:8080/"
        },
        "id": "YEsO3eA-Yra5",
        "outputId": "8c2f1429-2a1c-4c2e-bb05-d99588d6fe92"
      },
      "execution_count": null,
      "outputs": [
        {
          "output_type": "execute_result",
          "data": {
            "text/plain": [
              "array([[1., 1., 1.],\n",
              "       [1., 1., 1.]])"
            ]
          },
          "metadata": {},
          "execution_count": 50
        }
      ]
    },
    {
      "cell_type": "code",
      "source": [
        "on=np.ones((2,3))"
      ],
      "metadata": {
        "id": "bL-_sb2pYz9U"
      },
      "execution_count": null,
      "outputs": []
    },
    {
      "cell_type": "code",
      "source": [
        "on"
      ],
      "metadata": {
        "colab": {
          "base_uri": "https://localhost:8080/"
        },
        "id": "DkkcPIlKY45x",
        "outputId": "6a3e05f2-df5d-49b7-a48d-1fd6016f6658"
      },
      "execution_count": null,
      "outputs": [
        {
          "output_type": "execute_result",
          "data": {
            "text/plain": [
              "array([[1., 1., 1.],\n",
              "       [1., 1., 1.]])"
            ]
          },
          "metadata": {},
          "execution_count": 52
        }
      ]
    },
    {
      "cell_type": "code",
      "source": [
        "on*4"
      ],
      "metadata": {
        "colab": {
          "base_uri": "https://localhost:8080/"
        },
        "id": "EMQlBUrJY6q2",
        "outputId": "ce198903-65ad-43a0-d072-a0e0d9dc5de3"
      },
      "execution_count": null,
      "outputs": [
        {
          "output_type": "execute_result",
          "data": {
            "text/plain": [
              "array([[4., 4., 4.],\n",
              "       [4., 4., 4.]])"
            ]
          },
          "metadata": {},
          "execution_count": 53
        }
      ]
    },
    {
      "cell_type": "code",
      "source": [
        "#crate a empty array:\n",
        "np.empty((5,6))"
      ],
      "metadata": {
        "colab": {
          "base_uri": "https://localhost:8080/"
        },
        "id": "LipD4JjIY-L5",
        "outputId": "c3c13402-1836-4093-8c48-ad944927193a"
      },
      "execution_count": null,
      "outputs": [
        {
          "output_type": "execute_result",
          "data": {
            "text/plain": [
              "array([[1.97148082e-316, 0.00000000e+000, 0.00000000e+000,\n",
              "        0.00000000e+000, 1.41463038e+190, 5.02034658e+175],\n",
              "       [1.18970618e-047, 4.08370673e-033, 3.34487370e-061,\n",
              "        2.67909159e+184, 3.34571080e-033, 3.83819517e+151],\n",
              "       [2.59903818e-144, 3.51151606e+151, 1.04918960e-153,\n",
              "        7.69165785e+218, 5.04621343e+180, 1.04917822e-153],\n",
              "       [9.08366793e+223, 1.18970618e-047, 4.08370673e-033,\n",
              "        3.34487370e-061, 2.67909159e+184, 1.04915146e-153],\n",
              "       [1.94918966e-153, 7.25382147e-043, 9.71810387e-067,\n",
              "        3.53976341e-057, 2.59027896e-144, 7.79952704e-143]])"
            ]
          },
          "metadata": {},
          "execution_count": 59
        }
      ]
    },
    {
      "cell_type": "markdown",
      "source": [
        "Please note that the values in the resulting array are uninitialized and can contain arbitrary data."
      ],
      "metadata": {
        "id": "UPNnU5sVZcH-"
      }
    },
    {
      "cell_type": "code",
      "source": [
        "#create a identity matrix\n",
        "np.eye(4)"
      ],
      "metadata": {
        "colab": {
          "base_uri": "https://localhost:8080/"
        },
        "id": "TCYx_dYEZdCs",
        "outputId": "1d0d4ba5-b3bb-445a-df94-61bc73b4623e"
      },
      "execution_count": null,
      "outputs": [
        {
          "output_type": "execute_result",
          "data": {
            "text/plain": [
              "array([[1., 0., 0., 0.],\n",
              "       [0., 1., 0., 0.],\n",
              "       [0., 0., 1., 0.],\n",
              "       [0., 0., 0., 1.]])"
            ]
          },
          "metadata": {},
          "execution_count": 60
        }
      ]
    },
    {
      "cell_type": "code",
      "source": [
        "# 2 theke 4 er moddhe 20 ta interval chai:\n",
        "np.linspace(2,4,20)"
      ],
      "metadata": {
        "colab": {
          "base_uri": "https://localhost:8080/"
        },
        "id": "DBEH40wAZ3OS",
        "outputId": "473e3776-5031-4399-f49e-c54a22a4b755"
      },
      "execution_count": null,
      "outputs": [
        {
          "output_type": "execute_result",
          "data": {
            "text/plain": [
              "array([2.        , 2.10526316, 2.21052632, 2.31578947, 2.42105263,\n",
              "       2.52631579, 2.63157895, 2.73684211, 2.84210526, 2.94736842,\n",
              "       3.05263158, 3.15789474, 3.26315789, 3.36842105, 3.47368421,\n",
              "       3.57894737, 3.68421053, 3.78947368, 3.89473684, 4.        ])"
            ]
          },
          "metadata": {},
          "execution_count": 61
        }
      ]
    },
    {
      "cell_type": "code",
      "source": [
        "#2 theke 5 ta data nebe , tarpor tader log ber kore debe\n",
        "np.logspace(2,5,10)"
      ],
      "metadata": {
        "colab": {
          "base_uri": "https://localhost:8080/"
        },
        "id": "kmsRKEryaFc1",
        "outputId": "1c30cdea-cb7a-4e2f-9f13-555b78a4dc25"
      },
      "execution_count": null,
      "outputs": [
        {
          "output_type": "execute_result",
          "data": {
            "text/plain": [
              "array([   100.        ,    215.443469  ,    464.15888336,   1000.        ,\n",
              "         2154.43469003,   4641.58883361,  10000.        ,  21544.34690032,\n",
              "        46415.88833613, 100000.        ])"
            ]
          },
          "metadata": {},
          "execution_count": 62
        }
      ]
    },
    {
      "cell_type": "code",
      "source": [
        "#ebar dhoro log er base ta 10 er bodol e 2 jodi thaken tokhn ki korbo:\n",
        "np.logspace(2,5,10,base=2)"
      ],
      "metadata": {
        "colab": {
          "base_uri": "https://localhost:8080/"
        },
        "id": "zaVs43TtahL5",
        "outputId": "4c808a7a-eff5-444b-edc8-24781e1d702e"
      },
      "execution_count": null,
      "outputs": [
        {
          "output_type": "execute_result",
          "data": {
            "text/plain": [
              "array([ 4.        ,  5.0396842 ,  6.34960421,  8.        , 10.0793684 ,\n",
              "       12.69920842, 16.        , 20.1587368 , 25.39841683, 32.        ])"
            ]
          },
          "metadata": {},
          "execution_count": 64
        }
      ]
    },
    {
      "cell_type": "code",
      "source": [
        "#create a random data\n",
        "arr=np.random.randn(3,4)"
      ],
      "metadata": {
        "id": "XckeJmVPbMWT"
      },
      "execution_count": null,
      "outputs": []
    },
    {
      "cell_type": "code",
      "source": [
        "arr"
      ],
      "metadata": {
        "colab": {
          "base_uri": "https://localhost:8080/"
        },
        "id": "kqKWQQ4bbeM3",
        "outputId": "f8bd1274-9917-4e05-cff4-4312aab553ff"
      },
      "execution_count": null,
      "outputs": [
        {
          "output_type": "execute_result",
          "data": {
            "text/plain": [
              "array([[-0.4182098 ,  1.68757079,  0.0265935 ,  1.31954742],\n",
              "       [-0.3708454 , -0.20995581,  0.42682486,  0.31674654],\n",
              "       [-1.55921964,  0.70544511,  0.6564492 , -0.63016317]])"
            ]
          },
          "metadata": {},
          "execution_count": 68
        }
      ]
    },
    {
      "cell_type": "code",
      "source": [
        "import pandas as pd"
      ],
      "metadata": {
        "id": "4cuSVkX6bWfO"
      },
      "execution_count": null,
      "outputs": []
    },
    {
      "cell_type": "code",
      "source": [
        "#convert the data array in pandas:\n",
        "pd.DataFrame(arr)"
      ],
      "metadata": {
        "colab": {
          "base_uri": "https://localhost:8080/",
          "height": 143
        },
        "id": "vHVJmpMFbayw",
        "outputId": "38cba957-a885-4b52-e51e-2f4dae3c3750"
      },
      "execution_count": null,
      "outputs": [
        {
          "output_type": "execute_result",
          "data": {
            "text/plain": [
              "          0         1         2         3\n",
              "0 -0.418210  1.687571  0.026594  1.319547\n",
              "1 -0.370845 -0.209956  0.426825  0.316747\n",
              "2 -1.559220  0.705445  0.656449 -0.630163"
            ],
            "text/html": [
              "\n",
              "  <div id=\"df-6e8e6069-012a-4b9f-b906-2ed1aedb615c\">\n",
              "    <div class=\"colab-df-container\">\n",
              "      <div>\n",
              "<style scoped>\n",
              "    .dataframe tbody tr th:only-of-type {\n",
              "        vertical-align: middle;\n",
              "    }\n",
              "\n",
              "    .dataframe tbody tr th {\n",
              "        vertical-align: top;\n",
              "    }\n",
              "\n",
              "    .dataframe thead th {\n",
              "        text-align: right;\n",
              "    }\n",
              "</style>\n",
              "<table border=\"1\" class=\"dataframe\">\n",
              "  <thead>\n",
              "    <tr style=\"text-align: right;\">\n",
              "      <th></th>\n",
              "      <th>0</th>\n",
              "      <th>1</th>\n",
              "      <th>2</th>\n",
              "      <th>3</th>\n",
              "    </tr>\n",
              "  </thead>\n",
              "  <tbody>\n",
              "    <tr>\n",
              "      <th>0</th>\n",
              "      <td>-0.418210</td>\n",
              "      <td>1.687571</td>\n",
              "      <td>0.026594</td>\n",
              "      <td>1.319547</td>\n",
              "    </tr>\n",
              "    <tr>\n",
              "      <th>1</th>\n",
              "      <td>-0.370845</td>\n",
              "      <td>-0.209956</td>\n",
              "      <td>0.426825</td>\n",
              "      <td>0.316747</td>\n",
              "    </tr>\n",
              "    <tr>\n",
              "      <th>2</th>\n",
              "      <td>-1.559220</td>\n",
              "      <td>0.705445</td>\n",
              "      <td>0.656449</td>\n",
              "      <td>-0.630163</td>\n",
              "    </tr>\n",
              "  </tbody>\n",
              "</table>\n",
              "</div>\n",
              "      <button class=\"colab-df-convert\" onclick=\"convertToInteractive('df-6e8e6069-012a-4b9f-b906-2ed1aedb615c')\"\n",
              "              title=\"Convert this dataframe to an interactive table.\"\n",
              "              style=\"display:none;\">\n",
              "        \n",
              "  <svg xmlns=\"http://www.w3.org/2000/svg\" height=\"24px\"viewBox=\"0 0 24 24\"\n",
              "       width=\"24px\">\n",
              "    <path d=\"M0 0h24v24H0V0z\" fill=\"none\"/>\n",
              "    <path d=\"M18.56 5.44l.94 2.06.94-2.06 2.06-.94-2.06-.94-.94-2.06-.94 2.06-2.06.94zm-11 1L8.5 8.5l.94-2.06 2.06-.94-2.06-.94L8.5 2.5l-.94 2.06-2.06.94zm10 10l.94 2.06.94-2.06 2.06-.94-2.06-.94-.94-2.06-.94 2.06-2.06.94z\"/><path d=\"M17.41 7.96l-1.37-1.37c-.4-.4-.92-.59-1.43-.59-.52 0-1.04.2-1.43.59L10.3 9.45l-7.72 7.72c-.78.78-.78 2.05 0 2.83L4 21.41c.39.39.9.59 1.41.59.51 0 1.02-.2 1.41-.59l7.78-7.78 2.81-2.81c.8-.78.8-2.07 0-2.86zM5.41 20L4 18.59l7.72-7.72 1.47 1.35L5.41 20z\"/>\n",
              "  </svg>\n",
              "      </button>\n",
              "      \n",
              "  <style>\n",
              "    .colab-df-container {\n",
              "      display:flex;\n",
              "      flex-wrap:wrap;\n",
              "      gap: 12px;\n",
              "    }\n",
              "\n",
              "    .colab-df-convert {\n",
              "      background-color: #E8F0FE;\n",
              "      border: none;\n",
              "      border-radius: 50%;\n",
              "      cursor: pointer;\n",
              "      display: none;\n",
              "      fill: #1967D2;\n",
              "      height: 32px;\n",
              "      padding: 0 0 0 0;\n",
              "      width: 32px;\n",
              "    }\n",
              "\n",
              "    .colab-df-convert:hover {\n",
              "      background-color: #E2EBFA;\n",
              "      box-shadow: 0px 1px 2px rgba(60, 64, 67, 0.3), 0px 1px 3px 1px rgba(60, 64, 67, 0.15);\n",
              "      fill: #174EA6;\n",
              "    }\n",
              "\n",
              "    [theme=dark] .colab-df-convert {\n",
              "      background-color: #3B4455;\n",
              "      fill: #D2E3FC;\n",
              "    }\n",
              "\n",
              "    [theme=dark] .colab-df-convert:hover {\n",
              "      background-color: #434B5C;\n",
              "      box-shadow: 0px 1px 3px 1px rgba(0, 0, 0, 0.15);\n",
              "      filter: drop-shadow(0px 1px 2px rgba(0, 0, 0, 0.3));\n",
              "      fill: #FFFFFF;\n",
              "    }\n",
              "  </style>\n",
              "\n",
              "      <script>\n",
              "        const buttonEl =\n",
              "          document.querySelector('#df-6e8e6069-012a-4b9f-b906-2ed1aedb615c button.colab-df-convert');\n",
              "        buttonEl.style.display =\n",
              "          google.colab.kernel.accessAllowed ? 'block' : 'none';\n",
              "\n",
              "        async function convertToInteractive(key) {\n",
              "          const element = document.querySelector('#df-6e8e6069-012a-4b9f-b906-2ed1aedb615c');\n",
              "          const dataTable =\n",
              "            await google.colab.kernel.invokeFunction('convertToInteractive',\n",
              "                                                     [key], {});\n",
              "          if (!dataTable) return;\n",
              "\n",
              "          const docLinkHtml = 'Like what you see? Visit the ' +\n",
              "            '<a target=\"_blank\" href=https://colab.research.google.com/notebooks/data_table.ipynb>data table notebook</a>'\n",
              "            + ' to learn more about interactive tables.';\n",
              "          element.innerHTML = '';\n",
              "          dataTable['output_type'] = 'display_data';\n",
              "          await google.colab.output.renderOutput(dataTable, element);\n",
              "          const docLink = document.createElement('div');\n",
              "          docLink.innerHTML = docLinkHtml;\n",
              "          element.appendChild(docLink);\n",
              "        }\n",
              "      </script>\n",
              "    </div>\n",
              "  </div>\n",
              "  "
            ]
          },
          "metadata": {},
          "execution_count": 70
        }
      ]
    },
    {
      "cell_type": "markdown",
      "source": [
        "joto bar e execute korbe different different data debe"
      ],
      "metadata": {
        "id": "x9VToGHRbudf"
      }
    },
    {
      "cell_type": "code",
      "source": [
        "#rand function\n",
        "np.random.rand(3,4)\n",
        "#eta o random value genarate korbe"
      ],
      "metadata": {
        "colab": {
          "base_uri": "https://localhost:8080/"
        },
        "id": "ygri42sHcMKo",
        "outputId": "8369f008-8edc-4f3e-fb82-861294088c5d"
      },
      "execution_count": null,
      "outputs": [
        {
          "output_type": "execute_result",
          "data": {
            "text/plain": [
              "array([[0.93587018, 0.53896767, 0.08223965, 0.77575208],\n",
              "       [0.6909246 , 0.49262336, 0.99863758, 0.04380494],\n",
              "       [0.12655406, 0.68727393, 0.09503944, 0.63047304]])"
            ]
          },
          "metadata": {},
          "execution_count": 71
        }
      ]
    },
    {
      "cell_type": "markdown",
      "source": [
        "**np.random.randn() Functionality:**\n",
        "\n",
        "* Generates random numbers from a standard normal distribution (mean 0, variance 1).\n",
        "* Returns random samples as per the standard normal distribution.\n",
        "\n",
        "**np.random.rand() Functionality:**\n",
        "\n",
        "* Generates random numbers from a uniform distribution between 0 and 1.\n",
        "* Returns random samples as per the uniform distribution."
      ],
      "metadata": {
        "id": "LMQGnRo5c9SA"
      }
    },
    {
      "cell_type": "markdown",
      "source": [
        "![image.png](data:image/png;base64,iVBORw0KGgoAAAANSUhEUgAAAtAAAAIcCAIAAABQHw4EAAAgAElEQVR4nOxdd5wURfavzjOzE9noLgtHFJcMSpQgEk9AT0RAENFTfyp4gBFQzBIUT08RPTGgmMAI3nmgqKAIi6AgSHAPENgF2Tg7ebqnu+v3x3enbJZwptU77e/Hj59lpqe7uurVq1fvfd8rjlJKbNiwYcOGDRs2GhL8r90AGzZs2LBhw8ZvH7bBYcOGDRs2bNhocNgGhw0bNmzYsGGjwWEbHDZs2LBhw4aNBodtcNiwYcOGDRs2Ghy2wWHDhg0bNmzYaHDYBocNGzZs2LBho8FhGxw2bNiwYcOGjQaHbXDYsGHDhg0bNhoctsFhw4YNGzZs2Ghw2AaHDRs2bNiwYaPBYRscNmzYsGHDho0Gh21w2LBhw4YNGzYaHLbBYcOGDRs2bNhocNgGhw0bNmzYsGGjwWEbHDZs2LBhw4aNBodtcNiwYcOGDRs2Ghy2wWHDhg0bNmzYaHDYBocNGzZs2LBho8FhGxw2bNiwYcOGjQaHbXDYsGHDhg0bNhoctsFhw4YNGzZs2Ghw2AaHDRs2bNiwYaPBYRscNmzYsGHDho0Gh21w2LBhw4YNGzYaHLbBYcOGDRs2bNhocNgGhw0bNmzYsGGjwWEbHDZs2LBhw4aNBodtcNiwYcOGDRs2Ghy2wWHDhg0bNmzYaHDYBocNGzZs2LBho8FhGxw2bNiwYcOGjQaHbXDYsGHDhg0bNhoctsFhw4YNGzZs2Ghw2AaHDRs2bNiwYaPBYRscNmzYsGHDho0Gh21w2LBhw4YNGzYaHLbB8dsBpfTXboINGzZs2LBxYoi/dgP+60Ap5TjONE2e/17WGK5v6Fad7InMyOA4Dp/Xa8/xVsgv3NrfGE7dnxCbX14kTg1rm3+uhp3sntbP8Te+PfVzrVeyT/DPeh1ulfwfNE9/LRz/av/xgp/r1X7i3P+PDfgldcvJ5OqXebqNnwucvS2uB0qprus8x3M8x/O8aZq6rhNCBF4ghJjUJITwHM8LJ56KDSr09WYapZQNH8/zhm4IomCaplVTn6w99uT8ofiPM4VSSk1qUlMUv7Pj0c/Q3ZqmybIcj8edTqf1h7+AzNSzgX7iE9k96/5pWowP3rJwmhSfnMLmOFmvmoYpiAIhxNCNk801Nk9P+GqGbpjUFAThV7RI2GRkOL4T0AOmYZrUxN+iKDJp+dGPPuG4n6wNxyOZTEqixAt8PbOv3lbnR9//B+E/ypttfPyvwPZw1AfHcZIkEUI0Tatn4wuiIBCB/dM0TWrSk2nDBmobe7Su6xzH8Vz66TwxqSkQgZqUE2wPR0PhZP2ZTCYFQZBlGRJivSwcDnu9XkJILBaTZdnlckUiEbfb/Uu2mZoU4dOf0cPB9D4sg2O+SttehBDe5An/vTwcVhimgZ40TMNqxLD7WOepruvMhqOURiIRURRFURR44deS9lAoJEkSmnHqNuBbq25Bb2CH81NgHXfrs74PHA4Htl6UUoEXTqjlfsr9fyis8sZ2fYQZHz+rbNtoONgGxwkQj8dFUcT2gq0W4XBYURR2Dc/zoijy4i+6eTJN0zAMbNpkWTZ0w/qt7az6tcBxHBY8TdMMw3A4HOwrTdO8Xi+kyOvxmqYZi8U8Hs9/W9jlR4DjOVgVZsqs9zrf2cE/N6yhlkQigXmKqcr2wW63+1ePs/h8PjTGNMz/aG8RQpLJJPvb4XAwb+XP+CIcxzWcyP2vC7ONXwa2wXECuFwu0zRTqRSl1Ov1xuNxQgjMjhOiIWLkJwTP81BA1mCKjV8dMAQJIaIoYtvNAOPV6/VWV1dnZmbCIvkZH/19ZI/jON3UJUEyDfPnNZE5nhOIwCImVte31e/NmvpTQzmI0aQdeE6nk1KaSqUIIYJQ1wxwaAzd0A3dMAyXy/VTnvijkUwmeZ4XeKFexMcKa9DTupkhhOiGLohCPf/BT8EP7Xm0X5Kk7xOf/dXBZM+K34BN/9vDfzXf6peEoRtwGMTj8VAoxPO8rusCL5im6XK5YIKEw+FUKmXohmmayWQSIm7ohnX5bzhToM5RbZrYNlGTCqKgG3pKTxmmEQqFWMTXNOp4J4ZhcBwXi8V4njcMQ9M0nuc5jsO3Nn4QsEFkHcj+aRomVLMkSfg2FoslEolkMplMJn0+H+LxmZmZhBAYH8eH9n8ETiF1tbW1mqalUqny8nJGIuE4Dr7onw62V8YfpmGGw2FCiKZpkDFVVQmoThyPgMjJJoWmaehG9k9CiK7rsixXV1cbuoFehQAbpoFXSCaT8PbDvMA1GBTcUNVUzNyf5X1PDVVVrf4JwOFwyLJsUtMwDFVVOY6LRqOU0mQyiSls6IZpmJRSTdMikUgqlTINM5FIEEKgiOr5L78nMO6pVCoSiQSDQUS7wuHwD3JvUEplWRZ4AaMWiUTYzzGytbW1WM4TyYTVB9NAThSO4yKRiCAKvMDrhi4IgiRJHM8JooD/uDQw+qZhVlVV4bfobYafvW02fhBsD0cdOJ6Dr9vpdDocjq+++ur1118vLi4uKyuLRCKEEI/HM3DgwDFjxnTu3FmWZUmUUqkUx3GiKDZEjPwUqEfY1nVdURS4cAkhiWRCFMVYLOb3+ROJxIYNG1atWqXreiqVysjIePCBBxPJRL1duI0fhEgk8sILL+zZs4cQ4nA44vG4oigOh8M0TWg3l8uVnZ3dpEmTnJycHj16qKpqVcqpVMo0zXq80R+NY9wJfN3N//rXv+q6DnLDkCFDhg4dioW5gSId7695/4MPPmCr/rx585xOp6qqonCMejmeeEgIWbBgQXl5OaZS3z59L/jTBYQQGMdPP/10ZWUlYohFRUXjxo2DzyCRSMyePRtbcIfDMXLkyD59+oBiyVwsTqeTOy5jqyGwcOHCgwcPJpNJh8MBXwsgimIikfB4PAUFBeeee26TJk08Hg8hpE5ODBOsCI7jZFl+8MEH4/G4qqqiKHbr1m3EiBEcx1kNte//FtgL+f1+Nsd5nvd6vT+oKziOU1V1xowZqVQKojthwoQuXbpIkqRp2rp161atWuV2u4PBYEZGxu233y4IgjWM2BDw+XzwI9YzGljIe9++fY8//ngymXS5XKqq3nzzzTDx63HabPzKoL9jmBbgEz2l79ixY/LkyR6PR5Zlp9PJyH34Q1GUPn36vPDCCzU1NZRSVVVramr0lK6ndMMwDMOw3q0hWoun4ImJRIJ9hT+CwaCe0vEi+Py+++7zeDzYRGZnZ8diMVVVMW//J3D8GP3qiEQigwcPFgRBEAS3281xnMPhOKE253l+2LBhxcXFhmEEg8F4PI5x+Vn6/3h5oJTG4/FYLNasWTOEGARBmD59up7STdNUVfVn7EPruNx0001YlhRF8Xq9qqqqqoomsXlxstlRVFRE0gvqddddh7eglKqq2qlTJ4fDoSiKJEljxozBa1JKQ6EQJqMkSW63e9GiRZRS9m0ikUADNE3D0xtUeAYOHOjxeBRFcTqdQhpwyUiSJMsy/unz+aZPn37w4EFKaTwer6mpYZOXUtq2bVvYB5IkTZw4UdM0TNIf0Xh2PYa7pqamvLz8R7x+IpFwuVzgijkcjsWLF8fjcXw1f/58DIogCDk5OaqqWt/l+PZ8/2af+mJN02KxGP6G+o3FYvF4HEO/bt06p9PJ87zb7ZYkadu2bbgSwv+DdMh/oc75zcAOqdQBjI1Vq1eNGzfu8ccfj0QiiKpGo1E466LRKCFEVdXi4uKJEyfOnz8/GAzCKPkRjzPNH+ncRpSEF3iTmg6Ho6qq6qmnnjr77LM7dOhw1llnTZgwIVgbhPuxqqqKUmoYRjKZBGG+srISKRLHe4Bt1AM9ifc1mUy63W5VVTF/mEpCKiOLs2CZoZT+61//GjNmzJIlS/x+v6IoHP9zlo4wje+kCLEGWZIFQaipqYGc4FkmNVkY6Pu84w+FJEmQZ1VVETiQJKle6srJEIvFCCGYROFwOBKN4HOBF44ePaqqqq7riKfwPK+l6hLHEHqAJy8cDhu6EYvFtJSWSCSeffbZYcOG9ezZs2fPnoOHDGaD8uNe7T/GNXRdj0Qiul7frhIEIZVKaZoGyy8cDj/xxBO9e/cuKSlxOp0+nw8uAYQ/EKvFP380xQdyyHFcVVXVzJkzu3XrdtZZZ40YMeKBBx74Ea8viXVjyvN8MplkzhtKaZ0xp+uSJFVVVcmyfLL7/2gtdzxUVV26dGmPHj2GDRvWqlWryy67jBDicDicTieYy8w4wxBArkh6Xvx34mfsn/8V/H4NDpr2vgKEkK1bt44ePXrv3r24IBKJIKIsSVJGRoYkSdjKpFIpl8u1aNGiiRMnJhIJXdch09Skx6s2Qzc0TaOUIi4TjUahK+EDj8fjkDlEdvEJaxujlUBzEUKwhNQFzk2TEBLwB3bs2LFhw4adO3fu2LFj/fr1WVlZHMcZutGoUSNVVTMyMqw/J4QEAgHUF8GdWcPQYPjkaZqLhwaAsMIAty0UJa452czB53g6SQeAwYNJJpPxeBzrE3gwoVCI/Qqb1Hrq3rrtIJbpqmkauw/ag22u9bfRaBRPQZDbegHugwtgSZximXE4HKApiKKIHwqCwLrL4XAwl1hOTg4hRFGUgwcPzp49OxwO82kkEgl0OOsZtApNYpJp7VUo+ng8zrQ/OBkIRqiainCJIAqpVAqFQNjaLAgCSS/qbJTZ3+xlwcBgDbD+DUBUrL8FILR4SkFBAZY9TdNqgjUczyH2wXGcYRggXtQzdBgvW9d1URQxZQRRACcUL+5yuQzdwOridrtN0wwEAolEguf5nJwcVVPhC+E47t///vfmzZu/+OKLbdu27dy5E7KK/1sfir6tJ9WmaWLSwQ4ghBimwfrfqisYkCaDRY7nebBG0BVMWiCxyWTyyJEj/fr1SyaTEDNCCKg/jRo1Ai+BEAJjlOM4pk84jquurraO3fEzzvoWmZmZn3zyyZ49e7Zu3bp9+/ZDhw5pmlaPFwJhY6KOu2HeoWHB2mAymVQUBf2WSCScTicYEqlUCtErSIiqqtZ6IayfDd2AlqvXw0zIj59lmEeYhtBajDKiKMrevXt37dr1wQcflJWVrV27FgMUj8cFUTCM74YMChbbRUSpOI6rqamBTGKiMR2CVkFjsJZbxxrviGvYr5iByHSI9R3xYSQSiUajmObxeBwSHolEoOWYQJ5Mrn6rsDkcddB1/cILL4SwYsdmGMaoUaNGjx59+umnV1ZWvvfeeytXrty3b5/X641Go6Zp7ty589133x01apTV/GfcpWQy6fV6BVFIJVNVVVXZ2dnRaNTtdhu6EY/HXS6XpmlQT4lEQpZkUO3wSU1NDc/zTqcT0wabJOgIRVFoOqyLBRvRHxj4kGae57G/VBSlR48ef/3rX7FtwoQnhEiiBL0mSRK+ysjIiEQi2KyAdRWLxfx+vyAKiJJa54Ou6whFY5emaipYflamfTgc9ng82OXLsgyrS1GUYDAYCARqa2sJIX6/H50miIKhGw6HQ1XVcDickZGBfqhXI4slPlBCBVEIhUKBQIAQgooLqqqiPYIoOMX6bieXywXTUJblUCjkdDqZluR5PhQK+Xw+ROKj0WhGRsb32RQKghCPxx0Ox1133RUIBOLxOLxHhmEUFxevW7cOhp2iKOXl5XPmzJk3bx4MKUSd8XZwfWNxxUOR7RmJRFhiFEi+TMuLolhbW8txnM/ni8fjkDd0VCQSAa0EDAbm3ieEmIaZ0lOSKAmiIEkSHsdEEaNDCIGMhUIhcA5gvBqmIUmSy+kydCMUCjkcjoyMjBP2SWlpKd5aluXs7OyKigp43dnShduyl73lllsSiYRhGLIsFxUVud1uSqlu6CS9bLP/g/RgmEYsHJs7d67X662pqXG5XIi8wBGC2QEtj20ueB7M58/ayQrlkeMKh7AFQJIkgRcM3UjpqXpZJCeEw+GYPn06XFm6roObUlxcvHnz5lQq5Xa7o9Ho0aNHr7nmmqeeegqvH4lEDMO45ZZbDh06lJGREY1Ge/ToQQhhZNvq6mpBEEBHqK2t9Xq9lZWV+fn5WNsgGGCSYa4hFIKqMPC+7N27F8kyEG8sdZhfwWBQFEWHw4EV3e12Q8YopS6X69FHH9V1PR6PZ2ZmdurUiUkgVA2e63K5OI6rrKzMycnBDzEEVt8bG2vw3BndOKWnUnoKTeLSGUZQPoqimKbJLAO/32+aJuREURSY3ZIkGbrhcrni8XgikWjZsuWCBQuYDLdu3XrXrl1FRUXl5eUejyczMxO3kiSJmnX1RTiOQ4kRXuRT8ZTb7YbWOmaO8wIhpKqqKicnx9AN3dStFRPg7MRcQ59g5sqyzO6DDSrWCHwYj8dhW2PI/qNc/aZAf6+AScEizTfddBPECKLv8XjWrl1LKWXRcWDq1KnYiODiTp06JZNJRIsRMIbuppSGQiE9peNbPC4Wi2maFgwGEYnEZgJGAFwIiPGzOzB3fSKRiMViuIbt/vFtOByePXs2CwD7/X6aDt/qKT0UCpmmCVcN7m8YRiKROHz4sJ7Sweeo1y0sUssQCoXosXFN5vDAnptdqVlgvSFrs/WGuGcikUBT2ZvivWKxGHrJGsmuF1XFzhWfJBIJ6zBZR5keG0hG2xDZZW9BKS0tLUVf4W7H34pBVdVzzjmHlX8QBKG2ttYqS8lksrKy8u6770Z4BStQq1atWCPRBrB/8Gj2ClYKDqW0qqoKobF6b4HMCHyClAF0VywWMwyDeVk4jrvmmmtgCeGlIGAYNXwSDocxEGwINE0Lh8NssMAnwOc0PSOsIzJ16lSStgx8Ph9ugiQdNJtNAesrsKFhcwRgBJeWLVtCqnmev/zyy3E9vmU3TyaTmHf4CSYy1i1FUVDvBN/ixdkYWSW/XsMYYrEYmFIQy+MlkFI6cOBAJgZut/vAgQPhcBjNw0uVl5c//PDDTZo0gT0E3VJcXIzxYryTcDisqiqmOdppWqgYsEvYh5FIBCRTNJ69Gmtbjx492Lres2dPfIgeU1U1GAyy7sKHyNamlNa5QwwDgoHrcRmbjzNnzmQuHEIIpgwbAqteNY8DxIyJOpMBFo1ikoy3QwoPpTQYDF5//fWEEEVRBEGAu4UxotDmcDgM5YOWJ5NJqBrcGbQP9nZMMpPJJFqF50IJHy8n7G4VFRXoOjbj6kk1/llRUYFZxnLWjo/D1lNux0vgbw+2h6MOzz//PIjucJg/8cQTvXr1opRqKY3n+UQyEY/Hc3JyJk+evGXLli1btsCQLykpKS0tbdq0KbsPklYOHTq0a9cueERUVc3Ly8vNzb388ss7d+6MbT2rcg1f8XPPPbdnz55AIMBxXMuWLS+55JJEIvHWW2/985//LCsra9SoUVFR0YgRI9q1awd/MiGE47iDBw9KklReXk4IURRF0zRJknbu3MnzfFZWlt/v93g8GzZsWLt2LTYHkiTdfvvtPM/n5+cTQj741wdbtmwRBCEYDJ5xxhlXX311KBTavn37smXLtm3blp2d7fF4hg8ffvHFFzMvPaWUmjQYDC5atEhMY8iQIR07diRpfgmllBBy7733oiedTueFF15YVFSEjXg4HA74A6Zp8jxfWVm5fPnyAwcOrFq1Kjs72+v1NmnS5I9//OOAAQPgq4ALFzELQsjcuXNZP3fo0GHQoEFg3oiCKAiCbugPP/JwbW1tLBbLy8vr2LHj0KFDKT0mzlVSUrJx48Zdu3aVlJTE4/Hs7Ox27dp16dKlS5cup+WdhkQeFHX+jwJDWdTJMHw+H1qCB0Wj0czMzKlTpy5YsAC8Nk3TDhw4QNJFOZ9++mmoLUmS2rRpM3LkyHg8/uKLL27btu2rr75as2aNaZq6oUejUTg5qqur33jjjU2bNu3btw9kvc6dO48ePbpLly407ZmQJElVVUVWgsEgeKyUUlmW4Yqorq5+8803ly1bput6165dW7duPW3qNEEQEokELpBECV5feEoMw3j55Ze3bNlSWlpaXl7u9/vbt2/ftGnTP/7xj/n5+aFQyO/3Y6ypJTWXWGKCr7322nvvvVdeXi6KYocOHSZPnpyVlUUIqaqqysvLQ4EHSunDDz8MlS3LcuvWrUeOHEnSYQUz7eenaR2NQAPl6Ny5c5EqKcvyxIkTW7duHY/Hq6urYUuZaZaMpmklJSXV1dWdO3euqqp64okn2PC1bdt23LhxcJhjLqP9d999N7tmwIABPXr0oJTC/3QySWCsi3g8XlhYiMwODG4ikcjJyZk2bVooFLrrrrsQfYhEIo8++uhLL73EMmueeeaZUCgEl2fbtm2HDhnKKnsmEgmBFwRBeOWVV7Zv375///79+/e3bNmyefPmZ5111tlnn+31euv8Bxw1qbl37162HyCEeDwej8ezZcuWvLy87OxsPHHlypUlJSXwNbpcrmnTpgmCUFxcvHz58p07d86fP79Lly6apt1///1OpxOT+vzzz+/SpYuqqrD/BEFA9hCIseFw+K233nrvvff279+fk5Nz4YUXduzYEU4RtARzMBQKPfTQQxkZGaZphsPhIUOG9O3blzu2hAa4cXl5ecFgsF+/fgMGDJAk6eDBg/CBOZ1OxNE4jvv66689Ho9pmo0bNxYE4dtvv33mmWcQzlAU5f/+7/8EQcjKykomk0gFcrvdmqZt3bp1z549n3766a5du2KxWJs2bXr37l1UVNS+fXtoZqfTaY31gCGLvho3blyGK4PjuPnz52/btu3gwYM5OTmTJk3q2LFjXl6eoihwwcbiMa/Xi9C2aZqVlZVr1qw5fPjw+vXrXS5Xs2bNAoFA//79zz77bMMwoFe5E9UR+W2iwUyZ/wGwPd+rr74Kmx0xhf79+1NKsU+17tqxM3j66aedTidSP1wu1+rVq2HDhsNh2M633XZbTk4OUsVcLhfWTtCnCwsL169fD8v6wIEDaIZhGD169MBMlmX54osv/vjjj7t37+71erFVhULxer1nnnnmoUOHoHxLS0vbtGkDJjkaQ9K7TJfL9dJLL6Ex999/P4vLwFXOmN5TpkxBMi3Hce3atfv8889vuukmh8ORl5eHu/n9fofDUVRUtG7dOvwEJv+2bdtIuhKaIAgvvvgi3oK5Uvbt28fS5BwOxxtvvIFNGNtbJJPJu+66ixDidrvdbrfP5/N6vSy5t3PnzqtWrcI2Bb8CmG7leX7WrFkYQWwjNE2DM5l1wrRp0/A58xbcdNNNcE0jqQSbYDSyWbNmS5cuxa2CweApPBxw1Pfr1w9PQXvC4TD2wdjHYLNFKe3atStnKevEer5r164YDkJIr169IpHIVVdd5Xa7XS5XIBAwDKO2thaNwUKFNsN97fF4wMNXFKVly5arVq1i3jXWBkSaCCEej2fmzJkPPfRQZmamJEmBQMDr9YKKRAj5/PPPadqnZRgGvCaVlZVXX31148aNcQfUEUGuOGhM6Fg2jnpKnz17NknXYGjduvXmzZv79OmDgBoWJGj8efPmhcNhOFSYl65Zs2ZsgkycOBHNwJA1a9aMpI2PiRMnMudQTU0N+9zhcCxcuBA+gKFDh0J+BEFAD6DBgiA89dRTBw4caN26NageyLNlnh7WCa+//jrj8wqCsGrVKvgbTu3hIGlXOSHk6NGjEHWs+hgOzJpmzZqxuiA5OTnY2mJOwZeDhXz8+PHYCmNHnkgkFi1a5PV6ZVnOysrCwomkX0JI06ZNr7/+ehiv2N9nZ2dj3yLLMvQJU/XvvPMO2jxjxgyMV2ZmZnZ2tmmaDz30UG5uLnrv/fffR1IV2oOG/fWvf6Vp59Ydd9yBGyqKkp2dvXLlyqFDh7LQJ/O2XnvttZWVldTirjMMIzs7G8MtSdK0adPQCVa+LWfB1KlTa2trk8nkyJEjYaEKggD5B12G47gnnngCN3/99dcFC4qLi62OPUppeXn5mDFjrCwraz7RgAEDjh49ynR4bW1tIpHYuXMnnqsoCs/z69ate+qpp2CXEEIyMzMxCg6HY968eXhTkMMqKysjkcjBgwcvvfRSyD+TK8wmaLmPP/6YdY7Vyfcbxu/a4ACSyeQNN9xA0ns7WZb//ve/w49Hjw0T4MOKioolS5Y89thjL7744pIlS77++mt2q8rKyn79+rlcLkmSXC4XpiuUUXZ2NqaZw+FYvnw59BF0CjM4oB3atm3brVs3aARrsT/E7C+++GJMQkrpwIEDcX4Hi9MzV+dDDz0EV/z9998P5etyuZxOJ3Q9lsNLLrkEF8N++vOf/8zzPLQVISQvLw/60el0du7c+eDBg5FIBKvp4cOHWZN4nl+2bBm1+BKRWszoILIsWw2ORCIRDAb79OmDHDZWPgTzFl2kKEpmZuZrr70WDAbhnoUyQq+il6Ct2CzFQgXDCxfccMMN+BBxn1GjRqHB4HLiTZnWgEJZvHgx1A2LYhwPrCW9e/dmupgQAuoGS8WkaUd0ixYtiIWFwISqa9euhBDsgYYMGTJr1iy8uCzLkiRh5aCUHj58uH///lYWC1Z9Bq/XW1BQsHjxYjMd4UZf5ebmchyXlZUlCEJ2djYcWkzJOhwO2LJut3v58uWodQFrIx6PT548GYMiyzL7A7+Fwcfz/IQJE5jxZBjGnXfeCQnEmw4ePJgJLeQTKaOEkLFjx4ZCIesy36pVK/YIGBxYoelJDA4kopO0Be9yue655x7crVevXsRyxgoMLC5d6CKZTF5xxRXIpIXFuXPnTjasEOxZs2axFQiWH3vNkxkcAwYMAE0Ejy4vL8cogB6IH6KHL774YmaFy7K8fv16LLd6SkcnwGEwYcIEmrbsKaV33323tWoO2o+JkJubCzG+5ppr0DD4OHEl+gHWCSHE7/dv27YtkUiUlpZOnjwZya7wKi1ZsiQ7OxvrNMdx27ZtC4fDsVgMOSAYuKeeegort2ma99xzD6Y2nG3Dhw9nzXM6nbm5ubDqsrKyBg8eXF5ebo31QKVAzjGF6yVOOyyYOXMmBKxt27Ys8Ri2MlN399xzD+bs2rVrrWXAq3AAACAASURBVAbH1q1boR/w6JKSkjZt2qBzGDkJV2JQAoFAkyZNrCKRSCQ+/vhjaE5YV1dccQV+C/ceboV7CoLA1CCGzzCMTp06sXaC4qYoCkRdkiSn01lQULBy5Uo8jimH3zZ+v1kqDDzPb9y4UZZlxsQeNGhQRkYGpfTIkSPWyQCnXHZ29oTxE6ZMmTJ+/PhRo0a1bNkSbOqqqqr58+d/9tln4AQhXAI6p8PhqKysxLMURbn00ks/++wzSinbiTJwHFddXb1lyxZ4xSVJgp+fEIIQzFtvvbVnzx4ky+Tl5bVo0QLfIq5pGEa/fv26du2af1o+dvOapoGhCWoVfKqYNtYlMxqNvv7664QQeHEkSTp69ChYfqZpbt269eOPP8aKyCiB+K1pmqIoIvZhfZFUKoVFsV5SgyzLt9xyy4YNG0BBUFVVEITCwsKOHTsyLhultLq6esaMGUeOHGFUvnrAzptl2VhjwEaaIUtNKvCCLMurV6/+8ssvEWWoqKhwOBzt27fv0KFDQUFBdXU1pRRfTZ48edOmTYQQdN0JYZqmoihoNnQW/o+aVHUHSiG4kIiDvQivKZZPBnibKKWqqs6fP5/jOL/fr2kaOBA8x0cikdmzZ4NIxHbGbrc7Ozs7lUY4HD58+PDdd9+9detWTdPQVzS9IIZCIcMwQqHQ0aNHXS4XHFderzeZTIbDYVDo/+///i8jIwMpjoqibNu2bfHixaFQCExSTdOysrKaNGmCxoMHbZrm8uXL//3vf9MTOYElSXrvvffAQHS5XFlZWbAhIGZvv/32yy+/DMc4ptvJ+vn7IBqNxuNxyL+qqi1btmzTpg1mQX5+fiqVCgaD3bp1a9u2bXZ2tqIo48aNE0WRDco777zDEhMQkFq9ejWl1DTNVCo1duxYZkKBS35CYLIgNMOykHiBx0p/5MgRWH48z3fv3p1aSOVbtmxBGEUQBZ/PJwiCKIpYAgkhHM/Jsrxt27aHH34YhFMsbI0aNerYsWNubm48Hi8vL5ckqba29sknn1yyZAnksE2bNr169XK73Qh36rqeSCQ6duzo8/mqq6sdDkfjxo15nofdjLDmbbfdVllZibWT4zjUK4MBCgb0yd6d4zjDMP75z39CLWA0KyoqDMNQFCUaja5Zs+aNN94QRIGmV2LcjVU65o6jZictYEpmyJAhhYWFLJUPXquOHTu2aNGiW7duSMVCLI8B+pb9MWnSpH//+99Y8iORSGZmps/ny8jIyMzMBJc2FAqVlZX17dsX+gQMdCPNUUUxsWeffRakbGzYnE4n4jWKohiGsXDhQvyTEGKYxty5c3fs2AFVCYOjdevWrVu3hrGVSqUEQTh8+PCcOXP27NkDKfp+Uv8/jl/MtPkvBOPoFRQUsJ0xdqLYi8NGVtOgaSIVTfOerGbp7t27YSUg1qAoyuLFi/FVaWnpsGHDrLPrvPPOg3uDWjwczDEry/LcuXO3bt0aj8eXL1/epUsX9kOn03n33XfDcsf6euONNzJhhd5kdj2ldMGCBSR9lJTX641EIuwV2F6WEALfwA033LBly5bKyspNmzYhmk7Snt5LLrmEuRM2b96MpqLH3n77bex+IpEIdjP79u1DD2A78sYbb2DHbxjG2rVr0T9erxcKbsWKFfv371dVdd++feecc44kSdj6g+9mratmDancdNNN2JczIwM5PlYPB6UUhPbRo0djnhNC2rZtu3v3boygYRgffvghsWx37rjjDlae64TAm6LaLPZbgiBgU87+o2mOG6OP8Dx/ySWXMGk588wzSXqPzna9HTt2vOCCC7p37w5f2tatW0naQU0IcbvdL7zwAt53165dEydOhDD4fD5ZlocMGcLaYJpmTk4Ogi+Kovj9fkEQhg4dWlJSYhjGihUr2rRpwzxhOTk5EyZMYO79G2+8EZ9zHBcIBD788ENVVdHsV15+BXYYhu++++4Db46FVIhl/WjVqtXKlSuPHj369ddfg+tH0jtL5CJhR45AA+uB7+PhYCEVzDVCyJIlS8LhMLwmekqfMWMGKzPvdrvZ9hrBEQQvMM27du2qWWpJIfEHcitJUnFxMT5n1NcTejj69+/PXPSoS4HPwRmn6UJkhmEsX76cWBwwzDGjqmphYSG7w9ixY5n4Pfrooxh6UI/fffddmma/FhcX5+bmsj4fNmwYCwfoKX3o0KG4YW5ubt++fVk0E+Ghyy67jGXhAllZWU2bNh00aNCoUaN27twZj8fD4TALh3Ech5AK9OGdd97J+hB/NG3adMWKFZFIpKSkZPr06YIgYK/FcVxubi6rO4dSzuy306ZNqxdPMQxDtuCOO+6AzoH1c88998Cyh58S8RoETZLJ5KpVq3gLtm/fjpAKpfT++++HQY/OLCgo+OijjzCOW7Zsady4sdPphLXkcrlQ7IBSeujQoX379jGqL3qja9eub731VkVFBQqbWtUyIQTuWwxfTk4O5FOW5V69ejHGqKqq119/PfMaSpKETQWbg79t/K4NDpomV7MMeJfLlZmZWZehnl7J4N7EQs5+ZfUEQmf1798fognhY8F19t8555yDbQSYXNu3b8dNVFU988wzoUBRS2DlypXWSXjw4EGEabD2jx49mrXBNM0bbriBBSNdLhc9tmzffffdx5YBbK1oercxfvx464l0d999t5qubwi0atUKWkMQhPbt29M0aXz37t1sJYA9AaXMLADUMoHeJ4SsWLECuxPDMIYMGQLSBpTOpk2bMD/Bzw+FQv369WMkA3ie9XTVVKzueOitt96KZzHrSk/pcJUzg4MtXW3atEFrvV7v8OHDGQ0er3nppZdim5KTkzNs2DCaZsifEKDr9+nTx0rUnzZt2k0WDB06FDxiBCDwsjDLwBuAwcHQvn37r776iqYV69GjRxOJxHnnnYdC+3jQRx99BAuJpjMXhg4dijdFWJo5jSilCKbg5i6Xa8yYMeje2tpaGBDMhePz+ZCJappmLBYD0U9RlEAgcP7555vpDAi8O4tnEUKuu+46+PD1lH7bbbexd8H7bt26FSMSiURisdjUqVOt3fXUU0+xbKBmzZox+bz88sshY3gL1oeEkEsvvZTlyASDQevjHn/8cWZk6ykdKTP4IdK5sU3XU3pVVRUIMfBsu93uvXv30nSezisvvwJxdTgczZs3r8fbOHVIhaTtcqyCpmkiI8yqMdatW8fWGEmSrrvuOprmN7Ro0QJyCw4sTWdMjB8/Hq/v8/nat28fiUQwiZCX9OCDD2IckQYFIgsyShBdAvr06VOv/VdeeSXrWJ7nCwsL//GPf6jH1matra21cjgef/xx/FZP6ehDdgefz1dSUoIGY3s2ZcoU9nRwd0zTZM6Sutx1QZg9e/bxBofVaLjtttvQe1B006dPZ2QIJMpa1fjq1autv2W0M1DImS+N5/nDhw+z5CYEvIqKiqzhGHh5DcPYvn279fPu3bvDoGQLxA033AAqNEkHrdD/NTU1mLlozMyZM810rhbkrVmzZjgPgRAya9YspjkNSwbNCeXtfx2/95AK5gzEkeM4FJyhlvMp4CBFpQf4xg3dqHf4GdKsd+3aRdMVk/r27VtvURFEYdasWTgGCavOxx9/nNJThqV6MRaSDh06nH322dbfZmRkgI/9Q9+OnpL5LIoi4h1Ya8877zwrxYwQ0qhRI9zBMAxd103T5Dkedg+xbGcppewTLl2wyEqS0jRNFESO47AHQvUzjuO6d++en5+PxA2Xy4Wd5b333guyCMJGMG7Yzdltmbrkubpcdo6vOzuD8UtkWRZEQdM0kFdQZXX16tXTpk377LPPWG3QhQsXYj1eu3bt22+//R8L8sBTTdKqk+f555577mEL1q9ff/DgQVzJcVwqlTrzzDOHnzccmSDw+bMeEwTh73//e9u2bQkhAi8gVs3z/LZt25LJJEpYDhgwoF27dkL6QFTDMDiOu/POO7EjRCmwb775hjUVmgsXJ5PJW265xeVyiYLo8/kkSXI6nDfffDNJFyAhhBQXF3Mc53K5lixZUlxc/MEHHzz77LNvvP4Gx3Eo2lFdXf3++++jMax7OY7jOZ4XeOugKIoyZcqU9u3aE0IEUUBg5corr0RYAZchkYrdxGoQE5SgSA8u+xDPIoTwAm/1FLI74FfsaFbrndkVXq932LBhKL5OCFFV9e2339Y0De69l195GcOqadpFF130PQ8HsRpSVjgcjlgshloRbBbgjTCV4OkRxDpmD5c++YVSipo0lFKQqZ1OZyQS2bFjx5VXXrlixQpVVX0+n6ZpEyZM+Oqrr8rKyr788ktUXkmlUugfaxdByE/WflEUZ86ced5552maJgiCdTQZmFxZexifOxyOcePGNW3a1OVyhcNhOE7Gjh1bUFAA1gKldO/evewnPM/D7Di1ajrh08l/OgD2hHP24MGDqqqygiWTJ0/Oz89XFEUQBZ7ndV3Pysq65pprrPcpKSlhOs2KgQMHKopi6AZyi3ie79Spk5au3afrejKZNKkJ6oyWLjLr8/nmzp07e/ZsmImoILJr165YNLZ9+/aysrKZM2eCNkRNSk16ijqKvwH83g0O0zA1TWMJF2b6yAmSLjJopuv7omQNjr1GIZ3vbmKaR48eraioYCdl9+7dux4PIJVK9e7dG/wJeDjXrVsHlgYjE2FBzcnJAdmNoVGjRllZWfWm03dVsI7D93lxmq7HBTMrmUyCyWjFaaedxhYYTFpe4H9ErBGKlRBSXV1dVlZG0lUs//jHPyIbgpXtQ9cx/wchZMOGDSxF8PhVhBBy/BrDgOpDhmGAxght5ff7X3jhhb59+zZt2nT8+PFvvPFGJBKBKdmmTRvsMlHt54RAUBZNRZbgaaedhuOFGdR0/UHYNB06dHjyySd5gddSms/nC4fDcNVgp5uVldWzZ0+Ug8OvnE5nTU3N4cOHDcNA/L5Pnz5ZWVnslBC8L8JwUN+qqqLOGO6AP2A+FhYWdunShZEVYrGYSc2xY8eC8Yffrl+/Hnb26aef3r179969e48YPkJLaW+//faTTz558803jxgxYuTIkfAi8DzPqllzfP0+TyQSI0aM4AUejm44D9q1a9e2bVvTNCHh69evP4XBwWZW/WHljxl39qZ11sax357A4OA4URRbt27dsWNHIV1J79VXX0UvVVRUvP/+++z60aNHn4K38X2AJxq6gYaZphmNRpmNK8vyKXhCWAs5juvbty/qoCCBa9myZX/605+aN2/ev3//Rx99VBTF3Nxcr9fr9/vh/ACZsU6GBYHJ2CnaqWnapEmTSDpwQ1A42FL4hqTLceJDalIrq4NSOmbMmHobld69e7ds2RKKxTTNLVu2kHTtVFmWMdnpsYV0f3ag8wkhu3btisfjrDjvoEGDSLqwL0kXcb7gggusv/3888/ZadvWzzHjUnqKpE8VaNu2LSoIE0LAI+E5npo0Go22b9/e5XIZhhEMBp1O54IFC3JycgoLC2+44YbNmzdTSg3TaNWqVUFBgSRJ6F6O5/AfOTaduOF66ZfH79rgMNOFt+H+4jiOUgrN+x1MWjfTKIW1IQpivXMiqqury8vLWQ3QVCrVuXPn4x/HcVzPnj0RIHQ4HBUVFSgNziCKIjL165Vh5jiuXv27us/577YaP/TdKaUwsLh0ZhchhJ3pDDAPB0lvy7j0+ezEsgHl0rtPpvrrgTmEcAw3fkgpbdeuHZiJuABWF8/z2O6DyQhmzDF7rGO3vNZPaLpcMZqnpbRoNOpwOMaPH8+ni5GjwpKiKIcPH3755ZdHjx7dunXrdu3aPfnkk6ZhlpWVsVMYTgjoICNdcUTX9YqKClmWrc5hpt2w23vttdc6d+6sqioYi263mxXwoJS2bdvW0A0tpYmimNJTpmkKgnDo0CGS5q4mEokOHTrgpRwOB8/z+Hl1dTV4iGjYjh07rCs3DCxJks4880ww3eDsQQDltNNOg7GCGp2VlZWiKKIASTweX7RoUZ++fbKyssaOHXvttdcuWLDgs88+Y44fRm9kMsAsLZDjOnbsSClFJq2qqmhwUVERdu2CIOzatYvjvnNH8fx3EkMsnjMmZlaps15A0kGrekbnd5+nXSZMPJxO59ixY1kg9eDBg8FgMBQK7dq1C1NPluUWLVq0adPmJx5/auiG2+2OJ+LUrAvD1dTUgLKN0UGmazKZ9Hg8cHPqug4fErvJkCFD2rdv7/F4kHVPCBEEobq6et26dXfeeWd2dvbpp5/+6KOPRiIR1JyF6Fq98RDIU7TT7XajhI+qqjA1/uOrWbUNwsGEkHg87vV6UcTTNM2ioiI1XcK8pKSEEIKangiVcukMplMvqFYd/N1Gy3IkxXfXHBd2IIRoKY0QcujQIdVyygGcxxh9NV3ZmXFogF27dsFKq6eHUUGE53lDN0xqJhIJt9vNXFygHyWSCV7gA4HA3/72NwwZK3RLCIlGo0888UTfvn0zMzMvuuiil19+ed++fUiR0w0djmTc7bdnagC/a4MDFHFQuxHuhal+4MABjuOYAUEIgdlhmAZcHR999FFJScnmzZu3bt0KA5YdvEIIoZQGAgFKKbNYYRkkk0m/34+dE3JTM1wZNH3wBP4PCa6n7AzdQKbJMXo5raW/v1ejHpi1gVijpmkB/zFZM+zOpxZ9SZK+25XynLXeBoCJGgqFcM4nay3rc57nWcEonHlN0m6PumQ8w2TOGDNdD4oXeOvxB+z/uAAVUKDUmjVrVlxcPHLkSLgfnE4nCqgjlBaPxw8dOnTdddd1694NLqh4Ik5OAqfDSSllPhiO4wRBuOmmmx544IEH05gzZ87ixYvffffd999///nnny8oKIBCROIAO9oG60Hjxo0N03A6nYjU4K3hB6qsrOQ4zjAMFJBFzTcs6oQQt9sNuj6UeCgUYjkyaBUeAQIpnqjrOg6UqZfpikifw+GIxqLXXHPNbbfdtmnTJpTSBy1GUZSePXvKsoxKHjBVybHan6ZLRqJwPr5qFGhECFFVNTs7m417IpEAXxhGDztgBWsewpokncuABQyLMes0Nhy6BdgSMIuQLd66oZumieN7FEW56KKLMLVTqVRVVdWWLVvcGe433ngDNd90XR8zZgzYx/UWsB8EzAiHw2GYhsPh8Hg8SICCxCaTyfbt26Nj4XtnUx4yaZpmIpFQFGXNmjUTJkxA7pLL5QK9ye12I5dk//79d9xxR+/evd9//323232yevOnQGZmJhwPovB9i0AyvQExQymzutr8PIctPsurIulacACzUDHTSVq31IvD/nRgupFjD0ijlPI8j45lWTDmcafqMF1Urz3V1dWIwhimwXN1JfOx98B0QzDFNExVVfv27bt69erzzjsvlUoFAgHYskyRGobx2WefTZo0acGCBdiGIWCNh57wWK7fBn7XlUZZ9nyvXr3eeecdfKIoymuvvQYmtmEYUOIAdN+rr746efJkcHwEQZgzZ861114LK9Xr9aJgTj2SByFEEAS/34/zqfEJYxggrdR68pA1nx44ofD9FInkOA6r1/GHiNbDqbUtx3GYdZjJsiQ7HA6WwEbSlSLRVz6fD+QyQogsy9FoFC5WREax//P5fBUVFXiuYRiBQADnDgiiAEoE5iTsD3BsCSGmYSL8TNOuWsxYqG9RFDt16vT0008//PDD//jHP5YtW7Z69Wos/GgtNug7d+6cPn36Sy+9dGrFzXaBpmnCHXr//fczcxPAfo51rElNWZLRV16PFyeueTyeeDxeWVkp8ALWUVgPlFIw0RDzgkK33hxdRylFQRT0Z2FhIXPGYnChPffs2QNLxdANRVYEse5YDbh54NNiJ1A88MADS5cuRe/pul5QUPCXv/yldevWPXv2bNSo0RlnnFFZWYl1AhKeSqUEXoC6ZM0LR8IYaEQMk8mk2+0+evQoc4Tk5+czVY54IiyDush6ut8wuKBDgt9D0onlzHsBogCznwSxLm8IooL3qivvxhOX6CKE+P3+oqIiJAHxPP/AAw+ce+65K1euRLospfTiiy8mhGBZOoUYnBpc+iwbpgo2b97M5FMUxTPOOMN6sfW3kHCIrqIoc+fOvfvuuz/55JNXX3112bJlJM1Pgp9J0zQUmPr6669ZHT+rp6ee38h6AR5UF43iORalPTVommsCP0FZWVnz5s3ZzoQTOI7jampqkPxpmmZeXh5+aBomMwfBWsDnPM9j52vohrWdGEQG2Pcw2RGcYu8l1CUUf+d4huwZusHqdKHlkUjktLzTDN3AeTe6rh9fRjYQCCCr32o2oT0wy2DKnAzwVSQSiYEDBw4cOLCsrGz+/PkbNmzYv39/KBQSBAFs4srKStM0n3zyyUAgMHv2bGuKuGEaAvlehy3/z+F37eEAFEUZPnw4BBoVAl544YVvvvmGHLfW4syqL774AuYz5KZ3794ul6t58+aSJDH+/Mcff3z8Kl5VVVVaWkrS54sicFAPhmFgDbPONDgzfrQn40ejns46IURRRJy+bmMtCoSQI0eOEMtZcWi80+FEqSL8ELF8Ln3srSDWbZorKioOHTrEMhtBIMdPEJOG0sHyULc9olQ3dBApjHR2GaLm2DdLooQjLrOysi6//HIUYHj22WdHjx7NeHxQYW+88UYwGDzeXjwhcBIvvNyiBVj/otEoCoYauiFJEi/wqqoGAoHqmmp2hC/iL4IowJaVJZkQYhpm8+bNsayioz755JN64+J0ODMyMlB0Dkq8qKioLlZlUo7joOsFQdi+fXude8PQWc9/8sknkGGMUYcOHQgh1dXV8+bNwzaaUnr++eeXlpZec801gwcP9vl8PMdXVlai20ERwOgzQxA7VJ7nN2zYwB9b41JV1S+++AJ5H6qqoh4aC6JbAccDJAFOC/YVs2nwN4IF8Akxnh2uN9Jnh7JHEMtclmX5yiuvdLvdaPCnn366c+fOQ4cOQQOcffbZLVq04NMJGj8Fdcs5x4VCoaVLl3799dfs80GDBqEA3QnBLNra2tpUKuVyuhRFGTJkyMsvvxyPx1esWPHnP/9ZEIRQKATDFNGBDRs2/MQG1/PInuwammZu4u2Of24wGNy+fTsz11q3bk0I4QUekRF8aNVm7MTa2lBtvaQVXGka35W3N9LJg1ZlaB4H/Dalp/B0ho0bN/ICb5gGx3E8V8dgrfcKZ5xxBpwN9SAIgiAKoiCewhMTjUZ5nkeVRTQ+Pz//scce27hx4xdffPHggw+effbZGHopXVr6nXfeqTtPQDfgtf1N+jaA37XBAV8Wx3GFhYX9+/cHwYcQUlpaumzZMtgcVnAct2/fvkWLFqGIFiHE5/OdfvrpyWQyNzcXkx90kHfffbceJYqa9MMPP4zFYmxL2rVrVxAAWfwbV8Lwr2dbcA1ZbB8NgGXzQ3/LcRw7voi5hUtLS63pZNiDCqKQm5ubnZ2NMkemaf7rX/8yTVMURJpm5hNCEKVClIcQgoxW1C8iFj3FmBZsTULE1EwfIa3rOjYohw4d2r1n94YNG7Zs2bJ9+3aQGSmlw4YNwyiPHTsWMWyEb/bs2fM96WwwaDhLiXTANE1BFDwej9/vlyTJpCai47gMRZmw/+N5vkmTJuy9eIGPx+OJZKJx48Y4+QJ3W7VqlfX+qVTKpObLL7+sps/wI4QUFhZaJYTtOKurq7dv367ruiiIiGprmrZq1SpsjtGk3r1719bWYvtlmiYOqp09ezYOc0H5/CPfHsHZJYxrTNKMFqttbJrmP//5T0KIoijwDjocjj179qAcPoYYIXPW8l8MsDySyeSkSZPgXUPk4rHHHsMFpmkiE0E99sj1Hwfm5CgvL0dVGPbK4y8Zj2tO0QOhUOjAgQOrV6/evGXz3r174/E43B7Dhg1buHBhJBK57bbbjhw5grBUJBI5cOAAPIvMPsO6y3xRDLDkIOT4xNCNegX6yHFOEZOa9RZCbI02bdpUXV1t/Xz//v1gFGH6Y7ghG+wONB1BM00zkUxQSpPJpDXhmaRp4xzHwekFnYCNAWxcdiU+sQLagOO4egbH6tWrsbuAoe90OE3TfPPNN63XtGnTBr7netU/rdfAO8LIWIaloFkikfjmm282bty4du3aDz74AKE0SZL+8Ic/TJ8+ffXq1evWrcP2wDRNTdNA2DJNE2aQrus/3dj9r8Xv2uBghWl9Pt/VV11NCEGlAUEQZs6cuXjxYiyTHM+BwvHKK6+MGTOGEGKaZmZmpsfjufDCCwOBgCRKHMcNGzasjm9sml999dX1119vTSv/5sA39913Hzh00GUjR45kStm678eZ2lb2lnVqoYQfsVTrwz+JZd9ZV2zDMAkhwrEVDOvdkz9lypzVw8Gl6yyhHDWXPhFbVdWnn34a9fsQgC8rK2NFjQDErbFKXXXVVXBFpFKpHTt23H///bqh4+B40zT3799/0003EUKQ6ulwOEaNGgXuN051wYeapr3zzjuhUCiVSpmGCfLdmDFjsPyjbDPqvZqGuW3btrPOOmvw4MF9+/bt06fPZ5995vF4HA6Hz+czdCOzUeaFF17IvLuaplkLgZ+gT3hOEAXGe0fIAOqPt4BdL4qiNSqXSqWcTmfKctIb6rDhV/gDrNLBgwez0Tx48OBtt92GToPmLSkpuffee+GexTiOGjUKgy6IAgIl2AVy6TMpOJ7DwVSrV69evHgxGMqqqnbq1KlF8xZ+v7+srIzlhIfD4ZKvSzDi8GA/8sgjHMch8s2q22EFZfEOrGFLly596aWXCCGqpkajUUM3rrvuOvSJqqper3f69OmoK8XyfpkAU0pZqJsV4oOk8en0H8gACjGhAfCrYT2LRCLMi453RNtgTSI3VRTF4cOHIyrqcDgWL14MOhHP81OnTkXionUWsDlyam9ffn5+cXHxl19++fnnn2/cuHHz5s3vvPPO1Vdf3atXr6qqKqSCy7LcvXv3YX8cRtJHITImAYw5Rk765ptvzjzzzPPPP79Xr159+/b9xz/+AcuApH0n48aNt2EbPQAAIABJREFUI2kmo2EYCGNBvaD9LKJE01QbOA7ZQk4IQe4uu9gqt9aXZUlemqY1atQITcWi+8wzz3zyySfM17hv374ZM2YgRkwp9Xg848aNS6VS8G+BuYLRfPvtt4+WH4V30DRMURRvvPHGE04iIBQKwVCg6RMGcAgAC0bDzIJ7Lzs7G86GRo0a9ejRA1QkQsgzzzzzr3/9CyyNRCIhiML69esXLVpE0m6S/Pz8Xr16wU+GfGmGY/QAx/Ecj3g0AMvP7XZnuDLuvffePn36nHPOOcOHD+/VqxdUNO6pKEqTJk2GDx9e59kVhDqbL81Dz8jI+A17OH7XHA4rzr/g/Kuvvhq1QQkhPp8PNRUuueSSjIyMYDBYUlJSUlJSW1uLUCIOvZwzZw4K5rjd7vvuu2/x4sW4myAIb7/9diQSueiii/Lz87dv3z5v3jwc9Qlr4PLLL0dVXZbSDf4zDhGo20Sa9ctOEAsDC9cQQlBwELpV1/Xdu3ejnKIgColEAtYGnz480/rKrEwWJirU38mcHKgZpWlaRkZGIpFo0qRJWVkZVNhXX33VtWvXG264we/379ix46677kL9sRPe55JLLlm4cGEwGPT5fKFQ6IEHHjhy5MiQIUOKioq++PyLG2+68ciRI7Is4ymTJk1q1KiRoiimYUaj0YKCApKm3XEcd/bZZ0+fPj0/P3/NmjVvvfXWkSNHQAfBBdCzgih06dIFSxrcGPfff38wGCwqKmrZsmVNsOaDNR9c/5frdV13u92xWCw3N7dp06b1OsoK9CSYB+BUxuPxUCh0Cg85L/DH94aVdGkaJs/xhCPUpA6HA7zOBQsWLF26FCaFqqoPP/zw7t27b7nllpycnOeee+7VV18tKyvT0ucbT5kypUmTJpRSXuRRvjMUCqGoM6V0w4YNo0ePHjFiRJs2bTZs2PDAAw+4XC5UFne5XJMmTRJEoba2FvmiKH/Ccdwdd97hdDl79Ojx2WefLV269LXXXsOQQXuiOBLKq1RVVWFdhzUcjUZvvfXWtWvXXnLJJV9++eVjjz327bffwlbIzc1t3br1mWeeiYWf4zgksxjpavSw0WGkwjWNKDt8OdZzNFgQB1MDmRqEkCZNmoBhLctyPB4Hp9vn86FYO+v/6667DjweVLbGh8h7ZPVOfihKS0tHjRqFp2DxwJ3NdHoX6qY88sgjPp8PPQbrkFHOYVRFo1GPx4NjRVFpCnU2a2trL7zwwsLCwurq6oMHD86aNQulzWFkdOrUCaE6QgjeAme87d27t6qqiiXFwF7E3DdNE2sqJfWTVGEfwBhC3JBLp7MdOnQIlFX0eTgcvvTSSydPnty+fft4PL5kyZJNmzZBLEVRDAQCw4YNw5AZhtGyZctPP/0UTogjR46MGjVq4sSJOTk5u3fvfuWVV3bv3n0MlcESUhFEgY1gVlZWVVXVvn37WrduzRrp9/szMzOj0SgIcKAoSZIUiUTmzJmDA6g9Hk9tbe1FF100Y8aMMWPG8Dy/ZMmSRYsWgWjy7bffUkrnzZuHec1zfCKROJmzgWU1QsFiA1ZH+KXmgAEDUGwecZOLL774yiuv7NevX2ZmZmlp6apVq9588020XNO0YUOHkbS7iJ6y0MhvAcdHqn6fMAzj8OHD7du3hxZGGirKb6OjEPVgfPKcnJxVq1YZ6UqXyIm677778C2Y/NCnqONE0rESWZbbt29fU1PDTpFOJpM9e/ZkLgfsvTTLMaeU0vbt26MZLpfroosuisVirBrma6+9hlNGkZehKErjxo1xeiGllB3tiJuze5qmiZqMSOXIy8tj1ccZUJEQu6L27dubpslqd95yyy0kfaxRZmYm02IkzV237gyWL19OLeU758+fj3rbbKeFOqqyLDudTrA0UO0RdRvR2lAotHLlSqzrrIaBLMsYIzl9YAFbPGbMmMHCvRdffDHCOoFAAKxDPBRjynEcq7iKEs705JX+sPKxtGfcgYU2jgfzbBvp2tKmaXbp0gWvz3HcRRddZC1Hm0gkvv3223A4rKf0WbNmeb1eGKBsTw+3nJQ+HY0Q0rlzZ9SGN01TT+nxeFxIHxeH3sDQYFmCSYG1WVGUAQMGoDwlpTQcDrdr1w69GggEYKeiMC5i0tCemBrjx49HSrNhGDh8jg091C6SaLKysrD4ZWdno/2ffvopTjdF9RdElIDLLrsMBGSISrt27ZirA44u/OTbb7+1KuVHHnmEZUUlEglUEMe4YMY1b9782WefRTo0QzAYZI/GKWV8+vQ+NpQYtZNJAjBo0CBGtWFFJ/Gm1lwziHReXt6KFSuscwHRkF69emFMFUW57LLL2Le33nqry+XCZEEyF4QBY8fzPKKTPM9fddVVqFGL0Zw2bRreHac1KYrSsmXLDz/8MBgMmqb55z//mTWsefPmeByqeTKwTCJc9ve//x0uotra2scffxxFO1gHQrSQYcu6HWKA49BgNhmGsXDhQtZ4ZrtLkgTFVa82CSqNQqqrqqpWr15t/TYvL6+goGDhwoXoqw8++IB9hcK72NphKsG8gMGKuVCvSAl0As4fYKeIb9q0SbIAB61hskAwNmzYYF0gVq5ciQOS4vF4fn4+c9EJggCvKqY8BppP1z6GSNSTtJPJ2/86ftchFSs4jsvNyS0uLh48eHA8Hocpba2TkZGRwZhKOTk5ixcvHnjuQNTEBBRFmXHrjGnTpuGHmZmZLGZvptMZvF6v1+t9+umnA4FAOBxmIUBRFCmljG0kyzLPHcOxYq6Oeh4OVVVzc3MppcFgEH5+cBFEUYT3FUEips5YBREWhme+XMSPTtY/iJUoioKj1GbOnFlQUID6htXV1fDx4PQ1RVEeeeSRk90nkUhMmTJl0qRJhmFkZ2cj4RP1N9FX8FL6/f733nsP5c4wOk6ns2PHjqeffrokSSxmLAgCulEUxXvvvTcnJwfRd1YBglKq6/qtt97atm1bTdOgcHE6bjweh0Zo1KhROBx2OBxjxoy56qqrjh49ego5gcMfeh/lXw3jGGr9jwM7oE4Spby8PEEQUnrq3nvvveyyy9BIOIrhQEZsBVo+Ly/vySefbNasWV16nihEo9FmzZoxv/qwYcPARAZpA5dFo1GO43r06PH8889j3KPRqKIot99+OzzDOKfXNE2HwxGJROLx+JAhQzp27MgYHhs3bkQ1VZ7nMU1wbgshZOzYsSRNcGGjU1lZmUqlnnnmmU6dOsHdDc2L08ZhErHIFPqTVayBpxoVWvEiUrrMPwvtsd7r2LFjkyZNZFmGs0SW5QMHDoRCoXqp5n6/v0ePHrDAkslkIpFwOBznn3/+qYOMpwYoCF6v10ppzMzMxGrarl27559/fvDgwSwzFnFDRVF27doFagWALCRCyF133dWtWzf4MOCQwIkwYJ2bpomowVlnnTVjxgyO4+DsFEShV69eSHoCA5HjOCRas/N+uXQOajgcRg5UvbmfSCTAdeCOjb16vd7S0tJYLCbLcmlpKcdxEydORKgFgMyAd/XEE080b96cEBIIBODTuuKKK3r27AmHbtOmTWGgIKCgadrUqVMVC77z7/JcZmZmQUEBZi6Mg+rq6oqKiqqqKnQjZANyAmFGfrXD4eB4bu7cuaNGjcJbg2bHNjw4x1tV1TFjxsyZMwd6MpVKqZp66sMFmZxAeaLNEDPDMFauXBkIBHDmMDIMUNwd6UXYHmRnZ995550jRowwdOP4ENJvEnZIpQ6UUmTMv/rqq/v27bv22muLi4sJIdAImLqEkPz8/CuvvHL69OkejwfxeISiIbu6od9zzz1nnXXW448//uGHH4IYqKqq3++vra1VFGXy5MmzZs1CFihjBWqa1qpVKySSZWVlNWvWjFJqUhNqBYqpU6dOOLEwlUoVFhbC8Y6lqHfv3o8//vgVV1zB87zf76+urkYYWxCFcDicn59/1llnIU3L6XTW1tb6/X7EQVu0aIEcENM0GzVqhEMRrX3SokWLnj17YuVu1KgRyF/wc/r9/i1btlx44YW7du2CM7a6uhorwZo1awKBQLdu3aBiXC5Xfn4+nP+EECShPfTQQ2PHjkWJ8dzc3PLycixasVjM6XRef/31119/PbwOcG/C792kSZNnn332b3/728KFCz0eD8/z8Xg8EAhEo9FFixZdcMEFb775pt/vh6encePGrI54ly5dVq5cuWjRohdffPHQoUM4nA+K2DCMmpqazp07/+lPf7r11lsJIZmZmSgQecKAPV62WbNmqPv5g8pDoeqXoRvIzs/IyOB5vmXLlik9JQgCRhxcNlhFHMfdc889gwYNeuyxx9asWZOdnV1bW5tMJqExJUmaOnXqvHnzoOidTmcoFHI6nZmZmYWFha1atdqzZ0/Lli3PPffcBx98cOLEiV988QUCNLCZLrvssuuuu87tdsuyHAwGcR7pyJEjX3311Wuvvba2thbCKQhCQUHBjBkzpkyZ8sgjj2AhAUfko48+uuLyKwzdOOOMMwYNGlRaWgp6ys033yxJEg40Z/yMLl26PPbYY126dHE4HIgeEkKoSX0+HzbKfr8fITNCCM/xtbW13bt3hwUjy3JBQQErUc9xXJcuXWpqanJzc3Vdz83N1TRN4AVBFARRaNG8xZVXXvnCCy+g4hP88FaCAqLvpmleccUVy5cvR1Kuy+U699xzs7KyzB9Y/jI7O3vAgAEIMLHoJIgRqIASDodHjRo1atSoVq1awbKB1yEYDLLDoocPH75nzx5d1x0OB06fBinK4/F89NFHixcvXrFixbvvvgtzHIurYRiNGzdOJBKXXnopzovHOKLHLvzThX/5y1+eeeYZVFiB7mJOhTZt2nTp0gURgW7dujF6LJdmpkPsBw8eXFJSgpJC0BJIFm3SpEm3bt1wdEjvXr2feuopURSfe+45JJlTSmOx2B/+8Idnnnmmf//+4NdjE4VX/uijj4YPH7558+ZvvvkGJyTjcc8999yll166YsUKsCadTmd+fj6z21KpVFFR0T333DNnzhxYSJIkxeNxv9/P5mDnzp1hUouiiPNlGAG/cePGL7744rJly3A6Kxs+mMsFBQU33njjlClTYrEYKqOgT7xeb+fOnXVdVxTF4/H84Q9/YF9x6QpG3bp1q6ioCAQCCNlAY7vd7g4dOuzYseP2229funRpIpGAExfDh8WiX79+l19++ejRozmOM0zD0Ay09rcdUmnA3If/LWCrCvrS/m/25+XlaZqGQ9S+/fZbURQLCwu7deuWk5Pj9/sRDWEnBOKP2trajIwMsDQ4jvv222937NjxzTffVFVVybJ87rnnnn766X6/39ANQRTKyspOyztN1VSURoCrg+f4WDyGAlxYfqBZYF6Y1ERtAxymQAiprKzMyMhAPN4wjOXLl5eUlDRu3Lhly5atW7c+7bTT0DAoHRx24PP5EHT3er2YnO4Mt0nNeDzu8/mi0ajV5oBVjkKHiqKAJ+9yuVBxFepp06ZNVVVV69evb9asWdu2bQcMGFBVVdWoUSN0pqZp0WgUnlL4gWBGoNNUVd2/f//u3bt37txZUVGBHWePHj0KCwuxhERjUbwplCxeXFXVI0eObNy4saKiAgxWHGMGM86kZjQaDQQCbFVD5XKn01ldXZ2RkVFaWrp///6jR4+Gw2GUQ/B4PEVFRU6nk0XfrfVSTyYwNH1uDknzRU54MT22+ClUdllZGQ4orq6uhiMafHUzXddL07T/Z++7w6yqrrf3qbff6cVhGDoZmrQICkFKBDE0KyZRLBix/CwBu/FTsSAaDVYSSoiKGsEGNkBELIAiIggKUoY2A0yfufXc0/b+/njnbm9mmBGUSRTP+/DwzNw595x9dll7lXetLUsyzmWAUyEajS5dujQcDofD4c6dO2dnZ48dOxY2EwQuqlpBGtbU1CiKgiHm28mmTZtefPHFNm3apKenn3766R07dhQEAUxG8HBxpaZpkUgEkeZgMNimTZtx48ZJkhSPx6F5Q89LnSdQB6PRqKIovA7v3r17lyxZAnZL7969i4uLs7KyKKWHDx8OBAI40CRV+IiiKIkSXplXBMezXKpLlER4VnhhEsSY4vE47GlMMJIkP5aVlX322Wd79uyRZdnv948ZMyYrKwtGLTclUQIuMzMTfq8XXnhh4sSJTWP2qcPadIj5qGGk+M3D4TCmOkYcSwZto8nTEgghKDLLi33BvYHPJVmqq6sLBoKRaCTgD+zdt3ffvn21tbWHDh2qra095ZRTgsEg6I0u1SWIgiiK6Bw8uqKiIpFIfPTRR998801xcXG7du0QPvP5fIwymzYcCFJRUYGegTsQnhXkDMPSgKsVhWg9Hk9lZSXCmmghPLuMsdLS0jVr1iDh4swzz0TMkc8T8MRhpKE3tmzdouv68uXL3W53hw4dLrzwQk7vxYtEIhGukPHuMk0Th7iuX78+GAxmZWUNHz68TZs2NTU1mF18JqDlSG+BEoBO1nV906ZNJSUlO3bsUBSlXbt2v/rVr7p37w5vJaOMsgYiEdwSSrLkaDgcxotDjtm2jULy3Iqoqq5CxRHGWCgUCgaDMFbr6urq6uq+/vrr0tJSmJ39+/cvLCwsKiqCoy4SiXg93tRquU3FyImDVg3Y/IzAI5T8ZxQDZclkNsYYKA78K/F4HIdiIwTDz7mmlIbDYXD6QqEQcqtwZ4gnHqPFtxANQagST+GMetwZT+HfAqGhUft57Bkt5AQRDn5EaqOz12Gp89dMjSDayTMMjeQ5h7qul5eXw87mpAQcU44L4PKtq6vjn+CN+CnhPJrL+9kyLf46nEcSj8dxpWEYuIz3GL6CNqPf4GouLy9njEUiEc78CIVC0Jn4F+Hp4Z0TCoVwnDQGGq4CfozkEWOotm2jYg/0AN6HLXM4MLj4ByICRkHXdRyizU+CpclzNfkLhsNhPkYI+VNKKyoqMC58QuIrlNLKysrUOcZbWFVVZds272rE49CZqLqdOrcxEPzEc5Y8nZgfj1JXV8e/bifPsMVloVCIvyBLxuDxprxX8cRGUxF/whpp1E580uh6lpxvLGXCw4vAGKuvr+dtazpAlmnt2rULNAhFUdLT0ysqKvCgFnDEIebtRDm11L7lXcd71TCM2trapq+fumBDoRBfGql3wFaHL+L62tpalpxj+ERPOdS6oqKCJWdUajNS5Rge0Sj/s1F7+EpnyRnIFyAchLCLoLcxxmKx2M6dOzHcdvIwbSyuhsLBlDLG4BbC+/I2N3ouBz/2nVKKt+ZigcsEfB3SkiUnHp7LGNu3bx//GZn8lmmBToQPDx8+jIUDpzJekLeHr18uZvkIcknF28aRugpS75N6DVgm9n9WZz5RIfGzhn/hkGU5Ho/jZDUYIuFw2O/zwxrgUU/Lsghr0MFdLhfStFRVFYgALyilVJZllB+2bRs5TuFwGIEM8LAEQaivr3e73Qhv+3w+JCngVyQKwv/GGEPMjxCCJHuY/jDHsZ7D4TBqq+MtkNQniiK1k47rZGlwVVUrKir8fj8hBFFYlPbD43RdF0jjUhwI4hrJyqeiKCLiLssyFjwMMuToNrC7RRE9gK2dEEKE786ZdLvdaDBJFuzTdd3j9vA8Gti4eAWedaImy5LCmgSZnychw5Xi8XgEIqiq6na54/E4TvdFh5AknxGGDi8UKEsyMgWQXoFioKSZ+owAfEWCIKB7Gwp2pRQtbg6CKBChoZiVJEmyIiO+DrKFKIiEERD74avA4IKPgi5ljOm6DlY8Z7xiYuDcGYEI0VgUJ//RZIA/EonAt6woCi9KxgeLMUYEgrvhXC48lzEmiqLqUuGQZ4zB+KaU4vXBgGOM4cRjzATMPawLrjNhw6OUIrxFGNF1HcQmRpgkScjRQOVHEE3gKcHdJEmCgw3WJCL0qqoivKjIiqzItmUrqmJbNqNMURXMbcRKMNapnh4gFos99thj69atg19k2LBhf/jDH5TkScjNDmKTUeYectu2MWqWZSGkgndHL5EkCwcDAe4INq2G3F1ZwawGHQqufrfHjfIzKCzh9Xo5HRvvhXVkGIZlWVhWmB7gBCAqh5lvWVZtbS1K6DLKsCtDfPGKNZgqDT+oLrQNEwyzBY/ATMBEtSwLLhP+OBDIcnNzuejAeT0YSmSRYL0gsRYsZjCvMYugXpMU4hrelHsvQFvmQglsFdM0BSIoqoJbNVQlpowRJgoiehUuEE3TGg5PsMxgMIi67Ii+QZiDxmQnD9yB0aWoSkMcNumKwHNBRYLzLBQKZWRkoAcgctGMUCikyEosFsMk4eKFMYYDWfCsE7j8BocTUmkASwletsb1Ld8H+O88PdXx+4Pbw1qMIBwRx8VVyO9/fB2PLCXwwW9+HB9xxO5q9LhG44Jfv7efvzfow/G9r9PyxGjuEcJ/lqRLfUrTz1Mf0fIcPvp52PTDlt90xowZ5eXlGzZs2LhxIzRauNlxYFvTG/6waXA0fcKOdAZ608uOiKb3bD1XPL//Uc6o1pCNLQBJsy3coYV+/jEtafm5Lfz1CLdKibKd2HBIo784HKUgOMFDiUfC//aVG4mb/770+QGvf6xfSX2p/0lvJxKJN954Awem5+XlaZoWi8XOOOMMft7HfxM/rw3mJ2uailKz3diqc6yF537vXxvhlyNsHYXjF4eWJ/cvZ+o3Reu9+y+5V386QPALZcEIITg0JyMjY+bMmVA4mkZeHJwAcFbfTweOwuHAgYNfBBhlWkLr27dv27ZtUdxs3LhxQ4YMadOmTVlZWWZmZgsxLAcOHPx4OBwOBw4cnMjgNFiUCONuDFBZXaqLMorzbjgfkDhmsQMHrQDHw+HAgYMTFij0juQLZK76/X5kmwf8AUmWGGPE/u56x8PhwEHrwfFwOHDg4AQHMhuR94iEVUKIIAi2ZaOsFrLBW67x5cCBgx8JR+Fw4MDBiQmUDyGE8NotKJjrdrsZZbqh4zg0mixn7igcDhy0KhyFw4EDBycmjjI+Qil1VA0HDv4L+Dklgjtw4MDB0cMpOePAwU8KDmnUgQMHv3Q4OocDB/8FOCEVBw4cOHDgwEGrwwmpOHDgwIEDBw5aHY7C4cCBAwcOHDhodTgKhwMHDhw4cOCg1eEoHA4cOHDgwIGDVoejcDhw4MCBAwcOWh2OwuHAgQMHDhw4aHU4CocDBw4cOHDgoNXhKBwOHDhw4MCBg1aHo3A4cODAgQMHDlodjsLhwIEDBw4cOGh1OAqHAwcOHDhw4KDV4SgcDhw4cODAgYNWh6NwOHDgwIEDBw5aHY7C4cCBAwcOHDhodTgKhwMHDhw4cOCg1eEoHA4cOHDgwIGDVoejcDhw4MCBAwcOWh2OwuHAgQMHDhw4aHU4CocDBw4cOHDgoNXhKBwOHDhw4MCBg1aHo3A4cODAgQMHDlodjsLhwIEDBw4cOGh1OAqHAwcOHDhw4KDV4SgcDhw4cODAgYNWh8wY+1+3wYEDBw4cOHBwgsPxcDhw4MCBAwcOWh2C4+Fw4MCBAwcOHLQ25MWLF/+v2+DAgQMHDhw4OMEhiKITVXHgoLVwrB5EQRB+UvdvbTgeVgf/Tfzc5/9PTT4c6/0dbcOBAwcOHDhw0OpwFA4HDhw4cODAQavDUTgcOHDgwIEDB60OYdmyZf/rNjhwcMLipxZD/bnHsB04+DH4uc//n5p8OOb7OwvegYPWw09uwf/MBa4DBz8GP/f5/1OTD47C4cCBAwcOHDj4yUGmlP6v2+DAwQkLRo/RAhCP0cJo5fu3No61/Q4c/Bj83Of/T00+HPP9m/NwHKvnwzAMl8sVjUZ9Pp8gCIyxSCQSDAabu55SKoqiruuCIKiqyj8hhNiWTQiRZAnNaLkloiiGQqG0tDTeDEmUJFkyDMOyLK/XG4/H3W63IAimaeq67na7JUkiSd+RZVmEEEVRbMs2LdPtdjPGqN2ghAmiIAgCv8Y0TUVRCCG4Z0NHUcZbi5bzMdN13ePxEEI0TXO5XEfTjeiBRCLhdrt1XTdNU5ZlRVZwf6C+vt7r9SqKgpfibWOMGYbh9/v5lbquo285eGeKosifgq+nDh8fC/Q/97NRm1JGU7tL0zSPxxMOhzHWpmkmEolAIPC9imyjexJCREGUZCmRSDRqM+9nQfyubIxhGPxPqqrali3JkmmaGNxG92/4pMlaEgQhtQ9bnmy4YXMux+a++HN3gR7NDRlllFFREEmyk5u2ShAEwzBUVW00J39qLu7/IbAeNU3jsoUcabyOOA/5ZYIg6LpOCMFy9vv9mqZJkiSJEvk+6Ibu9Xpty7ZsC4KuKWzbtm1bVVXTNEVRlGU5Fov5/f6m673ldh7TPOS7miiJ2FzwdUaZTW1BENBaiO7UGYj/U591rPNN13WIbszbRCJBCME20eiGkDOpgvo/XuEElQ/Hen/5mK5uDtSmoigyxhRFoTY1TOOOO+6ora393Vm/+/0ffn/Er4iiSCn9y1/+YhjGgAED/vjHP8bjcb/fD6lECDEMQ5ZlQRBw5+Ye/dhjj5WXlw8dOnTAgAG5ubn8u/v373/22WcPHjzYs2fPG264AdtqIBAwDMO2bUmSGGPYZUlyVmHbi8ViHrcHN2eUmfZ312A/E0XR6/XyBYZdkC/y1IXn8XiwL3o8nqPxJDHKiEj27t371FNPhcPhtLQ0QRDC4bBt25ZluVwuv9/fo0eP888/nxBiWRallLdNURTbtj/44INPP/00Pz//8ssvFwQhVfloaG1yBR44cKCoqIhSahiGKIpcPOFFsIVD30L/JxIJWZYVRZGIRAiRZEmSpb179z766KOSJN1+++1QOPbu3fvEE09QSp955pmWXxbtF0WR3xPqjtvtxqMbt1wUDMNwu92maULL4bMiGo3eeuutgiBcccUVffr0aXp/fNJ0CKBLcYXSCS+2HjCNFUVxKg0eEZqm2bZNCEmd2McKbMa8h/1+v23ZjDFZlo/GEsUXLduSpWb3Bdu23W53NBqFLacoisvlgvz5YW0+GvAYAxjcAAAgAElEQVRd3DRNLGrYFaIk4k+wGaDyHl+4XK54PE4I8Xq9jDEYkKkD1FTOOGgJrBnQY4RlWolEglKq6zq3Pm+66abm7o9HeL1ej8czefJky7QikQillDGm67qu67wNtm238NzBgwdLknT99dczxizTqqurC4VCGzZsgM8jGAwOHjy4rq7Otm3c2bZttBCfJBKJRCKBH2KxGBpmmRb/l3oNY8y2bfxqp4D/tdHneAv+3O8Frt+0aVMgECApyiO0KEEQvF4vfh0+fPjBgwcNw0htm2Vat99+eyAQGDBgwPeOI/7KX7mqqioej/MGM8bC4bCmaYZh8IsZY4ZhxONx/uvmzZtdLpckSdu2bcOVK1euhH32vS/b9J58AmB0jtg/hmHwLuWglAaDQVEU58yZc8T7JxKJ5u7JXycej7fc4NR+O+JkbqGfjx7Htupa//7fC9u2LdMyDAPrJbWvGrUT/2ua9mPafwID0iMcDjfq3tQZ2Nw8TB0LfIKVkkgkdF3XNC1VprXwjyVlQgsLIRKJsOQ4GoZRX19/xOtbaGej9/pe8CXM78MfwV+20Qw84kN/wHxDl+K2kUgEP0ciEd42fmUj2djcizddF8eEo1yVP9n7Hx8PByFElEQz0eAMgBuAtmjTU0pFUYzH46qqCoIgyZLP57MsSxREHmGBx7vl52ZlZfl8PkII4h3BYFDX9fvvvz8cDnfv3n3EiBEDBgxIT0/HfiMIAqNMlmXLsizLkkQJDYarA3qSrutcwaeMEovwaxRFgT9AVVX+dggJQcVGyxljMDVUVdU0jRy1hwNuz8zMzEQi4fF4unbtmpubq+u6LMuEEE3TQqFQSUmJZVmrV6/u3r37Cy+8MHLkSJfLhbZJshSLxaLRKPZgkjRZmkN1dTU0G03TsrOzCSGDBg2qr6+fOHHiPffcw71Btm2LoigIgiiIcHIgfhEOhwOBAB4Rj8dhXkAMfe+bwheKn3FP0zQ9bo8gCAipIIDS6FuCIKxevfrPf/5zWVlZRUWFLMuMMQyNKIoZGRmpcSuEt3D/hoc2MRwZZarS4N5XlSM/9LuLU2xHB+jMo3eoQlnkE8ZBI5imadu2y+XyerzfezFLiXKmQhAEm9nwF2KAYHlXVlZmZWZ9720lWbItGw6/IwL7q9frTSQSkiRBTEH+8FBmaiMZZUcMMbBkQOQoGQN8CVNK4arBF6lNU0Mq2DLw3ONVYUoUxXA0TAgJBoPwGBFC/H4/tk/yn3LGcXJ8L5pVOI4pNoOuh9NJEqVwOOxyuRA7bOFboH0YhmGaZn19fXp6OqVUUlLIEJKQSCQsy/L7/dFoFMZ0o2k6efLkCRMm/OpXvxIFEeEYVVFXrlzJGJs8efJNN90EI1gQBFVR8UVoDKZpUkZFJgqCIEkSpVSWZUqpoihQR7xeb21VbU5ODnZQOBJ4eJXLTduybWpjqmGtioLISMNKA32EEFJdXZ2RkUEIURSluS1ZlMREIoHdPZFITJw48eabb240iUtLS+fMmfPQQw9pmnbNNdcsW7asS5cuXAmYPHny4MGDoaYQQmzb5pyMWCzm9XgFsYHL4vP6srKy+Fjblq0lNMMwSktLTdOkNhUlURIlSiniyqqi6oaOPR47RzAYdLlc8+fP9/v9RUVFeF88VxRFURRhkXB1DRoYS1JkbGonEglFUVyiCwOHdjaom4xSk5qmyaNC1dXVmZmZfr9/586dLpcrHA7n5eVRSi3LUlV1xowZlmUNGzYsta8oo4wxy7YYY+DBGIaRGvEV5YZBRPicfxG9wcNzuq4HAoEjMks4jhcXobU5Dcfr/pZlYctZvHjx448/3rZt2y1btmRkZMAJ1xRut3vcuHGTJk1KT0s/Lg04wQDhE4/HRVEUbAGxp3g8LsvytGnTNm3a9Lvf/e7OO+9klImyyHc77K+p9+FhBVgviqLoun7VVVeVlpZOmzbtnHPOIYRwJbsRIpHIypUrn3jiiWg0qqqqy+USRdGyrFgs5nK5CgoKCgoKxowZ06dPn7y8PDwrHo97vV54cL9r5x132tRWVdWwDGg/HHz6NYhKKoqSCFUeL8ttOWgzTRsJGkc4HH73nXefevqpnJychQsXQi797W9/e/XVV3v16vWPv//jiA/9AaCU+v1+SHu8Jg8B27YtSdLBQwd///vf67r+7LPP9urVq7n7/NLkQ3M4bh4OgLEGZp9t2+RIUXOOVEMHmz3B+qGMiAQGtM/rI4RAhGHjJIQwgaWusXHjxjWQT0XBNhvYpolEIhgMgoiADQ/bpJloYH2qqoofQH6UJEmSJL56JVFSvSohJCcnhzEWjUaDwSCcAfB/xLV4IBDAHi+IAqHfcSOwp+q6HolGQMLAphgMBhVFgWXQQgdKkgSPAmnGjsnLy5s6dWqfPn0mTpwYDocfeOCBl19+mRCi6ZrM5M6dO4PEUFZWVlhYSFIcRT6fT9d1rGrEm2zLjsVjwWAQTcLWHo1G3W43tAdBFBRZIYRg5esR3aW6JFmCNhmPxzMzM//4xz8SQqqqqiKRSCAQ4H1oWzYix/AbgeJKCIEaqqqqJEuyLONNMUYwXwRRYJRpmub3+/E5lDAETSzLsm0bSiQmTFVVVUFBweWXX66qaqpfTZRESfiuq+vq6jIyMuCnIYSYpmmaJl4nEol4PV7TNOPxeDAYpDa1bMvr9cKW8vl88L2BjyxK383bXzLhURRE+Ifi8fjmzZu/+uorQRDKysqau9627eLiYox7U1fTCYbmPBAtAJytqqoqQgimum3ZiqIoirJ169Z169Z169aNEBKOhL1eryzJgtSYDglg/8YP0OMVRfnggw/g+4SrtTk+RyAQsCxr69atdXV1fClBQfd4PFu3bo1Go3PmzBkxYsSDDz7Yrl07n88HJodLdYmS+PXXX3/22Wfdu3cXRCFcH/Z6vc3JOtyTy2SP20NEsm/fvuLi4kOHDuXn5zfn28aHlFIwxjZs2GBZFkSxYRqU0vXr10ejUcpoI0XnB4PnMWCbgM5BCJFluba2Njc31+fzffHFF5ZlZWZmVlVVwVWc2loHqTjOCgcA67YFU74R4FeAd0QQhZqamqysLJ7hEgqFvvjiizZt2gSDwczMTEEQ/sNzniRUmqYJzd22bJ/PFw6Hc7JzJFmqqalxuVyKokBnBxe1oqKipKREEIT27dvn5eYR+PckAfulltD8fv/27du7desmCEIwGKyqqmKMffXVVyNHjiSEIAsDl9m2HQqFdu3aRQjp0qULmq3IijvdbZrmxo0bdV3v3r079my3252a4dK4H2yKqE3qemskvGB2XHDBBZdeeunzzz///vvvl5aW5uTkmKbp8XiwwnVdh7bB+4cQIolSPB4/cOCALMtdunShlEqSFAwGwf+yLEsiUnV1tdfrdblc9fX1tm1nZWVRQuvr65FikJOTEwqFNE2rqalxu92FhYVoWDQazcnJSX0RARu7KIYiocOHD9fU1BQVFeXm5oKGwhgzTdOyLDhCQqEQ3EiMMmznMS0WDAYRIxRFEZxwQRDi8XgkEmnbtm1ZWVkgEADVt02bNoSQSCSSlpbGvUGMMjiZEGOOxWKhUKiiokKSpJNOOsnv90OUY7bU1tYG2gUkIpmmKQiCTW2Xy1VWVnbgwAFCSFFR0Un5J2EyN5hlkhMUIJIsYXRisRghRJblq666CkvsiNfbtj1gwAAQDFv2Ff0y4ff5Dx482K5dO0rpkiVLRo8eraqqoTVQziExBEGAl5S78VuGqqrQObKyssAwgHLQXCDDtuxEIlFXV0cIueqqq7xer9frhTBPJBLffvvtV199dejQoeXLl2/cuHHp0qV9+/bl3wWh2+VyIaKBfRdWwRERjUa5TCaE7Nq169RTT43FYqtXr87JyWmZXAyPdSQaMU3T7XYjCCtJEmd/Hy/2KJY80h4lWfrnP/951VVXde3adfPmzYIgQKBVVVVBbsRisTZt2pzwyvSPxbGSPo4I7A2cRwMZpKrqjTfe2MK3sGEIgvDHP/6Rk33WrVvXqVOnCRMmVFVVffbZZ0OGDMFkcrlc+fn5t9566759++wkf8q27SlTphQXF8+aNYsxFovFBg8eXFhYmJ6eTgjJyMgoKioaO3YspdQyLV3XE4nEv1/69/DhwwkhuCchZPjw4YsWLUIDcFvGWF1dXe/evbt06VJZWbljx47hw4dj58Nlt912W0FBwfz587dv337llVe6XC632431duONN9bW1jLGHnjggTZt2sAdJ0lSnz593n77bcYYf9OmAGlr27Zt+NZ9993HW5UKkLbWrFlDCHG73Q888ACCF+Fw+LHHHuvRo8d5553H6UuaplVWVj788MMIn3O3wejRo7du3crvf9ZZZ/Xo0QNuHo/H07179/POOy8Wi9m2PXv27OLi4ttvv13TtGeeeSYrK0sUxWuvvdYwjIMHDxYVFfXu3XvHjh0gnL722mtwF1FKH3/88Z49e/KYSMeOHa+++mrO38SgLF68+LTTTuvbty9ngVFKQfLds2dP//79i4qKPvzwQ8bY+vXru3XrVlRUBKWqY8eOvXr1euaZZ8CJGzRo0MCBA19++WXek4givfbaa2eddRZeHHNy2LBhixYtCofDmDDourKysl//+tfdunWrqqoqKSkZM2YMtDdJkkBq3rZtW9OxOC5r5+cL9MD06dOh0JeXl7MWyXGc3dzo80YUvx+MpmzB/xV+QEvQFUjaX7p0Kb6OaVxWVrZz587S0lKWJFbj8+8F5jalFEr5/Pnz8Wtz8ocxtnjxYtghK1euPHz4MBYR55JbpvX000/D5ZyTk2OZFhimiUTCMq0DBw5s3759//79sMGQRtDC+3KZjB5D1HLRokVoNohozc0lfGXr1q0lJSWMMehSDz74ICGkf//+39v5x7p4IVKefvppQkhxcbGu65DV9fX1oVBox44d33zzDURu6tAc0yN+ITg+Cgf7TyGCPCJRFK+77roWvsIVjkmTJmH8KKVffPEFZvO6devAeMrPzy8uLoYN7XK5xo0bV1dXx5I797BhwxRFueiiizDJMjIywGPC7iKKYvfu3SmlyOZA8iT2v7S0tKysLKjSkiRdeeWVjLFEIlFVVWUYRnV1NZ6+fv36goICQkhWVhYy1mzbHj16tCRJN910E/7UqVOnXr164aFer/fcc8697rrrCCGCIAwZMqRDhw54aFpaWnl5eXPpEnyRwLBOVTiadjXI0rm5uYSQM844g//p7rvvVhRl4MCB/BPDME499VQ0wOPxpKenI6IBN2lpaSny8U477TRoOX6/3+v1Zmdnp6WlYeXPnDmTEDJ+/PhFixZhsw8Gg9OmTdM0raSkBISYzZs3o51vvPEG+vMvf/kL3+bxFahHQ4cOra+vBwHWMIwnn3ySEAI2Bp9FaHk4HIYBtHTpUsbY+vXr0S1CsnCL1+vlaVBQpxYuXIibxONxSukdd9zBFWtJkvLz8/mv1157LSQd55/jnkuXLs3Pz8/KygoEAsOGDXO73XBN9e7dG7POAQek8PTp0zErqqurWYssdzuZz1JZWYn1jv91XYcHkSW3Q/zMNx78CoVG0zTGWDgc5rsdhpulZLdB6DPGQqEQPkEKEmOMJ6zxx0H15AuQ76C4AKvDMAzopvy7XF6lNhVtY8k0N7RZ1/VQKIQvhkIhxhgMBn6H+vp6/FxRUaGqqqqqK1eu5D2D5rHkBoyG4Q54OpImEOLkywdjAT1A13UIiocffhgfNhqUVPnz6quvwr361ltvceGTeg2ldM6cOZBmkJmxWAxPQWdSStHnkUgEeTdoJFoOY0zX9VRNBcOHhblixQpcj8QTjDVGls8ZnomD9mOMGGMzZszw+/35+fl8tuD6pskj+Bb/FY/jg4uJigYjUw+jAEnYpk0bNJuPC943HA7H43EkyyQSiXg8HovF8Giu/PGsQNyczx80hucHcSUMT0lt288dreUcBneBHZ1/SRAE1MAghIRCocLCQl3Xx48ff+aZZ3744YeHDx9ev379iy++eP755xuG8c477yBUjCoRCJEEg0FoOTt37vz22291XRdFcfr06ZZlffnll4IgyJL8xutvPPHEEy6Xq3Pnzh999FF9ff2BAweWLl1aXFxMCHn99ddnzZrlcrnA1eC466674vH4hRdeuGDBgnfffRcfFhUV2bb91FNPEUL+/dK/d+/evX79+m+++aagoIAx9vobr8+dO/fSSy8Nh8Pvvffe+vXr/9//+3+IHbz11lstczhSwdiRWdxI6hElsUOHDqIoHj58OBqNEkIopQhVWFaDLCOETJ8+fe/evYIgTJ8+vbKysq6uLhaLPffsc4QQy7Kuvvpq8GcXLVr07bff9ujRwzTNP//5zwcOHNiyZYuiKJqmaZqmqmppaelll1120kknPfTQQy+++OIdd9xxxMAQ53A8+eSTPp/vlVdeSSQSlZWVa9as6dKli23bGzZsgJYApQc3CYVCzcU7QdgkhPTt27e8vHzp0qU5OTmGYXz99dclJSX33XcfGMeSJEG5gZxSFXX58uUPP/xwdnb2kCFDXnvtNcMwNm7c+O6775566qmEkHnz5i1fvrzp4+666y6fz7dgwYJwOLx69ep169ZNmTKFEPLVV199/PHH6GcHhBAU1pNkCV53VVVramqQk9UU2MNEUbSpbZpmTk7O4fLDoVAItdoYY9nZ2SiphO0ZyZzcMX7o0CFKaV5enqZpn3766b/+9a/nnntu3afrbNuOx+PwyfGnEEIEUdA0bf/+/StWrPjb3/62YMGCvXv31tbW6rqenp7O/fyJRCIajXo93oqKCiSJ1NTUvPfee88888z8+fM3bdpkW7YoiqD7oPSObdu2ZWuaZlrmJ598MmfOnIULF86bN6+iooKHSjVNo4yCBZWXlxcKhQKBAKMskUh89NFHCxYsmDt37vLly+NaHHcOBoOmZeKL6Ni6ujpBFA4dOmTbNvjykUiEEELtBu8mCm0dPnyYEPL6G68vWrRoyRtLXnvttc8//xxhhfS0dNuyZUmWZIlHD1P//8GwLOu8884bO3ZsKBRavHhxfX29oiimZcIRApmPUYAzVRTFSCSy+avNy5cvX7BgwTvvvPP1118j/kIIcblcpmXCV+p2u1VVraioqK6uBsELChb0CVVVq2uqN27cuOBfC/bu2xuNRm3LxiR0u91Q7MA7QTQnLy9v06ZNr7766rz58959991IJBIOhzGvkNSGaiLV1dXhcBi9hLEGY0ySpfr6ekKI2+0G/ywajUJ0M8b4PK+qqlJVNRQKVVZWgvauKEo4ElYURZZlr9drGMbf//73OXPmvP7666tXr3aprkOHDuHFGWPUpqC4oceQ/lNbW/vG62/MmjXrX//617c7vrUtmy+E1GqHP1ccL82lkYcDPfh///d/LXyFezguueQS7v1btmwZXHbZ2dk7duxIvf6zzz7DbV955RWuy48ZM4YQAl2bw+/3BwKBl19+Gb9CS+3fv78oijk5OallORhjdXV1oCO0a9euoqKCMZbq4SCELFq0CLnmjDForCNHjkRL3njjDdCIoMsvWLCAEOJyufr27VtVVQWbQNM0XdeLiooEQTj3nHObc2808nBIkjR9+nQ7JbG+KS644AJRFNPS0kKhEJTo2267jRDSt29f6OyMsVGjRhFCzjrrLJY0qqCtwweTlZVFkzEaxljv3r1VVX3ggQdYihHw6KOPEkK8Xm9+fv7WrVvxJ8MwqqqqKisrUz0clNIlS5bwNJD169fzO8diserq6t69e2PWHT58GGboggULELlo+nbwcKiq+tlnn3FZtmbNGkmS0tPT+YjYtq3rekZGhiRJiKzxdyGE5Obmbt68mSbru+C2ffr0URSlU6dOBw8ebOThEARh4cKFfCxgfMPfM3Xq1OYG4hcLXdfvvvtuzPmDBw+y7/NwIOVn8+bNaWlpbrd76tSpCNux5LRct25ddnZ2MBi89dZbGWOxWGzChAkej+fuu+/+8ssvzzjjDJJkNyuK0rZt2xkzZkQikUgkwos0gLVz4YUXoiYV98m53e558+bBDOXtf/fddwOBQNu2bRljs2bNAkMCSzsnJ2fYsGG1tbUousAYq6ysxLeWLFnStm1bLkLhhR0zZgwcGLxnSktL4aIrKytbvXp1bm4uQr2CIKSnp/fr1++DDz7gdXQ8Hg9IzbinKIqXX355PB4Ph8PDhw93uVxXXHEFS9rEVVVVFRUV1157raqqqdWcvV7voEGD5s2bh3WHPrFtG47Yxx57jCWFAEfqALFmPByp1yDvfcmSJWjksmXLWFIqTpgwQRTFa665hjFWX1+PNqxatQreU7wa9IxBgwatXbs2Ho9DwoiiGAgEQFVBpHvUqFFo3vjx4wOBwIMPPhiJRAYOHIjEuldffZVS+u+X/o23rq6uxtK+5557CCGnnnpqdXX1mDFjwNNHhyMKDFcQnypXXHFFRkbGhAkT4AXhn8fj8bfeeisvLw+8MUrpX//6V4/Hw7NmMJ3ee+89Suk333zj8XhEUfzyyy/h6eHOjIkTJ6alpfEyZZIktW3bdvbs2YlEor6+npcwWbt2LYpJMsbmzp2bn5/v9XoFQcB3Tz/99H379sHJwYXezxc/OfobqlAQQqZMmdK1a1dCSFlZGSZ6v379srOz8/LyysrKWFKPRgGMYDAIrTMUCpGkJrh3714QoCilW7du3bhxY2Zm5j333OPxeGpra2HTJBKJgD9w9913u1yuAwcO7Nq1K1UeUUoHDhx4/vnnp6WlwX+AqZObm5uVldWhQ4czzjhDEiU8jlHWqVMnyKyrr746KyvLsixBEBRZUVW1T58+wWBw3/59tn1UhC/SPNedJqm4sLpCoZDP60NyL5hWDZxNQSSEQKEOBoOmaQqigPzPSCRy//33r1y58s033wyHw4QQlPmSZdkwjGg0Gg6HGWVutxtcM+QBPfzwwz179ozH45ZlKYqSkZ6BuHKysxhDej1jlNKJEycOGDAANVthUwaDwVtuucXv96uq+vrrr0uyBAGdupJTAWeJbdsNg2hTXdfr6uokSaqvr6+oqKirqwONVFVV27ZlWUasmhDyySefbNu2LRgM3nnnncXFxYwxNJsQ4vP5Ro8eTSktKSmBEcPh8XjGjh178cUXI0+YEKKqamZmZseOHUOh0O7du5uz4H+BwHKQZRkRTNiXLZAEw+EwiOSqqnbv3v3ee+9NJBJPPvnk3r17UWXf5/NFIpE77rgjHo+3a9fuvvvuq6+vl2UZVSyrq6tHjBixZs0aURQ7d+7cuXNn8IRmzJgxe/Zsr9fLl5Vt20OGDHnllVdEUUxPTx84cGDv3r3BFbjyyiv/+c9/8vyLSCRSUFAQiUSi0ehzzz138803e73eyZMnX3TRRd26dQuFQh999NHgwYN5VmROTk59ff3MmTPPPvtsmLYDBgwYNmxYfn5+eXn5ypUrBw4cWFlZiWbIslxYWIgkz/fff/+MM84wTXPAgAEXX3zxkCFDdF3ftm3b1KlT6+vrVVWNRqOdOnWCIuX3+7Ozs7t16wYPQSAQgEqNxQ5XR1ZW1mWXXTZ79mzs3yNGjOjfv/+pp54aj8fXrVv3yCOPrF27FvoBIURI1tI9LkCef/fu3WHqvPXWW4QQj8cD7QFqJSEEqt7WrVvPOuusL774IhqN9ujRY/LkyUVFRaIorl+//uKLL8Y+appmt27dCgsL4Zf1+/0dOnTgCxmhIsuyzjnnnM8//7y2ttbr9bZr144QohsNky0rKwsl8yVJysjI2LVr15lnnvnOO++Ew+EBAwbk5OS0b9/e5XLNnj172LBhcKzCk8EYq6urq66u1hKax+MBMRyzWlVV7O7QZXNzc5GVg3hu27ZtCwsLEUN3u922bUO7La8oh4M5Eol069ZtyZIlILOPGDGisLAQM/zaa6+95ZZb8KxgMGhbNsi5qqrOnj17ypQppmn27dt3/PjxhYWFlNKvvvrqwgsvFAURtzpe4/g/Q2toMZqmIdbeMocDjjVRFC+99FKud69atQqr6OOPP25UAk/TtHbt2omiuGDBAh5wHTFiBMgiUJahp4OI8Oijj7JkmBDhD0JIaoVKbn9HIhEQP+fPnw+bA4JDFMV7772XMXbw4EGaLPPHGJs0aRIh5Pzzz8dbUEpjsRi0XUVRJElCcgr8E2jY73//e1VVx4wZk1oOr2UPx7333kspbWSRpBpz5513Hl6KX/OXv/xFEIT+/fvTZCz8ggsugMly/fXXHz58mN9n586dvLt4nLVHjx6EkOnTp/PLwuHwnXfe6ff7PR4PnoKLI5FIPB6vqKiAP2PTpk1436VLl6Lx69atq6urMwwDVQ4R6dB1vW3btoqijBgxAi2cO3curLRGcwPeckmS3G73a6+9xj/fsGGDJEnYgVhKrD0tLc3v97/44ov4dc6cOQ11mk0LV7Jk5BtaCzS5++67j8ebCSF+v3/GjBmgtfKwq2Vao0ePJoRMmzYttdbhLxw0ybmBhyM9PR0zqjlg2mAs0L0XXHABIaSwsBAuBF3X58+fr6pqIBCAbgdfKS7DYrzoooss04KnYe3atZIkgcK8YcMGPKWqqurSSy8Feevmm2+ORCLgXuzYseO0004jhHg8njfffJOTP5YsWcJpOueec259fT2i75ZpTZ48mRDi9Xq3bt1aVVUFBs+6devS09M9Hk9xcfGePXv46oZn0ev1XnTRRSzJM6iuriaECIKQlZXVv3//PXv2GIYBEsPDDz+M7erll1+G2g1lAtvhu+++y9eLpmkDBw4khEyaNCkSiWC6YpuXJOm8886jSSZHRUXFBx98AGftzTffXF9fD+ucsYacEe7haM4FxY7Cw8GrkWJQxowZA7PNMIzhw4e73e4pU6awJDWqe/fuiqJ06NBh+/bt/N03bdqEvrrzzjsTicT27dvR53h3MOsRRqmvr7/kkkvcbnfbtm1FUZwyZfwXUEMAACAASURBVMrGjRsrKysppYlEYsmSJSC5Q3jqun7fffeRZDbAqFGj9u/fj9Z+9tlnnTt3hnvpmmuu4UJv6tSpiqKMHz++qUBeuXIl/BbI18MbgXDWrl07O1kVmlK6fft2aCFbtmyxTAujOWXKFEyqadOm1dbWYiBKSkoKCwtxjgReE0BsF5n/l19+ORQdTNHzzjsP86e0tPTEoHH85DwchBB4OKDGctiW7Xa7Y7GYoihVVVWiKGqahlRvWZbhlieEIFAHmwnOBtM0Tcs8ePAg4iz8howx1MtCxQikkH399deg3HMMGTKEEALKKqMNLoeKioqMjAzLsmDyIsSLRC/TNH0+XywWg3EmyRISt5Dv6vV6OVvlB4AmD0+B7QLvRVFRERI1MaKNvgJqOmPs6aefbteu3ahRo2644YbXX3+9S5cuyC6Lx+MoTipKosfjga1QX1+/Z88eQogsyyjMGgwGdUNH3+Jz5KGx5N4DvyWkFYYjPT0dLA0U4GKMSaLUsWNHQojP54NMQaLyEVPguMOmsLDQtmzTNOERRagLFQtSkzCj0WhtbS2E0f79+5GCK8kSBj2RSPj9fhiUAX8ABkpNTQ3iKbZtZ2RkRKPRDu07kKT5rihKPB6XZAnh+ZqamqPn35zwoDaNx+PUppmZmYQQTdN69eolNw+Px7Nu3brMzEyYwoSQ2267ze/3l5WVPfTQQ6IolpSU/OlPf2KMzZgxo2PHjoqsoG4EXJiEkIkTJz737HOCKGAx9unTp66uDlkbs2bNIoSEw2G32/3SSy8RQs6ecDbYrLBcu3bt+uabb6anp9u2PX/+/Orqak3TMGOhE5966qkLX1iIWnYejyeuxR966CGco/Hll19mZmb6fD7TNB9++OH6+vpOnTp9+eWXBQUFlDWUxZs5c+btt99uWdYrr7yCVakltKysLCyHcDj873//GxT1jIwMXddvvfXWgoICVVWXLFni9/thcHvcHhwVlNrPbrfb5/OBouTz+VRVraur2717tyAIBQUF//jHPzRNSyQSkizl5OT8+te/7tevH2Nsx44dcMhT+ztSBSe4/JhxB+3Gpbo6d+6MBZJIJHCGFKSfKIqc6gSV64YbbiguLsa725bdtWvXvn37xuPxpUuXqqoKCl3DpPrPMgper7e2thbR25tvvvnBBx/s1q1bZkYmlIxIJILQAwckg23bHTp0WLFiRW5ubiweI4Sccsop69atg+R54YUXDMOwLVsQBLT2hxEjQH0TBKFNmzZwDIMLEgwGy8rK5s6dq2napEmTZs6ciexFhH1LS0vhbIYxDAePIAios1BcXPzkk0+iIgAKnMybN48QEolEli9fLiSP5ftZ46eicPBlAE+DoihciT56GIbh9/nBBqLJmpWyLLvd7kOHDvEC3gCKQJiWaVqmIiuwvA8fPpx6HgqlND09PRqN2raNCg0wvNq2bVtfX19WVsZLX3CoqoqjUw3D8Hg88JSgfNaPB1YUioPpul5SUkII6dGjB6IP1Kbc7qR2g29T07Rdu3ZNnDhREIScnJyVK1c+9dRTkydPbtOmzXXXXYdCgZCzpmmGQiGEjdLS0vLz86GKybJsmiaSkymltmVTShVZQUnW5pras2dP/BCNRqFqKIoiSiIql4CTIUlSc/Va7P88OcKmNqU0EAigMWg2IQS6EQbF4/EgHud2uw8cOICCIlyy4GeExizbQg2x2traRs9Nz0iXJRnEFGi08MPZto2yZsdlHE88MMZQk605GIYRiUQEQXC73Yjo9+/ff+HChagS+8EHH1x77bWEkDFjxlx33XWCIBimEQgEULMYc/6aa67REhpciTw6c9lllxUUFLz00kuwKJ577jl8PuvxWSiPi4ghISQ7O/vGG280DOPDDz/Mzs72eDy6rvM6wuPHj/d6vaiBiyAOt09qamqw7vbt27d06dJgMHjzzTejAKAsy5WVlR6Pp6Sk5MYbb0Ri1+uvv25T2+/3l5eXQ/kePXo0KvQwxrCUIpFIz549XS4XPDSEEI/HE41FUXYvtWNty9aTJ0Bh+qWnpw8dOnTt2rXPP/98MBhE7J8Qgr7t3r17Xl7eoUOHQIEyLZOfcf2DkbqpE5xKIYmN3PuQt7ZtQzdCCZxQKCRJUmo5OMqo1+vd8PkGwzC+/PJL7P2psyj1ntBgoMpMnToVowZGMGIQOFESDYNdhES8+++/H3IgGAwmEglU+vnTn/5ECDEM47333kO5UoRCEonE0SthXALAhqSU7ty5EwZnZmamaZq2ZS9cuNDv9/v9/rvuuisUCkGJxLnclNIpU6YEg8F169aFQiE4daA8ud3ukSNH4ngHRP0Q+scMQQ1JOGJ/1vjJKBzJgRQEAVt+27ZtRUm0qW1TG6cCItALljvGo9GBW6qq4oQO0IUQNIEqmp+fL8tyTU0NfyI8HA2HqsgSaqgXFBSgzBQ31g8dOuT1erkUgKMM3NKuXbsi/1uWZRx1iyQRj8ejaZoiK5qm5ebmxuNxFBRXVRXnK/7IvsJ0tG0b2kyHDh1IkreRou03cDjy8vI6d+68cOHC2traxx9//JprrikoKIjH4+Xl5S+++OLIkSPB1bctWxIlWAy4myRJlm1B4UD3ulwul+oKR8K2bUtygzOzuUbCuIG/J7VAJ5wQIHXDY4nEATMFcCZjfVqWtW/vPpI8thH2H5Q8zJP09HRekDQUCrlUl23Zbdu21XXd4/FQRiGJGGOUUUEQGG2I19i27ff7VUXFvlJXV4cBAmXdtmwc9otUHZ/PV1tb6ygcHKIker1eURJra2uhOD733HNLm8eSJUuGDh1KKcX+CtE5evToc889VxCEkSNHfvTRR3l5eU888QTuL8tyIpHweX22bZumefLJJw8eNBgBF0TZsd7/8Ic/YIUePny4qqpq8+bN8Xi8Q4cOeXl5WVlZlFGomISQaDQ6adIkKJrvv/8+IcS27XA4rChKMBgcMWIE/JHQNhKJhEt1qarqdrtPyj8JAY7du3fDnzFhwoT09HQsgdzcXNM0O3XqBCnhcrm++eYbUDeQhk0pHTlyJGMMdj9kjt/vlyQJIRLDMNCBqOUD/y6HJEt+vx9+DkIIJEzv3r179Ohx+umno5gylCdCyJIlS2bPnl1bW+tyubATN3gWpe9OVzmaY2MbIdUlTiB/bFpXV4eNFk+3bRvVolFlXNd1t9vdrVs3Suljjz121VVXffzxx5wDBzcJGLVxLc6aSWa0LRu8lsLCQnQm/AFY75FIpBH3izEWDodDodDYsWNR8TkcDoOPqWna5ZdfTgjRdX3Lli1YyMgQ1jTNsixGGf/X+N0pI4RQRlPFHYZYFMXCwkJJkpAEK8uyaZlbtmyJRqMFBQVFRUUgF8Kcg+rwpz/9CQmVX375JaypoqIiTIwLLrggrsVtywZtDsyejIwMwzD27t1LaYM38WeN41Zp1EgeOUGSbsBIJHLo4CFCCIpea5rmdrsRhgAPa9++fehx+B7h+ovFYhkZGeFweP/+/T169ODKOwxiBMO4Yx83hMXfUGw06dWAvo+TkODYx6qOxWLBQBBJa/BcEUJsy967dy9fKmLyVDm4/RGuw+MgvFRFhbzgX/d4PDinGFUuBEGQZMkje1jyRGOUe9d1vYVKo5Am0EgQ6oMujxrqjDH8CuUdHHW3233RRRfh69hBGWM2iqOLDeOC1RUIBH7729+ee+65s2fP3rp16x133LFmzZqvv/76pZdemjRpkiiJlZWV6CW4SXi0IhQKNdQUt2xCSFpaGndspEZSRKEhgRBm3LfffltUVAQjAJoQ3BKlpaWBQKBHjx6IMWVmZkLsKopSWVmZnZ0NdUpVVcR0BEHIzMpEwAuaXHp6OgKlfDj46FNKo7Go3+fHyXOHDh2qrKwEAQ1HrqBePs8zLCwsFCURPhi4MWCjoLAgGmwYhs/nQ7nVRkeu/JJBbYodF+PldrtPOeUUsLyPfD2lWFngwfh8Pqy1xx9/fO3ataWlpS6X68knnywqKkJxTFEQqUAFUcBUDAQCoiSalolsT0aZIivgD+Xk5ESj0R07dvTv33/jxo2EkDZt2kDKi4KIScsE5vf7G0ruSg0Zjy7VhZCNZVk5OTnwgWH18dQPxlgkGoHSuW3bNkyAk08+OTs7u6ysrKCgIBqNZmdnM8aqqqogKHBWkSiKoCwg9iEIAj+cAVWVo9Eo8jChNMA30DS2SJNHE2CXwh4PgROPx5ctW/bJJ58kEonVq1cfOHAASX80Wfkb8UdIM5JUOCijAvtOb25Oh5YkCYcMMKGxNqAoCkKuWAtwqfr9fpDP8InL5YpEIs8+++yECRMOHDiwaNGiZ5991u12jxo1avjw4WeeeWanTp1IMuld07RYLJaenl5ZWQn5g4rM3Dbr2rUrGg+dRhRFxlgwGAyHw9zBDFK5oii5ubmKrGCPcLvdsHYYYxAFBw8ePHjwICEE/s54PI6CY6mOFlEUQYVuRBLHaEIjFEXRtmwmNGTogFjGkklShJD27dujf8DOgbDSNA0sYJ/P99VXXw0bNsyyGrg+kUgE7FdBFFyqyzTNQCDAGEMGIjYaCLHmltjPAsfNw4GpA5d7NBpFwGz5iuUkqYt4PB5MbpwUkEgktmzZgvgZjglAkjS3m+EqxGJjKC9jWVAd7OSBxZZl+Xw+qB2xWAzyJRKJYAgB8AfGjx8PcbNq1SpkvcOSZpTpur58xXJIigsvvBAuXNu2IbOgwvMqv4DqUvErSabd88eBamAnc0rxoWVZiMsgObu5PgTVGXaSJEk+n8+luiilaDBUKCyMb7755h//+IdhGEOGDBk4YCAhBD4PWFFwA5imuXXr1uuvv/7+++/funWrbdtpaWno265du7799tuiKIbD4e3bt6Of4frjVhFjrLy8HIEMSmlubi62YfKf7qhG7UfI3O12v/jii5xPg1Xq9XrXrVtXVlaWSCTOPfdc7CvV1dWJRAKhLpw5xy28d955hySdGXyOIQeYpztiCERBBMcqPz8/LS1NlER+itLatWs1TeOn9QaDwVg8tmHDBpRCOuWUU8D/h3s2NbIDuwdsOMgdGKDfswx+MYApRgjxeDzQ1OEwaO567vmTZVmWZCRwpaWlqapaUFAAK7ldu3ahUEgSJcYYd9ch+QUpo436v7Kysl+/fnBIQLEGu9nlcoEhyE8kpjbFJo2NEHlPxwSv1xuLxeCir6io2Lx5s2VZKAazfv36zz//fO/evZWVlYZhVFRUQIYgNHyUHk34NjRNS/0ivIDwL/JTC6AQ33LLLbm5uZdddtmcOXPmzZtXUlKSlpY2ZsyYAQMG2LZ94MABl+pCJIiXCcdqPcqy36BMWraVWiAL4IvUMIzf/va3VVVVGD7ktSKBE2p67969N2zYcMcdd7Rt2xZeorfeeuu6664bOHDgDTfcUFlZCbclISQzMxOGTTQahfjyer0giomiyE+LbQreKsookvxN00R5GEVWLMuKxqKQQvn5+Xl5ebCpCCGSLOHIGEEQ6uvrKaP8HyEkHA7D+Yo7k2YYcojB8c8ZZT6vr7a2NhgM1tfXm6YJXlEgEIBsj8Vi2L8QTMEA4WcOVAHhCb34AcdO/Xjv+P8cx03hwLYUiUQkWfK4PZMmTUIC5PXXX4+zTgghjLG6ujooJYyx888/X5KkgoICkMUgiaC32rZdUFCA6CMieYFAAARDHMyGuQgKFaQYAocgCTba1KPRaK9evYLBoCAI06dPV2QFIWdRFHHkx1133UUIycjI6Nevn2mamqZhaiIsjQaDuwD2YiKRiEQi3M5u1A+KomRmZsKxYVkWjH7M7JZZhyjAhxI6yNWORCMkeeo9IcQwDJvar7322tChQ/HK9913n5bQNE1jlKF/CCGQtoqi9OrVa+7cuY888sjnn3+uKArsJNAacASAx+PJzs7GRgvfCV4ZkSbwzrKyslwuV2lpaSKRQCkk/hYQB/gEh0Uh6qFp2qpVq+LxONhShmHAfLz33nshFIYMGYITX9u3by8IQm1t7bZt2yilqqJijwmHw4888kijImzgzKIz0WYsdTA8AHTj2LFju3TpQgi55ZZbEMjnzupgMHjHHXeA5HH66aen3h8uIkmWQFfE+X88K9KJp6QiEAhA++Q7RH5+fmpNiBYgSqKqqiBXPvroo+vXr9c0LS0tbcKECYhrGP8JQkh5eTlpEuPPysz65JNPDh06pKpqWlpaZWVlu3btEokED+eBr5NaVJDTIMix0yc7duwIjQpCbOfOnXv27EHNU/AVsDf//e9/x2WchHQ0N49Gowj8m6YZjUaRK8c56ZCEjDEQ4e+6664nnnhC07ROnTo9/vjjmzZtOnToUHl5+YIFC5BoBvbGMb1dI0QiEXhfmhpIlNK3334bP7Rr167poEMFRJlXVNH49NNPly1b9vTTT59++umMsZqamnnz5iH/CHEWMCJ/pEIPsZBIJEBH0w3dpbrS0tLg/uQZMYjWwY2KsE5TtwGII6lp80IK8bYFaAlNlmWcZY1oHWYL2CqZmZmSJIEMi34TmqDRDRvUxBNFBB1PDgejLC0tDWTdadOmQXOcO3fuDTfcsHz58srKSsuyUFLwiSefwGlegUBg0qRJcBtC1tTW1nJ3VqqHA9MInivE4LEaoYhA78ZuCqpjasO8Hq+qqjNnzoRf9Oxzzo5EIiAGRqPR8ePHb968mRDyxBNPqKqK74J9zTdUURJFSWSUUUZFQeRuXiGZ484Yg+kAd45lWUgf5yISlY6ggDfXgdy9AU123bp1jz/++N133/3AAw9Mnz79pptuuvrqq3v16jV16tRwOGya5syZMzt06ACrDgQFhBXhrcH+2rVrV7fbfeONNz733HOCIPh9flES6+rqHn30UagCgwYNQg9DsUs1ZWCSQnBkZmZCHPC4CX5GGAIA4YMQIknSwYMHf/vb327evBmvU1JScuHvL/zwww/r6upuvfVWlF8LBoN9+/ZljKmq+uCDDyYSiWgs6nK5qqurL774YuQopvYPjF2IFRC8eWkj9C2cpZZlhUKh66+/nhBy+PDhsePGokPcbvemTZtOPfXUbdu2CYIwY8YMxKRAxEF6ZF1dHfJZYHhFIhHbsqF5HNHE+cWCO/CgWGNzTeVINYIsy3A1WZaF/bigoOCzzz5Disrf/vY3eA5mzZrF6wFCR8eGvW3bNox16j0FUUB5SkJImzZtcnNz4W7Zu3cvFxe4A9SOPXv2IFTavn17chTim6Ych0FS4ixQaDIzM/Pz8wOBQFyLa5oGxy0OMuR7CV6h6Z2/o1phIxEFKMSJRAKOHA5CCPIhG1I0LdswjQcffBBsgDVr1lxzzTUnnXQSns6N4M6dO6PKOKddk2QOCPf6tAy4KhEeatRyj8eD7IlOnTqNHj0aBz5AYiNjBX2VkZEBEygcDvv9/lGjRl1++eUrVqzYtGnTjTfeSCldu3bt+vXrYaHBNcsYw8GKhBDIT7T/KOuIgANumuahQ4f8Pj8YFbgPRBa2jJNPPrnBUa2qMB2beg527dqFfCX+SQueoVQvi8vl6tChgyRJmzdvZoxVV1dD3VEURUtogiB89NFHKIx58sknc8paKoMNISoe4sF+ga3kKA/t+ynjuHE4ICbAz4BXbefOnUOGDNmzZ88rr7yyePFiVVULCwtLS0v5jiuK4g033DBjxgyEpnhdJvyAaCVLcjgwjzF4hBBe6gfHLiMW41Jdlm3Ba8qJVIQQcMEuuuiiTz75ZPHixW+//XZ6ejrSUsrKyuAMHDp06Lhx4zAzQCXBGaqp7yiIArGJKImI7yBkqyQPHRUlEecX+/1+LpskUYKBVVNTQ5Ona8LAAlININuyQQ1B8GjVqlWrVq0iyZQNXAPGfufOnV944YXeJ/cmyaMj0YymWTPz588/55xzTNO88sorr7zyysGDB3/77bemadbU1BQWFo4dO/Y3v/kNtSnYIR07dty1a9e//vWvffv25eTkIO8cdDaIHkVRiE24vwpcGVgDktjg/BQEoWfPnj179ly8eHH//v0LCwvxXTiuhg4diiKSUE3atGkzfPjwDRs2rFix4le/+lWvXr0URVm7dm1NTc2UKVPWr19fUlLi8/lg/2maBhPBMIyzzjqrY8eOF1988aRJk+AXgVcMIRJd16+++uo33nhjw4YNy5cvz83NRRZlXV0dCG7jx4+//PLLoWmBmIa3Qw1B8I3ghIfMgmvtBLAwjhe4To8MIATjUAjyiID9CikBFeHAgQOTJk1ijF144YVTp071+XxXXXXVX//61xEjRowcORKscMMwcP54JBJ59913zz77bE3XMBslURIEYebMmVh0AwcOxP/z5s3Tdf3zzz/n7iuwASzLevzxx3GroUOHkmRluVTLEnGcI7afUjpo0KBu3bqVlJR8+OGH48ePBzEzkUh4PV7TMsPh8LBhwxhj06dPHz9+PEmSG4RksX8uyo54f9BEUKg7HA5DpqE/EU6ilII/uHPnTkIIkhqCwWAoFMrLy8PG6fV4kZxSUVEhiqKqqPBCYcFyG/1oprFt2/BDI1aFE1PRD1dfffXWrVtVVb3gggtAcrJtGx5B7sQNhUKff/75vffe6/P5Zs2a1bFjR1DcFEXp06fPzTff/MQTT2RlZW3ZsqVXr17QsVwuF1SuUCiEEDZjDHr/UXo+oN7JsvzSSy/ddttt1KL8i4qizJgxA2lE/fr1Q9gOOwjKGfCKiIlEIicnZ/Xq1SDZCMkDsb1eL1ifEDWxWAwci6YOntGjR7/66qulpaVbtmxBJRKQVJA9u2TJEpTcQH1bkhKsYamaC6MSkU48I+e4eTjQrbBgVFX1eDw52Tmffvrpn//8Z0Rqbdves2cPNiSXyzVo0KBVq1Y9+tdHBUFQVbW8vDwtLQ1Op/79+xcXF4fDYUmUqE2pTSVRIoRUVVWdcsopAwYMwBhLkhSNRrt16zZw4MDu3bvjgAPkFyCW2blzZ5w5Asesy+V69NFHb7/9dqi35eXlZWVlcBtOnTp12bJlXA+A8gsSHLK/+CoVBVEQhNGjRw8fPvzkk09GoVxCiCAK1KYZGRn9+/cfPHhwNBp1qS4Qr0RBFAWxX79+gwYN6ty5M5gBgK7rvLYHIcSmNmbz0KFDi1PQq1evbt26DRgwYNy4cVdcccWKFSs2b94MbnMqbMtu3779sGHDiouLRUFUZMW27EGnDVq4cGG/fv08Ho/f7//444/j8XhNTU2HDh2mTZv2zDPPkGSumm3ZkyZNAj1z8eLFa9asAekkLy+vS5cugwYNAneaWwOISf3mN78pLi5OS0uDgzozM/M3v/lN+/btZ8+efcYZZ/h8voMHD1ZUVOi67vP5pk6dunjxYgwflqtLdS1cuPDMM8+sqampqqp6//3333zzTUrpvHnz5syZ06VLl549e4KSRgjBicFnnXWWIAi7d+/esmULMu5ESfz1r3/do0cPRENjsRjm4apVq+677z44wDZv3rx79+7a2lrLsu65555Zs2bBtwGvaU1NTe/evTt16gSbpuFsDlGAFnXKKaecdtpp7du3/2Ep+ycq+LzVdT0YDJaXl7dw1gwoXFBNsBPPnDlz//79Xbt2/fvf/15WVnbF5CsuvfRSxthFF12EcD6IurxSwiOPPLJ3714kqKuqKsnSm2++uWzZMiQg4IiTs88+W1GUSCRy3XXXlZeXIxIPbWPTpk0bN26MRCIXXnghp4G3jAbhTymjDJuELMsul2vatGmJRAI+AJfLZVPb7Xafd955X3311f79+8eNG8drbiI6ic2bH3LEkqeO0WRdTlzAOxOZpZmZmSxZdAvXIBUC6Sq6rqenpxuGgbCjy+WyLGvX7l04bXX//v3Z2dmSLCFyiqekSrDmHPgcqqrG4jG4LhhjsNlKS0svueSSBQsWoOzKA/c/APcknBz8u4ZhBIPB/Pz8jRs3fvjhh9988w3U+rS0NK/XW1NTg2habW3tgAEDvF6vqqgw9JH6gRKr4E553B74IRq1udEPgiCIgghabiQS+cc//pGa8V5TU7N9+/Y5c+bout6nT5/27dujD0CX2b9/P05yqaurc7vdOTk5H3744VtvvdWmTZtUaxBWKNRfhLN5+kJqGzRNA19QFMV77rknGo1iW0RkdtOmTYsWLYLympGRoaoqJExjSA1ha+4Dw74Jne/nDXacgPXAkqfn1dXVVVZWolKepmlbt259/vnnH3vssTlz5ixZsgT5KagByquzsZQymigRmJryioSReDyeet6jbdv8MALbtvmhhZWVlVBCeaFJMNqwgHFq+fPPP//Pf/5z8eLFWNKMsfLycn6yA0vSTVLfkdc83b9/P/+rnSw/itdBYU27SYU+lqzO2ajfUt2e/AAUXgKVAyEe/jMkZmr/8M5H3mnqcyml4XB4165dCxYsmDlz5urVqzdt2sSSJyAkkic64gV37Njx9ttvP//88/xIETwX9Q9wGeLWvG3oYX4QIvoZN9+9e/dbb7315JNPLly4MBKJ8IMxWfLMWz70u3fvfvrpp1944YXly5ejZh9NOQAl9f5VVVVr16596KGH3n777X379vGjg1EDCs/l53MyxgzDWLFixfz58+fOnbt69epEIoEW8vmAr6AbU/u8wZ1rWpgMzEEKeNHV6dOnQwOYMGHChAkTzmwGo0aNGjZsGIbbMi3UyhSTh3Ggq3fu3InzCC+55BL+lFGjRiHQTggZO3bsrl27Dhw4UFpa+tRTT4mi2LVrV5fL9fXXX7NkMdMHHngAOvGUKVOWLFmCSM38+fM7dOgAzwpOpsXFH330EWT6/2fvzaPkuqp7/733uUPN1ZNarbE1T5YtWYONJA+SZ+NZthHGDsbGIXF+v6zEDnkQCHnAIyRASPIgPMKQLDP4t5YZYgwE4wRsAjywjTFywALJkixrarXU6q6u+Q7n7N8fp+qqurpbliy11N06n1VLqq66devcoc75nr332Xv37t1RMyK0SZQsrAAAIABJREFUG/6zn/1sGIR6ycn27du15l66dOn3vvc93cjnnntuy5YtABCLxT75yU9Gv9NcLqc31p1MU+Xnq6++Wghx3333cb0ekA6sBoBPfOIT+ubX/lmd6PaBBx7QP4FCodDd3d3e3r5o0aKdO3cqpfbv318qlT7/+c9HBs7u7m5d/0F/o55KfeITn2BmbeGLaOorokyjF1988Q033LD5ts1btmy54oor9DRGr79raWlZs2ZNdMailMrapPTQQw/pI92+fbueFM2YMeNzn/ucruR+6NChxx9/fMaMGdlstqWlRSmlZ/+VSkW3/NOf/rS2OjNzqVTafNtmfWsNvwO//vWvA0BUhikMQu2emzVrlhYTTz311MDAQH9//1e/+lVdRRwA9P2m9/+Nb3xD3yq6Ankul8vlclu3btUuVO2+1+mSdYes88u1t7f/7Gc/i/qxvXv3arvO1q1boxq/H/vYx/Se77zzzieffLJare7du/epp57SIqO9vV2rYX0CdX0oIYSuMKV3G3W2eonT5z//+Tf0Mx13nDbBoX9mURno6AfDzFJKXfOd61daDyee5+ka07rH11ZrPQDrwbvph6E/ri+/fjGK3NRyWP8go7E5qlDMDf1j40jZqCeiljOzrqqq6uWmIhqVhN5Sq6vG4sJaSA0ODjalEI66IZ1rOdrhcMGhT0v0ov4xR2cjOpymjkMLrEj6RES3tT5RlUpFp86VDRWzGiWLGpZMXdeRZ+a+vr7GOs5RZ6GvaS6Xiz7bWGRIy77G86bnf/qca42ojT36NEbHGB1Lo9jSJ02ft0iU6NOrj0IHrkZKVH/Qq9e2lvXVQ1LKqBYX18tDR1W/o+sb3QNGdjTRKDgAQAfbw0hBcLXJH5EQ4oUXXtC5yVtaWlpbW6+99lq/IVt8qVT6yle+onvqp59+mpn7+/uvvfbaRCJxxRVXrFy5Us+Rurq69PINvdToO9/5jv54FGi5ZcsWnVEmlUrpKEuoL3eKio0dR3BEHU4kOPT9oDXHv/zLv2B9dauejur9x2IxXV8tOiKdBKgpN3/Edddd57qujpfneseoW5tIJJYuXfrAAw/oxtx4442I+Id/+IfRbRnVLXNdt7u7O1qTNW/ePF3ADACWLVv2yCOP6PtW71aXNmyaRGmGC47GBbo6FCY6+ffff39PT4/uLnSkiM5WsHHjRkR8+OGHo9/7M888E9khbNtubW2NYm4SicTWrVv1L06nNdKNdBxn4cKFDz/8sO4lrr/+egDYsmXL8EnU1772NagHiurR5AMf+AAAvPWtb924caMOsNOmBe1YaWlp+du//Vvd0elZWT6fX79+vQ4Ysm17/vz5U6ZM0XF727ZtGy44vvCFL0ydOhUAli5dumbNmkcffVSPWfoqa0OOHhGY+Z577tGnzqmjT6nruo888kh00fWSZn1u9+7d21gIQt+QOq/uZz7zmeE980REfPCDH3yDtpGhaJ+uDoCAuvkusgvpHOTRK9GSjWjhln6rMW1cFJfbaEnTSlALbT2v0lMf/Vm7Xn9ZN0bb4aPfjH7S+ENqtChGLQcAvdRWf4VoAIc5QfXr0bHrd7XdlYYuqY983joIQ9MUe4yE0etNnXX0SuP3wtDos+gQGlNKR+5b/UTnXY2+NEq2EflKmvoaqNdhAgC9ErjxPOhzrt/VZ4zq+VEaT2zkCo2aB/U+SO9QrzmKXm+8OvororMXhfFiQ0Sebkl0vfR5iM4ANGRJ16/rJ9o03Xh1GofM6K3aGpxhx3WOo3Niap/39OnTzz///BUrVqxbt27FihWrRuK88867/PLLN2/eHI/Hdb2kpUuXfvKTn2yMZ3Icp6ura9q0aR0dHUEQXHLJJfF4/LHHHnv55Zcvu+yyRx99NAzDn//85wCg1xqsWbPm8ccfj2I1oh/j+vXrFy9e7Pv+tm3bmFlK2d7evnnz5n/4h3+4+uqrZShDWUuZo30cq1evXrVqVVtrm763dbSpnhgsXbp006ZN3d3dOsRHSnnBBRdcc801QRC8/PLLUkqdtm79+vXve9/7PvCXH9AeUu2C0RWn582bd/XVV0+fPl3nJC0Wizqnvu/7y5Ytu/zyy6dOnaojIWzbTiaTzz//vI7Unjlj5p1vudP3/WKxOHv27CuuuGLZsmX6SJcvX7527do9e/bs2bNncHCwWq22trY+/PDDjzzyyMaNG3/84x/rgpdTp0698sorhRCHDh1avXr1unXrZs6cyfU8YI3oe75YLOrKee3t7evXr1+9evXq1auXL1++atWqjRs33nTTTZs3b37sscduueWWVCrV2Onp3HpBEHR3d1922WVLlixBRGbu7u6+5JJL+vr6Dhw4oJP7hWE4Y8aMG2644Vvf+lZ3d3c8Hs/n821tbYiYTqeffvppIurt7Z05c+Ytt9yiZcTChQtXrVq1Zs2aptb29PTMmjVr/fr1mzZuAgSte6ZMmXLTTTe95z3vKRQKe/fu1eZwALj00ks/9rGPvfOd74SGPtB13XXr1ulz7vu+XvC4YcOG73//+93d3WEYdnd333XXXUEQ6Oi0WbNm9fb2vvjii7lcrqen56GHHpozZ86ePXt0eOJVV13V2tqq6v6vW265Zfr06du2bdMLFHQM09ve9ra/+7u/u/XWW3VEfDKZ1EkjHcdZvXr1pk2bWlpa8vl8zI0pVjr0Xim1du3ayy67bM6cObK+OnriUgtoGp80tg1PINDpDMCjVHA9zvb6yet+6mT3DKfv/LyBrz5HMGfmddHGxVQyJSyh1JBsjI3ogV/HcOiwgHw+n81mm/ofHeGkU/x1dHSUy+V77733iSeeuO6667797W/rVTD9/f2lUmnevHk6GChajRLtRD/v6+vTOeUsy3IcZ/bs2UopPSHW8lFfXN/3o4hIANDjok6gl8vltJNi+CoGvQhWrx3VDoJgaAZx/S3FYlHXIZJS6ih4LSwQUYZSDyq6MVG2/qNHj2rTbEdHh06vqb9OJ7lpPO2WsIql4oEDB6SUc+bM0UFRiDg4OHjkyBE9tOvUzIioFx4f/1KOOBbo0HvbspsCCLghEhbqEzm94qNxlal+vVgsap/FlClTkslkIp7wfE8fr47psSyLFecL+V27dqVSqa6urnQqHcpQy6Moa+qQr1bs+Z7O0aIDZkmQVqJSylgspkP09DnRaQ7K5XLjNEMH8DGzlkSpVErbzLR1pK+vT6+p1OpEP8nn89u2bdMVfbu6uvTNo5cu6jCXxupO+t1X97yay+W6urqSyaTOORn1KkopLXmJSN8e+oP6cKIT7vu+UkovxKORyk5NIMa14BiHmBHIYGBmHQKprYxRJ6gXE432KT2m6hInutvloQs3dCS/7lgj29Vb3/rWxx577Oabb/7Wt76lpNKde6lc0jnOmVmXG4w6ev1BnR0L6qvnIjVQLBaFELoB2tShzaXR77pRcEQ71FPt6EB0UDkABEFQLpe1kaZp+Wi0kktrCx1SLaWM1poKIZrsoIcOHdI+fq6vndHRWpl0Ri++a5pg6OFHH1rkmbWEpXML6QFSOysjqcH1pOMjXlNoWEoTXZRIpekle5HtuUlwFAqFTCajl9ephljLUqmkS+foXbFiqWSjItHn1nVdKSUh6QziOn+P1qZanzUde7FY1C3RqT6aRujoBtDeEL3Yh5kj9dDUh8tQ6lw+Wlzm83mt7SzLik6XDly1hCWV1NlLtcFGq4RCoZBKpZRUfnAsrpyZtf0+uj91jiKllNY9OpVc4z2gr+bg4GAqWfsd6V+K1qkw1EI/ETlty2LPEYzaMBgi1xUzVyoV13E93yOi46gNqFcGsCxLKhlUAx2M35h9S39chz4goh4q9KpFPQJFfkP9rx6blVS6/pHeiQ7oUfXipbqjjyoG6MxawhK5XC6bzbqWq8OY9JAcpQBhZr0wviZfpGycuQKAXvUWLRWRUkYu3YhozENEm2wZSj3AaBehDkfDenQLEXV1denaLkSkD0evDtX125oaoPMgF4vFqKhH41DE9YSEUTIPPV7qaIPRLpCSSqpaBFVkutfry+D1Ml9pY1Vt5XwDevmMzgEI9QoPqp4uSEcq6EUueoGh/jgz66RE0TVt/Gr9rk5AoD+lkymEXhjdFVJJ/afONKiXwOgv0loNEXV6fmb2Az8ejw8ODmazWZ1SJWp/lDBQN+bo0aPxeFyRssHWljOopw8BAGGJmDh2KxKRlhc67aHOH6rT8upjSafSRKTrLQBAbjCnKwM7jhPK0BK1jFCRZ1wXCRnt8k0IjIXDYDCcNMcGeKl0LqkohGhEN2JTP8P1LAiNPmk9YY16Z/38jjvu+OY3v3nfffd97nOfIySpZDTJhnoSGl0aMPoKPVeO6gUOb4/+9sbs+Pq79AxYDV0MCaPYNRuPaHhFtMjMDvWZfW2HDQJrtDpq+tgBQJd9b2oM1CuK6a9o2me0Zy0dInE2WstPZAY12vYnO3aM+Fl9LNoqc4JtGPF79U6i5zr7UeRra7Tc1MIXR99evztC+xvO84jnrckScyLnufGm1c91Dgjtbot2GLX2+LJv/GMsHAaD4Y0jLKEzFOmMfI2VgUdD1yKIBsJoTNUR/pawPN+z2dazOp39BQAGBwc7OjpCLyQinWcvKtaoVwronURzfT17poZM/BF6G91mnTJBl1/Q09nGoI0mp08jQ6JGBDa9JUDoNug/T7CCSXQe9LEPNxicODruAepBElHDsFZJGsfJoIWIKFBfi0aZeNL7aVADjfekdpToe0AHTNRCdgigfu81ba9tb2+gDacye9ctrKX8EsLCyTk0T86jMhgM4xNE1EkkmwYDAHBd1xKWsETCSmjTRT6fX7t2bRiGGzdu1Gk9L7300vnz57/22ms/+9nPdEoobZOPrO56t9q0rnc7fBjQniBtEtebaXWiAw6g7tQ/EfE0IpFFhJm1YTwaDocM86PtuyHudlStQ0CKGme9Q+bTw2weTR6Z8WbY1svHorCe6MU3tiud6ywKtYH68UbqTV9f7Rkcvn1TM84AkSVDsdLnoemt8SMQTxHjUjEYDCdNk0k8WnBxIub3MAyjSXaTY0IvXtB2jsjM3uhE7+7uvuqqqx5//PHe3l4dqKF3qMNBmr5R+02OY83WrgdE1MVsdehlZBuAUxiYdfL1yKXyuuekEe1aAoCmQNGmxjfts9lpVfe5kKiVpNGepibpc9ZdKm+A4382CgHWmzXeA00hsVpYDN++8SydyLGcSDuP71Jp/CE0hjA3bXNS3z4+MRYOg8Fw0gzpEIG1fGjsuEfbnvUayHqX2rgfsihhJaA+0EZvRSs+ACCdTvf09OiZaDR/1eGrTTvU8ZjHGSy1ncCxHKjPfSNXy4gfOXF0CKSuXa53e4Lja9Mhj/buiDEljYtHAAAItFsH6+VGmwbdEz+c0TY+lWFvTIfMKOmOvhBNHqXh13f49se/h0+QE9m+8XZt/LfRSDbab2oiYgSHwWB44yBio9/hdXvG4RO40TY72WYc5+tG+9SIgYqnPhbqL21yx4xohziVr4iej7jP0WIwJ+7k+A3QOH43vXji258ZTryRExojOAwGwyThdaM7zxZNE9nX3ew4rwx/8QQ/dY5wsvfAeLhnjuPeahLoE/3KTuwsIgaDwWAwGCYEZ8DCEQVMGXFjMExCxsK3Pdr2WK+ho6NGTmo/p9KGsdj/WLThZKfyE5HTdSAT5VyNq8acIkYEGAwGg8FgGHPG3MLREAjDwAgAtRQ4JxKUM3mEneF0YO4Zg8FgmLAYC4dhcjFJlo8ZDAbDZGMMLRzM9YR5qIAJosmnDuoY8kcDZoZqGJUGfTyasMCGt8y9ZDAYDOOGsQ8axWGSQo8HqIXIsHcNhtFoFBBsjHMGg8EwkRj7GI5a2T0GYFB6tTEAAGAIEL7uHNToEYOGon8a/q4/G018GFFiMBgM44UzmfhLneAA0CgyjEfeoGm8K2jUd+pvKobXq4ZgMBgMhjPJGAqOevY0Rym/VC4k4kkGFhYCgJIQ+goQABQPHRe4YZxgM2QYGkA+VkaThkhRiUyga6MTAECgwtALY7HEsc9OorXsBoPBMBEZcwuHH5RLpbxtxxSzbWGlHFi2JWwU5DTqicbsYI1DiXGpGDQNUcfR/wrqrpboVlIqZFYAYNnWidTsMBgMBsOZYcwFh2MnQstPJDNShgBQrpSzbtbzQVgQZehQjYPCSCrEYJBDPSkIoF+oV0kHAEBVK/QohI2EDMDNthCDwWAwnB3GXHCUi/l4PHX4cN+nP/M5P+BCNZjaNfNAT6/rugpraw0aTR0NLhUT8WdohhhqQhQVsQIABFUzdTAghO+45y1LFi0AAAEoTQiQwWAwjBvGVHAQMCTiaWBsb+38m4//06brbxksh8HveuPJVC7XPyyMdKjCMOsez10a820MrfF97KmimtRQtiCpAse1fvPiz6e0t5y3dAkB+L7vOM6ZLzNtGAs8zwMA13Uty3rllVeISFjiXCjnbTBMJs7IKhUGBSDBWbTkwpK0PHLAtmdDUOsveHTN0fyu4VxglPuBqdE5UjNsoAJQrg1B6BNBqCBECwlBGZ0xeWBmItJP+vv7Pc+rVCpBEFjWmVxkZzAYTpUz8YtlBAUASGzZbjxNGPMBgRAsAWAEh2E4I98SpOrPtT8Fa5rDsQX7JSkDSa7WJUZuTCbCMNTaIgzDQqEQhmEYhsZ2ZTBMOM7QFIERAKjiSWGJEOxiNQCbVKDfbIwNHRonymQiR89JRhAcxMfUZ6N5g0D5CivV0POqfYNFs5R68qGU0h4TpZReeWRZlvGXGQwTjjEWHAiAILWFG8lNZnx0Q2lZjhuAAhQjfAJNJ3KOM3IAB8MQlwqwBFAAUqGSjECO7VIskQQY4aYyTGhc15WhDMLg1VdfHRwctG07Ho/DkErUQzDxHAbD+GTMHRbanyIRAInBCiQGbCt2CB1gOvY4g00yjG8abFo4uvVLv49DbGBsQjcmI0opEkRE2sJxtptjMBjeIGPuUlEIrMcEhECyBAFkAwtUoYDg2Hb1JJKINKzem/GqnGuMbOSghucISqmABDKHgtniUHIoWDVmIzVMDqSUtm1blqXU63QFxrZhMIxnxlxwEAPW61owKyABAAyAqBpC+yTVl8giqKEhf0ZtnIM0rpdueN6oRFkBKEKdjAMQFIGZ/k5OtM4gIimPqUlzrQ2GCcfYB41KXVIFQEnFzCwlekoQsQIkYAtQAUpmAragtoS2ATNjOTcZ5mVrjgZFYLYACZAJQLKIOS4AmRiOyYfrugAgQ5lIJBKJRLlcDoKAmbUHDeupAo15w2AY54yx4GBAAKpZOGoJIvU8VZECrhUWp/oylvrHapoD2SyLPRdhbBSax26AISnwgRjZRqEgqIcBkYnhmPRE1g5zrQ2GCcfYD+d8bOzQ7hWD4dRBRDPknFNoS0YQBERk23YQ1iLAjGHDYJgonAnBQWwKaBnGhKbBRteJNUxipJSWZUUBpFJJMKuTDIYJgnFYGAyGcU0UH6rzjWYyGSJ65ZVXEAUzRqLThJEaDOMcIzgMBsNEQggRhuH27duhbttQdcsWMxvZYTCMW4zgMBgMEwBtySBL2K7jBcGzzz+nsBZHbPLZGwwTAiM4DAbDBICZAYjItay4DOF3v9sVvYVo+jGDYQJgfqgGg2Fco80YCiCRygA7MrBcJ/vLF7YePHg4EXMqXkAkGDF6nO32GgyGkRk/gkOZpKIGg2E0dHAGgu1V2fPCwIfvf//7ABB3bWE0hsEwETh7gsNk9DIYDCdJyCqQEoXdNqXjO9/9XiVQDGDCRA2GCYEZ9Q0Gw4SBwwAAWrLZuXPm7Ny5s1rxC2XfmEYNhgnBeBAc46ENBoNhnKLXvtpCuK7rxpMLFiwoFAoPP/zw3tf2P/PMM67rIAADR4+z3V6DwTAyZ3Wwr5XAaMREchgMhuOxeMmSMChvumJ9Kp3+9D/9kxAjVHjkOmehfQaDYRTOouAY/tVGahgMhmaierAABEBtre3tU6a9/PLOP/iDd/30Jz959tlfyON92mAwjBeMO8NgMEwgqD+XP2/Fhf/zrz/6x+9+OGT5re98y/OqjVtwA2erlQaDYTjjQnAoBIUqyhsYwfj6D4PBMLnRpR8VQCYbB7TnLz1/8apVT/3fn/z4xedvvPvOT3/+M/2D/QCsVCAAi4N5JRUAICIiSgbJNU/tiTwMBsPYMS4Eh8FgMJwIXigDwL5C6eYtd9/xli23bbnLD9SjX/saAyJSpVJJJVNIyMpYOAyGccfZFRxDvx3NHMNgMDQT1YNVALFk2g/U9BnzbDt13S13vfP+/2fNhk0f+vDHeg715o7m4vF4EAZSmqAOg2E8crYEx/D1KQaDwfA6VL1qf74Ugp1umW7HOhYuW3PN9bdV8+WvfPnRTCYDAEEQ6C31Ylpt4zCWDoNhPHDWR/2z3gCDwTABqPUUKvQRFMZBZDKtsxRkX3xp56133//+97w7n88rZUykBsP4xYz3BoNhwpCeNsVNJEqVoOfQoILU5Vfc9PQzz3/4f308O2Xmgw8+SETpdPpst9FgMIzMeIrhAAVoJigGg2FUCrl+3/NsN5lt6WppnXaod3D69DkXLF95+51bnnjiiV/96le+79e3JWAiri1yMRgMZx1j4TAYDBMHVsCSFSqw9rx2uL2ze8VFl9529/2PPf6dafPm333/vSEy0wjzFhPGYTCcdYzgMBgME4fQBxWikjKU8WS24IFIdbjt08+/7Ooc0293vfIPX/hMwS8rksJCEgAAsiF0NHoYDIYzjxEcBoNhYkAAwICqlmBDASigEC2fnKlz5rstnZfdcvtf/smfHckNFqrewYOHvSpHuQSNyDAYzjpnSnCM+ms3QRsGg+GEYUIGBAUoARXXor4omWrfeOV1P37m2Vmr1m2+/e6qJ6d2dbquSUVsMIwjxo+Fg8ZTYwwGw/hEABCAAgwBQ0AFIBRYitzW1lmJzLQNG6757W/3fO7zX0KCgXzpbLfWYDAc4wyO8UzD7Bmq4d9oG4PBYBgNYiBGBRAqDAAUAylwEBM7X+195+//+dM/2rrxyts+/N6/evQb37ZcJ5/PA4BFYJmuxWA425yRX+FxvKdmHazBYDgJCAAAlSIFqBQqAAK2Kx7PX7xi2/Z9l1x+/bbte1q6Fz785/+jPz/oxmPMXK76r7fbGqY/MhjGDiP7DQbDRKSh9BJbbiwzOOh3z1tuu2033vQWcuJMuOnKjXte22MLtG2798hR0RDRQQDYkPeH6w8wmsNgGDPOhOAYWnd+pJ8zk6muYhiJ490SjPrWIoXAaMaJcxUmRshk26pBmCuW4plWdFNb3v7gjAUXvrp/4KE//4ueI30V30uns6ECYhAAGAIw6D4pusPM/WMwjDXWmH8DHnOp6IEhojkDYO3Pk5MdbOLQJyPHFGqjDOVjrxM0Xnga9sQwGVBKFYvFTCZTLpcBIJZIACsJDKCYmZEASJEiht7DvWQJYCh5XsxNlDycd8Gb5y1a+60vfeKvP/bx97/vfW3ZluJguSWTAACSAAxAgARKAgkoeb5CSDvO2T5ig2EycxaWxWqJQGDq0RtGRo0iIoe93mgVM6ucJhu+7/u+n0qlCoVCIpFIJBL5QgBIiIhIgAKa5xsEAGwJX2JICbZbITbl8qtv/ewXvvL/PfZEsRzGEwlgADVkFsTMFS/QlLwTDfUwGAxvgDPZR4/yXbWwLzNaGAyGGkoppRQREVEintDiI56wa7YNrqXfiDav/Yegc4IJItd1E7HsoiUXZ1rmvvs9H/nPHz1bYZAW+CpUQrLQdhJARMexW1LJtmQy5jpmAmQwjB1mmDcYDOOOYrHoOI7jOACAdMyRBoQAwKMYwRAJAJiZmS3bst1kAKk3XXZj54yFd9321id/+OPDg5UyBIGQkpS2jiiEUqkkGSRDqVgCY3Q1GMaMsY/haOLYOlgFQEOXxRr1YzAYAABc1yWiSqXiuu5f/uVfVqtVz/NKAQFZCnX8DiESIgIiMwrWqkQBgFQSEYOqFzJkE20zF6wI0frhwMDbbrzjmz/6zqbLL2LAYqWciCccBAJIJJKoABHSiaQJCTMYxo4znPiriWGJvwwGgwHAtu1KpRKPx8MwvOaaa375y1++/PLLO3bsQERgUkMsHEM6EB2ZzkopBEbyURzqz3cvWHrpldd3rlxz++13/eujXz/qeVYi4cmgGASeYmJABgRAAFDApkMyGMaGM2HhOO5CkujHbcwbBoNhBDZs2NDf379t2zZFCcp2N72rEAiUqvcgurPhurmj98iR9o52aanZCxd1z5/+1L9/891/+BCRvfnGq2an0wFAtVK1nRhAPYwUwRg5DIYxYowFh14HWw8It1hJpSxQ0lg1DKPTpD1R1xbHY+uoFQICIoQEyKyIASEkgKbJLpsKoRMWKWU8HtcuFSJ66aWXtPfE6lhem8Aort8oqrbeTd8ntRWvAACM0D592v79e7umZBOJloG+4s23/17vof0PP/Cn/37z1R/94PvXLp4r7ZgCIAREOF5OZIPBcMqcyRiOsCUVP5KrhKEXS2aHZgMzGBo41u8T1PO1NEoJZrBsix0ReCVkFQR+Np0CFTgCpPQBIAgC27bhFDQHork7zyaWZQFAPB7XfxIRAIQACqBQKHS2TqtWFNWnLgoBGaAuSZGImYgtiZTzgkTn1Aqw74dOenopDLNTFr7jPR9//KtfvP2OP/z2E99cPC+lAEIFgtkiQEYZSoVgCaEUl8qleDxu2+KsnQiDYRIx5oJDp4AkBmBFKkjGyFaOsLES+sbKYXhdiKE2X20wbygppWTLIksox7Wq5UD5ed+r+OWcCn1EdF23Wq06Jo/ThGV0wVczazDXXbWj1GPSZVYUKkaQChUIBhRsC6WYrdve8sCOX/9q1fkXP//Sc0sWpMKAlSyn43HlBbG4IwCqFT8WdzKZ1GCukEgmLHFMc6Bx/xpDV66wAAAgAElEQVQMb4gzaOHAsGf/7inT57kCe48cTLakjIXDcHyItU++uYMPSTErgQSoYmgBVMCXLoctKTfu2OVyOZFIGBPFpIQQdb+hFGsJoIWodt0qBGJgiFRIKBi4HtgBTAoIgIgtYli55hI75l60Zt03nvjqxstWOJgIQcXjTrXiA0As7gCA5wXZlnQ+X8xkUmf6UA2GSceYCw51rMhF+OiXvwgUIyeFli1VACoY6283THiYhnjWsf6vbQMzeBWAEPwqAFPcZa/0zjuuyufzruO6rquUMaJNWkZc80ZQ0xzRa1SL7SAAUkjElgIKEQJJshwuWHZhe1fHXfe+6yMf/vN3vf2OBIiqlE7MIYYgkKViqaU1AwDJRPLMHZjBMHnB0xVY19nZWSwWpZTa+QoAgAqYyLaKg/lpM+f17D+EiSxLBIWABMiAOKyeisFQR9+ZejW1qt8nkeBABCFABUAKlASWtiWCajEZswkUADCzUiq6vVOpVBiGUsowDPW706ZNmz9//oc//OGVK1fGYjEZShLHRjFjIBmHhADulBXX3nFv16wF/cWQ3GwgKCQFAIIBWelLX4vkqK06UQDAQAoJ2AK2AIhYYVBOxqyB/oNTWuP5gf3/9tUv3nnP7f/nkx+KBVzq75vaNQUAfD8EgDAIE8nY2Tpkg2EycdosHIlEwvM8z/OCoG63QAYAhx0A6Dmwx4rFYy6HISjJAMovF0wGDsOo6DROiACEKACAtAJgUAgsFSgJxCBDEAAqAJZgCQhkRY7gYGfmarVKRLZtE5GuBLZnz55CofDEE08sX74cAIIwcIV7Bo/Q8EZQzMQAimuKsJbdpzHT+bGV9sS1DRQCAShQikIGUqCQua+UmzVnzsF9uzqnzLx+y31P/Pv3yvn3fvlTH21pbenr6+/oaLOEFcowkYyVS1WjOQyGU+e0CQ5RJ7JjMykA8Cp+MpP0fT/wSj6RClgphQxC6Mpt8nQ1wDCZ0JYJlAz1QuJyqGeFiCyikH2bCFExgyOkCqAWo4wI9aUNiCil1NYOvVsi0qU6+vr6pkyZotezGP/LxGH4laJhLxIwAVPNzkEAoIAUo1KoAJVlKwbYc2hfW/uUchDMmrP8wrXBv3/vu5f/+ppf/uT7HR1th3v7Oqd2SE/6AJb9ev1kPU5kWCMMBsMxTpvg2LVrl+/7jS4VLTiIsFIpu26cFbt2DACU1KOCQh41wtxggEanRrODoyY+lApIECgJIIGI/VAqm8FiQkQUQiBi5BxRSoVhqJQSQmiRAQDVatV1XW3zMEwAWAEARxaO43GsgDCxktpkVk/aUa1WE7GYIlGphn6pWir4S1esmzNz5hOPfHzq7MU/euaHi+bP6c8V21pSSqlQ+qN2lTz0iXHEGQyjc9piOEbZj2LWNozGMuKgZwI49BNDehAyP1zDiaCGPiEZSCEcIKxWq7ZlV6qVeCwOAMIyqRQmPAGA0778ihu3zJ5/fj5AtlIBWaFQACAUIDTEcDAhWwBArBN1KNBL9Kl2w+jXURu86h2RzVU3HPjSP/1dKuN85IPve8c9m7MO+EHRse1iuZRKtABQoZx3XddCgYjIAKCACYAAkQFUPcmp7sCMhcNgaGSsfxGEKJCwAUbk2ryThjxYpyXVfxoMJwTVHxaABUDCcpm5XC67ruv5XiKRCGVo1MbkgSUAMDONYOGg4QWbFNbURm0LRUKSkITKQmUBW3qtrH6E6OSq+Cd/9bfpqXP/9P/9s7c/8OBL23eRFfN8P5VoG8wPDOaPphMZlmEofQRVT0WmjKXWYDgRzkgejhHKthkMY0LVqx45cmTr1q1PP/307t2773rrXdOmT1u5cmU2mz3bTTOMEU2xoqOCr2fMZQCKJV89cOjSTdfsnDrl29/+wS+e/cUnP/ahu267IfSr2UQSANivWMCslAyUIAuoufgKGt+KwTAKZ7w8vcEwlrium06nbdv+4he/WCqVPM9LpVL33XffDTfccLabZjgdMGtHLeLp77sUUrq1A7MpF9Ta9S22bT/3w/+4711//v0nn/78//6khQAIUnqASgiUSvuLbQSqL8U9ZjFGNprDYGjmtNke8DRxutpjOGfJZDKXXXYZES1YsKC3t3fnzp2ZTOZsN8owRlDzE6ZaUMXJw0AFPyxJcThfLQT2Basvf+v9fzyj+/wvf/k7c+at/MEPngULLNu1Ykm0k8JJgBULQvBDDqRSigFqNe4RABhY1R4Gg0FjnB2GSUUQBEEQvPrqq/l8vrOzU0q5cuXKCy644Gy3yzAWDO2+3qjOaNyhFUvuOXBYilimY7qklJOaeu2Nb7321nsHSnT9TffceedDO1/LVzyohBCgCFFYjuM4lmULYenpEgNIAAlQi0kzGAwRxqVimGww85NPPomIUzunHj16dOnSpceS0RkmOvVADKQGkwbA6cgiSArhcH/u/FWr+w8f+e2u/dNbW2J2S39+cPF5Fy9beP7+vTt/8IN/P2/tpjlzp/7+g29/291b4i6qEASABSxYOaRELWsM6IAQGCm01WA4ZzGCwzCpsCwrCIInn3wyk8mEMozFYpdccklHR8fZbpfhNDHGS9jirrt///50LNHeNmVwcNC3rWxrZ973ZIXbZy9585YpVS9/+Mjez37pG//jQ3/TPWvagw88cNHKlRevWmCBYCkUAIJCVkAIwDojWKNXxVSaNZzLnLY8HMfh8OFDrW2ttuX6QTU3kOsf6F+yeJnnVQ72HJwxY4YlLCLhB14YBIgUj8fHuj2GSQ0NDAy0tbWtW7dOSpnP55PJ5K5du+bMmfPRj370+uuvr1QqROQ4jgkYmnAEAM6UZW/adPPi5WsrHAsgEZAVEgCAYIUMBApAEQMA4THLx4kaPxiBSQAAMSADskQG4tqfgAowBAgTcfL8QrGUk9XSCz/9Uc+eHVds2vSZ//0P82fEew6XOtuTKJWQARKjIMTI14JgBIfh3GbMLRx+UO3s7ASgn/z0v/75s//c3tG+aOGi9773vax460tbv/X4t5YuXVooFKZMmSpD6bqmmIXhVHn++edTqVQmk3nppZeWL19+/vnn27b97LPPvvnNb373u9/9B3/wB7NnzzZqY4Iypj4K5FpCMAAABGBgBAkkEerZ0y3AUAg7FAJjNonEJVe9OQbXvPbq7qWLL3j7A+/41N+/vxJCxqGwagmQCIKxXoZQyw4FYGSH4VxlzG98x4719vb+8+f+zzXXXHPTTTdetPYi3/c72jueeuqpbDb78U98/O///u+TyYSUfqlcIjIuHsMpEQTBCy+8UCqV9u/fHwTBihUr5s2b9/DDDy9YsAAAfvCDH3z3u9/VBWPB1E+ZgERK8QxIRm0bUQiSSCJJtAKyQnILHnjKkSKFTks8PbW1c9bCJSvu+5N3/+gnL5y/+oZt2/uKAbgxYblO2ZcDgyVtJUFghDE3JxsM45nTKTi4TuOLxVJ+cHDwoYce+qsP/NXWrS/t2LHjyquuXLdunecFSqof/9ePich1XUTKZDL5fO40tsdwDmLb9j/+4z8iomVZlmXNnDnzkksuuf7661taWjKZzL59+55++um9e/fqjSPlYZhQHKtBD43pvMYm3adeaqKw9pCAoSKfLaA42enBsuovKjvdGUDizZvftnj52hs33/0vX/n+oQIMVMFKOO2taWWsaQYDAJwuwdGkMyqVigylnj6GQbh48dLp06a/8sorQRBcedWVy5Yt27lzp7Bw3759be1tGy7ZkBscRERWnMm0nJb2GM5Zent78/l8KpXK5XJr1qxZtWrV4sWLU6mUXihbqVQcx0kmk2e7mYY3TEOecq7JDhwSpXHqi2NrICFSvRoDScSo+CywgjAEP0ByWyne8VpvvuDbldDpXrBy9forP/r3n/2z9//Nsy/+ruhBmaESAAnwAj8MAsRhhQgNhnOGMbFwCCEUK0QMguADf/UBAFh70drdu3evXrN6yeIltmU/+eSTMuQ3velNXVO72tvadUC4lKGU/mlsj+FcoMmi9sQTTzDz3LlzS6XSzTfffMkll8Tj8f/4j/84evTopk2b5s6d297eHgUmCzI1ViYeVC+6NlRbjJV3TBs4CEJCHyEkCIkV6dBUpqO5SoCxzhkL27q6S4GVK4Wz5i2/8rrNv/j1jrfc847/8f6/2d9bsl0AANdxhUUw9kH6BsO4ZaxiOIQQSqrt27d/8Ytf7Jza8cqOVy688MKL1l6UTCV37Njx0ku/7prWebDn4JKlSxYuWgjAiWQiHk/k84Uxao/hHOGnP/0pIra2tl544YXz5s0jIgD4yEc+ks1m58+fj4jpdDqRSGiZgqZMoGF0GiwooYCqgLINZZurNnsOKwuAwEok0kf7S0dzpX2HckokO2bM85VjxVs2bLrm9rfd+9wLWxcvOu+W2+5+7vkXAQGFAGyuvdJElJ9UP05ijY3BMO4ZE8HBzEQkldy6dWu14k+fNj2Xyy1btqx7Tncqmbrv/vtaWjOLFy0ezA1ee+21pWLJDzwAKJaKra2tY9EewySmycLx1FNPCSE8z2tpaZk/fz4zP/XUU88///zmzZvT6XQsFrv99tullPpTUsqz1GrDG0RrRKUUh7VrR8cbkU/neF1fH6uQFYIkUARq2tSpnucBUGtbx2Ch1HO430qkFDm5UlgK7dWXXvuuh//y0KDadNPdl137lr/+u88FCEE9F6mM4lIbH8SKOAoZMRgmE6fJ2YkIDeVULGEBgCDx0ksvxeNxzwuy2daFCxfblvvlL391wfxFuYH8vn0Hpk+f2dba0dLShiAE2jE30WAmNQ/zON6DGT0v0M99P9RPfv7z5w4fPqwXV8+ePXvu3Lnbt29/17veddttt9177707duzYvHnzeeedF4vFAICZLcs6A3loDKeIDCUAVKtVASAAAUBJGYQhchQ62qAqOLpJ3ojUYMXRQzJLZlbMjFLZUrlS2QwOkMUITIwU5AZ6W1vitqVkUMpkE8IRpWrJRxLxNuV2VqhtQLWtuOKuW971oWrLis/+2/Pt8za+48EPP/frg1WAnv4yAQSgfPYVBAoCBZJBMSgJSoJuBzCDbHiY+iyGiQuNxU5V/QcxdepUANi+ffusWbNisdjXvva1TCazY8cORDxw4EA6na5Wq8VicSzaYDhHYMXMHARBoVDQccozZ87ctWvXNddc893vfve666578MEH3/ve937jG99YuHDhunXrUqmUZdVWX5t6geMWLTLy+XwQBMISABCLxQhAKsVSEghCEXVfxPW4UR6TDg2YgC0F+kEKSAHUTRIhcogQAtYsFApAAUlwJMQCSPiYKnGKE12zlq+be/6GdVfc8t+7Dlx781tWb7iV4okBBR5jDJ26hKhbOlDVFt2gEcSGycOY/D4JiZmRcMOGDZVKBQCeffbZv/iLv/jJT34yc+ZMRMxkMq2trStXrkwmk/l8npD0p8aiMYZJj+u6tm3HYrHZs2d/6lOfGhgY6Ojo+NCHPvT000//8Ic/vP7663/3u99Nmzbt/vvvv/jii8MwZGYjNcY5fuADQDKRzOVyMpTValUpVQog9H0lFSHZtnMWm4f1zkqvZBnx3cjiW61WmTkRj8+dN2/OgsWXbrzmyjff0j5tzpsuvW5/T9lBrAAQWPUyswwgUfnEiiBEJZEV1ROekpEfhonMmCTaEpZQShHR6tWrH3vssT/6oz86fPjwtddee8EFF7z88surVq0qFou9vb2HDx/u7e11XXdq51T9QT0SjEWTDJMVxYqYdOKN6dOm//Ef/3F3d/dvf/tbx3Eymcxzzz3HzFLKe+65Z8b0GQBQqVZs2za32TgnHo8zc76Q//rXv/6v//qvlUolk8nkqxJUyCwR0SLy6yaAelVWNUYzqFPH9/1qteqXCxZXp7anuxcudxLpfLF6wcIL/ufH/vb3337HlAwKsAF0LtKQ+PihpQbDhER88IMfPC07wgagLh2IaMGCBVOnTk0kEvv27YvH4wsXLrzlllvi8Xi1Wl21atXq1asXLlxoWzYSAgOSmXcaThQhhL7Holf0/TN37tzFixfbtj1t2rQFCxYsXLhwzZo1bW1t+uZsUhvmfhu3aKXY0tLyi1/8IpvNZrPZshf29A7MnL90ytQ5IGJSCYWoSNWSjwMgEwAhI6BO6znmwQ5N91KtA2T9es0cYVk2IpIA13HiyUSgsOz5hWJ1/oKlU7sX/usXvvTpf/riqztfWzhvYWdnBhFz+UoynkAUfhiQJZSCUCkvCGzLaviu0Vqk6kXjmh7mPjecfcakeFvjPo8ePZpIJHp6eg4ePNjd3a1nmYVi4dVXX21paenq6orH4zKUSMiKkYaMHwbDaIx43+reX4ZSsbJtu1AoIGIymSwUCqlUqmmz4c8N44e+vr7WllZhCWZes2bNiy++CACADqSmrbvilqUXXB5SS1W6gaBA+EwhsgIgUhYAEQOgQj4TS0pHXFnNigGA66FsNf8LKgDw/Woi4apQzp7WdXDvvmq51JFt+e8Xnt360+8Hud5lK8/7kz99cPMdNzouVKvlzmSi0WhzYlVnRztk068azj5jLjgQsVAopNNpAMjn85lMRoayXCk7jmMJiwRF25thwHDijHjf6he1ZtUqVv/ZJDgaMXfauEWHPsTj8b6+vo6ODgCoSEi0zll3xS3LVmz0IeOp2PgUHFDXHENeQVAIwsKjfX2ZVJolzJ42IyhXioN5v5hvifHh/bt+8/KLe3ZvA39wyzvfdv8D965buRQD6TBbwmq6T48rOEZ0LRnBYTj7jLngyOfz6XQ6DEOllBACAJRSruv6vi9I6PhznZ/UCA7DiTPafauk0jeV7/uO4zBzLpdLJBKOM3KMobnTxiHRDEQpFQSBDghzXddjiGVrgsPjtM/xCSc4ACCRTFTKnvQDC9AhR4WhBZCJYWHgiGUrzy98/z+fyB/aDQ61ZBMf/LOH1q+5cO2KJaFOQVb3jUS3bV1H1I+UJQAw1KJWoWkrg+GsMiaC42RpsoicxZYYJjp6cBr+urnHJhbDrZ4AEAK0zFg+d8lF6y69uSyTASTGreAYDivmxm2VIgBggQxKSQxDgWw5aFkci9PhI/v/+ze/OvTabq+/V1ULSxcv+r173nbrDTe0t6UzSYEEAkAxEAEosAjCasmKJcGvgGUBasEx5Fdg7nnDeMAIDsM5gbnHJhbHFxzrL7ulGMRCTE0swXHsOSuIFAHr2GdLqTAIAymr8YQDSgKGRw/vc2Rpz67f7tyxXeYGAOSCBXN/7+677n7bnVPaUxYBEkAQxm1LBhViqFSr8VRSpyQDpsaTZ3IOGMYDRnAYDIZxx/EFx4bLbx30HEXpCS046gggQWgppbwwkDJIJGO2QCEQ2MsP7E+4nEkle/a+uv3l3+zesQ3yOScTn9c9/c7bbrjn7ru6uzodAASQsiqErRQDEDCpoWVphelWDeMAIzgMBsO44wQEh6VEOiAKLJ9r8mJCCg6FghUEkgURWEIQSaXCIAilbwuwHC/mIgQBQQgyKA/273ttz4E9r/Tt/G8n7Qrg6V1Tb7juquuu3LTyggvaW9sAgBgUAjAQDon5MDYOw1lnXAgOg8FgeF1CgJYZy+YuuWjDxlsHq06D4Ah1wfrxLDg0IweTMjICKwAhdBZcnaOdSSEFgCFBKJSK2yQDz/dK7BVtrv7yuZ/sfmkr2Dh3zqxiPmeBXHfRxTfdcP1FF120cN5MxVAoeMmY6ziAAAQgGcIwlFIlYg4AsDJ+FsOZxggOg8EwMdCCY87itRs23pr3XCXSPqJyQgnBxBUcoDUHhFBbXSIQdJkYUgBKIGCo05yH1UrCEelUPO5if+9+lNX8wNHdO7YPHj1yaP8eFfodbdlkjA7sfW3mzJnXXn3NW7a8ZcmiBV0dyRDAAvACRaBs2yIAzwuCIACAVCpxWs6DwXAijElqc4PBYBgjFLMetiOHC7OaiB4D3WIFgBBaXAVUwARgITi6VhyBpRABHEDFkmykwA8GjlYGVCBDa+bU+bNmLUsmp0m/orxqpZDbvXPb4d5XQs/fs3fff/7w6W/82+PlYnHBggWXX7r+Xb//jvb2bHtrKwAoCa5rO7YdSjnWxzi8sK0xq5zLGMFhMBgmErpivM5wxawQGSaFlbZWF5YVogJQBEqBEkooBGCyyLYsG8EFGTJLEU+/1tNvEbRkppKUtiCvWprevYhEJebAQF//nt27j7786wrDb3YdOpx/5tFv/BuE1cVLFm1Yv/6G669bsfL8RCLGwOIN5eg4JXdMdLFMtN65h3GpGAyGiUEA0Dpzycz5F264/LayTLCVqbKCGAeqSmCdFZfK6UErjFpPrEdyUvUnOnsH1m0FdOygFNRSgSliACYChfUC9wSQTLn5fK6/v6+U79v2wk+8woCU1a5pU6Qq9x092DV9yro1q6+/dNPyxUvnzZvnOA4yMLPrumQJGQTCtgEAlAzDAFHoBO36LSKBgo4f7K/bq5pebhxtRhIcBKeygODU07o37cFYY04zxsJhMBgmEswcrfJgHppuYoLCtYiNoegXFPIIrwJAbThEAF28DmvJvrRwIQGBL9ltTUyJJVqn3DZ/aaH/0P4De/bt33XgYJ9lZ8rS+e2u/bt/98hrO3YQ0aJFi9dffPHiJUtWrV7ZPXt2LBYXAKFSlVI5nU4zcxiGUkoO/HjcBSAZeGTVsvfiSJNWBGasy6WRj7rpA9x8fCBG/ewZYvzWH56gGMFhMBgmEroSAuiATT2NZj7J2M3JioK6USEMJXOAxLYdd9xYX++R9pZZb5q79ILyYE/v3txg3+5Xd2z9zfasxR3t07LZbJmtX27b+eSPfnbo0MFCobBk0YI1a9Zu3HTZovnz5s2ZQ0I4AsmymVkpAFAKCGVAFGkCbGwDAAAwMsBwC/pwgTjqtUMz3k8yjEvFYDBMDLRLZdqcCzZcfquHKbCzpSCw0qLiVyy0J7BL5TTBDYEVikNmRmJBwkaKo+WViqgkg0SSAKHnl/zKQF/PK7/Z+gIirr5wdXt72yuvbM/nBrPZ9IK584ql/KGD+w8cONh3YF/3ggVrVq1aMG/uNVdd3tXZOWf2bMexaloDGXmojMCaDATQtV2GXoXjWKSGvEOAJxthctpdKif1WcPrYwSHwWCYGNQFx/INl9/qYcYIjiZ/RRQwEbmcEC0AICaLhaz6FkEinvCqZeYQOLDsMAwPt7TEe/YfePbZZw/v3EmZVDadcS0CAK9SLRTzYbXS3jHFdd14PBG3sdx/SAWVwA+C0Fu0aNH5y89fsXLFwnnzV69eHYtbiFCtqmSCPA+QIR4DX3qIbJEAAFaMhHrRrwqrUkpd1DORTCKidgl5fpmILMtCIAAKQp9rxXKPuVeGxnY0XeLXVQyjCYjGyJjRtjHi41QxLhWDwWCY8Kh6EAgrJYERBaLFTMSkgFjYbiYRev6RgWLMdS0RtwiYqtkp7pH+AxjPXnPzHY7rHu7pOXrkKId+pVqN2Y7r2q5t5/P5UqmQGxzM5wcHDhdslIiIaB/oK/X+9IX/+8uXLRIvPvecm0rOmD5j1syZc+fMnTlz5szp01Pp2NqLl7sxkYonXNdN2C7UB/ZSyJZlO25SAChQfuD7QSUMZWumRQFLVixDJZVlCQUQBIElkMTrjvcj6suTisOY5Ar1rGMEh8FgmDBg3WtAiKo+2Z0McaOnQGTYUKhQKa6pDdJpzXWa88FCPpnMxNxYkhwdA+MzA8hdew9M6Wi303ahUOBq0No5t3PavGq5AqAEokAGUMn+ftsWMcd1HCuolD2vUi2XPa+SH8gd6u3d1dNTKhSwZboXhvuOVga9Q7sPFbKp3a7rhrKy7z2/UeChYmZeunhxW3v7zGnT29raOjs7Ozo6Zs6c2dne1tnZadl2LJ52ECuhz8xEZAmBCF4Y2kK4rgtAzFwz6YzV1VbDnoCxapxejOAwGAwThkZzunYHK3Wuz0prxVMAUCkAQERCAkQAjPKatra2VSrlouc7jgMQZUilGbPmV718qewDJYB5sOTbQrhuqpTPk0BbkEVWum06gALFnuLQspgSjtNqs+rsji2zKJSyUiqg4iAIcv0DR/v6PM873Nc30H84kCUoVcEB4bi2bR8pQa6a29dbsoWwSJQrxVK+WKkUDx3sYRWAVMBy2fnnJ+NuNtuSjMeJ4LwlS2+++ea1q5ZLHm3BCzXoAxpFNIx65hq2bPzXiIyxwggOg8EwYUDEcqUSyQ5E5HNYcETrUXXlFcB6f87Aes0wox5EA69kEaANwB4iAhADA6tC3gckBgcQEAFBAZDngeVmAUAR+kqCBOaw9o0iDlbthJcBqqECVBC3LAWWy/FUx7TZC5FY1KwQyvNLpXIxn89XKpUg9CrF8tFCziuXC31HWQYyCKX0hdve0dY2fdr01rZsR0dHSzolLMuvVIiElZx2NA+HByEdB4EgBCABAgQBE6KwIPRCJEYkREQGYCVVyCAtNwEgAUJgBhTAzGEogRFRISilJGPCSQCwBCVlCAoFkRAEAEopqSQhIhIRMTMiAbBSSkoJAEKIRuFrCo6eOEZwGAyGCUOThQOJJI95fu7xTz1LKXE9kgMV47FMF3Wvi/6vdg71uwRMwAygTyOphqUuCMggAEBqKYOKmjKMogJQKABQCYSahQBVWPsexHgiFZ+SaNU7V4BKqRBDlUnEIQxUEEoZlCvF/v7+A/v2v7yzp/eZX5CwAED5XiqT8Twv9D9F4F91xcXJuJVNpeKJ2KwZM9vb27LZrC1oyZLFyVSirbUtlRQAANIBFohKhQESIApABhCAAAKJFSMwMyAiMIAFIAEUCQFEyCClkkoBgCASwgKwPK9SLpez2WypXEqnsp7nAYBt22axxRvDCA6DwTBhaLBtUPQnEploPw2qJneAit449mdtxUd9yGQazQHB9YUwXMvBJRQg1PVLQ45yxQhIURbUKC2b0t9LVgwAQElAJWygOH315cYAACAASURBVFVYKbRC8hiFyCa62qZPW3i+BRwDGhzI5XI5v1rJ5/ODAwP79u0rH9r7H//1rG2BLZBItLe2tmayyWQcAA4e2FcqFgdy/X6p6MQSUzpaZ82a0dHRFk/EUql4S2smlUx1Tu3IZDIdHR2ZTGbWrFm26yaTSde1Sn6ZiGzLFiAqYcUiIrIsQQTAzEEYAkgiK5lMI4pkIi1DKYQAAKUUkXG7vBGM4DAYDIbJyxCpoZ8PtXBgff0wjzyIKqRooa0uklfPCVoP4AUIEQiUHPKNgIiIzMyBkswMiplR+aFU1WwqHVIgEZRSFgNKBAALEB1H2ql4W6w95kyVKhFzpFLlYi4M8sV839G+vnw+d+hgz75D+2SpBMRg28lEvGPGokQy1pLOxBw3mYyLmAMulhX6ubCvMPjSb/dUKpVCoVCplF7d80oQhEHgh4E3rasrnU53dLRl05npXV3JeCybzSbi8QXz5qdSqZaWllQqNW3atNbW1p6entbW1jAM0+k0ABQKBf3EcLIYwWEwGAznHNo4pD0D9bU/Dc4UQgDgyIaEOMQPcwyC+sJTSVFMSX0/XC+pggIQyGIAEACCZTVUAJbluDYRIupyMCzVYBCKRDpmW4TC80qDrAgEJFtinIqlp3bMVMQKEQXWYlNefvnX1XIlX8jlS6WdL+0GBBRAApilfoBigWhbVjqZymQTq9dtTMTdWDw+pb01mUjG4jFkFVQ99qrgy2KunDuaf+lXvy7k8319ffl8/siRI4986ZGrrrrKsW2MAwAMDg5ms9kxuCDnBEZwGAwGw+SFtQ2DAOpyYUgcBo9m2IggVgqpXltOwYhrOU4mbtISNlqolAr8IJQeM2s5YxGRIE8qVfak9OPxuK5Ch2xJtlEAsQIAAhXoBiAsXrFesVRKCmAEkKH0g2oQeIP5o4ODA4cP9eZyR0uFokQqKFEZ9Ht+8Zu2jlR7a9vuV/cV84VCseB7FRsxLBQSjh2Px13XTqfT6XRy7rwF6XRq+vSuPa/uOdx7eMaMGYHvA0A2my0Wi6lU6iQO2FDHCA6DwTDxQDb1zV+XyNLQJCkaTtyx4McRwjhq23E9OKPuK6HoQ/U916NSh2uXY7vF+rpWGQRhKIUg23XiwoF6IRxtVpEqlGEYSjtgRUwSABmIdcpUXSC3lkwWAFApQpdsYCJBggMP0RHC70i2TJ2F510oiMgiqpQrxVIpLOUsmS/l+w73Hj58tK/n4EEhrGxLur21Zf1V12YT8dbWbDKVLJfKR/uPHDzY89qe117a+quj/Uczmczvvf3uZ37wX6tWrcpm04lEYtRTbjguRnAYDIaJAQEQEykiAIKQwCcgglCxfgtqFdsBgBXBSac2b66l3vTt42BdAjZIh+PUYYXakZ9IAquGbbBx+8baKDJSHtB8Hmrl4kSTM2XY/onruT8AFILtCmaWQSX0ORIczCxVCAC2ZVuClKx5ZIiJWAGQPnxiQAZgEgLJsomVVCoMwkD6SGzbruM4tcAURhlyyAqFm8nGMJWwZKKrs23x0mWWsMqVCiFWq9VibuB3u14t5gb+f/bePM6q4sz/f6rq7Hfp2/QK3ewiCKKABhQGREdcEkcUlzFRs6GJGieLScYYRWI0bmg0iVnU0ZioE4njghoz6s98o2M0rhiMo6yydEPT+93OWsvvj6f7cumFRc1Iw3m/7ksvt8+pU1XnnKpPPfXUU23t23O5XF1d3aGHHnrMMcceduikWTNnGBoVXADAj2/9sWEYEQ+efPLJ2Gn0wxELjpiYmCFD4MpMtUOFILRomjQMQ8t0PM/TqElkT8RRSgihaKUnRbeQSiUJoUJwQpTv+5ZleZ6naXqflJXqqzd6ojtQAgCGbuiMBUFQKBRt2wqCQNO0VCrled6A+UwkkoVCPp/P19fXd3Z2JpOpjo72xsbGzs5OTdMwkIOUsjSbIKWUvVG6aJmq0JnuuV5NTU1zczMApBJpjbEwDA3DKAswCrCLfVUAACCMgkKhWFU1DAA4D6UUUcQ5jxKJsqmBMsEhhUgkEgBQLBYZob7vMaalUilCSFdHRzqdppRpGmvd3goA1XW1ruvieTsSUwAAGqVhGDq2bRnmli1bhg8fzoPQj0JlaFJJUBykoj15lQyIUkqBoGEEAEQpqnrkhWFYbj5vmKYS0jAMBkTTqe97hBBGwKBUgRKKEyEJMEIV1VgQhMlk0vf9IAiUUlXVVQpod3sH6JTpBjGMpG1HPKK2baeTtQ3DSzlv296azWZ//V9PFv7j3s6tH1gamTp1ypw5s1euenvcuPHr1q0ruH4iQXH3uo6ubFVlRSRUFEWWZRAJEeeMMqYRJYEL4XleOp0EAN8LLdsY8Gk5cIg3b4uJiRkaCICGMUcnKobPnHtMVX19e65optO+EE4iwwNOFe3d4gsDblIA4DwoukVDNwzDCCNfSllRUcG5cN1iKVnZa8zHGJ0lN8nyzTvy+bxSKuEk0ul04PlBEAjBCSFl+7PvhOe5FRUVUcRN0xSCZzKZ9vYOAKCECCk5j4SQrlvUNN00TV3faeBHFZSCYFqm3tTUVFNTk06niSDtHe2E0Jqamvb2digTGYQQRUkp0DuWo9T5YzwrzoWua1LyMAxN0ySEhJG/c65Ly1kVoUrXdACIeDSibnihWHCLLhe8o7VtxPARiWRi+/bthqan02kFkMvlAhH1KwJQBUEQSC7q6uo2bdqUchIdnZ21VVUejzzJJQghJZGyZ4UzACUkn8+CVAQjbSmFqoVKGoY8YduUsmKhgIXO5bqrq6vb29sZEEKJUkIKCQCUUaCEMS0IAieV8FzPsq1sZzcAZPNtusEJFZQypZSUAgAM3WCa5nku7fGfJQCghAzDELgn3e7KlL1+/QbgIYA0bYdzIaWglIkoHDl69BFHHHnzzTePGDEiYZuuHzqWIQWEYSildBKWkpDN5pyEYxhad1eOMmqapmn2FbsHDrHgiImJGQJIAAVgJ8eOGDnh6Pnzxx18SNZ1iWa0Z3NUM0FRNAxIpQBAlUUDy+W76+vqKKWEUNfNa7ruukXHSZQOoKonSjqu/exNQQHvmS8AACfh+L4vlDJNs1gsEEKiiAdB0BMpvB9usViRqch2Z13P0zRmWZbnekEQJJJJITjnQggOABjLkhLS1d1dygz+HwAIcKm8VMoGgK1bmjzfb2hoME0zm80WCgXYeXYDFUoulyv9Qsr+KrhwPZdHfFhVJpvN4qDfMDQueG/t4jkSa08KH6IAAEDToDsLhgGMApdWZcZ3PSgWwDCBC0BNphQwWpoZASgtnFUAAEwDIYBQyqim6YSSwPepqUtQIGRPJNCeq5Py76THdEMBIJOp6trcDLYNvg+mDoQkU6lCeztNOBTjgYLgnAMAo5RQGgUBBAFNJKTn2ZmMVygaphm6eVARaMSwbF3XMJyGbpka0zyvx0IjlaKEMMoMw9AZ8fPdIuK5bNfkQw5xXXfT5s1Eivr6+igKLcsKw7Czs+uQQw5x3WKx6IZhmLBtz/MM3agcVkkIeeedvx0z79j//u//VkqZpskFN4wDelYhFhwxMTFDABQco8ccHgiorKn3ONd0xxfCSaajSLhFHKxTKaQErnqnJxIJu7OrM5lIdnywARI2hCFLpUQYQtQ7It8Rvqrca4H09IWYDgEQHEwTpATfAykhlQJdhyCAwcNaa8kk931mmkIICAIwTcdx3LY2oBR0HRirHDYsCAK3WIQgSNfW4lnlGoIAp5oXcV9JmU6mIs67OjujYgEAqoaPoL1ZAwCGC1cJJZTgdwwuXjLRJBLJysrM+vVrt2zZooJg4tTDamtrc7kcGcAzRQLhqVTC9bIAkLQTqVTS9bwtW7Zs2bTZz7mfmj1zWNUw2zA7O7tM0wQAPwychNMnIcyYZdk8ingQrly5Ml/IewV/5tEz05kKAUopxaVQSvXYpRSljFGt5zuhRMlS7mgul7Ms57XXXgeA+cfOA4AoDA3bcosuAFBGlVS4qw6llFBiWVbkB4lk0vf8MAqLubzGtHwhv379WgwCVlFRkUqlAi4E51zJdDote01CgesRQjDIGA9D27allG6+8OKfngPNoiBPOeUzUcQ551JKKYVtOwCg65ppmtu3ttTU1Egpt7Vsa2xsTCaS7e3tnuedf/75Z599tmEYhAA5gN0/YsERExMzBMDeYMLEQ5uaW8MwAk0HaoAfgp0ALwDKevbuUgqUhPJ454YGQUAyFSqXg6QDrgtCQLnTn+pVG5Tu+E7IDrUBAIJDIgG5TtBMsB2IQhy1A/SGmugDoUAJCAFCAGMkmVRRBGEEtgWeb2Qqwny+R9D0RKoosxDs0EAceF6rsKSU0nWpZUkhE4lEFEWh75eOJGW+nGie6ZnRgB1/VUoKIWRPeVTNsPq2zhZTc0SPhQOvSwF6opUDkb2xvoAo0DRCCAkjKQEaaqtaWjt0RmzDDMNQEWAaUwBCSkVASKnkjl5FSKhI2oWCV1WVyWazlmUlk4mWlnaqEyUVV6BUT30r0vsF1x8RDOPRkw5jJJlMFApFKVUmUxkEge97UigsJGFMKQkCDSoEKwJk7/0RYOhGJpNpbW21LMv3/bq6us7OziiKACjVNMKokBKA99x3ooFSICVIBZQAoSAESKGbtm1buVyuN4SJKk2oMcYoJVHEE5adL2QN3aKMEkIYZYViIZVM3bzs5i996UuGrnueb9tW+WNyQBELjpiYmCEA9n7HzD9GAe3OFV555VVDpzqFnAemCWyQhtsLwDAgCMAwoLq63uvuHnnQQZvW/D0a+PCdVlmUt4xcwRNP/PeXv/yl2tral19+OZ1OGAwCDtogBnKKZhFAvQEUoDsf/PjWHy9f/lA6nX788cdra6so7enXALu5Xr2xw+hAAFQAREohDd1obmqaNGliEESZTEVnW8cgJejXnvfE3iAA7Plnnv7yly9QUv31r68NH15PDH3gdTwKlIg4F0AkpZSZltvV9dhjj918882hH7zzziollW5bKoiIbQMB4Xks4fRmuEfg9BaBAOdBEHz9G99Yv37966+9tnHTpsqaGlAKlJI9Fg4COwkOKQkQQlXPUiMAAKnEW2+9NW/u/ETS/mDDJsuyTMMMoxDdU9AnQwgFAIyynkSUQi9ixiyQorOz4777fnP33XdVV1c/8cQTyWRSN23JwyCKuODJRBIAJAEM0S4BFCglFaGEAJFSCsFPPvkzrutt2bJl7dq1jFEpFet97BhjhADnwtBYtjtv2ZbGtCiK0KTBhVBKYcakkpRQumMl8CC3cT/lgJ5PiomJGSrgMtempo3jx49f/f7KhEk5F5QyJkImjF6PP4DefgtbcgGRQTRFAgOMlAkeCdxsCwHQ+vW0ChTsCNq9w6Wj568hH5aiSUPkOpqGVybcwPW8SDcMTQ3sAEgIIUCIkkRySqhO9dqU2bJldU3G3LRx9djhVZEMdWIAUbLHR5QMGFdkW3Pr8IZGNH6MrmuIipFjGlWJzGALfnu6+7KU0BHCLRRM01SG4QkhlaofPTLiIvICTWNlUTpob+YV1XRgOkCP2UVPZoiVbO8uep4HRkI3aZAPTTvhFj0AcJIJkKAIEADZYx/asfU71Q1dN6rqR77z/npPslRVbSSAMaIAJGElwQGAp/fcCAIE97MFIgCAMl2BlhlW1TB8hJLE1C0ATSNAezd5IVAKFtIbcL03UotSilCWSFVk8wWhyOq16yuraqSUkgtKdds2AEChw2lvgalSEhRIRRQqDgKSdLZ1jB8//o033jBNQwhBaSlCKxACtNdP2TAMXdO54ExDjQFMMcp6Ar/rGoNBjGIHArHgiImJGTIkElZNbdWwTCbw8qZpe0U3aTm+7ysc6RLV479AKOoOW6cAxNY0QmFM4/DWlu0jaqoBBO0bMQJ7J4VTMgxAKVUuOEzTmTxp4ozph//lL3/xilnTMGzHlkLIMBg4oz16Q0rOTcdRMgKA6oq0SUm+qxNAcc/THaJ6TRyK0h0b4ZYti62troNI+r7HuUg6SYOaPBCmbgJu0lYSFr2zEqrXwtGzgUrvAaaTzOVyQciJpumESQCmMUnAYAOusiESQAgAAEmBC4iiCCi1U0lBQDOp6/NQcYMaToUNAEKBUiAJUNKjm0r5EgDdRS+ZsD0eFqPASiYipaKIp5mOYcgVI+WFYAAKVwkBKEIoMOiRFDBixEjfC9euWZ9IpngkoiiyLAsILZuBojsSUj3qEwiEoQAA0zQdJ2kYVi5XkAKKrpdKJqQQPVKDlnacJ4AbAipQqF8p4GM1eszopqamMWNGZ7O5dDoNOAVXNntFKYkiYTsmAHh5L5lMSgFFt5hKJQCgdzKBHLBqAwaPBhMTExOzT0EBqMHsfFeBKGrbKQBq2hYwZSVMw9INS9ctUzMNqhmEaYpQRShuiC4VEYJ/4UuLAcCPuOu6UgophVLoqdDTEwBQCpQBY8A0omlEL32UEpWZYRdf9LWf/ORnmmkBZVIBYTrTTc2wNMPSTbv8oxkW003dtC0nqQDDSdCbb/nxxEOmmE5CSmEnKhRQIIwwnTAdCOs9TFOEYmEBGNMNYMxKJJPpikCor1/2bSdd4YYR0B3du6KgCCgCkoCiBD+9B/R+KLEc+5jjjp17zFwBQoKKlOCSc4BBP4pzxTmAwcByjNMWLZz+qen4C9VJJu2EoAKpAqm4UpKAIiAAOEAEEAIEAAGAUMpxLKnUDTdeP3r0yBEN9WEUAJERQIR7w/e6aqje77R3Qqq8c/I8r3F448knftq2E4zqVDMsxwZKFJ6qSg9I2cPCeoSPYWi4NuTyy787deqUZNJRSiQStlQSKCGMEcaAEqxDhVITlCI91g4lQVFguvbg735XO7y+UCikUilKe7yAsHYxxhwhoOs98qgik2IaoQxQbUDPfjSoZXZ8DjRiC0dMTMxQoacb3u32HwOg2NFHz7n11lurqqo0zSy5VJb9F/p93+EP4fu+46Tmzz/O931QvT0bKT994OUqJQ9U5F//9bOHHnoYpZrggg7meAKg+qdGgDD6LwtPbRg5IplKKth52Wv/6wJAyTgAwIByoRK29YXPnTdz+pFUKgqkd03IQKdLiXZ/JqWi1Hddy7LOPmPRvH+aowGEPALGaNlQnQDp7z0CO4b1AABfPPfc1tbWCssSu4mSOgCaplFKzznnnGnTpvW9RJn7y2658MILjzrqKKaxIAh0fe/iYZimefHFF5944ok6Ix/CSDFIxJYDi9hpNCYmZsgwY8aMESNGvPHGGy0tLbgMkpT1NuXfVSmcRi9CCCnljrhehLJBO9wdKSBBEFiWJbhgGsNA16VYYX2uu2t83w/DMJlMCiG0wTxOd7BTvyalYMzAUCL6TpFS6aDao/Q7IyqMiKFDJFzP7QlDsov43FIqicVkQAgPQ8023VxeSZXIpLkXaKbZM+mCDFYD5f2LzhSGEC13Vh2s5nb+HYOr5vN50zSx3ga777smiiJd19FxBJ+fXacgy/IhpWKMBEFkm/pgguPAs1nsHXH9xMTEDBmUUhgR/EOcq+u6aZqMsiAIGGOE7sUw27IsAAijsLyX+hAQQtLpdKFQwG6vD71Hyd4PAJGlD/aJjmP3sYzspDZUvykK/AQRoVqYd4ExJ50CqQY0SJSnQ3q2LAFQoNkmhMJJpyzdgCDSNF14PkgJhCohAM0be/KRSkZiJx3V54Dy38vQNE1wkUqlBou0toegWPE8L4oGW6g0KOhJY5u6iAfpH5Z4SiUmJmbIUN4373qM29/a0RMYitFkMrknY+L+KaDsKO+ry6XPnqRpGIZSKpVKYWZw4WWf1AZLhlKKsSIY0wafBhroZ6mAaQBgWBYICbwsSsYu8kx6o4gqBZwCAESSGQZIAUoxXQclgREZSKYRGEwClqfPJWEaY/2uuzvlhwYJoURPpAzaEwYDSpHI+z0Pu07Ntu09ObIPGOCL9xOcez6hExMLjpiYmCEDmjd2tgcMVTAcaikoKgAMYHQp91YZrGcj5bHC+pxe9qNSA6mU0nri3eR1hyzQNCU4RrkgCkCjA/qc7IbypSkDnrvzj0opegD6WO53xIIjJiZmP2fP5/j3hF04e+45hBCgfS0cZCcv1AFOGjy5vj/Ist9RdSjZaxvoCVex6zrpEQKqR+BJpmkAIIWkjADTpJASQIpQM/WotGvah6JPPgZMBatrx/dPgtiS8dGJBUdMTMxQhXOu63rJFXTIsXs/kv7rOQbTFn3O6/ddloJxlQVG2y2SABAihAKlKCGKEi4lo5QwCgBBGJi6ESrBmPaxWJxIWXFig8b+Ryw4YmJihgxCiCiKXNflnGuaJoTQdV0IMZg/R38/jA8nTfqn0//3vUoH/RLK42wOnCaBvt6d5bMk/RhwBzUCRClgvStXcV+30jQLDDR2LxWRAVEKNM1Q6D1KSPmlk7YjAUzNKD9lT9iraiOEKAk7Lly+v91eqpK9vV/lq5jKA3bF0zsfjrjaYmJihgyMsUQiIYRgjCmlKKU4uz9EXTo+dsPMHriS7n2aO4cSiYn50MQWjpiYmCFDsVg0DKOurk5JJZXUdT2KIk3T9nbVyUfhY0mntLxi96nt7u/lo0a5y8N3WhqCxw/mh1r2e/lGbLvgY6ndwUbA+4JFYV/Iw1AnrsKYmJghw7TDp3V1dQVBUCgWAADDNw1RBw745Pwf94qhkMeYoUEsOGJiYoYMNy+7uba21nEc27ZxnSTOrXzS+drXIWXxv2nc7sd8QsRTKjExMUOG8ePHn3HGGbNmzTIMQ0oppWQD73caExOzzxHvpRITEzNkCIJASmnoBtNY/71UkCExT/EPYk/irvfx+diniE0v+zex4IiJiRkaYAgqQghuhMEoI5QcyIJDyb6ejIMJCKV2mlLZ7fGfFLHg2L+JBUdMTMyQ5KPEwxjquEXfsizc8TyKBG5jK6U0Tb0rm6+sSAEAl0ApcC4AoHziaV+uqlhw7N/EgiMmJmYI81HCeQ1dBFdCCsPQAOCaa66Noui8884bN25cJETCNguuf/vtt3d3d5199r82NIxoGF5fvsHpvlxVseDYv4mdRmNiYoYwB5rUQCglGAZz/foPbr3lVgDQNO2cc84ZO36cUJDNdt92221SCqXUpz/9mYbh9QdkJcXsc8SCMiYmJmaIwYVgGoki8eYbbxbdopDihRde6OrqAgAp1d/+tqq7u1vX9f/5n5dctxhE/JPOb0wMQGzhiImJiRlyMMqUBErofb+5T0pemalsbGycdvg09Kh99NFHJA/T6bSuawcfPNHUtXLn0H3ZaTRm/ya2cMTExMQMMSiDQrHY2dX5yiuv2HZC07Xj//l4yzIpZYzRxx9f4STT7e3t//RPcw86aLzrh590fmNiAGLBERMTEzPkiCKhlHr22WeLhaJjO2PHjp05a2YYRUqpP/7xv7u6uizLqq6u/qd/msPIAermErMPEk+pxMTExAwZMPaGrjNdT957770RD7jgs2bOGlY5zDT1guv/5je/AYC6+rqphx46fPiIIOKGoX/SuY6JAYgFR0xMTMxQQUmQUkVBRBl1i+6bb77JmGGa5sxZs2pra4Igivzg+WefMzStfXvrIWdMmjpliowEEEa1gY0csYk75v+S+HmLiYmJGQL4XhhxTimxbMMwtEcfe5QQUl9XN2XKlKqqYYSCaeq/uvNXrucNrx9uWdbkQyYTQmzHDILgk857TAxALDhiYmJihhz5fPHhhx/2PK95a1NDQ0NFRcWLL770+c9/8bnnnpNSFIqFcWPH/W3V37q7uoMgchLWJ53fmBiAWHDExMTE7PsoCZZtaEzjQvhemEol1q5dGwQegHr44YcXLlx49913f/nLXy4WipSyYrG4bt26KVOmbN68uaOjQ/A4nHTMPkEsOGJiYmL2XTw3AAApFeoGSqhlG9dcc+2MGTMOPfQw206EYThm9Ji6urrXXnvt0ksvnTbtcKXUuHHjtjZvra2trcxUchEH/orZJ4idRmNiYmL2UaQApjEAkEoGQZBwHEKI74XLH1p+5KeO/MynP0Mo2bp167hx4w4/7PDa2trp06cPHzH85Zdf3r59+4knnggAtmOGYSw4YvYJYsERExMTsy8ipVSKGIYWhlxjGqMMN6O/7fbb3l/9/siRIxcuXDhn9hzd0JVSlmU5tkMZzD569qxZs1KpRD5fdGwHI3Z80kWJiQGIBUdMTEzMvgmlNBKCARNc6JpmOyYA/P2d/73tttsoZUW3OHLkyGFVwwAAt40tnUUpBYBUKgEADBhu8xYT84kTC46YmJiYfRRGGQBYlon/dIt+y/YW3/PT6dTkyZN5xAFA1zRVtieKaRok9s2L2SeJH8yYmJiYfRRCoCQmBFe2bU04aMKiMxYNHz583Lhx9cPrUZHExAwJSDy9FxMTE7NvUm664ELoOgOAV1559c9//vNxxx03Y8YMjQ0gOGILR8y+SSw4YmJiYvZRygUHoRCGHH1Is9lsdVUVoRBFor/miAVHzL5JLDhiYmJihhKoQrDlVkpROvA+KbHsiNnXiB/JmAMd1Nyx8j5gUWV80nnZa+Kt52OGEPvEKpXy9/wAeX9KRd5fyzuE7qlSatc5HEJlifmI7E/3us90zP5KeTFhvy7pfsAnf3OklLs/aP9iSAyk+mRySOT5w6FkbOE4oBnSFo6hiBR7emS5mBhwRxh1wPUeQ5uPTXD4vl8oFAAgiiJZRhRFuVxOKeW6bv8Xu729XYidnr7yY6IowgRhv2gUBBdBEPSph390uVzXLW1OLbgoffByeIPCMMzn877vQ1k9Q1kfXPrnHuazz/F4B6H3Vu4CfISCIBBcuK4ruMBMYhE+lrrqf67cudESXIRhGARBW1sbZub/8n7FfBTw+QGAKIrw4RkMbJGCINjFgGefvdc4iCek5yOlIhSUAkJBShVGEaGAv5QyruROfbNb9AdMWXAVBNjqCgDA71IABkcPQx4EEcoFKT5MwUYyTwAAIABJREFUZ4/XFVJgfvrkakBKlxNStGxrLf0oBUSRkLLvzdmTNPuDJcUvSvakL7gSXEWRiCJRXvYo2ov8x5TzsTmNKqXCMCSEGIbR/09onCx/t4vFYiqVAoAoijRt4JmdXC5XUVFRSmRHpoeaqbOU+TAMdV0v/1N5Wf4R5YqiSAhBCDFNs8/vmBPf9xljuq7n83ld18sPKxQKiUQCoxbuVf330SuUUpQafcre5xRCiJQSD6aEMo2hBjJNk5C+D+pHryullO/7tm2HYWgYhuBCSKFpWhAE2G/V1NTgkeXP7T/6fsV8aPL5fCqVElwwjYVhCAC6rg92j/B5E1wQStDEhVA28BhsX7vX5f1cd3dWN/Rk0sl25wEglUqhYsYGtjzjqFSiSPCIG4bBNFJubBBS+L5PCLEtW0jBKJNKUkK54Kapu0XfSVhKAqEQBFEURcmks1d5lgK44IahCa4I2VGjezIJ0t7eWTVsWMS5rmmEQkdHV1VVJQD0SapPSfcK1BymqWPd9k8hDLngQtM1XWcHyHTVx87H5sMRRdGbb775yCOPSCld1y39TilljEVRRClFmwf+bprmcccdt2jRIl3XB2vQ77///s7OzunTpx977LGJROLjyur/PYSQt99++3e/+10QBEuWLMlUZACAUAK9vfI/rjl7//33H3300Ww2CwDYfyOJREIIceSRR5566qlBENi2bZqmYRjl/fq9995bLBYnT558wgkn2La9V9dVSu1ox/fghSwUCi+++OJf/vKXRCJxxRVXBEEgfHHfffetW7du9uzZp5122i7Eyt7ieV4QBJlMxrIsKBNGqJVXrVq1fPlyXddvuukm7JawIP839yvmw1EoFHRdF1xcteSqbdu2TZw4ccGCBUceeeRgx//5z39esWIFpfT666/XtR2P1lAc2FQOq5ACujqzN910EwBccMEFB00Yh1u+9QG7SV1nLdtabr311nw+Xz7AYBrTdb1qWFVNTc2JJ544esxIKhmhwLQetYE645VXXnn55ZeH1w//ylcv2Kt8CikMQwuCSNf0PaxaKeCvf/3rE088kUqlrrjiCsPQoki88eobDzzwQE1NzcUXXVxdXa2UAigfBuxVpgZGKZBcSSV7DFxSKaV+8tOfBEHwmU9/5rDDD9MHGSTH7IbBzMV7i5Ty/vvvTyaTfdKnlOKPlmWZZRBCLrnkEillGIaijPLpmFmzZgHAl770JUy/BP6zTwbw3A+R7VKagx2wt2kOyB//+Efbtgkhzc3NPOI84qUi84jvOg/9EULs4ZEPPvggGjB0XWc7QylFk8YFF1yQz+e7urpyuVz5vTjyyCMZY5/73OdUv/rvT5+7g+XCTxiGeEwYhoOlEIbhhRdeaJrmrFmz8vm8UopH/KyzzmKMLV68eNu2ba7ryp3Z8+rqT3t7u1Kqq6tLKeV5HmYA/3nvvfcCANpUMBt97lfpKd2TCw142MdShJhywjDkEfc8b9KkSaZp6rr+ta99rU8Nl9f5f/3Xf6Hprrm5OQxDPB3vcule7/lt2vNb+bHcdCmU4EqKng+PpFJq4web0+kMAPzx6WeUUm7RxxmB0mGlj+Bq86Ym28YhHN35AwBg2wnbTixcePq6dRuUUoIrpZTvh/jl0ku/DgDz5x9XnuZg+SzHcwOlVLHg4Z9KmRksHTzyt795wLYTlGq+HyqlgiB65pnnDN0ihIUhx+JjScvLu7f1iYljMfvXGH5M0wagK1Y8ySPZJ8/9r7jrPAxY3t3W537Ax2nhcBxn9uzZnHPbtoMgcBwnCIK//OUvnHPG2IIFC/L5fOn40aNHH3rooYQQIQQrC1wTRZFhGGjwT6fTtm0PGzYMLZ94QMm6js4i0DsQYZQRtsPwPuDoBF0WAEBjGiZYOqz/iVhBH+MoB70BKisre9KXCgCYxoQUYRiWhhqlQu3i0kKIYrHo2A6hBNvNAYsAALW1tahOZsyYUVNTU2pAt2/fHkXRBx98QCldsWLFgw8+uGnTpkwmUz7zrWkayhTYuVqklOXZK78LpWysWbNm/vz5jLEXX3xxzOgxeAdLNxqP8X3fsiw8EV1bGGOJRMJxHJzmQJMM57y+vh7dOPBg9dF8OAghVVVVURTdfPPNDzzwwPHHH3/vvfdqmpbJZPCAyspKtNJ5nlc+BFRSSSU1TdvDp0L1Ti3tuq6Gykh6XwYNpWiywjfigQceOOqoo8477zzBBbrpMMZKrUdXVxc+xiXTqVSy51GnBF8ZRtmAdoI+KKWkkFxwQoimaX3ex123J0qpIAjCMEyn03tY0tIkSOklkEoSwSoqKopFFwASyQQAUEYHm2ggAGEUhmEEQOvq6qZPnw4Apml6rhcEQXd3999WvV1ZOez1114/4ogjVqxYMWvmLDT+UQZKglt00aJQ/hZKrggh5WHWe4KFyB0zDkqpIIg++7nPvvXWW0uuWoIGEiV2pIOnKwlSKui9j5Zt4c3VmFaqMcMwDMPAuKuMktIpH/pV0piGbiuU0tdef33hwoWMsr+t+tuwymGlY4LAY8woFArYSfVUaW/sedyVlxCCweZ3kZHSdIxSwCNBCe3f2O+vUzYfm+AwDGPRokXHHntsZWWl4CIIewTHwoULX3jhhVGjRt19992lvhYAisWipmlSStM0y/sPvFucc6XUN77xjbPOOuuwww4Lox39Md5UQkjJxo6dWX9Xg/5QSvFyUsgeg3/vvezTJeDBH2NPsH37dimlruthGBp678NKCQAwrW+7pqQirO+lVZljBCXUsZ3SWbsodXtbOwCkUqmLL774s5/9LGOs3Mnm3XffvXrJ1Y8+9iil9Nxzz12+fHm5jWrp0qUdHR1jx47tkw0lFdV2vASU0v6NaVNTU2tr67Bhw/oYvUqtMCHEtu1SzisqKi688MK5c+eWPyR9QCcP6G2JPhyccwDQdV0ptWHDhu7u7lwu53ke/tWyrPnz599xxx3d3d1SSs65oRs7xC4lXsHDvgHdTXZ7uT7VMmBdxXx0stlsMpEECt3d3Z7nOY6TzWavvfbaOXPmjBkzhhEGO78mHR0dhJBkMlkSwdjuAwAhuxHxJfAJAQBd103NLP+9dMpu2xNd0xlj6HrS509KKSmgT0dOGUgx6FpuSjVKqJIQBIGxB7OQ3/3Ody+44IJ0OiWlYhpBfbBlc/O11137H//xH0qJM884c9OmTfl8viKTAgBC4Vvf+tbJnz5Z1/Ty+gyCQDd0WjZ0JBSk2KnfpYwqqba3bN+6dev21u1RJHSdUbZj+YngwDRSdF1Gme2YTDMAYNrh02677bauzq6Sx4nneq7nAoDnBpZloocswxlPCVKqXY3VBqJP8+n7fi6XY5SVz0EDwP33P6hr+sxZM8und5UCQoBQ0HtvUrnG2sUV0eG3PEpseTb21+bhYxMc2Ww2nU6nU+kgCEzTtKgFve5+uIClrq6ufPScTqWZxvp7jEolecCxK/r0pz/NOdc0jXOupCrZJHCYIoUUUgRBUHJ13O3AF9t6AMB3u/TPckrp48AIpx4+ev2MHTsWfVn6jJgV6Wk4oigqFos4zaFpGt2d44NUMvIjQC8ZylAl9z8skUwYhhEEwaRJk9APA91IsZ2dNHHSI48+8sUvfvGhhx567rnnHnrooQsu2DEve8IJJ1BKBReFQqGkGyiliqgoijjnQghN0wzDwMa0vDLT6bRSKpfL5fP56qpqLGx5JrHFLBQKUspkIsk0Nm3atCNmHOH5XimR/iVCO8feOpSUI4TACjFNc/jw4cViES1PjDG8NWPHjh0xYgTqCXS7K/cxQrURRVEQBLZl73oEjPnnnGNd6bpuGEbpAfvQRYjpj23bRbdoGEYikWCMpVIpIcSWLVvuuuuuK6+8sv9Ub0NDg1Iqn8+XVsmVHk5sW6SSHR0dpmniXPCedGGu66JYQce1nmR32Z5gskIIAQMIDhz4CikiLgUXXPCe9oENamOTkhfdIqGQTvctcp+U8b9c8IpMSgro6u6qzFRGUWTZRnV19a9++atTTz114cKF7R2tX1785QcfeBAA8vkiIeTgiQcfOnWy74XlCZZXUT5f1Jim6ZrGWHnXq6TSdT1fyEvJozDSdYaao3QA0wgAlPuiKgkTDh4/4eDxACAFUAaa0pjG0NqBNYa+qACgMY2yHoPHnvT6u8DzvP4C8bzzPlfyUS29vqg2UOgIKXq8SvdgRz1MAa01WHC1x6uFhy4fm7EGOxjo7RJQ+AsuPM8rDUwJJaVPGIV4WJ+bunbt2vXr17uu63keOvf5vq/remmUiVcJw7Cjs6OpqWnDhg1tbW2e5+16FRxCCHnnnXfWr1/f2tqKjgIDHtbV1dXc3Lx6zepVq1btrdoYME0p5fbt27Fp67M0FIufz+e3bNmyZs2arVu3FovFAYcv2HJhc8YF931/y5Yt7e3tKMMHa4AIIWEY+r6fz+cFF2hlsSwLs4Gm5mXLlk2dOhUALrvssvJzsexMY9hel/pdQkgQBNu2bVu7dm1zc3NHRwc6Z5Sf6zgO9JqUBqurKIq6urra2tq6ursw/dK1BqSpqen9999///33m5qaBjumnPK5w9IVCSGlFTpNTU2EEMaYaZimaXqeh6sbLMtijKHZo8/9ElysX7/+rbfeWrNmTXe2u/ypKzdBlcDLtbW1bdy4saWlpbOzEz1a9iT/MXsOISSdTuMMnRDi/PPPP+usszzPu/HGG9esWRNFUcmIhXR0dACAZVn4kJfMG4CPZXfXtm3b1q9fj85Dg71clFLDMHRd55z7vt/U1NTe3l4+94cM1p7g0uv1G9a/++67ADBgC0YZaIy5Rbezq/O9997b2rzVLbqDxTIHAEO3CCGlBZwDoiQaCwX0Pq5CCsd2mEawC0fn8Xnz5p155pkAdMWKFaveWRVFIpVKJJOOYWgAYJo7rUZkGqEMgiDK5Qrr1q3b1rItCII+XT4XnGmEMWaaNq4GKq3YRwRXqGOy3fm33161ZvU6nCgpFFwlAd9NXOiHVmGNaRHnuVyuubl57dq1ra2t+XwRpcZHURv4VDDK+rRdnhtgMaVUpduLr3IYRR0dHU1NTdi5lBbZ7pa/rfrb2nVrcXnRAcGuXTw+OieffDIhBIeM/R0/N2/ePH78+OnTp3d2dr777ruzZ8/GkUEQBDziixcvPuigg374wx8qpUq+h2EY/uIXvzj88MOht5UBgEwms+j0RVu2bFFKtbW1la6+YMGCCRMmPPPMM9ls9vLLLyeE4DrbioqKE088ceXKlSWXQLyEUurFF1888sgj0XehoqIilUrddtttYRheffXV06ZN+9GPfoRHSilPOeWUQw455JZbbikvL87+3n333ePGjVuwYAH+yCP+2GOPYYWji6JSKpfL8Yhv3Ljxa1/7GqW0vr4e+znG2KhRo5YuXep5XsnFLAzDO+644+CDD77kkkuUUnfeeScAMMauvvrqIAjwyAEd3PC6lNI//elP6A1X+lPpFCHEbbfdhlJm+fLlmDchxKLTF40fP/66667DQB1YUS0tLeeff34qlUIfWACoqqr6yle+smnTJkx21apVRxxxxIgRI7BTb2homDRp0l133YVX/M53vjNp0qR7771XSvn5z38ebdr333+/UuqGG24YO3bsotMXYSallAsXLgSAM844w3Xd8847r6chYAwAjjrqqOeff74U1EQIEYbh8ccf39jYeNNNN2Ghyp+3n/3sZ7NmzVqwYAHaM6688srq6uqRI0cCQCqVmj59+ogRI4rFopTyueeemz59+vjx413XFUK0tbWFYdjd3R0EwU033VRfX4/LZU3TpJTOnz//1VdfxQzg8yOEuPfee2traxcvXqyUevDBBydMmIAD03Q6ret66YEJgqBYLJZchmM30o9C6cFubGy0bfvf/u3f1q5dO3LkSMMwGhsbVe87W+LHP/5xbW2tYRgbN27EE3F4EwTB7bff3tjYWFIGhJDjjjvuhRdeUErhYAAboldeeWX69OknnXSS53lPP/00zjxOmTJFKeW67lFHHTVr1qxnnnnmjTfemD17dklGV1RU/OAHP1BK5XK5iy66yHEcfJ51XV90+qKVK1diZvClxmf1G1//VmPjKF0zAcBxkoZuVVfVLrlqaWdHtxQqDHkuVygWvG1bt+Ml/vj0M0EQBUE0WF1JoTZ+sBmAEsJuvPFmpVQY8j7HdHVmeSTXrduAdXDdtdeXXDJvu+0nEyZMPPOMs4MgKrk3bvxg8y3LfnzwwZMIYYQw07RTyYoTFpz0xutv+X6YyxWUUmcsOmvsmPGUaqZpZzLDJkyYeOKJJwuuPDd44IH/PPTQw770xcVSqDt/dXdd3XAA+s1vXKaUeuaZ58aPnzBu7EGeG3R1ZnO5wlNPPY0er1Koe+75dXVVra6ZjBkAdPTosZdd9h30Ts1m85i339x3/4QJE+fMmesW/f61MXr02IMPnvTqq6/7fvj3v//vwQdPGj9+AgAQwg6ZNKWxcdR9v/4tFnPe3PkHHzzp4YcfQWdVpVQQRNls/jf33T9//nGEMMty8MQTFpx0//0PojMvuqMWC14QRFOmTG1sHOUW/XXrNpyw4CQAaugWANh24ktfXLxt63Y8JZ8v7q8OpJ+k4EB7pm3blmW9+OKLdXV12IGNHj26WCwKIU466STG2EUXXaSUam5uVkpls9mf/vSnJbVUVVXlOE46naaUVlRUOI6zYcMG3/eVUr7vSynHjRtnWdYjjzyCGqK+vn7ChAkHHXQQnn7IIYe8/PLL2E8opTo7O5999tn6+vpUKkUIKfUrAHDmmWfOnz8fAG666SZs2jzPmzt3bm1t7ZIlS/oUWQhx00032bY9ZcoUVE5CiCeeeAI7/jAM0X6jlGppaZk0aRIaAwzDSKVSdXV1AGBZlmVZF198cS6X830/CIJcLrd06VJK6UknnXTPPfdAb0yLL3zhC3jRwbqrPREcSqk333wTHe6uvvpqKSXWybx581Kp1OWXX14SiKtXr66trcUm0jCMgw46CF0uKKVTp07t7u5WSr388suGYZQCqDiOQym97rrr8I6ccsophmHceOON559/Plav4zj33ntvGIZXXHFFJpOZN28eZlIIcdpppwHAWWedNW3atEwmk0wmGxsbsafHu//LX/4SLVW+72Mrn06nlyxZgjVcvq7kzjvvZIxh35PP58877zy8v+jRkk6n8eFRSq1YsQJz3tLSgl0LtvvnnXdeKpXCmZdMJuM4Dkouy7LuvPNOVdbnXX/99el0+oQTTliyZAn2NNOnT8e7rOt6TU3Nbbfd1uc2xYLjI1IuOADgK1/5iu/7v/zlLwHAtu3rrruuXJRLKW+//XY0bqGsROXqed6i0xeVZujxNcTl4uPGjbvmmmtU77CER3z58uWMsdra2ueeew5nXnRdnzJlCi67Gz9+PADccccd1dXVlNLGxsbGxkaU1/X19VdcccWcOXPw7Tj00ENLEV9mz54tpQyCoKS5j5o123GShDAAqK8fUVFRyZhBqQYAZ531rxs/2ByGPAy54KqrM4ud7v/7fy/spq642rRxCwDZheDAri6bzVdX1QLAuZ87H5eo8EheveQHhm4dccSnurtyXZ1ZpVRT09YFx5+YTKDfK62trbftBCHM0K1Ro8a8s+pdpVSx4E2YMNFxko6TtCzHshxdM2tq6traOpRS3/ve9w3d+tIXF//iF7/CwlZX1f77d7/nFv0/Pf9nSrV0OuMWfVRRTz75B1QY11xzLQAwZpQ6e0o1x0me8plTt23dLrjKZvM8kr///X8ZutUwYmSfMvp+2NnRbVlOKlnxxBNPKaVeeeVVSrXe9TsAAKZp37Lsx7lcQQqVTKQJYXffdQ+PJNZYa2v71Ut+AEB0zaRUq6yssu1EOp0hhOmaueSqpblcwXMD3w95JHO5Amby1VdfHzlydE1NnWnaU6cenk5nUIRNO3yGUqqtrWMXK3eGOp+Y4MCmvL29Hd0/jzvuOErpWWed9cQTTzzwwAMoGubNm4d9Ko84Dgebm5uxl1qwYMGaNWu6urqEEN3d3b/4xS8opZWVlT/60Y88z8vlctjTY+szZcoUXdfvuOMOvGgul7vvvvsymYyu60uXLpVS4ig2n89XV1cDQE1NzbPPPrtt27YwDJ966qk5c+ZQStGU8tOf/jSfz7uu6/v+jBkzTNP89re/3afIYRhed911ADBu3Lh8Po/TDU8++SQ2cDziruvm8/l8Pv/Nb34TO6Gf//zn+XweVcgbb7yBjZFpmk1NTaWm54YbbgCAuXPnNjQ0VFVVXX311U8++WRnZyeP+LZt2wbrq/ZQcARBgBJh0emLSgfMmTOHEHLppZdKKTs7O4UQJ598sq7rjuP87Gc/wzmvbDaLGTMM4/rrr8e2MgzDP//5z1iEd999VwjR2tqK3TYaLY4//ngAOOaYY2655ZYHH3wQ6/Oyyy5jjE2dOrUkOBadvgh7dACYNWtWNpvlEW9tbb3vvvswt7quv/3229jEh2F4xBFH6Lp++eWXY+DUcsHx7W9/GwCmTZuWy+XQ/tHW1rZ48WLDMM4555zW1lbP8/Cp+/3vf29ZViaTwRPxKb3uuuuqqqoA4Oijj169enU2mxVCPPzwwziuzWQyq1atKvUT119/PRpOqqqqTjnllJaWFtd1wzB84YUXsCyMMbxWnxsRC44PTR/BccEFFyilPM876aST8OF85513yusZbYS6rvu+j8uhlVI33HADrlQ699xzn3nmGaVUS0vLM888gyFb6urq1qxZ09LSggc//vjjyWSypqZm7ty5lNILL7zwqaeeeu+995RSXV1dpaUfU6dOffnllz3Pc133hRdeQN1ZU1NjmuYtt9zS3Nzs+77neeeddx72cG+88Ubp2fjpT3+Kve/FF32tvb1TKdXdlZNCfe6z51GqMWYsf+hhpVQQRDySnR3dlGoA5E/P/3k3dcXV5k1NAIRSbTDBgckqpaYdPgMAxo4Zjz/ySF5xxZW2nVhw/IlKKc8NgiC6/vob0QDzo+tu6OzoVkp1dWZ/95/Lq4bVAMCJJ56M525vaWtv7zxm3rGmaX/ve99vbt6Gl3aL/pVXLjFN+9BDD2PMGDtm/LKbb338sSfWrdvg++FDv/u9oVuMGaWVq0899TQaBgCoadrPPPNcZ0e374dPPvmH88//ApoNvvWtb6NCElw9/PAjAFA1rKZPAd2i3xu6lDz33PP5fFFw1d2V++PTzzhOUtfM995b3d7eiWXMZvMopO6559eCKx7JtraOZ5/9/wzdMk27rm74m2+u7OrM+n74zqp3R48ei6rld/+5fMuWZqw3zw0sy0km0g0jRjpOcsWKJ9G6o5T62tf+raKiEgDuvuueIIiam7fFguNDstsplZKWvOuuu3CcgWMIz/NOPPHEVCr1zW9+E/sqIcSNN95ommZlZeW6detUr21TKZXL5XDEfMIJJ5TM7DziM2fORKGwfPly7CCFEDjWOeSQQyilc+bMKR38rW99C8eva9aswTgNOCjfuHEjGsMZY8uWLStZRGbMmMEY+853vtOnyEKIZcuWOY4zdepUXN/fx8KBKUgpR40aZdv2GWecoXoX6GNJi8ViZWWlYRjPPvusUgoHYcuWLcMm8uCDD964caPv+77v4xxH6fT+DCY48HjMCS7Mq6qqMgxj3rx5eIDruqeeeqppmpdccgmPeLFYDMOwoqLCNM1ly5bh6egdEobhmWeeCQDHHXdcqQZeeuklx3Hq6uo2bdoUhiHObUspSyPIhQsXrl27Fi+EcxmXX345jhFLg8jTTjvNsqyKioqTTjopDMPW1lZMPwiC559/HpfG/cu//EupsEcddZSu6xg3DLNR4u6772aMTZkyBdekoOT93Oc+l0wmzzjjDLwpXV1dQRAsX748nU6jD0c2m1VKYdg027ZPPfVUpVR3d3fpGXjrrbewi1q4cCFa7IQQP//5z3EOBefUMPEtW7bwiD/77LOMsXQ6jc4BYRhi2WPB8RHBGROlVENDA2PsK1/5Csr3v//975WVlbZtH3nkkeX1/Jvf/AbvaXNzM74Ua9asQXPUotMX4ZuleluYtWvX4p/OPvtsvFwYhg8//DCl1LKs6urqlStXFovFcmPJyJEjURPjQ44tiVLqG9/4Bmros88+uyQsPM9bv379yJEj0+k0ziCjsfDMM880TXvChIloace+B/vdeXPnA5ClS6/BYOQfu+BA84bg6l9OWYjtc+lP3/ve9wHgyCNnln45/p9P0DXznHPOxRzizEWx4C1efCEKCB7JUviNhhEjdc285pprUdDgpW9Z9uNUskLXzLFjxq9+f61b9IsFD8Nd3PGzX1QNqzFNG490i/6KFU8SwiorqyzLWbtmveqNFKKUatnWijVjWc769R+ghrjrzv+wLGfkyNFojyknny/qmqlr5iOPPF4seFi3L/3PyyhourtymOdiwdve0pZOZwzduu/Xv8VzgyCqGlZTU1PX2Diqs6M7CCI0Ziil2to6GkaMrKysqqsbjnmTQnluAABor3rllVfDkGMNt7d3BkFk6BYAve7a69XOATn2M8HxD1/hi76+/VFKeZ6HFgUAOOecc77whS/Yth1FkVQyiiJc04H9HKMMNz449thjv//97y9btgwtlrquoy9YKpUqzccrpXK5XBRFhJKtW7fmcrm6urpTTz215HRpWZZSCs31vu+jVyCh5Le//a0QYuHChaNHj85UZJRSpmnm8/lRo0ZdeumluMCku7ubaUz1ru1Ev4fy8kopMaaq67oY/VAqiW6zhJBEItHV1YWeWWEYXnLJJT/84Q8vu+wy1dvr46QSpRSH7Js3b1ZK4VVc17UsS0q5dOnS0aNH48yCVLK6qhrdzdTeuCJKIQF6vLsNw6CE1tfXCyEwqrfgwrIsnNI2DEMq6TiOlDKbzWLkbzQjUdLjNHfVVVf99a9/veuuuwqFwtatWwkhnudFUdRrdGPcAAAgAElEQVTa2oqrBiorKzVNk0K6nouem9dddx3ObfWEoBXS930M4tKzHIkSSqimadls9qtf/SoltLq6uuT6h2FqLcv6wx/+gCvjpZRo1VBKGYYhd3ZiRfNDoVBIpVJYNE3TLMsqFosY051pzLZtwzAsy0IXFl3T0+l0EARP/+FprN4rr7wSVVcun8NkR44cedFFFwHA008/jTNNmKCmaVEUff3rX0cft4hHDQ0NTGM4d5PL5TZt2mTbtqZpGByixJ7fwZhyMCgk9MaJwfDeADBlypSvfvWrjuOsXLkSp1GkkEqp1taeXTlwjZXneS+99FKhUGCMXfH9K0zTxJcUnd9Hjx69ePFiy7JWrFhR8rweNmwYOqged9xxkydPdhzH0A0Mlh8EQRRF+Xz+M5/5zKhRo/B4zNjUqVNx1LF06VJd1/F1I4SMGzcOV2NirH0cJp122mnf/va3f/aznzGN+F4opQqCyND1IIhyuVwmU7l50+aIR7qmoRuplBxAccFxK5CPAqFgWRYhMHrMaEIYY0ZpWQohBICUVvcIrjZt3hTxQAjueT4A2I4JAE7C+t7l3/vjH5/+3UO/KxQKUskoEkrB8BHDIx4BAKMMpQkAuJ5bdIsRD27/ye0HTzzIdkypZKFQIBRGjR7V0dlWHnVJ13SlZC6X/+w5nx03blxpsxUAqKuvWbx4cUVFBgAee/SxZNKhrCdkey6Xq6hI99kDRSkllZJKNTY2OAkrn8/jmhchpa6ZQRBIAUoBykpKaRiFuqEDQKHgbvxgo6ZrbW2tixcvjqLI933DMExTB4BUKvX1b3y9WCgGQfDqa69u2dwspSKU4JTK6aedfvhhh2uM2bZNGaTTacPQ5s2bl0wk33vvPei3THd/4hMLKYKBworFIup9nLwc0E+bEEIZFUJYljVz5sxvfvObn//85zEFFAGFQmHDhg2PP/64YRgrV64EAByO4LLGTCYzd+5c3/fRpXyw/GzcuBED/S5atMgwDFyy63ke+r2fffbZON2bTqdxSSTuxIbf96S8GP+jUCjgkk7BhWma3/3udy+66KKjjjoKQ2BhLyilfOmll0otF+ndngZdJoUQp556av+62iu1Ab17RmBYCCllxCN0htB1PQgCprFS54drX1EMoar79a9//ctf/jKZTGItCS6mTp06efLk8ePHJxKJESNGSCFTqRQ2suWrAwjt2dJl3LhxEydOxJAJpmliUhhnrBQ6iVJKGQ2CYNy4cTgRE0WRbdue5+m6jm6kuVwumUy+/vrruq7veme4bdu2maZZXV2NVhnUwYVCIZPJ4B3B9dU4/C3lFrPx5FNPGoZRVVV1xIwjsJ4rKys9z2tvb6+urj7llFNQM61evVoIkUqlcIauqqpq5syZaLTHZUFBEIwYMQL7sFL1xiLjY0GpnvjTqPg553g30d170qRJQojrr7++vb2daUxJhc5S+HBKKTFit67rY8aMGT9+vFKqo6MDu/+2tjZK6GmnnYYblLz+xuvl18U5R9SXEY8cx3FdV2MartWfMWNGnzYHTV9SykmTJuEyURyKQK9XFr5u+HCee+65P/rRtUcffbSSEEZh0S2apk4ovP322xs3bUQ/euzhlAIMTQG9i2k/+mOFj3rLthalBABYtgG4NpVS23bQeUsKyOVyM2bMME37ySefvP3229ev/8D3QiXBLfoNDQ0LFvzzrFmfsh1bYxpui9jU1GToRj6fZxpxEpZhaG7Rl1IyyioqKo899thsd15w5dgOVp3ggjEDSgEeNWZZFoASIjx90enlGfa9UArAUG+EkJUrV+K2c4ILAFxXPKgKW/3+agCorh7GBddxRa/GcDunEjtqRoJt2Y8+9uj27dsY05dctaS2rjqdTgZB4Huh74VKqku/dmkY+blc7u233x45qoFpRHCBNq258+ZquuZ5/rat2woFV9dZGPJ0Oi2VZBrrE7xkP+MTExw4/sjlciWvPcuyKKOU7PiUH49DFsFFwknour527dpnn3321ltvveCCCyZOnDh58uQNGzaEYXjIIYeUvPMAoFgsdnd3jxkzBj02dtEnrVmzBp0t5s+fj8sjDcOwbVvX9ba2NmywAAAH9KhIDMPAqOHlJqPB0hdCYO/OGAvDkGlMcIFx36Moeu211371q1/dc889n//85xOJxIIFCzAAiaZpqGzy+Tzn3HXdmpqaZDL54UKD4CLYknkGV4dK0bNhbHd3NwDU19eXSoGhI1D0AACj7KGHHtJ1vbm5+d///d/r6uqOPfbYG2+88X/f+1/XdTFkBdqx0QCAmezToWLFjho1inOeTqdN0xRc4PClPJ40AKDZI4qi6dOnh2G4vXV7eTqO4zQ2NjY0NORyuW3btqFf7S6W4NbX10dR1N3djcoVL5TJZLq6ujAALlqM0KiDOcc7LqVEM9vkyZNRMGFFWZZVmakEgNra2qqqKkrpunXr8KGtra3F4lcNq9qp/qU0DCMMw/5xpWI+RtA4auiGEIJRZtv2VVddVV9fn8vlLr/8cqVUEO7YJFZKqaSilK5evZpSmslkKisrcfkbmhlqamqYxkaNGoXrjNavX19+LUrppEmTKO3bXqHUxkelnFKE0yAIhBQYCRAtuJWVlRUVFfl8nlLq+75pmlLKKBKGbjz/pz89+OCDDz/88GmnLWoYMXL27Nm+70c8SqfTpYATxUIRO2ZKaM9usR9hR1MlMXAObPhgAwBkKiqgNxIGJdTz3I72DgCgDCqHVVx99dVoZ73yqismTJjwqZmfWrr0B6vXrLYdU0nw3MAwNEKJZRuWbdiWbdlWXW2d4CqXK0SRcBJWOp2OeCiFTKUSGJeiUCzYjpnLFbr+f/bOO16q8s7/3+d5Tp9253YuHUSvYKEJggVRE2OJuFlr1GQ10USyZjeJ+tsku4kxWJKNm7jGJEZFIboaNbFCLBi7oiAgKgKi9NvrlDOnPOX3x3dmGJqCShQ479e8eM0dZk4/z/k+3/L59vWmq6qkFFiOyyhDvyxjxhETj6jcZss2KAPKYMyYMUEQbty4kRAQXFBG0QyjOy+WPWBUsZJA17QgRLH7IAxCJ2aVXxUnFwpeobu7e2DTYNRzxTrYjo6OIAzQMnNiVjJZla5Kv/fee/19WSXBLbiU0iAIE4mErjMnZg0aNCged3w/NAytq6sLx4eQh/uStOg2/CP2bIdzuHg83tfXN3TIUAwlNDU1wU7al+PPcSrMBX/o4YfGjx/f3Nx82mmn/fCHP7zzzjvDMLQsa9CgQalUqqurC8UVMGMAhTVt2xZclI2bbcChp6OjA8cp27bRzkB7HABqampM00wkEqZpomAo+u0xUCJ33t66kkKhgI9kfOIqpSijvb29l1122ZAhQ4477rjvfe97V1xxxb333qvr+oQJE3AXkolkwStYloV1H5i/ggsUH8tnWtkYE6faspSziN6mIUOGYC+rTCbDOS83ekU/02GHHbZgwYLp06dLKbPZ7HPPPffTn/503Lhxzc3NN998MzpIlFKxWMx1XYyLof1XRtd127bTVemyrk7ZGY4hKlmh9lH+ia7rWGdbKBRs28Z40PDhwzdv3kwpxdBVVVUV5hTvEAyiM8Zs28ZJsJIqn89jsQmUrj00etBaxeGJEIKZRul0Go9GWfuLMiqlHDVqVF9fH2Msm80yjfX39+M5UkoxjXHOLcvyPE/TNNM0Mfe2Uv0p8nB8WhC6RU6Nc45/4iT1pJNOOv/885VSDzzwwLPPPkspxVOWSqVwnmNbNgAEQTBmzBhcAro9PM9Di3/YsGFSylwuJ4SovIlwiECxY13TXdd1HIcLjpf9wIEDUfCjzNChQ7GPAV516IwhlDiOk8vlcrkcXl2WZaGf45e/+OXIkSNnzJhx1ZVXffObFz/yyMMtrZvGjRtXW1urpGoc0Oh5KPuBElI6IR8hx/7hw0bZNCk7A9pa25LJqobGBiXB8zzfD1GaDyMLAJDN5kePbn7xpRe/8s9fMXRLY9rbb7/981k/Gz9+rG3HfnDFFZZleoXANHXfD4OAp6vTmUxfT28P00giHtcY6+zsDoIAQJVHyEwmZ+iGVwhiTiwej/f29QGgyFOolMpmcwC0ob4eD/42e7d+3caDmg8SIrAsi1CgjOqazphe1tfaIZxz7D5TKHhSYJhFSSWxwBhfeITw+/G4s2rlqs0tG4ePGC6kQD/T4MGDUW/Nsg2vEAwfNtwtuF1dXamqBNoQlmUxSpsGNKEdRhkEAdc1XXCFQlYa0z7cU7u3s8cNDqxc374BPT6Wurq78HGCj/BtOoKi5E45raGvr+9Pf/rTxRdfjNXql19++W233fbSSy+9++67nZ2dZ5xxBmYYDGgcgA5JrAoJgkDTNMpoMpnM5XKYghAEAWZy4OMN4ztY5bhhwwac8eODEJ+CrutyzrFBjJKq/FBUSmHO4Jb9kgoA8FFdjrZgyQx68l3XxSIa3/e/8pWv3Hrrrdlstrm5+eyzz777T3e//PLL7e3tL7zwgm3bQgjd0OPxuJTSNM18Pl9OasFjhf6VvJsvR0C297IUnROMVbbwxa9hEEdKadv2/PnzKaWapp1yyikYYTUMo6wiCiVlpHg8Pnbs2Mcff7y3t/fmm2++4IIL4vF4VVVVa2vrddddd8opp6AIEv4WPUaZTKZye3DUtmzLNE08SthDHGeZZacIzgLRqEJVU7wY0OUDALlcrr29HbMu8Pntui7WjFReReUj5rou2pGYLkMI4YKj2wlTQPBkxWIxPCy4dnQC0VKXL/wTJ6mMMrw22tvbAQCzBQEgmUxu3rzZsiwUUaWE4sQF4/1Ycb3FwyEVwA4EyiJ2F8Mwis2JGMN/lVSlrhaEEHLNNdcMHjyYUnrhhReGYVhVVcUY832/u7tbCsk0hkNQS0sLllijt4wQgjdXR0cH51xKqWnFNkwYgkRjXUghhGAaw2Vi/NQ0Tdd1q6urK7cTNwb987h5sViMlETQY7EYXoeYAnXBBRf8fNbP29rbampqzjrrrNtvn71kydJ1azcsXvz6pCMmBWGAXr0g4EpBdU214IJWCGxXgjEOANQtDUMeAigpeT6XL38BcyzKHWUNw1ixYmVL6yYl1fTp06VUTswydL0qVWXoZhgUtcUSiZjgatjQoffd939d3V1z5849/6vnNx80mjHD8wq/vfm3xx03nQuOnUp0Tcvlco4Tj8fiAMCFIBTq6mqCIEjEU0IKwVU8Hkc3tmkWTQQhOABFlU9KSaHgAsi+/r7unm50aXDBM5mM74eUQeOAxtaWVtuOxePxguubph7yUNc1IYUUQCj4fkAocCGkwJMohQgzmYwTs7jglmU5MaywZZ7n6Zpefiml8GbFI1aVrrLtGKb35nIulHrNhKEIAm7ZRntHu2mayWRScKVkUdgtCL0gCKRUTGN4TAgBphEcaXP5nG3Zgqt91cmxx3vs1tTU4OxZ7lrvie2hpSYpVVVVqMF13HHHPfroo5Zlcc7RE442DaU0FovhLBOLGPHiaG9vz2azyWQScztQUxIFf6SUqJRbXV2NCVwYy8CIAw463d3d/f39aDOh2YuGSBAE6XR65cqVlVvLBWca++CDD2pqatBoxUd7fUM9DiUN9Q04Bbnv3vteeeUVpdR///d/z5w5E3+Oz1ocjzCQDACotYpzdMdxMA7iBz4mwMbjccxM3OHRy+fzAIBN0bZsJOeMMSFEJpPB/s633norOorGjh3LGJNSWpZVKBSwrBeXj+LKtm0zxjSmXXLJJZdccgkA3H///bNmzVq1atXChQvfeuutgw46CEpuCVLR8gbBhedyOZwLojmPjmXMX8EdR1NAStnQ0LB48WIsSEEXBXoI4vH4u+++iweqLKySy+Usy0L1VbyB8eDrur5+/XpUUsJtQMcsnmhMCsEjnMvl8vk8+iQMw3BdV9f1wYMHv/HGG729vfidmpoazN7AU9Pa2op7gQWZaG9hZhKlVMIW2xStzLLFU7y899Wh5R+L4EJIYWiG4zhomKJUeTmBxnGcW2+99aSTTgrD8IorrjjssMPwLhg+fDheRXV1dYSQciaTUqo81zQMA8vWBg0ahKcVF4jZoJh7hC5JHDH8ral0rK5fvx6/n8vlYrFY+emFSc35fB7bSFFK33777QULFiipzj///Llz70IVcK8QmKYRhsItuJZltbe3K6U8z9OY5nleEHqMGUopJYELUdmnIwhDJ2blcm7McXwuyuvFXJYwCPUYQ0HuMBTc45ZlUgbz5803dCuXz33nO9/BZz8XIpvNCikJIZQBVnXqhk4Uy2ZyMSd27nlnn3ve2VLA8reWX3311U8//fSixYvmPT7v7LPPCqQkFFzXdd0cZrYKLiihKCqYzfVv08Eu77qmaTKmOY4TBuWmm1BVVWXoVhig/0lxwZVUVenib01TX79hfRCETswxTbOzsxvvx76+XiFFEAguuO8TwYUeYzgg6Jqh67rvh+iGkUJSyhiljr2Vd1YpRQgTXBACvh9OnTr1nnvuKRTyvu9je6xsNg8AiUQM3SFtbS2EsOaDmrFJje3YlFBKtUKhIKTQNa0Y9lLgF4K+/j6MozGN5HJupb77vsTnbrCrlD+v/Nw0zcWLF7/77ru+78+aNQtzC7CqpVAocM6xIMJ1XXyS4RSBEJJOp7EuDgAwYRAwAJ9OJ5NJfAwrpaZPn44ruuOOO8IwzGQy6CTHRlDPP/88ZrDjkwlHEMMwent7GxoaKmeoOOJgmRxGi9AhgSEVy7L8wAcAKeWby98UQgwcOPDSSy/Fxx4pacCjbpWUsrq6GndH1/VYLGYYRiaTwRQQFNQqF8Xs+uGFUtMpjEmHYTh37twXXniBMTZz5kzM4cDHIeoUpVIp3N+Fry387ne/+6//+q+4AbhA3/fPPvvsRx55RNO0vr6+ZcuWKaWw0z2aKegmLROLxWKxmG3b24RaivHLMEQnczmZo729va2tbcWKFQCAXhB847ruG2+8gUPz1KlT29raUqmUbduu66Lam5IKj6Gu69lsFv0Q+LzXtGI7BnSAHXzwwRghsizLcRwcwU3TDIIAN/KYY47RdX3FihWvvPIKWqLV1dWYR8YYw3b26XT6kEMOAQDGmKZpqGgHpRktgvuOQiZQMl538cRFfHJOPPHE8847z3XdRx99dOnSpXgq0S9FKDnxxBOVUkuXLkXxG8/zcBhBv/2cOXN0XW9tbUWBjY8Emx6jqmHl5yNGjMBkMgzilDFNM5VK4W1OCDFN88UXX+zq6iKU3Hjjjb4fUkJzOdeyDS4Eo2z1qtVSyMbGxvaO9ngs7sSseCxu27FiTSAFSqhSUH5hFDIMQkLBso14LK5rpmU57e3t2WwesyIKro9mje2Yedd9+60VV151ZRB6kydNHjFiBG6nrjPP82zLKvekdQvuVVdedeVVV7a3tWN/tYLr5/K5Aw44AMUIAGDR4kWEQhiGXiEYMXxEKQm02L8mFo/F4jHLcnCZHwkPOWVUSPHwQw9jOMM0jUwmJwUoCUuXvrl69ara2prjjz+eEKirq/EKnu/7hm56nmfZRjzuGLruxKwwFI8++iijbJvwNBpwXPBtcsKkkLqmY46FrulHTDwCB94n/vaE7/tu3rMsK5GI5XJuV1fXc8+9EI8llVLNBzcDABdC1zAfjiaSCcPQgjD0CkEQhpSBZRv19Q1b3Pn77iRkj+9Yd3c3Tq9xuvkxloDnwPO8eDyulDIMo7OzE1XAAcA0TdM0u7u7n3zyScy3QrVg0zTRbkC/BYIGAQpy2LaNrcVCHhJC+vr6zj///Pr6+t/+9reapiWTSSUVKkv6vo9y1FiqqpTinJefRmvWrNlmg++5556VK1e6rouhENzscqozfp7L5bLZLJogOG8uNx8BgIcffhgX1dXVVQ58oPmCTyylFOaC4N59SPUNHnmcPOF1jIEMRhnmot58883/8i//gkkS6GgRQpR9vKLU/wWjVHfdddfcuXMXLlyIyaFoH+DZAQBsmoWJJuhMyuVy2/Q96enpwVgDLhYNOJxKog+pXCZa/gml9MYbb9ywYQPTGDo5pJKtra3XXHNNIpGYOXNmGIaNjY24swAwb9687u5uQgmaNVLKZ599dt68eWhDcM7DMFRKEUowTt/X10cpdWwnDEPTMFOpFIbDDMPA4fKss87CPZ0zZw5uAFpFQRB0dnY+/vjjAIBFOqpUw1z0IW1dSYTzXQzfFJ8LhJKd98WI2HWwyklwgfeXEIJzLoW0LAsNX7Q+b7jhhhEjRnR3d2MNPCEkn8/rmo4avgCAnROg1CAQxWna29sffvjhMAyPP/74IYOLZa6u66KrA68odIjiKS6/wXu2cjv7+/sxPotlYgg6vdDKKXehGjBgQPmuN029r78v5jhKgq6zhQsXrlu/TkiZyWQa6hswtQKHl6KQi4RtbFlcnWmaSkIQcLfghtz3vEIqlUokYph5YDumxpjgKgzF4489PnXqVAAwTfv2O27HvVASBFeZTKZsoJimrmv6zb/97f/8z68WPLMAszFM00wm4/G4Y5r64MGDcS4huNJ13bKNIAiE2OqY6DrLZXOqolYZiTmOrjMhuOu6QgohBRdcSejo6AiCgBD6+9//PggCjChhkQihMPOymTXVtR0dHWeeeSYXIgh4bW2trutOzFm2bBmKYeTyecFVf3//H37/B8qolDwMi+4NXdMLXkEpJSXfJrlbSKHpxRwLz/MOPezQUaNGAZCfz/p5MplwYhajTEmIx52BAwdccskleTffNKBp2rRpWFFsGIaQQtNYoVAIQ6ExzbINXdMxCtPf34eOVSngQ5Lf93b2uMGBZejFugMhoVSKht5OVCXHKXU5YQK7a1JK0d2HP7Fte/jw4UOGDAnD8JZbbkH3huCiq6vr6aefPvLIIzF/UAiBzwZKKWOsuroaH5no2McuiziRRUvFcRzDMAQX6XT6sssuwxDGhAkTVq9e3dXdhTPjb37zmytWrECDoKqqihDCKOOcDxkyBACefPLJOXPmUEp7enry+fxrr712+eWX4+rQy4JPa/SjYqUuFugefdTR/f39H3zwwZ133onToDAMu7u7f/SjH33/+9/HeH9HRwcGFyilHR0d6L9FUVQ8Yqg78uGJh3jw77///lnXzpo1a9a111577bXXXnHlFd/61rdGjRr1wx/+EB+xd91118iRIwUXjDGlFL6B0s0WhuGBBx5o23ZNTc03vvGNNWvWtLa2ornw9ttvY0YeAJxxxhmYYun7PjqWNm7ciOMy5mliqAulCDC8Un6ECyHKBTi5XI5SahomlnXMnj376quvllJieGvhwoUoo5LNZr/2ta+Vk4JHjhzpOM5zzz330ksvUUoFF9lsdsmSJVdccQXWGDc2NmqaVr7SMMvkrbfeQp8NJRQ91ZjgidsAAAMHDvz2t79NCLntttsuu+yy3t7e3t7eeDze0tIyffr0tWvX6rp+zTXXCC4454ILx3HQNYXjchld0zHztCwTQlmxy27ZFo8yOT4eWPOF4VTM/gYAzOrFmxEjsA0NDddffz1+AT/HbGgAGDRo0MyZMy3Luummm66++moUm+nr62tvb58wYcKaNWtQrTiXz6FNUI7nptNplPPB6RCmhBuGIYTAojayNZgDjiEY/AQXiAMjOuEIJRiapJTecMMNBdevqUlLqbK53E033fzV878KAELwQqHABeeCm6YehqHGNMPQLctSCni41bVHKRVcmaYppRJcOLYDQBnTn3zyyR//+L++//0rfvCDK//j//3oyquuOvfcc8eNG3feV8/J5jKU0rlz5h7cfHDMQU8wEEIaGhtM07QtG+MRqapEc/NBAOSGG2546qmnmMawkMf3w3PP/eqGDRs4FzNmzBBSYHbkqtWrEvFUa0ur7wemqRMC7W2dlFHTNJuamioPVBCGSgJK/2GVihSSUKhKVxFCDUPP5vpHjRq1ZMkSTFwJguC0U09ftHhxd0/3zJkzHdvRGDMMbdq0ab5f6OvrmTNnTshDKcCxnbVr186cOXPlqhVYU4YOJ9PUhRQN9Q0hD2qq65a/tZwyyGQy5XwyKWV1uhovJ9/3L7vsMkrZxo0bJ0yc+MEH67Cv29q16ydPmrJh/QZd0y//7uVa0S/OKCWmafq+Z5omDznm3gopCAUppVLKdXPxWJwyIITss65PtYc588wzMa6hSrqWOMorpVDhG1M758+fr5TKZrN4vymlfN/H9ugorY3fv/rqq3Hq3NDQcOGFF5599tnYxc0wjAsvvBAfD1/5p6888MADUsr+/v7Ro0cbhoHifZi+2t/fj14K7Iw6ZcoU1LDq6+vzPO9///d/cfm2bU+aNGnMmDGJRMJxnJ/85CdYVTF37lyllBAim82uXr0arRDTNCdMmPCd73znmGOOAYD6+vprr722pqYGW2BLKXt6eh577DE84KjFjv82NzcDgK7rRx555De/+c0jjzyyvr7esqxjjjnm8MMPx75TV1xxRXt7e6FQ+MlPfoI7XhYq3RmVx//Pf/5zZeNWHOxwHGxsbKytrSWEHHLIIQsXLpRSuq5b7mbHQ44C5JdeeqlSqqenRyn1i1/8AmW/AWDo0KFf/vKXhw8fju1sAOCBBx4oL+Gdd97BJhTTpk27+OKLZ8+erZTq6uo6/fTTAeCcc85RWyuB8pBffvnlADB27FhsH1MoFM455xwAQM8TjtEnnngiJk/oup5Op2+//XYMWuFeL1y4sNznZcyYMZdeeumECRMopbW1tbfccgsANDU14RWIcpA/+9nPbNuuqqo67bTTzjjjjBUrVkgpt2+zh7PSL37xiyiuYNv24YcfjkWMeDCvu+46VZqkKqV+9atf4SUktm4gFwRBuY4GGwfi8ivrgbc/gxG7QqFQwOOJJUKXXnopxk/xasTDi18TQpx//vmpVIoxhiJvqCerlNqwYcOUKVPK3dROPPHEAw880DCM2traVCqFAn1KKbx4XigZflkAACAASURBVHjhBRwTUKBWbX1LDh8+vNxbsfLz++67D0r6N2XlX/z56NGjAeBnP/sZbo/neRdddFF9fSMAjBw56uKLvjl16tHjxk0AgNqa+i996RQAUl/feO6557/22qIg4O1tnXhp/W3+k6hMiu3W8MVDWX5JoTZvbjVNG3XTE/EUALUsx7Zj2I0F/5w8acoTTzzV15upXI5S6tpZ1wPQ0aMPKWtoPvfcC4l4ijFD18xBg4Ycd9zxhx56eCKesizHceJXXHEVrlcpVXD9L582gxBWVVX91fMuuPiibyql8rnCjb/6NWPGkCHDtlkXD+W9//dnQ7co1TwvwN4of3/mOctyBg0acv5XL8S2MkOHDh8z5lAASCarAMiMGf+E68pm87jer/zTmRjHGTx46OmnnzF16tEou37Vlf8xZMgwSrWHH3oUdUWDgG/cuBmA6pp57DHHXXLJt+65515cGi5h7py7Uf2zo6NLKXXOOecBQDyWBCBjDx8/btwExoyqqmpC2JdPmyFF8WtKqfa2TgAKQJ544ikUHg0CjgKsuIUAMHPmv2azeTfv7atKo3vc4Pj6179+3HHHzZgxAwtKiyGJ0lDb3t5+yCGHjB8//umnn6689/DNv//7vx977LE33nhj+XO0Oerr6ytTEWfMmIF9gXGmTin9wQ9+IKXs7Oy84IILxo8ff9ddd2EuMSKlLBQKv/nNb4466ijsDFe2hDo6OubMmYOF+FBSIbzqqqvQK8gYe+qpp1Cp2nXdzZs3v/baa6NGjcLNwJnrwQcf/Mwzz2zevPnQQw/94he/WF74q6++2tzcPGbMGByt8Bm2bNmyk046CVND0BQAAOxzdtttt6FjzTCMjRs39vT0/PnPfx47duxZZ52VyWTKO/KRBseDDz547LHHjh8/fsyYMRMnTpw0adKECRMmTJgwZsyYyZMnz5w5c82aNShHg2lxlUbA1Vdffeyxx/70pz+tXOPs2bMHDhxYTs5AI2/s2LGzZ8/GX6ETWCk1ffr0cqM19NkopS677LKTTz75uuuu26bXiVLq+uuvnzJlyje+8Y3ylTBz5swvfelLc+bMeeWVV4YOHYqmBkq2jB8//v7770dZdDyeqC390EMPoQotSlzrun7aaae98sorb7311pFHHvmFL3wB/e24R0uWLIFSe7lUKoUtaR577LHJkydPmjSJhxyVXtGm6e/vxyRZNDGx4nrgwIFz5szhIUezVZU69UyfPv3LX/5yZeNipVQ2m121atXxxx8/ZcqU9evXl89UZHB8cvCg5fP5adOmTZ48+bbbbsOrGm1ZfLT39fXhlblo0aLRo0dPnDhx2rRpZX3x3t5eVKM555xzMGsK/Y7xeNy27T/+8Y9CiN7eXszq4CF/+eWXJ06ceOKJJ5ZbsVSewRkzZpx88sl33XUX1jSVeeKJJyZMmDBp0iTM98Rrhoe8p6fn3HPPnTx58h133CGlxK1qa2s7++xzGxub8KpLp2sA4KvnXdDW2vHYY/MGDRoCQLAPiFKqq6tnwoQjJk+asmzZcqUUD2W5v6sUWxkf/f3Zt5a/c+IJX5w8acq4cRMOP2xc80GjDz308AkTjph0xJGnnvLlSy751m1/vCOTyVX+Cl+9Pf2//vVNEydO+rfvfq/g+mVN8fvuvf/ww8bpmmmaNuqCJ+KpurqG2bPvKuua+37oecH8eU8QwgAIADQ0DAgC7nnB7bfPnjDhiDPO+Epl3zLci+eee2HasdOnTDkKfy64embBs9OOnX755f/23ur3v/71i7B3GnZWM3Tr/K9emM3msVVswfVRmLy1pf2if/kGAKVUM3QLgDQ2Nv361zfxUJ7/1QtHjhy1dOmbZen0vt7Ml750CkqtA8D11/8CF3XyyadOnDhp7py7cUuKl01P/42/+jUASaXSaP1gV5Rf//qmsqkhuPK8YNXK975w4knTjp3+9NPPlH/u5j00O374wx9PnjTlv395I7ai3VcNji2V63sIjGii+ko5kVtwIZXEtAwMl/i+b1mW4IJpDOOFhmFgUh7G+DG+DgAoWP7++++vWbMmmUwec8wxyWQSAxAtLS3z5s1LxBOTj5zc2NiInna34CYSCVxyeWdRQpRzjmUUKKOZz+cxQ8LzvFdeeeXNN98cMmTICSecgHrkDQ0NjLHXX3999OjRuqZj1qTgorOrs6WlZcWKFYZh1NfXH3P0MbgiKaSQopxdoUq6HfgAllJibjPT2JIlS1pbW5cvXz558uQpU6Zg8DiXy61evXrlypXxeHzatGmpVAoLO8MwxOoJTG/c4TGvjLBgg49EPLHNd1AkFPcd02KwZaWsyD8NwxBlssrVoXg8TdN8++23V69aHfKwvr5+1KhRTU1NuqZjOgLWDycSiUKh8PLLL69evbo6XX38CccnEglDNwglQgg86awii758WLDKAxNc8DGPG1YoFD744IPFixcXCoXRo0cfeuihhBD0taDoO+ec0aI44IoVK5YsWcI5P+aYY9LpdFNTE+4mHjd8D6Vo0Z/+9KcgCIYOHXr00UdzzhOJBCaNog46bh4mfziO09fXt2DBgtbWVtu2DznkkCOPPBLrdfFik0r6vh+Px9FJU26ZW0Zw0dffF4/HUehJcJHLF9dSedY+PEYWsT1SyrKIBZRUVTAfCEonmlLa39+PJwXvRAxqlGtMyhc5F/zBBx/s6+urr693HOfUU08tr6h8U+CfuMBthhf8GuabCyEqQ/IYQcPhDgCw3ElKiUGEQqFQdtFhfQ0AvPbaog0bNnR1dcWc2Ne+fgEAYGrnG4uXvvPOO5ZlTZs2ra6uDoVQdV13YlZvT3+6OoWpkHgpVQ4VGIDAooyC62u6putMcIXFFFKi4oWvG7rgIu/mUeAOUUoxjYShoIQKiWVu1fjbMBQr3125aPEiPMLDhg4bPXq0ZZlcCF1nAJDN5jE0s2r1qldffVUKWd9Qf/rppwmuKCVcCKUUo4yWspoIhb7eTFU6ifuLCRaEAKHg5j3btoIwxGrBZxY8s3HjxgFNA4499ti6ui1qe5lMLpmMh6HQGPM8f/V7q9vb21etXDV02NDjjz8eKw8wfyUIuGFo+C/W3z7wwAO5fC6VSk2dOrWhvqGs4YHSpZh1Thngwvv7MwsXLty0aZOu600Dm46aepQTs5SEIAxNU8eiIdwFjWkFr4BFKMVCXwZ4cApuob6h2OujMqSyL6WQ7nGDY5vlY8m7LKn57nSzPosB93e/+9177703ffp0dPuXEVw8+JcHL7roIlQdDYIAwy6fhE9+2HHk2tl/7eKKtj/OqtSQAkpGwK4s59PiI897eTM+yRUid7NC+5Ps+862Ew3QkgziR38/YrcoTqe2vhHwzw8/wuWvoeX9kdfJp3Ijf8hit/nfTyW0v/0D7OMttnI5n9YD8h/5oN3ZXm+zXqxc/ZCrpvISqPxaeTmoBrvN6na4dzvcpH3J4PhH7wplVH1UkuNnQqFQWLp06T333PPd734XZ0tKqSAIcrmcH/h33XVXLBYbMWJEWQjrM+cfYwF83ignlH2ShXx+zuA21kbEp8jHu0jKHpGyDN1nS6U8+Se3NlDyfE+AS/7ky/88PFy3P+Yffilh55rt+9ds1SVuX00C3U0+B6f384GhGzNmzPA8b/369Ycffvjq1auXLFnS1dU1f/78E0444Yknnsjn87fddhuKjX7WG7sHqcwS/6y3JSLiU2O3rud96eL/tEyBfxh719ZG7Bb/6JDKLvKPv+HDMNQ0bfbs2d/73vdQFxVKtU/19fWu6/7ud78788wzscJ+GzGfj8EePeyfJKRS+atdX86nxedzoN9DIZXd+n7EbvEhp+zTPcJ7OqQC6pNu7a48uT95SGVv5LP1OuyfIZU9bnDsLWDQF99ffvnlmUzmnXfeyWQyzc3Nw4cPnzVrFgBgIwxM5qpMoYgeEhERERERER9OZHAUqTQ4MHaLfTRQk6pc0AEAWENRmTcaGRwREREREREfzj7krPnElHMXsIETNjJFiR6U/UBhzd7e3m36g2yFVFteCra8IiIiIvYByqOZLL7fEghQ270iIiqIPBxFKo8Deiyy2Sx2E8WMjVwuh/K3qGBRLvGHSg+H+pAaqT28AxERERF7mnJuiQICAKT0CdnavCDFL6t9KwUh4hMSGRxb+MicjMrifnxDijfbdto6W917BKB0B0ZmR0RExF5DZRIjBQApIAyFqTMc7QjgWCdBp9n2rkR9LQQhME1JTnQdDY4ykeUREV0Cu0FlsegOjJLIhRgREbHPIgEg5L5pMdd1CQNFQCqlpAAAP5NLNNRCIKQAxUNi6H7OAxLNsCK2IvJw7B47PFzF26pCo7P4Ob5Fpd5KP0dERETEXoDc/k83l3PiKd/3iEYJaIQwqiAMhUYpM4ifDcyYEbq+HjeFHzDdgHLUJZre7vdEBseugjGUHRschJSzN7b/QtEXQiJrPyIiYu+i0uCQUkpQnDLND3yq6ZIaEn3kCkCArkFvp1tX50AAoIEKAkIZaAwigyOihPZZb8Dnl0rxK7UTY2ILpOjD4CGXUpqm2dvbm0wkueCmaUopScW9yyLTIyIi4nON3O4NUAoANkDohzxpJDJCvvXu6vlPLFixYuXBzWOu+N63iOP4HIiCoC+vEWE5NhAGkWM3okRkcHwElabGh+htlG9KXdf78lndNNPptAIwNeaHAa1ogRgRERGxlyC3ee8VMlIox0m19edzgfrN7+548N6/aPHUk88u6ujO//qG7xsEiAaEm8A9kJH7PGIropDKTqk8MtsbHKTysFEsRKcKgAF0Zfttx1ZSMUaVkI5uKgABCkqW/o48HHhjRz7HiIiIzwMSACRI2HpU8nMFoRhozrq2nqNOOKlu4Iijpn8x53pBPvfU/MdGDRs454+/G3dQDXCQvkcpQGUXiGjOtd8TGRw75UMMDrLNMaMKJXAkUAGQKwSc802bNj344IOJROLCCy9MxOK2peF9S0uvytlDKUEkapkWERHx2aOUkARzLyR2QlWgCGhePnBixq13PnTNL28adNAho8aMD4lhmLbvudXJ2MP3/0nkex66545Jhx2ghSGhipjGloVuNbZFU6z9kcjg+Ah2kASK4nqcE0MHABH6TDdzhaxhO6EESdj/3DS3vaN106ZNvl9Ip9P5fP6UU0775zNOUQoSNhgENAABisiQUgJApJRKgVRKYxjhohDJpUdERPyjKU6BlFKSUCWVJKCIBGAEiA+BAYYB8Nhzy84872uHH3nsAWMmsliqJ+9bdjLvuQMb6rKdm559/C+Oyj96311jRgzQNQCAwAcAaZhUyfJcTe58fItMkH2ZyOD4CHZmcAAlKggBJDFMAMgUXNu2BNC//m1Rf57//Zm/d3S0x+JxRmlVOt3e1tZQN+Ccs/75qClDGQARYBoQBm5/b09VIqHppq7phDAAqZSKDI6IiIjPgi0Gh1BEgFIEJAEdWAjQU+iP26klyzd8+YxzB49sPnTCVM1O9wfCilfnfU41xsNCnHIjzC175e8i2/G3h+5tqk1pBEwTACDwpa5TIArXUtJM3N68iAyOfZno7H4SpCQUADgA041Akg3t/V19hd6sWNfSS83aeNUgZjUYTmN3n2rtyNxy6+wbfnXvuhZfaOAGEEijoWGQ46SYZgVc5VxPAJGESiIl+UwbJ0dEROwvyIoXVLxBnUMGwApKUYBqO7V6bdsvb/y928uPnnZqLN4gwQJlgTJAGYIzIiylrGRywIgRh76/rvNH//WrrLuTdZLKEpjtpT7kjj6P2BdgV1999We9DXsZ6HkQPKCGSRkLuHB9aZlatsBfW/x2QdrL3l7T1ZNNpetTVQMcp9rzYdjIZi/kuuls2Ljp+RdfDkOtprYxHtcVgZCDkkAZ1XWt5Nao1AuLiIiI2HOoHf1JFFEKCDoicm7IDOYr+OGPr33sL8/807/MrG8alslzPwQnlsrmfF23PN9vqK+3dX3T+nUjhg9LJdPz/vrw8AMOmDxhROiDEGCYBFRJC52oClWiD5n0RkPgvkZkcHwEZDuAKAUKCJFChUAUoUCoYvDywrfWb+56dem7729sqa4bIIlBtXgyXdfd6xl2IlldFyolJPVDsWLFylWr10hpNtQ3JBygDIrKYQRFS8t9kJQCoqLbLiIiYk9BKl6qKChEiCKggAAQRUDTWcDh8ceeveFXt0z+wldGHTJxQ0tbMl2b9wPDsk3LCUIfQCWcWOvmzQ0NdVJxyjTNth7561+aRxwwZvTgMJSavkODo5xJX7kNldsWsU8RGRwfg+ItITECAiAZZHLw+qLlnmIvL3uLWjHQtJr6JqJZ2QK3Yik/VFIRxkzKDF03Mvl8R0f36vfeW7uuZUDjSMvUDQN6+kLTLqryKVC02Iux1JHxoxrLRURERHwytm7LoIgqWh6QzcK3v/3vzK46YvrJ3fnAsO2QC2BEECWlUERqGvXcXCxucu5pGpNKHDb28Oefe6Zz0wcXnvtPulFy3RIAIqDcDmIHPS0jg2NfJjI4dhsJRBGiQKHBoQh4Aby6+J329p731m3a3N8br6sBpieqqgWwXMF3kmnP51xR3XQMw1KEptPpZDKVzeWXv7n8zSVLNWamawZVp5kAoAQUSAJAgZSjKpW3HVElkwSAECJLPeNU6XaOiIiI+FhUPOyJBEIUoQrALcBdcx74y4OPfOmMs7JKV7pZU1/f1tli2gbnnlRc1wijquD1JxMx388Dk7Zt9fT1DGyofnPh84MaGkYf3Ox5ga4zIEBAEkBd5nIwJTI49heipNGPiSSAdyMH6M+rV19faiXrXluyQrdSQrHa+qaAC66kbpleUFAaGDFHEAgpFVTP+jIbqmTD4MOOODYbGL+/84ErfzzrieffLnDgAAKYACaAAkgFEkAqJUAKkIIIVe5Ju60WSERERMSnhRS0lLa5qS3z61v+eMj4KWas2rKTOdfd3NpSX1+vMY0LwUWoaVRKbpqm7xeA0Y7ObsmYGU8NGHKAUz3guv/57ZqNXXbMKGalChElhO63RB6O3QZbsXGluJSEUpPA7ffMH33okdff+Lu6phGNgw/SrSohmFRMASWMKiIIBSF9qUKhQmDALMOwHGI4iplEc5gV78q4CxcvX7ex0042pOtjHACIyHs9XISe7xpMo1BMHSn6PkoeSnR4qorgS0RERMTHYksiBQHJhTCo7gF898pZS5et/NKZF/Z6ihiOYdqMatwPJZca1TSqSS6JIpQwpQgBzbbjYQihIEppgwYPe+7Zl7tzheknHM1DUDzQqSBKAGFAaCl7Y4fbEA1m+yCRwfFxUACSUNfnirHXlm0IpfnXR58aMvLg7kwQT9cp0CpuJAWggEggUhGpiFIEFCGSUAAqgQHVE9U1qaqaAg+WLn9rydLlfb1BbW1dTcpmGjU1W9OZEoQCIRIAFBC25WYkoEp3ZWRwREREfEooIMAoC4EuXbH5l7/5w4Sjv0jsqlhVHZfl4Yfs/FWSU1aUMM0P+aaNm4+bdvywAaapa5h3XzI4ohFr/yIKqXxMTACqGRqFeU8sEJS1dXVvam2LJRO7vgRJQBFIVif9MPDCoLFp4IHNB0vFFjz3yg2/+u2D8/+eC1i/L7Me5cwMiSGoLomugChFlFJb0kijuzYiIuJTRucKCMA1P7+2L+OOHHWgaSUU1dTujDWSgGk5Bxx08PqWlkfm/c1TwBUA1YDqQLTo6bMfEimNfhwkQACQC+Dp5xdJLXHrHfcxuzqWrKdGnNm23OV7kioIA8+xDEMjVAY8LOT7e9paNpkstPSwaUD1jFNOOXLy4bYGTIFenjsozB7ZuplcVL0SERHx6dHe3dORDQ8be/Sp512iJZrSjcO7M3nGdmOcIUoyJUmQX/Xmwo6Nq1986uEqS9QmNKAEQEYGx35IdMo/DgpAAHT25je2djz74qu+BAlUUt1OJLa0ZtsFJIFQcCNmU8PoyeSDUFmxqhGjxjQNbnZDe90m9657H7/l1gfaewAY9LgADDzBAwhlycIgqvjaVr8nIiIiYhfZbgAJhUjXVP/htjurBw6uaWgyY4n+rEeYDmq3HhkUKJOgHXzouLbWztlz5yZTeqiICH100xYFRaPha78hMjg+JoGEe+7/S33DoHdXrdZNuzfrDhg4NOCw6+4NACBUOQknk8v257JOMmXFq2PxGiBmTy48cPSk2gEHZD3tiWde/e4V/3n3X1/yFQQAMUMzNYNQKpQCiX3kyjphe2JHIyIi9i8kAAdo78n+4Y+3jTtisiBUgiYolaDt1vimCAShMGIxLsnIMYfcPntuR68gFIRioCoS0CL2G6Kk0Y9Ebq9wIQAemv/sgCEjb79zrhmrUnq8sWmEBI3qlhBiFx0OkkgFYFpGwc0LCY4dc/NeJutqujlo8HDXE1wwphmmE1dKLVqyeM0HH0iixVOOZRkKFCOEAtlibRCyTTbHDrY7IiIiogJZOUSU3ikAochPrrm2pbN/7KSjQhYPqSnAUkApSLI7Ra1KgkYIoyqdsN9euqiuJtl84KhkzJBbks8UkGISqoz0hPZ1Ig/HhyNBSVASQEoAASAAQoAQ4J3Vm1avbXO55oWspm6A5cS4BCHEbi2dUuX7Bc00DMMIAh5PpGrqBmhmYlNLbyGgVEvEqwdUNwzRYul4umnFB62/vf3uufc/9u7aVk9QCkRSAqR82yqoyCSNiIiI+EgUCKUE4AukBClQW8gT9zzwcPNhR0hiS2UoZQiiYa/K3YJS2p/LmlasoWlYbeOQP9w+l+hWPgQFmEAKSikcu4SCaPTa54k8HB9OWWaLSCC5EAIKHVl4cN5L8bqRf1uwyOdGQ+NwqjmS6E4s0def0TS2ix4OQhQUGyQRAlQBCQMZhoILpjGLEF0RJpSSQK14XLfjRHck6MuWr1z21ur+fFBTP8Q2KUjwPU83NAVKEQlAhFJSESGVEIJzwTQW6ZBGRERsg5IAoBQRhAgAHwiXSkii9Xo+17Rbbrt74dJVE6ecpJl1klTlfcolNU0TpL9bHg4CNJVIZrJ5jWmDBje9NP/xpsEDpk4crQhILjVGiBSglAKiSmnvFFSUAr+vElWpfDjo3gAgWgjgKuhzwRfwp/v+tnxV++r3N6dr6poGDQWqhRyceLI/l9V1BmTXeivj12gx9xOAEsFAaUSV004lgATCKXAgnBAleEH4uZa17xPujhk1/KzTvjBl3IGWBoYOQopyOpfnFXSmmabJYKs+95E7KyIiAlESgCgBIRBOlEcUUJoKAPo4WBo75uQLgCXGTvxCCPF8YOixVEhpwcvaWkiB7+o6pGSgaZoWhp7BwCTeay/M532blrw2zwQgEnQGwDkoKQmTlEkCLDI49mmiZ9AOkKVXEUIxuJj3QDPgzj89ALq1du1a0zTr6mp1Xdc0LeQ85KGu67u5KkoUrbAwoKQPhmlbcovBoKhShFFLo/Fhw0cPGHjg+o09//2bO37xm3ve2+h6CnzKBAVBQVCRcOKGqXtBIetmACQFuRuVMxEREfsRFIASohGiAbAg5IbGHn920fJlbx5y2HgvDJjGAICAZEoyuXuS5JQyQkgYBkw3QwleEE6YOGXNW6sefuRFLoExkFwAVUABQOxWOmrEXkoUUtkBassbNLUpB+AAgsDD8152ktVP/f0F0043NA1pbBrkFXzdMHO5nG4YVKOgYJfLvAgAIRWtmQl6m4gEoggIKLZmkxWtnIngIl1Vna5Ka8zo6urd3Nrx7up1vf1+86FDJFAFVAGEPJRKaBozDZPtoB9jRETEfo8CINgFEvvQUyCQ90LTMC7+1yti1Y2Tpx63YVNnTfVAIFqh4HEeODEdRLDrbZwUAGOaFwSW44Q8AMGJ5FzK5UsXXXDBVywKgR9ohgZSKCCSMig3qo88HPso0bx3p6DV0JdxAUAC5ALod6E3676z6r3evkwsGY8nEplMxvf9/v5+y7aUUkTubtomrXgBIYRQQaggNCy9EaToBGGKMkJ0J57qyeRbuvqVlWgeNznZOGzFura7H37yom//dP7fX+cA/TmRD5RUzCRGNpvdLV2QiIiI/QRCMXtMI0QnSgPQvEJg6M6yFRvffH3J0dNOaO3sMay4H4YhDwyNGBqRgVf8saK7+HJ914o7nX19hOqGkwglmzR12muvvvHe6pZAgq7rIFXlDC9i3yZ6FH0EVjy+trWbAxAGt9x6V7wq/fyLrySq0qYVwy8oSpx4TNN0zrnv+1IKULv4jKf4+5KWTvknEggHwrdEdRQFpYHSJNCunh6ma7FUlWJ6rxc41fUDR41RZlVbb3jT7+6+8ke/+WB9j65bjOoZN6hKVH2qByMiImKfQxFQGihq2zEpYdas6w48bAKXLFsQNXUNoZBQDKnw3a2JBQDsmO2HodI0M5Ziup3Lh0MPaL7jjjs8j1ONAQ8BSr7ZiH2dKGl0B8iSqS0BvFDFdNKeh5cWLV3X1vvcy2/kvIDosZraoaYVlwK8kJuWw7kKuFBKEUYp3cW8UQqKEsKKqyKSqi2mBoGSnQFa6Q0FwoF4uqbCIMhmc+nqtGlbSqlcby/lQaG/K9PVmrK1yeNGn3Xal0YOTwEHw9zp6rc59ejGlMUti4iI2Pcp5sTjW0XWtfQePGHKuZd819eSnMYcq9p1AwIGAOAYJahUBHZdb9QXvh2L9/VnHSdmM2rKILN5PRQ6Xn/hr68++/jgxmrhu4apA2iSGhKAEQASJY3us2if9QZ87pAAspiIQRSAFwa+Mj0O73+wsbWn0NnRr8dStTV1UpEwlECYxrRcPq9rmqbpjOlcSgW7osbxIXcsej529B1FpRKZXJ5Slq6pZYbe05cJuIgZpgRKzXSq3qA8WPDim0uXrz791JPO/+dJIQBTpYWS8i4CSIJdqAGtGxXd4hER+x0EQApFGBGEhAoenrfAqWrQrWQIVsJJ9/TmATRdK6Zt7Japgei63t/fn0hWeYVAUxSFcAAAIABJREFUBWFrZ9vkQ8dmW95v+6Bl8bJ3YpPH1aVjOOgSBZTArieIROyNRB6OrcD5fSgFAJiU9QY+002bwK9ue6C6Yfij855v7XIHDzkoUV3ty1AqIERTlChJBEhG9Y91MMsVsKV/K0tZFQXM5yoZHwKC4hfUlsIWSqhGAaQQoa8E7+vp4jyQnA+tr7n8grOHD7Cq08AABJeGWbIruACgQKkgoMiWqpxyi7iIiIh9HenlenTDonqMEJIDqBo4+YRTzqwZNEKAIRRVoHFJGTMAgCqQRKotbtBdRYAUhEkFDIApYQppKG/Ji48lmPvKgv9jBCAIgHCgVBEKhElCyS4nuUcj1d5FdL52AKMUKOl2swnD9Dg8vWiFnah68unnO7oydbUDC74SIQOghFBJQCmlCFBCP67ptl3wRWlbXtt+TQIwUDooHYAVX4oKoQp+6HEFhq0lqpzaJqu6yahpasvy//z5/9wx98k16yEkICmVgijpqzAHQqAfh25VUxNZnxER+wtKcstklAqhlAfw2JNvpWoHGfHqvCeULOaWUcqw7YmgoAjd7SR0KYliRAElVBFQhAmiC9AOPuyI15etfOPNTYW8AqIBwK7KF0XszUQGx4chAQIO769vDTlbu35zbV1D48Cm2ppa0zEVUCwc/1Q7EG1/M3+cGhMn5sTj8ZgTsxzHFfDSG0uu/K+f3XH3cz5AlkN3Xkg9DlQDxUEKIkMqQ6oCHUIdOAFJo9s+ImI/gFAKuglU55K4HO6Ye3dN3YBYPK1p9jbfRI3C3Y2nEAVUsVI26JZRRRJaU9+gG+bc/7uP6SV3xm4uPGJvJAqpbIUEoAC+FFwJhxk9gXjyxaVL3/7gvTUbunq9eFWDbVenaxq6+jOGpUsiFSlVmgDsOeutMqwpduCEEJRQykBKyTmXktuOraTigguvoPm+KGRkUMjnOgfUJy/+2rljDx/qMLAEMIWp4VJRvkXzFPSokjYiYv+g2C4tGzJXkDETT5103Cl2dZNhJEQYSqCKUAkMKJMAOCbQLcHfj56WEAVEEgAIGQgCAMAU6AI05TvUW7di0csLHu5uWeFQwahSVCqgirJdj6dANE7tbUTnq4hSSinVn+mHCtmZt1a8u2FDe0+/v3Zje3VtQyxV5YY+BxUKLkAKkFJJKYtZF0TtqYQndGniixKy3YsSQqQAKYEQYhiW4IoLCUB109biVSxZE5jx9MCRXXn48fU3/cfP/tDaDxkBASNSowIYl0QRiosHgOiqiIjYbyB+KCWQ39/+f8mauqHDD8gVQkGoIlppgNnZ45/uyouUKC6r+J4GXIxsbgbd/NuTzzODeaFU1JCwG9kbEXsj0aOlCBocpmkKAEooZVpOhZs2t2bcsLWtN1VVmy14iVTajMfAYHbSkQRg932MewghhVRSKaVpWuUAIQkNCOOaXT9khEtMcKqd9OCOnLz08p8+8sSi9zfnJUCWkwD0EKgELfJtRETsT1AJoOuG0uC222cPGjysL+fGEikfM8qLfPqpFRJoTX1DwRfTjjv+f3/3ewnADEMBAI0Gn32c6AQXUVIpqRzTCniAfoo33njjg3XrN7V0dPbmYqnaWCLtCaFZdsC5ogQoVSXfw+cEjWmEEDQ+AEABFYQWQhGvru1xAyNW3TSiuW7wgZs63b5A+8Uts/939n0PPfduXoGmUSBGNpS9ubwEGmVwRETsD0gALwwlwIsvLct64YBBg7yQE0YpZnFu+3SQWxXT7SJESiIrct6lJFISKHhBzvOHDh/12qIl76xu0Rnmw0fs40Q6HEWECoESBszjUqMQKvr3Fxd35eDdNR3UrNHteHVtfVdfjuh6IZdllAKjQD4v6niUFIcGLrgUkrItI0UsGe/q6TN1jel6ISSBoCNGjRFBgXiDl69Yu3T5u68dPeHUk6YddEBT0rTiusUBGIAotlfYsnuVjhO1k88jIiI+t5Rv28p7lmlmXsC9D/y1oXGQbtqKaP35XCpZo7ytrQoiS97c3bA2FAG5kxFyU3vHQSMP6li7UjMTTz/74rBh5+gaaNH8d18nShpFpM89YDTvCjBibgiPzv97xg0fX/CSMhutZG11dTWXIJQsW/2SSACgigKq4xWbvn6GDg+J7g38A02QYtynBFWAAjtMSTPk0sv2Zzp7uluSKWPq1HFHHzXxsNFN0pO2TnUGRClNKUYI/kRKAQAKGAAQTC+tGLYisyMi4nOLKhsJW2eZSSCBgu48DB7UfOq5X28YelCPK0KwnHhKeSEoqghI1Okp3d+7NsWq6LStAAAEDkJEAgCTQBUEfr46ZuW723NdG5e//tzqdxaABEff7br8yETZu4g8HEVMzexxc3Ys5QnY2Nq/uSO3qa0752vJdNKMpThooQiAUdjVW+4zQClVtDNKA8yONpUqAkrRvB+YJJ6qsVK1De+teeeJZ19fs6lj4tiDzzr9qJCAAjAIkYRIBYxQRgilW/ydgguA4r0emRoREXsFqtjIess9qwAKISx4ZtGIMYfH4lUhVxrTFWE85Dph8lOai24zB1MEJEg7Fu/NZmqq6gnn7d25D9ZnRwxOfCqri/g8E7WnBwCQQEIFlmH3uyIf0L8//1rG5U8+/eyQAw7WzESyqlqBCoKQUh2AkmJDZ7yPCECxnrSYX/2ZPX93FubYfoMoKBaGQmka0S0wTDuR7M7kOnozK95bs2L5yrhVNWBAtSSlFgtApBCCc865lFIIdHUoSml5XZHZERHx+aU8NpBtDA4iGXz/h9c1DBiSrK4LQaOGo5guhAJJCJDiMEekIigPqHatiqTCUqESiFJbSvgkAQUEHMfJ9merkklDJ5vXv88gPH76+PKid300icadvYsopAIAIAE4QDZQtkEeeWrp6g1tC15YDJpd1zRC6bZuJ4Ig8DxPMywAoMVWKVvanH1OQio7+Xx7pyMlwACokJKHPheBZWvxhNXV3dbf0WKFOV34R04eP+PLJ48camLhCgMwSgtSSklsIFkRWIkMjoiIzy3o8VSqVMBfultDQjb3wOhxx55+5nlSt5UWZ3YypJpXCBxqEgWlkIqsCKnsShCjYiwiEqAckcEwNABQ07FFwde5YGGuc8M7y15fsGnV84UgcAwDdseMiEIqexfR+QJA1yIHppF1rcGadZvfe7+lP+OZZpVuOITpQRAopSzLYoSwLSXlGimVqn8+imN3Vgq/LRJAgCoEPtM104lRzZCKFTyVTDbUNoxgVr2RGLxwyfs/nXXTrXc+2Z4BDqAAsnnP8zylokaOERF7GaQY/QQClABVkoShCAJOAZ5+5sVUTYOdSNvxKsW0UEEoKVBdkvLQ8SlUrWH3eaooVRSASgK5fKAZjhuEzLJHHjS6fUPri6+voJqOKytPgj9iLIvY24hCKgAlg0PXYP7Tr3f1eS8uXDpw6IGJdKPpJEKhFCnPCUjp61tR+r/PNqSyq6CX1DQ0t1DgPLRtWykphCCUmqajs5jrhl7AAeja9e+/+fY7+RCGDhsYNzWDUYVJ5wpga99GZIVERHyuUUDKIxUBAkQ3GAX45r/9Z3XD4ES61oylfEE4aJwwCpoGQEBhajxUFP/vdkhlR2KIUgEQXVFCldRAiiAvadjZvmHGycdv2cgdWRjbLysad/YuIquxiGXA4mVtLa1dby5fUVffJMGghp1z/c96uz5NMJBKFBDFKXAKAYWAksDWmQbAgwA4JFONNXXDmgYfVD9oBDVTK99b/9dH511z3a9b2joppVJJz/N2tny1Hf/IvYuIiNgZxSavUoKSQBSmgK9e371uw6a6AYOp6QSKSqASGCgq97C8EKUMKAsCwXSTS/BDMXbchMfnP9GZKaitPSrRSLKPsd8ZHFJW9BASW/RouvrguRdfWrdpc3tHT8EXdfWNQagUMytci/sMEgDcQiFm2zHb9twCUdLUGQMaBLyzs1tSnRmO66sBgw6obhzuCvvd9ztnfv+n9z3y97a+UJlOSFhIWUgpJ1SWpz8KiCJEYXEL2UMq7xEREbtNMeNTAkiiJEihCOnNus++9EqqrqlhyAjj/7P35nF2XcW9b1Wttacz9dyarcGSbMszNnjCBoOZiUkYbrhALoTk815uEnJ5yQWS93lJ4CZMSYwZAgmjAYMDjsHENp4HecCDbMu2BluWZM1zq6cz773Xqnp/7NPdRxO4sVp9Tmt/P/sjne5P9+m1z95r7VpVv6rK5Gv1sLHWITdnt02F5SGCRNrEFhRZYCb084XBUnXjlu0MgJAUIEiZgZxUolEGADaGtFur1XwvMAKOgpFq5HjuA4+sfeCx1Vt2DRRr0jP7VDfXa9AvVqqOg+PdUxPp06HND+mI163FUT2aYy+OoieVRu0OBozZxEgWgKNqyRZHRw7umTe39wP//XevvGyxCxAlStKYA4eikF2PIAKQMS+nSvTth6jiU1JSTiBjM50RrIAAoAEEQYpQacLTL/udJee/xe2Ym8nkGNAwMBAjgZDDTAKMnGSpNN7nFYrVxgWkomt16evrq5eHwJa783rL5mdGB3cumtP5gy9/NgAITRRol5kRG1uXxO7hRtR6Yj1pxTU35dicdNeLSNWrlSAIImtIQQSgPHfTtoG1z2/cu39gtFgGclA7sWVjWCt35n5ARz0zBjSAhpEZFGifMTAc6KDPON3d884cCd3Pfumbn/rH76zbXaxaGAlj5dBQsaKcpnc7eSzYlJT2IJFicOLqEOHY8oZdA+XYkp8nLwukeGxBIOFki3WUwAoeN8eD4+ioFjEDIg2Xi4tOPS3bPeu+lY8kZY6JVC0Kkwz8lJnEzH2eHoWGw7BhaANZAANQs/DgY0+9uG3XSDWKhPIdXcrxjIljY7QzIz+fSSi+EUlpjahmzZnLSjFQV8+sp59Z/6lPffrHN/zX/oFRA6AymRBhuFS1BIAACoBAgCH1i6aktAhNtgKRI4y3/PJu18sGQeA6LioniTUTMAGTjIeap4rA9Wq1KhER6Vo1zOe65s5ZMLLnwONr1luxmpQ1VimVajhmGCdblopIHDt+UKvVyXVrAi7C08/vvWflowdLdau8zp45fq4TlR8bYACtHWEzvmeXQ9JQkm/iEa9bi+MyJgL0PN8a42W87s5updTwyMimTS9tfHFzaGXZ8oUugvYcTrrZUWLVAWCaw5KSMo3IxP8CAMmsJFAqFvz0568Vt3POojO0mwUAY8zE76Fg82J3SFz2FcxlTGqdEgB6XqZcLAauQyRRWNOEvuuJcOngzjdeeRmhchw9US0sCaNMFFtsaqrw248mZRo4WTQcjdNki2wAIUYvIizFsGNf5aZb7nhx6579g6XevnmdXX2CjmEdxcCgHUdbG0+ppT/VHA/xJgEAsiiNYiMblmb15E1Y2rdn5+7tm+bP6+vrK7z1qtdffvH5YLk3S/XYhtVKZ0d+XHqWGhwpKScKPvqXIsACAoJaFB2swKwFp//eH/6F6lhg0D/yXZAJAOTI1tGvuOZQQyPiuFE9JGHfU/XqiBKDGPlcvPvn39jx4rMI4gAlFUrHd3PjLV1SDUf7cvJdr0bWCVoBdODZ5zdt3j0wMFp1s93sZiJUsZBhINKKKCmpmQIAVrhYqsQWOnpmHxypHxisu0HP+RdeufdAdeBg/O3rbvrM575xYLg2YqAcSaajIICcmhkpKdPJIctX4n0UICOw8qFV4Oa6e+dMV9HCMAw9z/E8LwxD38+5QS7wCr5XYAtr169BmIHJgSlwMhocwCCN+OQza3atfWFjuRZXYgk6e0UFoVVhLCwoyAiMUxzIbAsEQRBQq+6eHuV4u/cMMOiOntl+rnf/weqy0y4aLSnt9m3fU/r/PnPN9T+5J2RdrgL8hi536QebknLiEGQgBFRCEDLccONNZ593UWxQjvFkF+KjuDeOJzw2MGIgEA3iAuhFi5bceOONCCjjqlXENHIyY5jJIZXxU0PEQ0IqQCG5VYJ/+sZ/rt6wrcreaJWXnn52GFobGdd1NDowFozgNk+6eOUhlWRJYhZrjaO05zi+o6OwZsK6UspzHIVcHD1QHDnAtlYqDpy2fNF7fufNb7x4uQMAAImQdGLB4IapgYiIEx1o06LpKSnHAz76a7GCxIZEqSpDR+/ZH/nzT5ZjRzIdFifTM/y4hFQAHO1G9RAAAs+pVcokgMA+F1277VcP3Lz2qVXGxJ5SWgCZEECQBUGS/k1pSKVtmZnt6Q+zoposDwXA4Ljlsv3VMy9YUeVqVLV42opzoog1OtpzRKSR743HYXbNAFAYAIiIyAGWyETWxAQg2jEAcRwTGPAzhTnza9URzGZe2j/y5e/8+M57+t72hsuvuOxca8DXIBYcBXEYuU7jbYUFwGjlAJC1lhSNa9xUuqFJSTmeMACLtZF1DKt7Hloza8ES7WZkOkLGJAxAbGKtCQCMsY7vAQAJoEi9mqtB/sVd+xbM6XVArBzyiGq0VjhkVU7XinZiJj9Qj0ypEoQYVGhh09bdz2/ctu75jWEs2ULBGCSmJASgoGmjffzyzmcG4wVEGaDRjwnBIhkig9rLdnr5rnzPXJXt3rBj/1e/e/0Xv3p9OQIDUKxzNQLfc40oK2gFGchVXhiFYRQ6Sv36v5uSkvJKiMOQVEaRDly46+4H+mbNB1QC09V4cmJdHS/1YREsUZDr7e5bcN/KR5XSFljACFgGyyINayOlnZnJBseRMCCTKlfhxZd2PP3M+v37Rwr57s6OPhNFyQ+MJaAf+ksTx8kLCuOx62oQKEIFol2dy/md2WzXSCn08r1rNmz92F/93Q9/eh96ZDXsHKoZVDFpi9oileMwcIPA9WpRDSZaSp7As0pJOSkYMywUDlfh5ltvW3H2OZVa6GWy06fsnlhXxzNRQEhr//TTzrzlltsMAwMwMoAFsEgo1GjUPV0jTnnlnFwGBwhYgA3bDj69dvNwqa6coNDRm8vmgyA73SNrT3DcDiMQAtEAmsF1nMJ5F1yhva5SSAeGw9vvf+yv//Zr9z34PLiBQbCAFhFQKcercVy3oeu6qZ2RkjJ1OK5fLZcBYdNLewyjn81VIwvUcp7FOLTLlq149pn1lXINABq1j0/6/d6MYWYW/hqvN9WMMcaI2ryzfvfKVc+s21yNpH/eqUGuW8gxsYzZXo3O68d64xN0AsePqRgxAQIAkjTV9RIABagAPAAHgCIjjpvRbhCzKpWr5Ur9+Q0vrVm74cxzz3d9JAKNYBkcUoqUsKHGm6SFwlJSXgly9NfkxEyuQ5+99tvg5ws9c92g0wCxvLyG8xMcn7l51DmuQHyFYMKD+7cvXDB7xfLFHoqJa46bBxAgGhsBNh0p7cRJ4eFIZByO4ygH1m/c8dLuoWqEyu/IFXqJtDFp6dxXDoEoECdJbxMJ9h+sVmLK9y5YuPTM/nnLIgl2D5Rf2LzrT/+fT950y8pSCHWA2ELSLgHTrPuUlCmEwjhSjq4IPPbEqqXLzlCO5+Vy1Xo0pW3ofwvC0FYr4Zvf/Nabfv4zDaoSVzzPZS6mcrqZwYxa6KWJZs2BMUZEmHnd+p3Pbdi8bffButWdvXNFubFFYZlhn8OJB5EQVRJSAdEM7pLlZ3v5/sHRcMe+YTfbvezMV513wWXZ7tlBrufar//7//zYJ+9b+aTjACOF9apuJOalVyEl5fjDAAykFGzbPrJr30B3b79ygsiwabWHuJDr+NaC1t6TTz01XBthjgHY2vCQnwIZP6ZrpCm/HTN1ieexJm3MCHXLMeL+Yumuhx9Zv3n7SM26+c5sR3dsxYocq/RNysvmKFr3weHhKDSODro6+6yoUjmqRlLomlOq63POe12prj53zTf+z798e9POg+BnawAxKotoceyyNd6GDxGXpY6olJTfCt/RCLDxpS19fbOqdQOoRoZHHe22VOY/I1gCQ2SVU6naXbsHtM4ygON0TvfQUo4PM6fwV3IiY6fDCEYQGHSMOgJggDvuf/TO+596ZnOpo2dJf38/AIg0ld9uEj8314Fo98/nePRSORbN+yMCAEoWLyHGRhcGFABgEgBkFCABpbFaHimNDkRRKY5GfRcuf+2rP/Deq7szQDFnAnIAsFEujAkMALOwZQEhrfzxLLpjWYmT3bO10HKbknIcOErhLwYqV40O3D/46F/PX3ruQEViynb0zR8qVkTiaRnlUUFg4dDXtjK0A2vDl563/I8/8O6urEYwgIqPmPPCgoxKHx4WKhbLWmkiIkWKFADU6rVcLnOCTiPl2MzY9Tbp9GORLEAEsGV/+bHV67fvH3b8QqGnR3ueEUmbfRxvOFGVE5gkpEXCjfQTIRBi0LFxglz/vEVnLVhyls7OKhr3lgee+N+f+adf3vfkUNWWDRQjiMfqfDBQtVaKTc1R6GgXgKfUgEpJmaFQNuOKwNOrny4UCj3dvYhqeGhUpLWiyYJQrFZYqe7+OZdefuX3v3eDH7gHDo6A6KOOEwkT8enoSCmJn4dhHMe2UMhlsr7rutbYaq1aq9eymUy9Fp3g00k5khlVafQQb4QQIzCQAMQM993/qz17h/fsG1qwbJnruoZZoCG4Th9hvy1HX6qazbjkdWJzJKGrcrmotdYOOFoWLVlaqYwMjRzYsnXbdT+88eGVD7/jbW+98FUrBCFwwAVQoDNBJ0MtjGvWVIKgAEBjfxdbaq1MSWllFMCaNS8xs1aKmV3XHa0aN+OxtNZjuLu72/cwLpdnz5m9eesWAJjd323jGFEd1desFFojAHDf/fevemLV8MhwpVxBwjAMHe14nqcdvXTp0ve9733dXV0n+FxSjmRGGRzNMIIAWQADsHr11nXrXtq5Z7Svf6Hr+sytppWa4TA2bA4i6u7uZjHGRLGtk1W5QrfjB2AZw8qewdqXv37d0iWn/OEffOj0pV3igIMQxpFW4jie6ygRCyAAFoQQNQCnNkdKyrGh5gjLQw/96pyzz6vWavsPlDpnLYoERRGbaRzeUXAc58CBPS+sfjyQ8Lzzzrvttvvfe/Ub2LI6RjHi7dt2fu7zn7vue9clDbN837dsq9WKo13LlpkB+PLXvg4A3v62t8+bN+/I+EvKiWTmrNdJsY3kNQOVqzUBXTMQA/znz+/ac6BqIZfJ9gd+HpJWYWNZ3Uk31GYajWIR0pjLpPg1nxgjMLIgW2EBQtLkBJHFWgykgu7+U7zCrCr7Tr5/5/7yX//t5/7te3dt2QsVAxknC9arV8UYECYRFmE4NCPphJ5kSkpLQ03H+JdQqtlf/OLmd73rXcViMfD9ej0SEZ6OXiq/npHhouv4ruv+/Gc/u+qNb3rwwYcVQXOXRwDQRJoIAJ597tl3/s47v/WtfweABacs6Ont6ezqzOVyjna7e7qXLl3a19c3d858Y82e3XuGR4an55RSmpixHg4vm69ZQcLb73pmz/6h0SrNmbMs09UTcrO2NOVEMG7PGeHy6IhS2vMd5WhhiK1lUI7f2enmC531fTt3OJq7Z3fe+9ATTz6z7k2Xv/rD774ig77v+pVqzQ8cAFYKYewKpnV/UlJeDia269at6+7prpTXU7ZgWADAWAsoLVUr3HEdX+vTTj9996a1V155ZUZFloG05iZXjQURluHhoU9+4hObN2/u65t1+mmnZ7KZFStWrDhjRalc+qu/+qv58+d/+H98eO68uYVCwRq7bPmyJYsXp/mI0077GxzjlgMygCA22h8LICnYsbt0510PaDfH5bi7f15oAWyY1pA5YcgReo7Z82YbY8Iwjq1VSoFQbAVEjQ6NdhRyZ5530bbNL7700otduVwtonvuf/zZlQ/+0Yfed9llp3tOAAxEqnHFj3ERkyUlvcApKc089NBDy5YtO7D/QJDNRlpZEQvCzFojtFI1i1pYFyukVbVU3LZzxwff81rL4BxqEtVr9WwQXHvttQ/cd/8ppyzSSl908UVXX331pZdcCgAHDx78h3/4h82bN4dheNmll82e05/8Vhzb4nCxpydVckwnbW7yyfhhQexY7Q0wgEPVWghw290PDlfMwHBl2Ypz9x0YIu22WmW9kwoRGR4aKpdKsbWECEIIikDFVnr758aMW3bu6eyb+4a3Xt07f1FVVDlUQyX81ndv+sK//HTLzpoliBFiBIPAQDxmxIhY4LGj8Ycg9WGlnJwcqlHD5Msnn332osuuGKlU3CBjxoKSRIpbbJ4UCoVcPg9ChZ7+e+67jxkUHZ4Dnw2CfQMHrrvu+8pxAODyKy7/4Ac/ePnll7FwrV6bNbuPkEZHR++9794dO3ckvxJFRiuVWhvTTjsbHCzA0jA4WEQsAFfr9aSlRy4T/McvH121bls51uR11WLu7u8ZKQ2l7o0TCcpEEhAJKEClNSkFyAw2UWAwApHU4xo5OpMr1Fn2D5fcjp55y86cv/yckmQGQ2/lUxs/8ZlrvvLdO7YOSAkgJhip1qtxSIAWrNgYOE6MTrFmfMGVppKEKSkzHrYQhqFwQ9gURSZJ5rIAP/2vO9/9oY/e99jTG7fusoKuF9SqdSBFLRaVLJcrgCqXy82bN2/NmnVIDW8ljrWKRUIGWL169YED+0W4UChcddVV5513ThjGyXqyZ8++Wr0WBMFLL700NDgEAMLgaJ28SJle2tngAABAsIkD3YhwvV7P+vlyHIcAa7YXX9y6/2AxVG7Bz3UgaSvxMZTOKdPLxI5MEATJAFpRVlQEzuIVF3g9823QOWLUT29f+dmvfuvme9buGgU/5xtxagIaNZBmABAGYREUltTISDkJIQWe55GiOI5rtZrrunEcE1GlYoaKlR17BtY8/2LdWgGK4ihxD7QUDIRKR1EEALPnztm1Z3e1DqVyDHBIdJaZXcdlY09ZuLCvr+/CCy8EAER0Xe37/re//W1rrSLl+76xLZaEc9LT7gYHADbKaQjCwNBwDEDKsQCrn163bcvu0mg1V+ju7Ogmpdiy0u1/vjMCEkjKjwIyNd2FiUckqUlKQox0sB6abL574dIFK87vnLOkh72iAAAgAElEQVT4sec2/fsPbvrstd+986HnhXQtgpKFCLRFj8m14ADhYZr2lJSTliR68shjj/b29O7evWfg+ecLhYKQqtYj3/dF7HQP8HCUUmEYWpD58+dXq9VfPfo0EIaHDnN0dDSXy3qBPzI8vGDBgtOWL48ikzh1Nryw4frrrzfGkqLly5b39PSkXo2Wos0fwCiCIAAWiYFmzT0lKee1YePww488VRyt+15HEORzuYIAJXMvbX3e+lCTc0J5franBzPZUmh65i9atOwsnel5dv327/3wv/7p2h9v3jaqFEQCEWAEZIgYqDk1d9zPkfo8UmY8SUjFGKO1DoLAgigiBrj77rsvv+LydevWQle35wUgZAw7jsO29QwOUpGNrWHPCzKZzB133tmR0VEcN0/eXC579tnnXHLJJSNDw/v27iuVy4oUIo6OlP7yL/9yz549F15wQV9f3xWvu+JVr3pVmpnSUqhPf/rT0z2G3wYRAQQBAUABYWIDZEVFjIPD8qOf3vrCpj1+tnfu/KVaB/VYAIHBIh7zqdNsiBzyus2fUi1hXjVbANj8bcQxF1VyCDb+FQQBRIQoDnP5PClVKpatiOv4gApER3UzcLD46ONPbdkxfN75p1kAUlANLbMVYUcrhWBZxi9ls515yOupPfOUlBMHEijSAERIIFAPY2YgrT7z2S+89V3v+8a3vn/q6SsWLz3DWCcWdINMHNcVtVCWiiAAgkuKJCIbusjPPvXEx//kI4iKsDFthQURfdcNspknVj2xfu364eFhrfWPf/zjj/3Fx0ql0kc/+tEXXnjhbW9/29VXXz13zlwkQJw4UqaX9k+LTXoMomIBJDQMDz26esOL25EC18kpFVjQIMxiAK0IAKT+9jYBGQQQpTgy6Dpu/6z+qF4TkSDI1vx8ZWioNDxIjverVes2bHzhne9842UXnd+Z044GF4AZYmsQEYASmyMxNNMVJ2XGQ2OFNbRWrlbbdu3euHGzMFR37Dj/fR+o1Wri+IjK2tYqag4AJJBkzRApYDj77HMef/DO3QPljqwbeBO5saSoGtaveuNVf/t3f3fdd6576KGHDh48WCgU/viP/7haqW7fsf333v17v//7v79o4SLLVoTS6qKtQ7t6OCBJiUQUQEZgEgvkIK5as/22X95fqSJjJpPr9bKdJgYGFmTAxH94dBdb6uGYQo7l4Tji+Y/AAELS8HEgSHdXZ1ivhPWqEgkCj61BAE/7hXxvd1f/8MioBR4aGVy/fs2Lmzf29fRkHZ31PE1QDyOtnea/IiJHfh4tVfUoJeWVMlGXSAABEEeLpe17D+zcN7Ru87ZXXXypdjIsPguhViLJ/d9KaxyBsFESucgdGWf1k4+efcZpZ51x2kRyrIA1xhqbL+QXL1q8eNHiOXPmdBQ6+mf1B0GwfPny+fPmf+zPP9bX36MdBYIsjEBpYKVFaNf29DLW69WCZWGLKgYVAFx73R333ruqGnt985bqTJfjZmIrjMxohJJGzEf3cBzT4OC2/HzGaQWD6cjK8QlH09MwjGk4ECBJd0ZmUuhoLRbYchiGLOhgYK3NZlS1PLR390bXsShhxrFXXHDO6y676OyzFscR+F4jbEMAigHHIiyHhFTSlShlxtAkVGKS2Jo4Np4fHCyaK97y38qxe+nr31Tomlczbi1mFXixjRUKtcASMY6QEg4dqXsYZ1Ttzp/dcNkFK7759Wt8LYniX1iq1Uo2l2PLjlIAUKuG5Uo5CIL9+/f39fUVCrkoMo7W6dRuQdrV4EiwEMdQ8yBngUKAe1e99G///uNiTWU65+R7ZqMTkIAIcmPjHAMA4uSiSC01G38LWsHgaObI2qPNHPFpMzZZJTJh/FGSikLCgGzjWqVaLo0OcVQvDx4458xlr730wvPPP33JKW4WoWxtt1JgrMuU2BrJGHAsuWmco61Qh2nc0zUspVWRMVcFJq5CDk3ESFnlPvnC7tdc8e63/O4fdHYviNHVQVBjJtcxicExqcK8MqVTgIB8E8cIxnNtaWhHRlVv/sHXDuzdmEXwUAAg6f+CiEgI0JCIp7ZFu9D2Gg4X3KKUAAsjVbz55tuLVc50zsp39aDrCLAVBgRO8yTbFRpTXxAASLP1hAwAFgGAwM36OvCz3bVKuad/0TMbNzy9/ifnnnvqu69+wzlnLe7LqZJA7vjcA2l/2pSWRwAQBJiRAagq8PgTTztu3nPzXtChUdfFKtWoMSrCrRF2TSAQAtGWyIAFN1vn2Onpf2HzjguXnTLdY0s5DrT36omgQqAoUgx4+x0PbNi8PdfZ5WfzfiYrCDyRgm0BWi4BLOXlQS/nLlVEynGy+Y7RYnnegoVz5y3YtGnbv3zpX7/wha/eufLpWgx1C7GCmCAm4KRGGAADMAmTpJ2BU2YCOP4vA4BSxIKDg8Vbbrmtv78/CALHSVRNDeMbCbG1nAOMJICcuDaV0vlcoa9vzg9/cMORP5r4O/GIwucprUy7XysqlWLfyx0YjP/rl3fHQkG+k7SHrscMkj5FTg7Gw4JEtPz0FZ3dPeRltJsz4m3asueOOx/+2tev37Jtf9VAjBABGIVGY6zAUFoVKGVm0VjxGIAJHBAaLVYff2L1qcuWA1EYhtWwDgDWCpIAcKu1ekg6VACwiAWgfL5j/rxFd9/zgDTkWJgWUmpr2jukIgCZfHb/EHzl69cNFyPtdHR1zxmqhGFsgDQCEDAgEABjKzkOUwBg8vqYo641ibVhrEmiywcGhzzPm7vg1FmzZu3d+VK1OLj2+R3bXtq1d+vuC85dcdWb3rjwlGwMYAFY2EUEQWdC2N/8xtz0go72fWh/ez1lxiEAZAAMAAmI5+hnn1lXHh5dtmyZ1UGxVjekFSFb0aSMbal4CgAAikViRBCRXC4bR2bBKUueffT+ffsHF8/uYRBGoFYbdMrLpr0NDgAIQ7jngcfXr9/S17+Q3dyegcF5C5ftOzjouu74z6R+jpnNeMdLRHJ9LQClSh0BuvoWZDOdca1UK41s3Dq0fddDq5/f+ta3vP7y152rFAiQp39jRmBr7f9SUn4DmFgbST9YVYvhoUcenb9kuXK8kFlQOY4GABYhpSCe7tEeDoswAlKykRCKIuNob87suQ888MCi//4ey5x6ONqattuicdLri8e+2LUneuCBx8OIPL8jm+8C1IZFUcOQSmPzJwmIBERAKKiE0TBEMTCrINvZ179w9uxTu/pO7Z51+vbdpS9e853P//P3X9w6WDWwp1h/eW/PE5aHEAi9TGVJSsqJBpMVkgEgNLExfPdd919wwasdxxFhUuAFASISiYhpzWc3YSN9nRHCOHK87KIlS390/Q3WGGNCATMeBkrd1m1H2yyazInl3lj4ZUwIesNPb65F5Bd6lJczonr65uzYuTObz0/vaFNONEIAYK2p1+uxNY72MkHe9QtCQcRKZzt1rmeoamL0C7MWPPfitr/59Be/8d2fDozWawARQkxgqXFHMYAFsSBGOGluDyLACCzQ5kVZUmY4yCAWwAqgBVWLIULavmlLz/xTqlaMKNKO0ihiCRBZqAXT/pGhsVEkKyo2Sjl+/6wFDz74cBUkZG64MzFx4UzvWFMmTbtUGmWWGiFVoyopxwLVY7GEd65c+7M7H7FeoaN7tg5y5ARG0MvkrLWASS8OwEOZbO3NdjehW278kxzQb/KgEiIhoAggEKEipQABQFkBYUEgQc1AXuD5+Sx5TsRcjyLUzt79B59+7rnBgyOgdEdvV7luXYfqlhmBxTCwgCTbLRDExLEhCJRuq1JaERFASeopE4Nr0Kka/am//+dR7c9esiKibEy+KB0bgwgMokiA7eRXiKm9+xGSLtIKAJEVioixvqeHawfJpde86vzR4aGs71PSTGuijHtKe9AuHg4mwmpcDtxMzFyqhHkHdx6o3LvyEdQBqgxoHxxPkBgJgBhpigvUpLQuiDTmCCNGYiSLZABB62xXd9+cuR19s/1sp6jMSMne+8iq6278xQ0/v6dYtzWAEKguELIYJhYURuGkJfFE29m2rpWXMsMRAUZhxQyxwBPPrOuduzBCFaNmpWSsfK+CVr+NBckCEnkg2oLuO2XJt39wPaHu75md/ECjR1KS4J7SJrT0U7kpck4MJEAWtEEtyhu08OCDT65Zu1FrTztaOdrRzriR0XJ+wpSponGPECGREDVshLHvjx3IiZrHCqDS3b2zC5392VwPgL9vsLxx655b7rz/mq9+8+HHN7gKGNGwy6RZHIuKUQmM2a/pdiqlpSHgRF2EjPDUkxs2P79h0aIl2OjnwNDoKsVIAizUgp0sxwVSQkn/CkFgpNNPO+uljds3bt0xPuLEYErrcLQXLR1SGS/UyyCRjXydKZlIK8fXsOaFwZt+dluxYt1cl+Pn3CDwfD+MEg8hNVRFKHiULIQ0pDKtHOeQSsJEV7ambZsgCqAA2kTzwySCwgielyGlER1BMMJaeyI0PFJ5+rm1jz+5rqOjr392l2oyMBqhOBobP77MUaWknEAExur2KwY0CF/62nVDVbNk+ZnkZKwoRoLxuucTvzRZpjqkAoDISCgIIARMYJQY31W1clEbe8klFxIDgggQYhpSaTNaupdKk6uMi/WRrN8xUo+roXJc57NfuO65NRtzHf29CxbF6IJ2rChBJUg83iADk83uIYhM7g5td2dJK/dSeTlM9tHedD83XfoxJVrjZ3hc5W46C5mD+3bv2bUtrpVzgdNdyM7q7Tlt6aLXXXLhknldjgZiUAgeiUJGsKQn0q1TUloLaRyMMBxC7/zzrrz6v80/dUUobgSOQSJgEqAJh0djvkxiVk5xqBqFBIFBMwIJEBgtdQ11siWpDz736P0P3P7zrqwmYUYgRar1tlQpv4b2qMMhAFaQQeV85fhwy+3PrVu/pbNzbmfvXBANCCzCAI2EgvFHVGNupCG+GU/zJT683wqPVXpmbDhsBdRYMNEZHIn8/KxTluaHDuy1YXW0Gg29tGfTxq17d+079/RTr7z80r5ekBhYoUvqWK2GU1JaBYKoyG6BbrvtV55f6Oudo3UwWgnBc6Z7ZC+fo9g0rpMBjrZt212q1Duy+dTMaFNaLqQiDAACwAAC2PAvMKA4hKAHazxSwi99+TvK6ejonut4WSZgBCYSSHqBJgVwG++GEy0Ux0lDKtPKcfZw8OHXFxkakZTGvZO0fONGb1gEUCIaQAFoAE3aqVTrgtjd2+e6maHhkVot6uzqLh4cXLdm7aaXNpkYZ/X3OS6GJjQ20so5xoB4YoM5fkia0pIyJRzpmW7MFAs2QiPw8U98pnvOwrmLlrLyYwZRSkCwEVJpig4m02cSd+lUh1QQklAoNqI/iEYBe65XL5dNpTg8sPcNV15KIABAlJbiaDNaLqTSiIGgZeTxNkQCVDYGtQsAn/n8j55dsyXm4MyzLhitVsFRFgFIM5AgMRAiNoVU4DAPRxpSmV6Od0jliJDZ4V36ODE1EveGIIGQsBqv3IUopFjYxGGlIxNowmq5uGvLprwjvYVgcGC3o+GSV5/9lje/fsnieZ1eIhFqLHLUNABhg3TUamCppC3l+HN0g0PA1K0O1M49fMrC0/7wf/+d2zm7GKFVTp2jpER/U0gFIGmBhtxiIRVioLGQCiuJFEQ2rPdmtSnu/9H3vjy0/3kFQhAToZrwVqa0Aa3k4WBJdH6AIGAEjQI7WNnvuNoADI+aQuDeeteLDz30DLoFJ8hnezuNwpiUoE70UoAoKNCQivLY1hcPPSZHu9vPrTZ+nORxpNfg0AObDgEZ+wsTdhZKUo0FEAEaFgcCIVMiSUODwgjskmOFjRFUbndPb7VSLparMWghf9OOA2tf2LF7sB7rXKGQQQIHQQBYDKGwxCaqAyXmCySJieMeDjzkHFrtaqS0JQ3hhSTL5cTBiGVTjcj9zBe/Mhzr3lnLKiGoIFuthUAowCgCICgEAo26Mo3bchIzcgqgifdHgKSGEgAkun8gFBKhcrmaz2d3796+aNH8RYvnZrRjuKowUQX8hmUinYAtQisZHI2nBSCAoLVoarbkeZ4CrxKbbDa35oXSHXc+vGP3wXxnv87l2CFxtGESJARJvG8AjTc5Xlv7dr9D2338k6HJOZxcfaFk8Ro3QSixPhoWSpIqm7xOaKx6COL5nnZcQTdiqsdYrNn9g9XBweGdu7Z0dnV0d2RDhrBeFxRXOUq7ibNQkgV93CuDgodsv06mq5Ey9Rzm/mMU5fhlgQ995M/OedUVS047rxwiaBc0MrBgI6RCEyEVmHxIZSo47M+jjH0HGzsGdLTjuW6tXori6r7dW65+x5tiW7Zx3XOCyYw+tTmmmZYTjcp4LiwAWwxUpgaM5FmAp599bu3zL4AuOJmMmy8Uw1o2yEJspnW8Ka1Dk0a4yfHbCIq9DFdww0ZFZgTl+EGHm+3gWq1WHBktlUoHBgbLxYPPPrV/25bNr7/8ta+//PyeTGaobsqVWldHjogARFgEGWQiEtS8vKWe35TjxbiTY/w7mLjwAFY++ERcrC5auswiMQIisBAjA/LRZkEbKOsZwSIgoQq8xcuW33HzdXsHhpbM6Za0BEe70XoejsaibxlFKceCHq1EBS/7q1Vb777nkeFy3D93oQqy5AbFejWTz5vIJFtSaEgCIfVwNNPu4580r+C6N+4eAkQgUkiEyvHcwHH9TL6gXL9WL8/q6963f+9Tq59bs3ZTtmv2vPlded+txjBeRR8w6XbZ8JQ0i9pSgVvK8eYQg0OQIoC/+KtPz1t6br5r3oHhqiXHzWVqUR2JCSTxiRzq4UheTq/U60gPh4x7u5MYSxiH9agyu7eLJC4OD5RHh950xaVhZLXWk+xWn87B6aSVRKNjGSkAwGgMsQtuFbge03DRfOGaf3tm3bb5i1d09J5SCtkrdA4Uh7K5gI2QNHaxU9EYNhWNtheCx2GvhpB0wWYAIABhiU0chmFYHg1rB8DW+7sLpaGh/u7CKfPn/t7v/s5pSzq6CAxAfGjiLI0ZHM2lluiw/1NSJo+IFRFEFLHGGmZGREPBtoHKWWdf+pE//ZsY85mOObsGh2IC7ZBCS8AoBABK9GG333GZNa8AOvprIUisD+JqWC3kXYorXBuA6sEnHrhj/bMrAwQEURM68eb3aT6jY821dA6eaFr5E6eKjWKDGQfuuffhjVu25zq7MrlOIVULLWkn19FZrkbTPciUGYgACUIi6mcgIaUcz/UCL5fPdM6qGbX7QBncvKHcU2s2/vjG27593W27S1wxAgCVejRekp8ntlOtPNFS2hZkJHQcx/cC13WZ+e8/8/lTz36NF3RGsdStJeUwQqJobmuEkLSu1KvazcxfeOpoNbzpZ3cbANs6G+aUl0ErhVQSkuQtRECqhkZrZ9NLQ9+97oaqxdnzF6HKMvqhEDiucr1SueRrF0GahX/Hl3Z3wLX7+CfNcQulNSnnAQEJSQGRF3h9fXOswODgyMHBIWFikc2bNj72q/sVck/frFw2EADCCX3auIIUx3XRzd9OSZk8KILJHYXMlokcY6L9g6X/+2N/87o3XR3k+4pVY9FhpRgYFKvGGokAgEiNRJBDksGm82yaXjdllIwV1GEAUhTFNWDrO0pxLHH4/Np1v/OOq30XEXnsd7Dpl+UY73+sv5tyImg9yxeT/C5gQMf1QwPf/v5/1CJygoKb6YyFyFGZbKZUKsVsPc+b7uGmzEwYDz+EUDkekK+9fL5z9oUXX94//9R8z+ydB4ZVrqNs6OY777/ma9++/YHH6gIGwALYsRp247TefEtpQw41D0q1aihxqWp+ctOtp5x6Zt+sU4rligWp1CuKwPM8bJS9O+zua2mh6GGtCTKZYGSkmMvlDctQqXrxa69c+eiTuw4MC0BSwQ9AC8gk9RwpJ5pW0nAAJOuztXHE2qIGDXesfPFLX/mml+1ZuPSMGF0GV5QbClnUlgCAlbU0lTMn1XC0F8crGi1H6QpFIKQQAYCEAQ3beq1erleLYb2o4vIpc/v279vZ293V3Vn4vz76h4tnewjgAiDAeFF0G9ZFrPYzjWSaZMeZmiEpk0IA2AIAIAvBaKXqBAUL2JFb/J4/+ZR18ugEqAOrA0AVozCzBps0UgFoWB6JEdJ669tRJgMjoKIorBCYnIs+xcMH91RHh1yu/+gbn8to0BoQwBjralWulTJBtrkAoDpmR4J04p1oWu0TF5a4VKuGsfE0bNhavfWOe/Nds9xcp0GXQVsCI4mUjyeStVNSThhCIMRIDFr5WT/XEXT05rr7y4Y2bNu3fzRy8/1rN2z90te+/cWv/WTTjmLi6ogB6kbCMFaer/2sDcPpPo2UGQADAgNlsx0e4be+e3PvkhWgPXBc0g4ohSgiQgIaGw3fD/ntJFG2TYjqoecGnhvUwtiAWnra2UFn98OPrarWwBqwFjjJGwBwtMNH9OxMaRFaTcOBiNpxA9TaIPz05vtXPvxkvqO/s2e2ONpSUscp2XsSAQIIiAhOkX4DoP2jfO0+/klznFw6Y415DtFxYFLUCwWAkwQBJFRKudrt7CgwiI24Xq8r1NaYwaHRTZs2DY3UM7munoIXxhjG7GhFCIaZSI9fnLTXfcqkkUS0AIwqBhypwR/98cdfc9mVfq4XdUa7HioFQDxeiLfRFFYAgElkbJoIiuCUrqCT5fDyoEk5R2bWWiGwtYaZozhkA525zIbnVr/9rZe6BIRgkWIbOY5jwSJM1MKhY+6rW+esTxZazcMB5WpkAYZG5ek1B35+8+39sxagzgT5TgNoQayIsKAACaCAYhjPiU1JmWKSdt42yUi0No4iE9ZjE4OwFvSWLD1zxTkXlisxk2/EiWJ8du3Gn9181w+u/8VdD20kF7zAGa3aoXIIjjsVKdwpJxFjFXMZMDRw572P7D9Y7OufTyog8hCU6/jMBoUBOPmXZMo7oUwdru+FYViLYscPANWBgyUvyF35hrf+6PobwhDqFkarTAhxzAQkLL+pB1PK9DBtGo7E53WkiimKIRQQDf/rE1/bvmc41z2/q3/eaBiqwGEEACLWKASNVHIWYp5Kx2C7WzOphuO348gFK5kp498fmziUVOyo18odnTlHYVgu1ssj9XKpVilrgsXzF+zeuQMlXn7qgg9/6L1nnJqPLYiFqDgS+K7neY6jmh3AqZ4j5WVSr5Wswhj9Sqwvf907Fyw8d9Gy89jNG/JYoRGTVO9PSKyNpHVKs7Gb3MatvMo1JNvJRBMLNgaJs56rUTnh8OCmVecun/eJT3wcCQK3UVzPglFNwtpUw9E6tNwnbhF8F7533d0HBkbJLdRjzGR7HScXIxhkC8xjGg4lnPg5Wnm2pMwckAFZIBaIxyRpSWhcg7jZXE+lyqOjdVF+vqs/19mfKfQgZdes3+EG/QsWnfnC5j2f+dyXPvflH2/dU1Qu9PR2ZoKMiFQr9Wk+r5Q2pFoddQJXu37G0Tf/1y8roTnznAtGSzUQVwTZQlPNcgMw0f8BW9u8OCqJ5WRQLAE4rnYzTlAQcIdL9YsvvvRb3/xWqVR1xrp0pLkqrcy0aTiaW6aMx9IYILTw1JoD3//hTzP5fnBys+YuOThccnK5EOoWRQmSkBZCQRIBFEGGKSvCAe0f5Wv38U+a41WH4ygu2STFlcduXhrrLaUFVBwbz/e1duMoNrF1HD+Xz/l+DjGzY/ue0WL5lIULvIy74cUNL7y4/sD+g6fMm1vIekqR4+rmLEdpKuBxWCmBcWdk6i5OIcWlWjWyPFwzn/zrTy89/fx893xQOSFXQAuyYLI8WkADyCi6WSx02ILZyvdTIkIxlGj1SAQVqtGRkhWY199bPbjD1oYt24svPm+8jwA29B8NUg1H6zDNHg4+NKOVAWKAW+9+OFaZ3QMj8xYuEcJ6HI+ODpOATpwZDXH12L8pKScOajqaQM7mcuVypVKp5LIFBm2FGD2/0NU9e+7lV73F6+zasndw446B7vmn7ivaR57eeO03rn/wsfX7R03IEBPEBJbAUmOlTG5rAYHWylpPaRUYtHKCwC/cfc8Da9ZtPOOMV4WRynX2CeixIrnN0Pi/7Xg/NbuxScB1fN/LCNBwqTpQqr3/j/7nJ//u/wyWG7uB1IhoZaZBwzGu3hgujuZygSI9PDKcz3XakCiL37xp7S33PloP4wULFyM4jCRAjGybCuaTAI6pn+yk3RstF0WaUlINx3HjsHeWI8yOBjzedRYAFChEjE04PDw4PDhABPlCdnZXR/XgHoxri5fM/fAH3ztnTlY4ygbogoqiuFqpzO7qBgCEePzdRBBBHXmrH+rtOLnu7ZOWxMlWCm2xHq0496K3vONDnb2nlevZINdbNiWmxk5MkJPWxwBA3Hy7HjlHWuXOOZaYmps8f+PGh5Ior6uloZ2mMtJdcL/+xb/OAoyUip35AvNE1wvECQ2HTHK+tMrnMlOYts8zttJR6KjW6wDoB9lKLXQCXP9i/aEn1gwUQ/LzBrUlEGQmA8hKGgkpJGN9Ko5wDKakTDnSXM9g/FZsPsYyEYGsQCTWgJDrFbr75ixcVuidV7feS7tG2OtddMZr1m/e928/vPGar3+vZsWCtkAxY2dXNwFU47DxWEAREeF2qpqQMtWMlK3rqX/6568uWryiq39exLqza/bB0VHGQ23uRF9/RLe2toMExh8B4wjSntGK2znb75p1x70Pbt01GgN05gtxWJu+kab8OqYtS6VajzK+W41rpBWgW62y59AXvvLzWx97Pj9rYX9/f6FQKJcr4z9/1HEm6mUY28e/PPujvSfeZEk9HNMICyctPRUpJPQ8r1wuV8qVyuiIqZZdMv09mcWLZq997tH+7swbrrz4LW94Q2/GiQBsDJ0OCABzlNSUVMnujjQc6tVIPRwnIRYgAnhh88FLXnflH/3JX5bqbq7zlH2DRpRLDguZ5vXwaBVF28/DcXTQZHw4uHfrnK7swM6NQzs2PXD7DXrw2YUAACAASURBVBhZMKEXuOOnmXo4WodpE40ay0wQaLcY1lC7joNPr9v/oxtvzfTMnTV/oef5URwJH/1pyY1aNslXCBMVlF7OXz65vCIn19lCC1lYzeUOBQSTPttE2tGe5wSex2yqteqWl7Zceuklo8Xinj37HnrwUdZBIdfjedoAWE4KjCkUREo6dRH8OoPjpLvaMx7hiSJYiMAWkEAA6hb+7OP/78IlKzr756Nb2D9UBsdXritk4JClsfHFoXfGkXOkVe6cyTmtkSNTDzJeVC/P6et97OGVr37VBbN7e3MZv0ncDdicaz7J+dIqn8tMYdoMOMdRYRjGAOgElQgGKnDtv36nFLKX7WDByNgoZitYqYWRsUE2x0DjR8Ot3eTcnrpusSkpvx2EREiImNgElm0URcYYAPDcIN/VExo5dflZfq5r1ZPrdu8d7Zu1bGAo/NnNd//gRzc9/+IeIAgNgKbB0dCig6iBCICRpKGbHldPj4VyDovspLQ1wjBussqYetiyBQBj4Sc33rH6mfXnXXBZucKlaizKcbN+JI0U6+b18GilEemIoz0RMgzaCcjLVCP7u+97/5/9r780oJCgjU9qRjNtV2X8DwuS48I3vvXjYt12zZrv+gEAWGYR9gPf930RGR0dna5xpqQcdxiBHLVk+WkDQ6OFrlldfQvi2Hti1fruvoXnX3DJ6jUv/uTGX3zui9/fu79aDaGvJ6N1w4LAo7SUm3jXEzT6lBNIYmqIiIjUa5EiFcd2YHD0n6/5ytvf9d4tW/f0zV5ciyFTKJCDMYdTWgWx1WCEbK5rYLhIykfHja2QE/zopzeadDK0KlNucByx4Tp8E8aAj63euPLRVUFHr5stuH5GULEgo4piq1xXOV5oWJCOekz1+FNSpoJSuTZSKnf29HV099Xqpqtvnut17tw98OTqdQsXLZszf8kTq1Z/8Z++/MvbH911AMo1AKBfa22kzExQJoKEURyRgjiKv3ztV+tR3D9rHrnZbdv3ZrKdxXKVHJS2K+n1SqGDQ8Nz5i2IjA1jMQy/9573/uPnPv+rJ54Z/wEAQmAEbq9mdTOVqRWNMkzUESBJ6rFwMoGEoRIaJ+MXLXz8U1/aM1T1crP75y2rxWwFRYRFqpVKR0eH4zj1+q+pxjjZe+jkslFaRtJwgmgp0SgcquQYJwm1WLYEDLEt5LJxrapABg7sGdi/o7enw1Hy+tdetm7N6pGhwfnzZr3+8gvfedUF46UUx5IDOfkDqA6/pZmB6OS6z2cewoDQWN4sWEaIjM167iOrnnv71e9/94f/1C/Mr0XeUDnOdPeKVpt3vnjWWStGB4rUtg1TYJKiUUYgrWq1UtYBl+sqLvbn9NYXnt27Y9OD992iAEiYgGmscx0AyCFlzlPR6IlmCg0OKxNxxEa7NRAAA8AgBFaDizWBb1730K0PPGF0JtPT19k7N4wNAB3WtwIAmqLUhzD58Z9ct1BqcLQymCRZsYGGRc7G1A8O7K2WRzoLudn93bl8tlIaHjyw66ylcy46/6zXX3FJHMY9eccY0ARiLSEorer1uud5IhKGYRAE1lilj9U/IqV9EADLJo51oKtxPRS9Z2Dkqje/59WXvrlnztIY81YyMbqs0BIbVQcAbdTJY3DAWPYNoiBGec3alEzl4L6dm+fP6v/Xa/6GGCiOtIPAMWiXmYEmlyHcxh9lSzKFWSoCAAgsIBOOwaS7IQAoYyliePzJfSsfW3OwGAWds72OfGiNQgXQ0NkdanBI07+vhJPLL31ynS20mYWFTUp6ABQEZil0dhUKncVqbf/gYBiZntmzVpxxxn333jc8Unxq9XPnverVsSUTG6VJOwRIUT3yAy+OrbXs+16tGmrtpMHGGYLCWrXs+pk6m0oM7/jd91/y2jf3L1hes16MvgWXUQGSIAMZBEAmbOdJPyntf1IBEgEtEAJZEStWk+RzhVtvvWPenCUL5s4CMWBD7efqYcVx/MQ+efl/oo0/ypZkapclPKJUy1hqCVmE0QqsfOTxDRs3B9l8EPhECpryYJusDT7EvdEs0W+r7WxKylFpFDJHSFIKtPa8TL6jq7vQ1T1cLK166tnHnnrm/R/8cP+8UzZs2fX3n/3C7feuNEpHApFJmn8mJauJE3cJ0mS3iSktS1ytZzs6h0ZHLHv/+o3vFTpmO0FXPQKLmoFkLE0JgYkpWWlPqqs/VgcSIoG6tRGjId/NdLz/Dz7yJ3/+sZ279+fzWccLysVh3yvUbZz6LKaXKfRwIAgKogA2amUwYLKRQ0GqMTy6eut/3PRLN9vV3T+3bi2LeJlMEks59J0SK2TM2jiMSafDnkzT8WQ7W2g/DwcAJEonAUAE1/PrtVpsTDaXD4Ig15EnosHhoU2bNtXq9be87R1hHK968unHHn+SlNvZ1es6OuNRtc6OS0hUr9lsRscxk0o7vLU/CABCShl0b739/n/8/L+ed8FrM/lZpbqwk7GoBVGIEQUb6a+E0t7S4kkt5zgmDTSkgJSxDAhaKa0orFevev3r4nr51FOXkELtOeUwdF0fYXLzoq0/zBZkiiuNyoRqNLmTrCAixAzPbhz89+/859oNO1ac82rr5ETpodJwd19vWB/vmdLk5MBmAQc3W6l8SKvNl2O9nlwWbls9f48D7aXhOBRKPHwkQAoAjYhFsqRAE294fo0GtnF42UUXrli+5K7bbqtVRs9avvSi806/8vKL83mXLViGarmWzfjG2mxG48T7prQrtSiMYnn86Rfe9d6PfODDfxoU+musyiEYL2uJAJiAERHHihKJSFtXJJqUe4YENLMAhUpbJOZYIXsUObaWxfj7X79m/ZMPLprvl0cqhY5MNYoBoOC7k/p40rlzfJlSg6Ohok++EKRSpep4gefQSAT/8vUb73nwmZ7ehbMWLC1Vo0xnoR7VYmuUcsevcsPgONzagNTgePmkBkf7QADELARABEQCwKGtRXHdxvXuzoJCOziwf3hgX7U48qEP/H6g9V23/vysU2f35rNvvOqqpUsXZTwQgWIxzuWcRDOaXH3Vzk+gkxkGCE1daf+cC978pre9f7iqDAU6k49RR0obAgJDwgRISc8UoKTJZfvaHL+lwUGuIWIEQKMg8m09Y6t3//yGrow8/vAvfA1hZH1POQDQ5LSQhs7w1/3Jk+tpMfW8opDKkcbKUWSejdq8CIj1OEbHA4IHfvXcL+9/gnWh0DPbzXSEzCzgBKpWr2nljtfyRRp/YB6WoiLjhxxyu7ycu7Vt5+Jvxcl1ttDWFhYCYD7fKYC1WliuVkmTct1cPtfR1TU4NBxGoesFkWFjuVoNN27edPU73xmVi6sef/S5teuKxUom110oZB1XRSG7Do4vpYc52UUkaS6XBl2mgfFS5YeBE1XMx6+LAMRiahGcc/5r/+IjfzZ/xWs6eucdHC4XuvrqbBkFgAksIqAQAaEgY3t7OCYfUhGA/7+9M4+Ou7jy/a2q39671FosyZaFvAjZlmywDTaLcRggZJJAQiCTvAReBpiBk3nzksO8mTCH5DCZkJeZHOCRnJeTlzjzJi8Dk0wOAyaDYeJhscc2YBswNjbeN2xZi7X09uvfVlXvj2q12pJlW7ZkWe76nD59Wq3uX9dvqarv795b9yKOCEUkwKRQWgt4WCON9TXbtr69/f1t8+a1NtYksgAOBQ2fXkPgQdc/AsAIFV8DnOa8SM6bC7JwnE1wMOAgSk8BUihCFIEH0NsffPt7T+06kpoxp10hYd0IM8An+09GEyFKGQAuLutCCA2JDHR6CwcddoVO5SVhE0G5HY6pa98AwByBbTuapum6rmlKPp+jEDAWUBZU1yS7Thy3TCtw8gTxPR/tSMSjkM8sb5vb2jT94MGDBw8eMkztjk9/esWKdicPsWgxZzXHMLRmpdBnOQIAuZJlEih6jFHJs0B4QzhCuHAZU4AA4N83bf3cnQ9et+KzzS1LUzaPVValbJvqCkcBgkDhAUYIMwVzhQGmI0bEqcWYLByEAeGMA/ax4mOFIswQAxTozLNPHJnXVNt5dM9Lzz83v2Xms//8/yqSZhiBAoVEHAiAMQaIEUAAuFTpcA6YAKOACQAfSiUl+8uFc/6CQ3xRFMMcvtHCO0JwiIVIJECQzgM24QdPPbv5g30sVJ2obNB1kxDV9f3C5wttKq21M8YZRAoOydRh2NwwcrSlEBQ+yQszFebAgXLG87lMtv9k1PcV5t9++2319dNe+t2/Hjl0YP6CeStXLL1pZbuJgQMnwFRAjDm+HygYY2IgREbeSMrBdDw442DFOHAi7pV5weYLwAAQBQLAKQBwwBzhgHFNIR5AvwO//ve133j0O9XJpru+cN/x4wMAZv30WUeOdyimyjArulQAMGYKQ6e6mC93EAfCGXAcEMwAUwwiszvhTPFdDfyIoXR2HFj3xr+HTfLYX//lPZ9bbgAoAIxxCyPKA8zFMVOAKzAo/xgD3wdVBayMejRlfzk/Lorg4Jhj5CPozcDb7+799b++1OswJTItFK1WVJVRVtqGKWwRl0jGzsj70aLs4JwxVEhLijFGCIns5jSgAfUYY0pA+w8fnlFTffTjQ5z7Dz38gJ1Nv7xmtUL8lpa6JYvnrVx2DQJOPTusGRi4becMIyQFx4QxBsHBAVjAFQsBQODkCcZACEeYAaYIAMHx7uyPfv4Pz/zDPzVfdc381qtMI4aooSiRdM7xKdcMlSEGiGEOCCHEAQADx+UjOAaTSTLgmGLgCDPEGBL+ewgRNaSrHx/ZHw6pyUTo+d8+29dz/O47Pvm/fvCopYPn+JWmGjCOwSfiFlcIDlQ4O0gFHsBAKheLh07rSZH95fy4IMHBOeeMl5Z4GJ6wiwNQDghxBD4CD8HXv/nDj7v7uBKtbLhS0WNEIXbOVlR1aLNT2R4okYyVkXNUsQswzgr5mEVXYxwXqs8ihAFjjD2vNhLbuvE/58ydlc0NdHZ2XL24/epF7Xv373hn09qWuU3TkombV9y48MqmgIKftw1V0VUNhvIzDv2oHEDHgzMJDi5KuDLxGgA4VpHv5gGYqoc8LwCkcAwUAcOw66MTj//t9175/esr7vri7AWLBwayrgNhK6Fgq7O7LxqNM8SK8dGlt3xTO4JjLBQEx6CHkCHgCAJcEBxAfS+Xi4aMRCx07PDeikS4v6drzW9/ZYbQ0z/8/t133aIDAAcEQBhgKKwOQwgBYr7vu66r66qum4yJE4ZB9pfxYMyCgzEmRrxzFRyMAyCKwEfwv3/+/JubtianNQ7kqRVpQFqIUUYZ5QjQ4AkstSqXi1aXSEbAEHDOAApdQ/QpjBFjvJj4X+FA8/mIoXJO+1Mnjx07auqkqrriqkXz2hbMfelff3386JHWuc2LF7Zfd83i6RUmBggYwLgKDpF4SY6/AHA2wcFLnhnjHCNECAGAgCGfYVELgmH4y79+6mdP/WjOtdfOW7Q02XjFid50NFKh66HUQM73ABGtIpFIZdMwqE2l4CgKDiZeAAAPWOCHNFVFDAI3bGkI2MnOj48d2b154xs3XH/997/7nXlzqhGACoAAiIg9RRwD4zzAGFHmBQFXFYOAIgXHeDFmweH7PgDk8/loNHpOXxjMmvHR/s7vfP9JRqxkXaNLMSURoliMMRoEQUmBK1bahbCQL2M7t6WiByHExAh9uhpaEsklwmk9iUVhIbwq4olRxiktujJ9Nx8JWY5jKyrRVdi776NsesAKGcC8P3voQRXBb5/71bHDh5YvvfrWP7hp2ZKrMOKKgtTxK7QyrGOV30DMzvjn8Lc4cMYoY4wxxBFwhhBGmOg+QMBhzavv3/fAg5ThO+76YmVNnRVNHO3qJYpJVF1R1IG+bGWyWtPN3r5eohKQgmN0weEHbmUilu7tVYBXJuIdx47a2fT11y4Z6O8+cfzoG79/ZeDAni/cd9//eOS/z5lleXmImoA4qAgQgA8e4y5AgJEKYBCulP5uQayX3XU+PoxZcIgCUU8++aQwcgRBAFAoTVncVLEDYABT0xlDSDUOHe8+3NnnUPVkOh+OVzKsK4rOGKPACCYji1vSQafNee6YXMMkmSIM2htOsRRiDmzw4sd8+IowhBBCBABc1w2HLce1FRUz5imYGaamIOK7+f7engVXtsyoq/n40MG3N6ybO7vpyrnNsUiIKFgliGACJcVs8RhH0K9+9auKqoiNQMnNX1kOxGzEi9P+mwFAJm8rRNE1EwNxKSWEMAZ5D/YcHviLbz2+8fdrl9z6qdZ57aAamhU52Z+pa5iZyzvZbD6ft1VFj0ajAYOcncMKhrIXHFAopzJCcCCGMe452TWzfjr1XZp3NZVUVSZ37djeUF994tix6Q01Gua//qdf9X+04477v/bdx77VVI8MAgDg+pSQgIGrYsBAAAwAUno/IAXHhXA+MRy+7998883pdBpjnM1mASAcDnueN7TRouDgQP0AEaUiWW1TNHv+Eg/0k+m8alrZfFZVFUoZ5xxjLEyLg20CAOCcCZfNmHcJI4QQwUS4fljBxCEtHJJLjmKZIc45DPpKxIUPbCiYGnEwDUO8HjQBYiE4HM8NhUOO46gqyuYGdF0liGcyWQxQX1Pd19n58eGDUVMPPCeX6VdUgoERBamqKjrpyJuEc+Tuu+9esWLFwvaFuq5LU/NotaxPtW0AAGBQfOCu5/sB6LrGGXy44+B/rH/r2498p2npjdfftJKopmZFfCCZrK3qoY7Ok4YVCofCpmWapn7s2DFKaW3dtEwmC1JwlPSgEsHBOALDMh077+ZzhqpFQmE373h5xzI0xCFZGU319QL3LY10HDny7pZ3TuzbdfttNz30wH2fvq3N9gEwU0kg1iZzUPFgRfvSXxz1OhftKZeTMGbGLDhE5etbb701nU5rmtbb2wsAlZWVtm0PbbSkA0RD4VQqQ1Q9k/dOpvNmPJlI1qazOdUgqqpSxmgQcHpKR8UcED7FLXIeO2bnhtozkEqdxxYkkommtK6hGMF6e3oKf5eUBQAosSGIHOacA0KAAFwfQmFwbVAUMAlQvzAWBgEwCgHTVOLl+iqrqnt7ugGYSASBEMGYAEBRiI/VcUmp972//f7Xv/71aDRavoJjKIWXqIUtYm4G1+gBA8CFynyAASAA8CkwwAQDIPhg25EfPvnM2tfWxZPTPnnHH2VcFjBcUV2Ttb2M41RV13b39ifiFb5PqRdwzhHmCCGGgFEqzpcUHKX16koFh+M44XAYKOOUcUqFyTASCufzeZUghLiTzRg6CVtGur8v1d15YNf7ez98v6o69q2/+uafPHinyGGDS+po4EEnjkDk6gAARgGjEf20XE7CmDmfoNGR7o8zUapAi4Uxz9ymMTVIIrkcOZc+dgarnfh6IdMon8BOxVm5iAzOIKCUMaaJVXVsxEEVedYAAHHgruPkACu6EfI5YxxxpGCEfA4Bhc3vHfjbJ/7nxvWbGudcuaB90bSGK+xApaBRDBThAGGOgGMFADDHmEPxJrsIO10+AignwQEjIp+KLpVSMAcyeKIKnxe6kHEAxjlDnBEImJOK6HjPRx++s3FdyNQ+95lPffW/3LN4caMupi0fdBUQB4KAU+Y4jq7rwqivaRrGAJwBF3IbAxLLX8qlX4yJCS7eBoW05sPzg0okEsnUwXV9jLFCCMLAhdQYmaQcAUcAhcSuFIB5lLk+MwwTAQQALof/s2r1//3H53Z/sL154eIVN/0B1q3e/hTRLayFKFI4ggBhioEDcIwH76oxgcFMG4OMNmqXleCAUzWH2PWi5ihaI8jp5LaY+ESYFAa/obpi34fbgfsz6mqPHti3acP6TMfRue1XPvKNB2695caGhOZQwAxMFQAgNZCxQpaqEgCgHiWYF5JOIQBMBvOkS8FxGiZecADAyITkEolEMnUYRXCwkvKRGBBwhAEDxyAUhseBAZgIth/u/tmqf/z5L34VtqoXtC2d0TzLMKMMq6m0XVFTywjJZG3AmCHgCPtivMQYCU8Mx6edMk9LuQmOkRQtHEXBMYopqERwcMoCP6Rrpqp4eRszH7jn5+3uzsPb3l3vOP0L2xY89q2/uu7aVifPVYJ0BQAgZ7sAELZ0DQEChjgAMOFokYJjNKTgkEgkkrMz3KXCGSoVHAhzUDgCkbyrd8BPxNVjfcF/bnzrJz9dtfX9bdFE8pO33YGQFQpX5T0/VlFFOUGa3jeQzuRsK2wVb9BL868IpOA4d4aZN+BcBAdCGCuaQqjvOpk0giAeNl07N9B7oq4uamdThw7s27zuTUUnn7/zs/d/7b9etbBZUUETHjQGhINSdGKWbTzTuXGRBIdEIpFMaZy8Z5gaADAKAQ00TfHdPOPUdd1orBIAcg5zA2qG1YwD69768N9e+f0Lq38HWG1tW9jYNCueqO4byIZCiXw+cAMOSDEiMTcAhjAhhPKAcQ7AMAeRsFwwvBzm2ZCCYySjLTsoaA7ADAHBCmUMc6apgBmlfh5zZiiIBnnfyysYQqae7e8/uH/3no92pk523nv/V265+RM33bBEJaARiKgQUMAIcplcNGRhjApR3RgymVwkEipdJVnOQkQKDolEIikgMqqdtkRUUXB4XkADalp6wAMFKRnPCWkGABzuzh4+evz5F//tJ8/8BGLV8xcubVt4lWaYtksDDqoeCkVivT0DsViCqLrt+Nm8b0SiDOFcNquoKudUFAdRWDHsDRBCfKiApRQc58O5CI60bVvhMCCWzwxgRiMhHQOzs5l4JK5iQn0vm0mFdUUliAaOnR04fGjXgf27M/19S6++6v4/vve2T6ysrsCBBxENfAoYQ+D5AKDrqjCMKaV5H6TgmDjOVsK+HDmlWF3ZHw3JpUY5340JqXHatXhFweG6vqqomEDPQMqIhY93dW9+f/uaNa+9uPpVI5JYtOjauhmzkrXTKSjpnD2QyulmlOg6BW7nnELSFEUPxxMZx8/kbA6KFQ57josBEGcKB0w54mww3wMXmaxKGnK2ii2SUzmz4ACAAIMWjaTsDAIWDeuY0nx2AHMWCkd7OlKhUMTQFPD9wHcNDXMa5O3+mqTV03UUU5oa6Pto+/ZjB/fOmTv71k/c8Cf3fhGYP2fObN8PNFUnCiII8p5rKPpQe8qsT5UiBceFMnKEEq9Pe5NU/Erx9WV2NCSXAeUsOETnFdmGhv2rKDgEHx89/uobb/702V/vPHi0vmFm+6Il8URtNufrZsSlwLjmBVRRdDMU5qAMZLKIkHg8bttZhJDvU9vxzEiUqBpDmAYcGCeAMABhAIwX6qACYIREEdTSNp6h/RMsOE7Nb3Ya04uIa7i0LprSal+lFLNK+kAdzLGiYGDUzwOjmooxZ9QDy6zI2y6nzNRVQ1PdfJaywNCAs1xFNOTmc+mB/ljIor7b0XHMSfce3Lm58+OD3/jmN3/wvW9jgIFsPho2OXBccgrLrU+VMoGC48xb9jxP13XOeS6XC4fD4s0xJ/m4BBD53THCCCPReM/zNE2jAaWMqqoKAL7vI4RUVc1ms7quK8pQcn4pOCQXmZ6e3qqqStf1N23clEqldny4o6WlpbGxsb6+vr5+GgAwClCu4W9Cavi+ryhKPp83TTMIAlVVRTdXVdX3fdGp33tv2y/++QXHrHOwBYCZyBTFMUMYOOZoaOplUFqMo3AoOcLACUNQnKQLJo3Bbw3l0MSXTpZkBsgv5DRDJc/AtmzZ0tbWhpBSU12XzdrAMed8aGfPOWE0mwwXPx/K3sEAABf9WRygpJAKHtJVDEMAgwkfMC98UeV57PYnTPhvf/ZQNEx0DThjKsFAfc+jYcsAADvn6Loe0AAAFKIQpbzGf+XsH5kYbNsWuVOE2ujq6qqurvY8zxhM4TxVEEoCADzP45wrpFBgAmGkKVo+nwcA0zRt2y5WvJNxM5JJJBwK+z49dOjQ9h3bH3300Xw+t3LlzeFQ+JG/eKS+fpqT9zRNO/tWLlMYZwSI6KGWZdm2LUYkNFjZtViEwTTN6uraI1mdIwuKmdUQEABAxaUrp5oESm/9uRAocOq/sNhIYWVt4V/jvpdjZ2hHhM4IBp+p0BxH393g5XpyOe/Oz34OBaLQD8aoABA2mplhGOdRy2KC8UZ5v+R8DYIAEMsjXdF0QggwCpwzhjijNGwZvf0pzCFREbNzjhUqiA9LmWLz3QUy4YJjNJdKIpGAwdqzmqbV1NQMDAzE4/GJbs9EYNu2oiilw7S4DRJ3SACQz+cty3JdlzGWyWQikQgMHodiRdBJaruk7KCM6lhvaZnT0jLniSeeiEQiPT09qqImk0kAcF1XCGgxh5bnhVkctSzL8n2/UJySccCFZyfveZ6nKwRRm5x+ihxmlhicmU5xN4z2+pLzSpya36xEdhRfB+lM34lcdy91+w0tJDw7Qj1wCADYOZoupu7NGOKMAQsZmDM3nXF8B6qSBjCiYgQEfN9PxCLAse9TK2TYOQcAhOwoKybNwgEAXV1dNTU1ANDb2xuPxQkhqVQqFotNYpPOkWFxG5ZlMcZ83xfvq6oqrK+GYYj0t4Zh2LZtWVY+n4/FYoxdOjZSSXnR1dkTjUYpowiRo0c/7unpvuUPbj127Nis2bOE5cO0zNLPizxX5UOhfh7nAHDw4MGXX375Jz/5SXV1dRAElFLDMJy8F9CAqGommznRkwlXz/SRuNPAAMCGhTWIP89RZFziCJNMgaJLJSjsKXH9TCdke996Y81AfxoAIyBFtwtC5yojprTgwACGpg6c7Fy39mU3l+LMQ9RTCWIs4JwTQgAwDeg7m9/RdR0AXNfXdXWyG35RmUDBIe7aHccxDMNxHBGroeu6mIxpQGtqaoQloKKiIpVKhUKhKXS1+b6PEWZQ0BzC4ipiRcUuA8DJkyeTyaSw4liWBQCO45immclkTNPUNC2bzRbjVySSi0BNbRVnwBhnjP/2t78F4KFwyLTMBQsWTKubpqokm7XDYav0K+UTwAEApb2yqanpwBNY2wAAEixJREFUwQcf3LRpk6Io3d3dhJCAgaqbBCtEU5PVNXXTeQCEAeaDoRjsLMtJhrlURoAuYXHHixXNBKcYOXp2veMHMTNqTYuTmkhlwbOEEUIiOIWVyVWkYhLUxSOmaZtIJ8CprxLMGOUMZbO56Y0zdu7c+ad/+qc3f+LmL3/5y5Pd2Elgwi0cpml2dXUZhpFMJjOZjGEYqqoODAyEQiEIQFXVdDodiUR0XR8YGKiqqpro9owLpXEbQRCYpinUlXCXpFKp6upq13Xj8XjRmZLP5+PxuK7rwi6iaVomk5FqQ3Lxydk2wcS09A0bNyQSlYEfYIzb29s9z6MBFWojnc7SgBqGYVr6WTd4OUEDKnql6NpBEHz44Ye7du3inKuqGjDKOeI0AKwCgKrrvucBlNTGG+6BYqOLjNKZu/j1qSk4MMIaYbmefIpt+v0xAA0QKXjjOB0eyHJ5gwhCCCPOHI8zDwZLzoaMUM7Jkbe1aDSyc+fOGdNn+L5fuuipTJjwZbE0oHbejkQivb29zzzzzLZt2+bPn5/NZhljb7zxxqpVq6ZPnx4KhRKJhO/7juOI+IZLn2FxG/l8/p133lm3bt369eunTZv26KOPIoS2bt360EMPtbS0rF69uqqqamBg4Mc//vFTTz31la985YknnjBNkxAiLB8SycWnKlmjaVpFZcXMxpmmZXZ1ds1smnn33XffeOONpmkyxsrN3guDS8wAgAY0m8tGIhHHcXRNp4wqikIpBQBFUcQNBgMAFpR+fVip0lNCQUdyShXfkWtNLyWG74hwGA3FcMQT0SWLl9q2+/K/vRqPVxYXd0who/WFwxBwHhhE9QKfACYKKQpOJ+caoYJ2z2Ry4VCIMY4QwsMXX1/mjL+FY9jSVkywrutr16792te+9thjj7W0tKRSqfXr1z///PM1NTW/+c1vGhsbH374YRFf6TjOuLdnghBxG8W1r2IMSqfTGzduVFU1kUjs379/5cqVixYt2rZt2z333HPvvfdu2LBh8eLFlZWVq1atcl33z//8z6+66qrJ3g9JeSGSSaQGMoePHM5kMzdcf8P777+fyWQ+//nPb968ecPGDW+++eb999//wAMP1NXVjnSvXPYItSG8KrFYTFgoHcchRNy54oAGruuqigqIMs5VpajJxIrKImK9ybk7EvCIF3C+VoFz/9Fz3n5x+e7QT5Qab3B1oqK2surlt19NJhK+6yIUAC/kChDi7LKPi+cIAFgAHAA4DYiuA+NAGQABxgxLFwcsnc6GQ+FsLqdpGqOs3CyI4+ZYE7ELUIxM5hwAMpkMQmjDhg1f/OIXP/WpT6XT6cOHD1955ZW33HILIUTTtBdeeMHzPIyxWDg6VcwbMBg3ivBQiGhra6vv+67rVlZWrl69+q677kokEul0mnO+bdu2Z5999v7776+qqhJHZsuWLf39/a7rTvZ+SMoLzrnv01g8smbNGtfNu65rGMZnPvOZmpqav/vB38VisaNHD7/44ovPPftcGaqNIsKrwjkXwVjCEYwQIgrRdd0wDKIQQjRVOcNsIW79g6GlpOPgU2CjPMaLM29/2G9hAAVAAdAAtO9+96m8i6qqGwA0wBpHBBECCHNEGQQcMQaUI3bWB2A0xgcf42Oito8QR4irGAMEBdMg5qAiQAAEFw4YQCQSAgDLtDDGuq6XVUQ2TESYNOOMc57JZABAGCQfeeQR0YHfe++9ZcuWzZs3r6enx3EchJCu63PnzhWJKxRFmXL2NyHbCSGMsXg8/vrrr2uaZtt2NBp1Xbempqa/vx8A4vF4a2urbduU0o6OjtmzZwOAZVlBEJzlBySSccW0dFUl/X2p1S+uJkQ7efKk53uNMxrvu/e+u+++e/HViw3Dev/993bv2e04jufJ6/PcGW0sPdes5GPZ5nh95cLH/0Jgxx133NV8xdz6usYzXTOInf4xbkyWIDvtD53656B9R7hRiIJUlWBSXhHZML4uFTH74lMP4WOPPdbR0XHDDTfs37//C1/4wsqVK2lAX3vtNVVVNU2bMWPG/PnzMcHF7JwjMwpf+mCMPc/r6enZuXNnPB7P5XItLS3JZNJ13ZMnTxqGgTGOxWK6rh8/fhxj3NDQkEqlFEWZQhYdyeWB71OFEM/zPtj+AQCc7D25fPnyz372s5XJSs/zjnccdxy7aWZzNpsV5snKysRkN1kyBQhZoSef/KGdcwgmjA/XHIP+lCl2Pzk+FBRVmSmLURjPo1D00iGExFSayWT+5V/+JZPJHDt2bN68eStWrOCcHzp86M0332xqalIUZc6cObW1tQAgorHY1DQwMcaE34QQoigKY6ylpaWpqWnv3r3CaZJIJGpra+fMmbNlyxbG2JEjRxYuXDhz5kyRpUMiuWhwzh3HXbdunePYs2fNsizrtttumzN3Vl9v38FDB48eOVo3rcHO2wpRksmkVBuScwQTcF3fChmi1i4hRGTvRgijcruLl4zOeF4KxZTeAMAoY4y9+uqrnZ2d4XC4u7v7uuXXVVZW+r7/93//9yL9hu/7N9xwA6WUUSbqqkxFrwoACN/Qc889p+u6ruvV1dWzZ89ubW1du3YtAHDOKyoqWltbY7HYhg0b6uvrPc9bvnx5dXX1YEpHieQioWmKH/hrXllDiFZVVdXU1NTe1p7J5JLJ5NNPP53NpVeuXBmyQsuvW55Opye7sZNMIS33GMCjPMaLS3r7vu9ns7ZYdoExZoyJ8lLFNQQIyOkfJUxi+y9g+xP9u5cP42rhwEOLbIlCbNvev38/Y6ypqam6urq+ob62tnb9+vUHDhwAgFQqhRCqra1FCJUaNqZiMLNo87Zt20QW5Pb29paWllwut3v37kgkoqpqY2Pj7Nmz9+7d6/t+JBKpq6sbGBiYQktyJJcNnhdEo+FNmzZxznr7eisrKmc2zYxEQrt27Vq16me33Xa7oioL2hbMnj1bFHKTSM6RcNgKhy3OgGDCOccYX3qFUSSTzPi7VIYpBl3Xd+3aRSmNRqObNm3aunWryGKezWZra2tFcOU4tmFS4Jzv3r17z549lZWVmqZdd911c+fO3b59e1dXVzwer6mpuemmmxoaGrZu3eq6ruu6sVhM07S+vj6RhFQiuWgghPbtPbBv395EPMEZb2tvSyaTHx89fs8996xcefMff+2Pu7q65s6ZO7Nx5mS3VDLF6O9L9felhP+kmM5ElHEYD+uF5HJgosw+NKCWZc2aNcu27XA4nEqlfvazn/30pz/98pe//MH2DyilnPPm5mbHcWzbhkuxSOAY8Dxv7dq1lNIrrrhCrLuJhCNbt24VXa6+vn7ZsmUAsG/fPt/3Ozs7gyCYNm1aOp2WRg7JxWfzls26blRVVXm+17agrfNE57333dvc3PzjH/94w8YNNTU1Dz380Ow5zZlMbmqGVF1kJnpVyJTZfiwWE5WwMMG+7yOEAhpgPLQu4Rzc5VP9+EjOAnn88cfHZUPD/HAYY4TQvHnzMpnM5s2bOzo6amtrV6xYsWPHDs758ePHdV2fMWNGY2NjQ0ODrusII4RQacawSxyEkOd5lFJFUXK53NGjRzHGJ06cmD59+je+8Y1wOLxv376Ojo7e3t4vfelLS5Ysicfj6XR6586djuM0Nzc3NzdXVFQ0NTVN9n5IygsEeO6cuelM+uWXX66oqDh48OCWrVvuueeer3z1K6+/9no4FP6jL/3RlS0twAspsICXacHYsYAGH6NNqHjwA5ft9hkdLHwNCGGkEI1zUFUFAGjAgoAyxkW5+kuz/Re2/dHAJd+VAIyj4BiNZcuW1dTUiPwTpmn+4R/+4Sc/+cnGxsYTJ04sWLBg4cKFDQ0N4XAYYxwEged5UyWO0nVdXdcVRXFd19CN1tbWqqqqVCp1yy23LFy4UFEUy7JmzJiRTCaXLl06f/58TdOuuOIKAOjq6mptbb399tvnzJlTWtFeIrkI5POOaelXX714+bLlV1xxRWNjY2trazwe7z3ZW99Qv3Tp0tlzZhMytDRdrjAYC6NNSOM131yi2y+1hHEOGCOEh64cjDEhhBCCEB7lJ6b68RkNqTOGM+G1VDzPS6fT3d3dAwMDlmW1tbUhhHbu3NnX11dfX19fXy9y+XHOfd+nlJqmedZtXgoIwSFeKEQhCnFd98iRI5Zl1dfXi9yjvu/v2rUrmUzW19f39vZWVFR0d3cfPHgwGo02NTUJaTVVBJbkMkCkGWWUaZqGEBw+cqSnp8cyrUw2E4vF6uvqY/GI6/payTUpBcdYGM0FNV4H8RLdPmfA+ZDHpH+gv7KiAgB6+/oIQYZhDI7ql2j7L3j7oyE7z3AmXHAAgO/7nHNN01zXxRiLsiNiZaz4bxAEiqKI8u4T3ZhxRIS76rruOI6othCJRERRGM/zREVZsZuivgwNKCYYAMRSdUbZVMxyJpnSMAp+4CtEAQCiiBXsYOdtsb6Aj3CgSMExFi7XCXVsgoMoKJPJAUAkEmKMccYDGihEwWS0RYhT/fiMhuw8w5lYwcE5F9svKgnOucjnXUxIKvJ2cMbFZAxTZGXsaMdNvM8ZR6M6LKfGDkouMwpXLEcAMPLiHe2SlIJDci74PhXlhZ28p+uauGxc1/c8BwB0XRfu43Q6HY1GJ7epkknkYlg4AEBUVUUIFSs7D2NYMy79KfnMgkMgBYfk0kEKDsmEkhrIWCFLIcTzfQAoFDADyGazjLGQFWKcidUriqKMNhFILm8mdjhhjHmeJyqkaJqmqirnnDHGGBOFVT3P8zzP931G5Qo8iUQimZK4rm+FLFUlOdvWdfWapddUVCQ/+mhPR0dHKBSKRqN+4C9btmzJkiWrX1wtKndOdpMlk8DECg6MsaZpRCFCZ8DgclkR3yDsbJqmEUKEY0UikUgkUw5dV13X5Qx0Xd+2bfuevXs456tWrero6HBd13GcfD7/7rvv7tq1a9Nbm7Zs2TLZ7ZVMDhfPYDqUUX9E1rnSd6ZKTjp0Dkx2GyWSIU7tZcMfEsmFkLfdcNgCAFUlv/nNbxzHScQTb7/9tlgQaxjGL3/5y0QisWDBgldeeaW/v3+y2yuZHC6S4JCzr0QikVyuiJB/PwgA4I3X3xAD/rXXXisM2L7v/+IXv0ilUul0urW1tb29fZKbK5kkZEiYRCKRSC4IYcAmmGzd8t6OD3domsY4m9k4s7W1FQB27tx57NgxkXLp6quvrqysnOTmSiYJ5ewfkUgkEonkjPg+VVXy2uuvBX5QXVM9f958UUMqlUr97ne/C4Kgrq7ONM22tjbLsia7sZLJ4ZIQHJeTw+Vy2hfJ5Ydc5iqZCGhARSLHn//856Zluq5bmaysq69DCMXj8TVr1mSzWUVR2traqqurdV3nnMuhsgyRw49EIpFILgjD1IiC3t36/oED+0Tcxh133DmtthYAdu/e/d5771VWVnqeV1FRMW/evMlurGTSuCQsHBKJRCKZuojs5i+8+AIhWjgUnjdvXkvL3HQ6c6Lz+N/8zd94ntfQ0JDL5Wpra2OxmOu6sm5leSIFh0QikUguCMa453mv/cdrnLPOrs5YLPbSSy998MH29vb5e/bsiUQiBw4caGxsjMVimUzGdV0ZN1qeSJeKRCKRSC4IhNDWd7ceO34sFovl8/ltH7y3aeOma65ZOnv23Pb2RZlMxnX8ppnNkXBs374Dgc9kAEd5Qh5//PHJboNEIpFIpjAIw7e//Z0lS5bk7XwkEvE8PxwOA0Ainrj99tsb6qfv3bs3k800NDTMnze/eVbTZLdXMjlcpOJtEolEIrlc+eijPe1t7Y/8xSMIobYFbcePH09UJJpmNi1atCgWi+7cuWvdunVWyLr+uuuTyWQ0GiWKtHCUIzKGQyKRSCQXxNNPP+0H7lub3nr44Yfv/NydTt4BgFg8whnk805zc/OsWbMMUwMAO+dItVG2SMEhkUgkkvOkvy/V1d21atWq6dMbc3auoaFBVVQ1ogIAo4AQmKYBAJwDZ4AwWCFDvC9TwpQh8pxLJBKJ5DzRdT0cDkciEc/zqqqqGhoaTvsxhIBzYBQAABOpNsoUedolEolEMmZowAHAMIxYLPajZ360YP6CG2+8MRwJj/Z5sTBFaA5JeSJdKhKJRCIZM77vE0XDBEJWaOk1SyPR6KJFCy3zTHVShObgbPBPecNbZshVKhKJRCIZH4SYKM4qZ0i3IdVGGSIFh0QikUgkkglHikyJRCKRSCQTjhQcEolEIpFIJpz/D3pv3N5eXtyhAAAAAElFTkSuQmCC)"
      ],
      "metadata": {
        "id": "iUcmz4hNdKUX"
      }
    },
    {
      "cell_type": "code",
      "source": [
        "#random integer genarate korbe:\n",
        "# 1 theke 100 er moddhe value thakbe , jetar dimension 3x4\n",
        "np.random.randint(1,100,(3,4))"
      ],
      "metadata": {
        "colab": {
          "base_uri": "https://localhost:8080/"
        },
        "id": "RszRk4Lqf7BJ",
        "outputId": "1bf059e9-27b0-4c93-e48d-a1d52e4e9755"
      },
      "execution_count": null,
      "outputs": [
        {
          "output_type": "execute_result",
          "data": {
            "text/plain": [
              "array([[42, 67, 55, 55],\n",
              "       [73, 38, 55, 65],\n",
              "       [99, 34, 88, 68]])"
            ]
          },
          "metadata": {},
          "execution_count": 75
        }
      ]
    },
    {
      "cell_type": "code",
      "source": [
        "arr=np.random.rand(3,4)"
      ],
      "metadata": {
        "id": "fKj7ASApgvtX"
      },
      "execution_count": null,
      "outputs": []
    },
    {
      "cell_type": "code",
      "source": [
        "arr"
      ],
      "metadata": {
        "colab": {
          "base_uri": "https://localhost:8080/"
        },
        "id": "26WvkPAYg6Iq",
        "outputId": "0eadbb10-28cd-4eb2-d74b-3aa0a7c006bd"
      },
      "execution_count": null,
      "outputs": [
        {
          "output_type": "execute_result",
          "data": {
            "text/plain": [
              "array([[0.58496429, 0.83709304, 0.14632732, 0.45531737],\n",
              "       [0.17329942, 0.56205534, 0.6138246 , 0.34280618],\n",
              "       [0.13989326, 0.01058457, 0.41800704, 0.55015816]])"
            ]
          },
          "metadata": {},
          "execution_count": 78
        }
      ]
    },
    {
      "cell_type": "code",
      "source": [
        "#now reshape this data:\n",
        "arr1=arr.reshape(6,2)"
      ],
      "metadata": {
        "id": "4Z7LD8n3g82F"
      },
      "execution_count": null,
      "outputs": []
    },
    {
      "cell_type": "markdown",
      "source": [
        "reshape er somoy row x column er multiplication ta same thakte hobe"
      ],
      "metadata": {
        "id": "tiFulcczh8R2"
      }
    },
    {
      "cell_type": "code",
      "source": [
        "arr1"
      ],
      "metadata": {
        "colab": {
          "base_uri": "https://localhost:8080/"
        },
        "id": "bCX9utH1h7iU",
        "outputId": "fda290e0-e215-4298-b261-fd889ce6ec2f"
      },
      "execution_count": null,
      "outputs": [
        {
          "output_type": "execute_result",
          "data": {
            "text/plain": [
              "array([[0.58496429, 0.83709304],\n",
              "       [0.14632732, 0.45531737],\n",
              "       [0.17329942, 0.56205534],\n",
              "       [0.6138246 , 0.34280618],\n",
              "       [0.13989326, 0.01058457],\n",
              "       [0.41800704, 0.55015816]])"
            ]
          },
          "metadata": {},
          "execution_count": 81
        }
      ]
    },
    {
      "cell_type": "code",
      "source": [
        "#now let's take 1 data:\n",
        "arr1[1][1]"
      ],
      "metadata": {
        "colab": {
          "base_uri": "https://localhost:8080/"
        },
        "id": "1l-ycZa7iRiE",
        "outputId": "aec81e95-0013-4139-a4b7-4137cc639b6d"
      },
      "execution_count": null,
      "outputs": [
        {
          "output_type": "execute_result",
          "data": {
            "text/plain": [
              "0.4553173668215198"
            ]
          },
          "metadata": {},
          "execution_count": 82
        }
      ]
    },
    {
      "cell_type": "code",
      "source": [
        "arr1[4][1]"
      ],
      "metadata": {
        "colab": {
          "base_uri": "https://localhost:8080/"
        },
        "id": "ci5ClKd0icgn",
        "outputId": "1140b026-3de8-48d9-f8c0-7e2353d5def5"
      },
      "execution_count": null,
      "outputs": [
        {
          "output_type": "execute_result",
          "data": {
            "text/plain": [
              "0.010584567187923333"
            ]
          },
          "metadata": {},
          "execution_count": 88
        }
      ]
    },
    {
      "cell_type": "code",
      "source": [
        "print(arr1)\n",
        "print(\"take out a section\")\n",
        "#2nd theke 5th row dekhao\n",
        "print(arr1[2:5])"
      ],
      "metadata": {
        "colab": {
          "base_uri": "https://localhost:8080/"
        },
        "id": "L2GMgn1Oivun",
        "outputId": "db8a943d-4b89-4a29-b9ef-e3b39f2a78d9"
      },
      "execution_count": null,
      "outputs": [
        {
          "output_type": "stream",
          "name": "stdout",
          "text": [
            "[[0.58496429 0.83709304]\n",
            " [0.14632732 0.45531737]\n",
            " [0.17329942 0.56205534]\n",
            " [0.6138246  0.34280618]\n",
            " [0.13989326 0.01058457]\n",
            " [0.41800704 0.55015816]]\n",
            "take out a section\n",
            "[[0.17329942 0.56205534]\n",
            " [0.6138246  0.34280618]\n",
            " [0.13989326 0.01058457]]\n"
          ]
        }
      ]
    },
    {
      "cell_type": "markdown",
      "source": [
        "ebar oi je section ta alada korle or khali dan diker column ta dekhabo:"
      ],
      "metadata": {
        "id": "YM9SoHjJj7XO"
      }
    },
    {
      "cell_type": "code",
      "source": [
        "print(arr1)\n",
        "print(\"take out a section\")\n",
        "#2nd theke 5th row dekhao\n",
        "print(arr1[2:5])\n",
        "#ebar khali dan diker column ta dekhabo:\n",
        "print(\"khali dan diker column er element gulo:\")\n",
        "print(arr1[2:5 , 1])"
      ],
      "metadata": {
        "colab": {
          "base_uri": "https://localhost:8080/"
        },
        "id": "hSz3Th-KkEQY",
        "outputId": "ac044428-70c2-4346-84e1-a29917fa80db"
      },
      "execution_count": null,
      "outputs": [
        {
          "output_type": "stream",
          "name": "stdout",
          "text": [
            "[[0.58496429 0.83709304]\n",
            " [0.14632732 0.45531737]\n",
            " [0.17329942 0.56205534]\n",
            " [0.6138246  0.34280618]\n",
            " [0.13989326 0.01058457]\n",
            " [0.41800704 0.55015816]]\n",
            "take out a section\n",
            "[[0.17329942 0.56205534]\n",
            " [0.6138246  0.34280618]\n",
            " [0.13989326 0.01058457]]\n",
            "khali dan diker column er element gulo:\n",
            "[0.56205534 0.34280618 0.01058457]\n"
          ]
        }
      ]
    },
    {
      "cell_type": "code",
      "source": [
        "#take a random data:\n",
        "arr=np.random.randint(1,100,(5,5))"
      ],
      "metadata": {
        "id": "BdU0KTyPkmLy"
      },
      "execution_count": null,
      "outputs": []
    },
    {
      "cell_type": "code",
      "source": [
        "arr"
      ],
      "metadata": {
        "colab": {
          "base_uri": "https://localhost:8080/"
        },
        "id": "6I8hWp4Pku9i",
        "outputId": "bbba952d-5f13-44cc-f7b2-30403ac4864e"
      },
      "execution_count": null,
      "outputs": [
        {
          "output_type": "execute_result",
          "data": {
            "text/plain": [
              "array([[62, 63, 93, 35, 62],\n",
              "       [61,  7, 80, 45, 31],\n",
              "       [11, 36, 42, 62, 92],\n",
              "       [42, 92, 81, 61, 96],\n",
              "       [31, 83, 37, 81, 14]])"
            ]
          },
          "metadata": {},
          "execution_count": 94
        }
      ]
    },
    {
      "cell_type": "code",
      "source": [
        "#ebar jekhane 50 er besi value seta dekhao"
      ],
      "metadata": {
        "id": "zUS-jXzqkxT9"
      },
      "execution_count": null,
      "outputs": []
    },
    {
      "cell_type": "code",
      "source": [
        "arr>50"
      ],
      "metadata": {
        "colab": {
          "base_uri": "https://localhost:8080/"
        },
        "id": "cVzf3aemk1yk",
        "outputId": "00ea98bf-af8d-4c12-8a3e-04d4ce8ba84e"
      },
      "execution_count": null,
      "outputs": [
        {
          "output_type": "execute_result",
          "data": {
            "text/plain": [
              "array([[ True,  True,  True, False,  True],\n",
              "       [ True, False,  True, False, False],\n",
              "       [False, False, False,  True,  True],\n",
              "       [False,  True,  True,  True,  True],\n",
              "       [False,  True, False,  True, False]])"
            ]
          },
          "metadata": {},
          "execution_count": 95
        }
      ]
    },
    {
      "cell_type": "code",
      "source": [
        "#ebar value gulo kei dekhte chai:\n",
        "arr[arr>50]"
      ],
      "metadata": {
        "colab": {
          "base_uri": "https://localhost:8080/"
        },
        "id": "oJyGli1Bk4zE",
        "outputId": "44903794-16e0-4429-e8b0-f4b0afda073b"
      },
      "execution_count": null,
      "outputs": [
        {
          "output_type": "execute_result",
          "data": {
            "text/plain": [
              "array([62, 63, 93, 62, 61, 80, 62, 92, 92, 81, 61, 96, 83, 81])"
            ]
          },
          "metadata": {},
          "execution_count": 96
        }
      ]
    },
    {
      "cell_type": "code",
      "source": [
        "arr"
      ],
      "metadata": {
        "colab": {
          "base_uri": "https://localhost:8080/"
        },
        "id": "B06YO4hHlIlf",
        "outputId": "9d8f7943-70bf-4206-cd12-c090b4b60d90"
      },
      "execution_count": null,
      "outputs": [
        {
          "output_type": "execute_result",
          "data": {
            "text/plain": [
              "array([[62, 63, 93, 35, 62],\n",
              "       [61,  7, 80, 45, 31],\n",
              "       [11, 36, 42, 62, 92],\n",
              "       [42, 92, 81, 61, 96],\n",
              "       [31, 83, 37, 81, 14]])"
            ]
          },
          "metadata": {},
          "execution_count": 98
        }
      ]
    },
    {
      "cell_type": "markdown",
      "source": [
        "Amar sudhu ei tuku data chai:\n",
        "\n",
        "![image.png](data:image/png;base64,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)"
      ],
      "metadata": {
        "id": "Wvlol9FHli3H"
      }
    },
    {
      "cell_type": "code",
      "source": [
        "#2nd , 3rd row ar 1st , 2nd column er intersection:\n",
        "#arr[ startingRow : EndingRow , [startinColumn , EndingColumn ]]\n",
        "arr[2:4,[1,2]]"
      ],
      "metadata": {
        "colab": {
          "base_uri": "https://localhost:8080/"
        },
        "id": "hZSKKl4wlpAJ",
        "outputId": "45477d47-c3b0-4509-d26c-1b051315d77d"
      },
      "execution_count": null,
      "outputs": [
        {
          "output_type": "execute_result",
          "data": {
            "text/plain": [
              "array([[36, 42],\n",
              "       [92, 81]])"
            ]
          },
          "metadata": {},
          "execution_count": 99
        }
      ]
    },
    {
      "cell_type": "code",
      "source": [
        "#now manipulate the data:\n",
        "arr[0][0]=50"
      ],
      "metadata": {
        "id": "cEUhrifCliKH"
      },
      "execution_count": null,
      "outputs": []
    },
    {
      "cell_type": "code",
      "source": [
        "arr"
      ],
      "metadata": {
        "colab": {
          "base_uri": "https://localhost:8080/"
        },
        "id": "iEiL3pShmX25",
        "outputId": "64dd32f5-66a4-401c-ef48-084a920f83eb"
      },
      "execution_count": null,
      "outputs": [
        {
          "output_type": "execute_result",
          "data": {
            "text/plain": [
              "array([[50, 63, 93, 35, 62],\n",
              "       [61,  7, 80, 45, 31],\n",
              "       [11, 36, 42, 62, 92],\n",
              "       [42, 92, 81, 61, 96],\n",
              "       [31, 83, 37, 81, 14]])"
            ]
          },
          "metadata": {},
          "execution_count": 101
        }
      ]
    },
    {
      "cell_type": "markdown",
      "source": [
        "let's see inbuilt functions in array:"
      ],
      "metadata": {
        "id": "_AL2eb22mbEO"
      }
    },
    {
      "cell_type": "code",
      "source": [
        "arr1=np.random.randint(1,3, (3,3))\n",
        "arr2=np.random.randint(1,3, (3,3))"
      ],
      "metadata": {
        "id": "gkey4iOxmhA6"
      },
      "execution_count": null,
      "outputs": []
    },
    {
      "cell_type": "code",
      "source": [
        "print('arr1:')\n",
        "print(arr1)\n",
        "print('arr2:')\n",
        "print(arr2)\n",
        "print(\"sum:\")\n",
        "print(arr1+arr2)\n",
        "print(\"subtract:\")\n",
        "print(arr1-arr2)\n",
        "print(\"multiply: index wise multiplication\")\n",
        "print(arr1*arr2)\n",
        "print(\"division:\")\n",
        "print(arr1/arr2)"
      ],
      "metadata": {
        "colab": {
          "base_uri": "https://localhost:8080/"
        },
        "id": "o1Mrl6IIm75s",
        "outputId": "21a3b546-299e-4aec-f283-beca2e52b59c"
      },
      "execution_count": null,
      "outputs": [
        {
          "output_type": "stream",
          "name": "stdout",
          "text": [
            "arr1:\n",
            "[[2 2 2]\n",
            " [2 2 2]\n",
            " [1 2 2]]\n",
            "arr2:\n",
            "[[1 1 1]\n",
            " [2 2 2]\n",
            " [1 1 2]]\n",
            "sum:\n",
            "[[3 3 3]\n",
            " [4 4 4]\n",
            " [2 3 4]]\n",
            "subtract:\n",
            "[[1 1 1]\n",
            " [0 0 0]\n",
            " [0 1 0]]\n",
            "multiply: index wise multiplication\n",
            "[[2 2 2]\n",
            " [4 4 4]\n",
            " [1 2 4]]\n",
            "division:\n",
            "[[2. 2. 2.]\n",
            " [1. 1. 1.]\n",
            " [1. 2. 1.]]\n"
          ]
        }
      ]
    },
    {
      "cell_type": "code",
      "source": [
        "print('arr1:')\n",
        "print(arr1)\n",
        "print('arr2:')\n",
        "print(arr2)\n",
        "print('Matrix multiplication:')\n",
        "print(arr1@arr2) #eta matrix multiplication er jonno use hoy"
      ],
      "metadata": {
        "colab": {
          "base_uri": "https://localhost:8080/"
        },
        "id": "A1kYNEDVoIT2",
        "outputId": "5495a18e-566a-43d8-824a-4b96599c00d2"
      },
      "execution_count": null,
      "outputs": [
        {
          "output_type": "stream",
          "name": "stdout",
          "text": [
            "arr1:\n",
            "[[2 2 2]\n",
            " [2 2 2]\n",
            " [1 2 2]]\n",
            "arr2:\n",
            "[[1 1 1]\n",
            " [2 2 2]\n",
            " [1 1 2]]\n",
            "Matrix multiplication:\n",
            "[[ 8  8 10]\n",
            " [ 8  8 10]\n",
            " [ 7  7  9]]\n"
          ]
        }
      ]
    },
    {
      "cell_type": "code",
      "source": [
        "#let's see some other functions:\n",
        "#sob kota element ke 0 diye vag korche\n",
        "arr1/0"
      ],
      "metadata": {
        "colab": {
          "base_uri": "https://localhost:8080/"
        },
        "id": "SEVuGuYSoa7a",
        "outputId": "d0512ae2-7e26-430c-c081-d1e6c6d77c2b"
      },
      "execution_count": null,
      "outputs": [
        {
          "output_type": "stream",
          "name": "stderr",
          "text": [
            "<ipython-input-107-b2ba448e6f8e>:2: RuntimeWarning: divide by zero encountered in true_divide\n",
            "  arr1/0\n"
          ]
        },
        {
          "output_type": "execute_result",
          "data": {
            "text/plain": [
              "array([[inf, inf, inf],\n",
              "       [inf, inf, inf],\n",
              "       [inf, inf, inf]])"
            ]
          },
          "metadata": {},
          "execution_count": 107
        }
      ]
    },
    {
      "cell_type": "code",
      "source": [
        "#sobar sathe 100 jog kortase\n",
        "arr1+100"
      ],
      "metadata": {
        "colab": {
          "base_uri": "https://localhost:8080/"
        },
        "id": "AlVjJijAoiEa",
        "outputId": "143f9ed1-4730-4976-f9e5-45e4c03f8da2"
      },
      "execution_count": null,
      "outputs": [
        {
          "output_type": "execute_result",
          "data": {
            "text/plain": [
              "array([[102, 102, 102],\n",
              "       [102, 102, 102],\n",
              "       [101, 102, 102]])"
            ]
          },
          "metadata": {},
          "execution_count": 108
        }
      ]
    },
    {
      "cell_type": "code",
      "source": [
        "#sobar power 2 kore dichhe:\n",
        "arr1**2"
      ],
      "metadata": {
        "colab": {
          "base_uri": "https://localhost:8080/"
        },
        "id": "Ibl7faXTozsB",
        "outputId": "d417c209-048b-4ba8-b805-d3e3e9663947"
      },
      "execution_count": null,
      "outputs": [
        {
          "output_type": "execute_result",
          "data": {
            "text/plain": [
              "array([[4, 4, 4],\n",
              "       [4, 4, 4],\n",
              "       [1, 4, 4]])"
            ]
          },
          "metadata": {},
          "execution_count": 109
        }
      ]
    },
    {
      "cell_type": "markdown",
      "source": [
        "Ebar dekhbo broadcasting:\n",
        "\n",
        " Broadcasting in Python is a way to perform operations on arrays of different shapes. Imagine you have two arrays, and you want to add or multiply them together. Broadcasting allows Python to automatically adjust the shapes of the arrays to make the operation possible."
      ],
      "metadata": {
        "id": "xODypbEBo7H1"
      }
    },
    {
      "cell_type": "code",
      "source": [
        "arr=np.zeros((4,4))"
      ],
      "metadata": {
        "id": "Y1j9xw2GtcJ9"
      },
      "execution_count": null,
      "outputs": []
    },
    {
      "cell_type": "code",
      "source": [
        "arr"
      ],
      "metadata": {
        "colab": {
          "base_uri": "https://localhost:8080/"
        },
        "id": "Hs9CpBhTtk27",
        "outputId": "d05dd499-2edc-4bfc-c54c-6761bbaf1cd7"
      },
      "execution_count": null,
      "outputs": [
        {
          "output_type": "execute_result",
          "data": {
            "text/plain": [
              "array([[0., 0., 0., 0.],\n",
              "       [0., 0., 0., 0.],\n",
              "       [0., 0., 0., 0.],\n",
              "       [0., 0., 0., 0.]])"
            ]
          },
          "metadata": {},
          "execution_count": 111
        }
      ]
    },
    {
      "cell_type": "code",
      "source": [
        "row=np.array([1,2,3,4])"
      ],
      "metadata": {
        "id": "kKSElMJ_tnY7"
      },
      "execution_count": null,
      "outputs": []
    },
    {
      "cell_type": "code",
      "source": [
        "row"
      ],
      "metadata": {
        "colab": {
          "base_uri": "https://localhost:8080/"
        },
        "id": "xhtoN1oEtuxM",
        "outputId": "c362e383-a166-45f7-dfb9-db7ef093dd22"
      },
      "execution_count": null,
      "outputs": [
        {
          "output_type": "execute_result",
          "data": {
            "text/plain": [
              "array([1, 2, 3, 4])"
            ]
          },
          "metadata": {},
          "execution_count": 113
        }
      ]
    },
    {
      "cell_type": "code",
      "source": [
        "print('arr')\n",
        "print(arr)\n",
        "print('row')\n",
        "print(row)\n",
        "print(\"we are doing brodcasting of arr+row\")\n",
        "#row+arr\n",
        "print(row+arr)"
      ],
      "metadata": {
        "colab": {
          "base_uri": "https://localhost:8080/"
        },
        "id": "-JRNHnvKtxng",
        "outputId": "2e3fd709-b056-4592-fcce-a46b575cbfd5"
      },
      "execution_count": null,
      "outputs": [
        {
          "output_type": "stream",
          "name": "stdout",
          "text": [
            "arr\n",
            "[[0. 0. 0. 0.]\n",
            " [0. 0. 0. 0.]\n",
            " [0. 0. 0. 0.]\n",
            " [0. 0. 0. 0.]]\n",
            "row\n",
            "[1 2 3 4]\n",
            "we are doing brodcasting of arr+row\n",
            "[[1. 2. 3. 4.]\n",
            " [1. 2. 3. 4.]\n",
            " [1. 2. 3. 4.]\n",
            " [1. 2. 3. 4.]]\n"
          ]
        }
      ]
    },
    {
      "cell_type": "code",
      "source": [
        "#column wise add korte hole:\n",
        "#amader transpose nite hobe :\n",
        "print('arr')\n",
        "print(arr)\n",
        "#column ta 2d nite hobe:\n",
        "col=np.array([[1,2,3,4]])\n",
        "print('column ta row wise asbe:')\n",
        "print(col)\n",
        "print('column ta transpose naoar por')\n",
        "print(col.T)\n",
        "print(\"we are doing brodcasting of arr+col.T\")\n",
        "#row+col.T\n",
        "print(arr+col.T)"
      ],
      "metadata": {
        "colab": {
          "base_uri": "https://localhost:8080/"
        },
        "id": "ejb9hHD_uH25",
        "outputId": "75811378-e5b9-4e49-f68a-13375b0223b6"
      },
      "execution_count": null,
      "outputs": [
        {
          "output_type": "stream",
          "name": "stdout",
          "text": [
            "arr\n",
            "[[0. 0. 0. 0.]\n",
            " [0. 0. 0. 0.]\n",
            " [0. 0. 0. 0.]\n",
            " [0. 0. 0. 0.]]\n",
            "column ta row wise asbe:\n",
            "[[1 2 3 4]]\n",
            "column ta transpose naoar por\n",
            "[[1]\n",
            " [2]\n",
            " [3]\n",
            " [4]]\n",
            "we are doing brodcasting of arr+col.T\n",
            "[[1. 1. 1. 1.]\n",
            " [2. 2. 2. 2.]\n",
            " [3. 3. 3. 3.]\n",
            " [4. 4. 4. 4.]]\n"
          ]
        }
      ]
    },
    {
      "cell_type": "code",
      "source": [
        "#ebar ekta array genarate kori:\n",
        "arr1= np.random.randint(1,4,(3,4))"
      ],
      "metadata": {
        "id": "sBAsoTCAvKHd"
      },
      "execution_count": null,
      "outputs": []
    },
    {
      "cell_type": "code",
      "source": [
        "arr1"
      ],
      "metadata": {
        "colab": {
          "base_uri": "https://localhost:8080/"
        },
        "id": "ESJIaX2Hvd__",
        "outputId": "de77ec06-e344-41df-8c3d-b5d4516b4a9b"
      },
      "execution_count": null,
      "outputs": [
        {
          "output_type": "execute_result",
          "data": {
            "text/plain": [
              "array([[2, 2, 2, 1],\n",
              "       [3, 2, 1, 1],\n",
              "       [1, 1, 3, 2]])"
            ]
          },
          "metadata": {},
          "execution_count": 118
        }
      ]
    },
    {
      "cell_type": "code",
      "source": [
        "#ebar sobar square root ber korbo:\n",
        "print(arr1**(0.5))\n",
        "#another way:\n",
        "np.sqrt(arr1)"
      ],
      "metadata": {
        "colab": {
          "base_uri": "https://localhost:8080/"
        },
        "id": "NagBc_Q0vhTo",
        "outputId": "12642716-c009-4392-be83-0a1ed538a188"
      },
      "execution_count": null,
      "outputs": [
        {
          "output_type": "stream",
          "name": "stdout",
          "text": [
            "[[1.41421356 1.41421356 1.41421356 1.        ]\n",
            " [1.73205081 1.41421356 1.         1.        ]\n",
            " [1.         1.         1.73205081 1.41421356]]\n"
          ]
        },
        {
          "output_type": "execute_result",
          "data": {
            "text/plain": [
              "array([[1.41421356, 1.41421356, 1.41421356, 1.        ],\n",
              "       [1.73205081, 1.41421356, 1.        , 1.        ],\n",
              "       [1.        , 1.        , 1.73205081, 1.41421356]])"
            ]
          },
          "metadata": {},
          "execution_count": 119
        }
      ]
    },
    {
      "cell_type": "code",
      "source": [
        "#ebar exponent ber korte holo dhoro:\n",
        "np.exp(arr1)"
      ],
      "metadata": {
        "colab": {
          "base_uri": "https://localhost:8080/"
        },
        "id": "bvcZVRwBvzQZ",
        "outputId": "b2dfea6f-3b95-4c3f-f328-b098f9869f08"
      },
      "execution_count": null,
      "outputs": [
        {
          "output_type": "execute_result",
          "data": {
            "text/plain": [
              "array([[ 7.3890561 ,  7.3890561 ,  7.3890561 ,  2.71828183],\n",
              "       [20.08553692,  7.3890561 ,  2.71828183,  2.71828183],\n",
              "       [ 2.71828183,  2.71828183, 20.08553692,  7.3890561 ]])"
            ]
          },
          "metadata": {},
          "execution_count": 120
        }
      ]
    },
    {
      "cell_type": "code",
      "source": [
        "#ebar log ber koro:\n",
        "np.log10(arr1)"
      ],
      "metadata": {
        "colab": {
          "base_uri": "https://localhost:8080/"
        },
        "id": "pV2mDzWtwBf5",
        "outputId": "eee8ab20-1050-4e1c-86cd-891b171c2dba"
      },
      "execution_count": null,
      "outputs": [
        {
          "output_type": "execute_result",
          "data": {
            "text/plain": [
              "array([[0.30103   , 0.30103   , 0.30103   , 0.        ],\n",
              "       [0.47712125, 0.30103   , 0.        , 0.        ],\n",
              "       [0.        , 0.        , 0.47712125, 0.30103   ]])"
            ]
          },
          "metadata": {},
          "execution_count": 121
        }
      ]
    }
  ]
}