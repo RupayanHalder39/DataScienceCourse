{
  "nbformat": 4,
  "nbformat_minor": 0,
  "metadata": {
    "colab": {
      "provenance": []
    },
    "kernelspec": {
      "name": "python3",
      "display_name": "Python 3"
    },
    "language_info": {
      "name": "python"
    }
  },
  "cells": [
    {
      "cell_type": "code",
      "execution_count": null,
      "metadata": {
        "id": "9KiKMMq1WIaw"
      },
      "outputs": [],
      "source": [
        "import numpy as np"
      ]
    },
    {
      "cell_type": "code",
      "source": [
        "# 1 theke 10 er moddhe value thakbe erom data niye 3x4 matrix banachhi\n",
        "arr=np.random.randint(1,10 ,(3,4))"
      ],
      "metadata": {
        "id": "WrHtL8lxWOmH"
      },
      "execution_count": null,
      "outputs": []
    },
    {
      "cell_type": "code",
      "source": [
        "arr"
      ],
      "metadata": {
        "colab": {
          "base_uri": "https://localhost:8080/"
        },
        "id": "ib3jr5TfWgvw",
        "outputId": "899f8e9c-dcda-4142-89ee-d786a92abdc3"
      },
      "execution_count": null,
      "outputs": [
        {
          "output_type": "execute_result",
          "data": {
            "text/plain": [
              "array([[3, 7, 6, 8],\n",
              "       [1, 8, 9, 3],\n",
              "       [7, 4, 2, 4]])"
            ]
          },
          "metadata": {},
          "execution_count": 3
        }
      ]
    },
    {
      "cell_type": "code",
      "source": [
        "#transpose of array\n",
        "arr.T"
      ],
      "metadata": {
        "colab": {
          "base_uri": "https://localhost:8080/"
        },
        "id": "cZtOPtklWtnm",
        "outputId": "81276db3-bf4b-477c-eddd-3567710c97bc"
      },
      "execution_count": null,
      "outputs": [
        {
          "output_type": "execute_result",
          "data": {
            "text/plain": [
              "array([[3, 1, 7],\n",
              "       [7, 8, 4],\n",
              "       [6, 9, 2],\n",
              "       [8, 3, 4]])"
            ]
          },
          "metadata": {},
          "execution_count": 4
        }
      ]
    },
    {
      "cell_type": "code",
      "source": [
        "#2d data ke 1d convert kore debe\n",
        "arr.flatten()"
      ],
      "metadata": {
        "colab": {
          "base_uri": "https://localhost:8080/"
        },
        "id": "8m5vJZT7W1SU",
        "outputId": "509dd35e-a158-4192-bf2d-2377e4e70f4b"
      },
      "execution_count": null,
      "outputs": [
        {
          "output_type": "execute_result",
          "data": {
            "text/plain": [
              "array([3, 7, 6, 8, 1, 8, 9, 3, 7, 4, 2, 4])"
            ]
          },
          "metadata": {},
          "execution_count": 5
        }
      ]
    },
    {
      "cell_type": "code",
      "source": [
        "#let's take an array\n",
        "arr1=np.array([1,2,3,3,4])"
      ],
      "metadata": {
        "id": "np1WHTzQW9gg"
      },
      "execution_count": null,
      "outputs": []
    },
    {
      "cell_type": "code",
      "source": [
        "arr1.ndim"
      ],
      "metadata": {
        "colab": {
          "base_uri": "https://localhost:8080/"
        },
        "id": "luHmqZVaXG0j",
        "outputId": "b66e383b-0055-4721-8efe-309732ccf405"
      },
      "execution_count": null,
      "outputs": [
        {
          "output_type": "execute_result",
          "data": {
            "text/plain": [
              "1"
            ]
          },
          "metadata": {},
          "execution_count": 7
        }
      ]
    },
    {
      "cell_type": "code",
      "source": [
        "#dimension ta 1 theke 2 te chole jabe expand_dims() use kore\n",
        "arr2=np.expand_dims(arr1,axis=1)\n",
        "arr3=np.expand_dims(arr1,axis=0)"
      ],
      "metadata": {
        "id": "9hT86THpXLWx"
      },
      "execution_count": null,
      "outputs": []
    },
    {
      "cell_type": "code",
      "source": [
        "#axis=0 rakhle dimension change hobe na\n",
        "print('arr1:')\n",
        "print(arr1)\n",
        "print('dimension of arr1:')\n",
        "print(arr1.ndim)\n",
        "\n",
        "#axis=1 thakle dimension change hobe\n",
        "print('arr2:')\n",
        "print(arr2)\n",
        "print('dimension of arr2:')\n",
        "print(arr2.ndim)"
      ],
      "metadata": {
        "colab": {
          "base_uri": "https://localhost:8080/"
        },
        "id": "4pMb1Hr-Xmqv",
        "outputId": "f926f14b-bde5-4a07-809b-18923a2c5552"
      },
      "execution_count": null,
      "outputs": [
        {
          "output_type": "stream",
          "name": "stdout",
          "text": [
            "arr1:\n",
            "[1 2 3 3 4]\n",
            "dimension of arr1:\n",
            "1\n",
            "arr2:\n",
            "[[1]\n",
            " [2]\n",
            " [3]\n",
            " [3]\n",
            " [4]]\n",
            "dimension of arr2:\n",
            "2\n"
          ]
        }
      ]
    },
    {
      "cell_type": "code",
      "source": [
        "data=np.array([ [1] , [2] , [3] ])"
      ],
      "metadata": {
        "id": "Vuc3XB8PYUyA"
      },
      "execution_count": null,
      "outputs": []
    },
    {
      "cell_type": "code",
      "source": [
        "data"
      ],
      "metadata": {
        "colab": {
          "base_uri": "https://localhost:8080/"
        },
        "id": "KxOTgAIMYqo0",
        "outputId": "f50ab044-a9d2-4944-a7cb-ca3057ffe7c0"
      },
      "execution_count": null,
      "outputs": [
        {
          "output_type": "execute_result",
          "data": {
            "text/plain": [
              "array([[1],\n",
              "       [2],\n",
              "       [3]])"
            ]
          },
          "metadata": {},
          "execution_count": 19
        }
      ]
    },
    {
      "cell_type": "code",
      "source": [
        "#list er vetor e list ache , tate ekta data thakle o seta squeeze kore\n",
        "#ekta list er vetor e diye debe\n",
        "np.squeeze(data)"
      ],
      "metadata": {
        "colab": {
          "base_uri": "https://localhost:8080/"
        },
        "id": "DfbLj2dLYvFW",
        "outputId": "1e862bd3-22a2-4eae-b781-38e672282518"
      },
      "execution_count": null,
      "outputs": [
        {
          "output_type": "execute_result",
          "data": {
            "text/plain": [
              "array([1, 2, 3])"
            ]
          },
          "metadata": {},
          "execution_count": 20
        }
      ]
    },
    {
      "cell_type": "code",
      "source": [
        "arr1"
      ],
      "metadata": {
        "colab": {
          "base_uri": "https://localhost:8080/"
        },
        "id": "zY-TMMd7ZV7E",
        "outputId": "877bd963-a9c3-4163-ae18-c1929358e1fb"
      },
      "execution_count": null,
      "outputs": [
        {
          "output_type": "execute_result",
          "data": {
            "text/plain": [
              "array([1, 2, 3, 3, 4])"
            ]
          },
          "metadata": {},
          "execution_count": 21
        }
      ]
    },
    {
      "cell_type": "code",
      "source": [
        "#use of repeat function :\n",
        "# arr1 ke 3 bar repeat korbe\n",
        "np.repeat(arr1,3)"
      ],
      "metadata": {
        "colab": {
          "base_uri": "https://localhost:8080/"
        },
        "id": "WnwMWME2ZZTI",
        "outputId": "bde4c6d8-3476-40a1-ed91-0f640491e24e"
      },
      "execution_count": null,
      "outputs": [
        {
          "output_type": "execute_result",
          "data": {
            "text/plain": [
              "array([1, 1, 1, 2, 2, 2, 3, 3, 3, 3, 3, 3, 4, 4, 4])"
            ]
          },
          "metadata": {},
          "execution_count": 22
        }
      ]
    },
    {
      "cell_type": "code",
      "source": [
        "#ebar data gulor position shift korabo\n",
        "print('arr1:',arr1)\n",
        "#ebar prottek ta element 3 ghor kore shift korabo:\n",
        "np.roll(arr1 ,3 )"
      ],
      "metadata": {
        "colab": {
          "base_uri": "https://localhost:8080/"
        },
        "id": "I9fo5IIXZ0ZR",
        "outputId": "7d4403aa-2f06-42c0-a3dd-cb9855e2854a"
      },
      "execution_count": null,
      "outputs": [
        {
          "output_type": "stream",
          "name": "stdout",
          "text": [
            "arr1: [1 2 3 3 4]\n"
          ]
        },
        {
          "output_type": "execute_result",
          "data": {
            "text/plain": [
              "array([3, 3, 4, 1, 2])"
            ]
          },
          "metadata": {},
          "execution_count": 23
        }
      ]
    },
    {
      "cell_type": "code",
      "source": [
        "#ebar data gulo ke ekta 2d matrix er diagonal element e rakhbo:\n",
        "print('arr1:',arr1)\n",
        "print(\"Diagonal form:\")\n",
        "np.diag(arr1)"
      ],
      "metadata": {
        "colab": {
          "base_uri": "https://localhost:8080/"
        },
        "id": "wwqErtT0apkE",
        "outputId": "08932e52-12a9-4df2-f6d2-2bc7edd08131"
      },
      "execution_count": null,
      "outputs": [
        {
          "output_type": "stream",
          "name": "stdout",
          "text": [
            "arr1: [1 2 3 3 4]\n",
            "Diagonal form:\n"
          ]
        },
        {
          "output_type": "execute_result",
          "data": {
            "text/plain": [
              "array([[1, 0, 0, 0, 0],\n",
              "       [0, 2, 0, 0, 0],\n",
              "       [0, 0, 3, 0, 0],\n",
              "       [0, 0, 0, 3, 0],\n",
              "       [0, 0, 0, 0, 4]])"
            ]
          },
          "metadata": {},
          "execution_count": 24
        }
      ]
    },
    {
      "cell_type": "code",
      "source": [
        "#binary operation in numpy:\n",
        "#genarate two arrays\n",
        "arr1=np.random.randint(1,10 , (3,4))\n",
        "arr2=np.random.randint(1,10 , (3,4))"
      ],
      "metadata": {
        "id": "v5-_WOufbF3N"
      },
      "execution_count": null,
      "outputs": []
    },
    {
      "cell_type": "code",
      "source": [
        "arr1"
      ],
      "metadata": {
        "colab": {
          "base_uri": "https://localhost:8080/"
        },
        "id": "Z1G5TEhmbhDL",
        "outputId": "dc25f2d2-3788-4e6d-cca5-1c1a8cc0dd1b"
      },
      "execution_count": null,
      "outputs": [
        {
          "output_type": "execute_result",
          "data": {
            "text/plain": [
              "array([[8, 8, 1, 5],\n",
              "       [5, 8, 3, 3],\n",
              "       [3, 1, 1, 3]])"
            ]
          },
          "metadata": {},
          "execution_count": 27
        }
      ]
    },
    {
      "cell_type": "code",
      "source": [
        "arr2"
      ],
      "metadata": {
        "colab": {
          "base_uri": "https://localhost:8080/"
        },
        "id": "CYriDdi1biP_",
        "outputId": "606aa8fc-5d8e-4bb0-c27f-fc153e133a11"
      },
      "execution_count": null,
      "outputs": [
        {
          "output_type": "execute_result",
          "data": {
            "text/plain": [
              "array([[9, 5, 1, 5],\n",
              "       [2, 4, 8, 7],\n",
              "       [9, 6, 8, 1]])"
            ]
          },
          "metadata": {},
          "execution_count": 28
        }
      ]
    },
    {
      "cell_type": "code",
      "source": [
        "#remainder:\n",
        "arr1%arr2"
      ],
      "metadata": {
        "colab": {
          "base_uri": "https://localhost:8080/"
        },
        "id": "jfyT83MJb1t9",
        "outputId": "fa10e6ae-7364-47fc-9d1f-8517f1662c20"
      },
      "execution_count": null,
      "outputs": [
        {
          "output_type": "execute_result",
          "data": {
            "text/plain": [
              "array([[8, 3, 0, 0],\n",
              "       [1, 0, 3, 3],\n",
              "       [3, 1, 1, 0]])"
            ]
          },
          "metadata": {},
          "execution_count": 29
        }
      ]
    },
    {
      "cell_type": "code",
      "source": [
        "#arr1_ij ^ arr2_ij\n",
        "arr1**arr2"
      ],
      "metadata": {
        "colab": {
          "base_uri": "https://localhost:8080/"
        },
        "id": "LpwNsgAmb7Mm",
        "outputId": "50e2236b-981e-41b3-f5a7-485fae9633f0"
      },
      "execution_count": null,
      "outputs": [
        {
          "output_type": "execute_result",
          "data": {
            "text/plain": [
              "array([[134217728,     32768,         1,      3125],\n",
              "       [       25,      4096,      6561,      2187],\n",
              "       [    19683,         1,         1,         3]])"
            ]
          },
          "metadata": {},
          "execution_count": 31
        }
      ]
    },
    {
      "cell_type": "code",
      "source": [
        "#and operation:\n",
        "arr1 & arr2"
      ],
      "metadata": {
        "colab": {
          "base_uri": "https://localhost:8080/"
        },
        "id": "KR0wJZkNcL8D",
        "outputId": "6005c1e9-d116-4cdd-942a-466325a1dfbd"
      },
      "execution_count": null,
      "outputs": [
        {
          "output_type": "execute_result",
          "data": {
            "text/plain": [
              "array([[8, 0, 1, 5],\n",
              "       [0, 0, 0, 3],\n",
              "       [1, 0, 0, 1]])"
            ]
          },
          "metadata": {},
          "execution_count": 32
        }
      ]
    },
    {
      "cell_type": "code",
      "source": [
        "#or operation:\n",
        "arr1 | arr2"
      ],
      "metadata": {
        "colab": {
          "base_uri": "https://localhost:8080/"
        },
        "id": "n_mlaDOFcSLY",
        "outputId": "05604253-f348-4709-b56b-3276d2f10cee"
      },
      "execution_count": null,
      "outputs": [
        {
          "output_type": "execute_result",
          "data": {
            "text/plain": [
              "array([[ 9, 13,  1,  5],\n",
              "       [ 7, 12, 11,  7],\n",
              "       [11,  7,  9,  3]])"
            ]
          },
          "metadata": {},
          "execution_count": 33
        }
      ]
    },
    {
      "cell_type": "code",
      "source": [
        "#negate operation:\n",
        "~arr1"
      ],
      "metadata": {
        "colab": {
          "base_uri": "https://localhost:8080/"
        },
        "id": "Fy68rUQ8cYOz",
        "outputId": "9f5a4f77-2d64-4802-aa3f-0e42804d3ef3"
      },
      "execution_count": null,
      "outputs": [
        {
          "output_type": "execute_result",
          "data": {
            "text/plain": [
              "array([[-9, -9, -2, -6],\n",
              "       [-6, -9, -4, -4],\n",
              "       [-4, -2, -2, -4]])"
            ]
          },
          "metadata": {},
          "execution_count": 34
        }
      ]
    },
    {
      "cell_type": "markdown",
      "source": [
        "String function in numpy array"
      ],
      "metadata": {
        "id": "gwynSwdzcnHW"
      }
    },
    {
      "cell_type": "code",
      "source": [
        "arr=np.array(['thomas','muller'])"
      ],
      "metadata": {
        "id": "Bve0TIxecrlw"
      },
      "execution_count": null,
      "outputs": []
    },
    {
      "cell_type": "code",
      "source": [
        "arr"
      ],
      "metadata": {
        "colab": {
          "base_uri": "https://localhost:8080/"
        },
        "id": "IX0L_2qbc5Sj",
        "outputId": "23d7308b-f486-4aa7-ca94-7c32624687e9"
      },
      "execution_count": null,
      "outputs": [
        {
          "output_type": "execute_result",
          "data": {
            "text/plain": [
              "array(['thomas', 'muller'], dtype='<U6')"
            ]
          },
          "metadata": {},
          "execution_count": 39
        }
      ]
    },
    {
      "cell_type": "code",
      "source": [
        "#ebar eta ke upper case niye aso:\n",
        "np.char.upper(arr)"
      ],
      "metadata": {
        "colab": {
          "base_uri": "https://localhost:8080/"
        },
        "id": "i-G77141c7Do",
        "outputId": "0b0411f8-9ba4-4834-e7b3-d0c932783ac7"
      },
      "execution_count": null,
      "outputs": [
        {
          "output_type": "execute_result",
          "data": {
            "text/plain": [
              "array(['THOMAS', 'MULLER'], dtype='<U6')"
            ]
          },
          "metadata": {},
          "execution_count": 40
        }
      ]
    },
    {
      "cell_type": "code",
      "source": [
        "#convert title to upper case:\n",
        "#title mane first alphabet ta boro kore debe\n",
        "np.char.title(arr)"
      ],
      "metadata": {
        "colab": {
          "base_uri": "https://localhost:8080/"
        },
        "id": "AIBQC_qtdVmZ",
        "outputId": "014e524c-7a54-4f02-f436-290877c2ad63"
      },
      "execution_count": null,
      "outputs": [
        {
          "output_type": "execute_result",
          "data": {
            "text/plain": [
              "array(['Thomas', 'Muller'], dtype='<U6')"
            ]
          },
          "metadata": {},
          "execution_count": 42
        }
      ]
    },
    {
      "cell_type": "code",
      "source": [
        "#capitalize case\n",
        "# Same as title\n",
        "np.char.capitalize(arr)"
      ],
      "metadata": {
        "colab": {
          "base_uri": "https://localhost:8080/"
        },
        "id": "UmhZdwASd3Wy",
        "outputId": "57a1e956-70c9-4d7f-a56d-ba59538df051"
      },
      "execution_count": null,
      "outputs": [
        {
          "output_type": "execute_result",
          "data": {
            "text/plain": [
              "array(['Thomas', 'Muller'], dtype='<U6')"
            ]
          },
          "metadata": {},
          "execution_count": 44
        }
      ]
    },
    {
      "cell_type": "markdown",
      "source": [
        "Mathematical function in NUMPY"
      ],
      "metadata": {
        "id": "mS_kaxRVeP4G"
      }
    },
    {
      "cell_type": "code",
      "source": [
        "arr_test=np.random.randint(0,90,(3,4))"
      ],
      "metadata": {
        "id": "73cgsVg9eUIj"
      },
      "execution_count": null,
      "outputs": []
    },
    {
      "cell_type": "code",
      "source": [
        "arr_test"
      ],
      "metadata": {
        "colab": {
          "base_uri": "https://localhost:8080/"
        },
        "id": "ML6SCQ3_egtd",
        "outputId": "6af772c6-2ee1-4129-a5e2-0e25d3272304"
      },
      "execution_count": null,
      "outputs": [
        {
          "output_type": "execute_result",
          "data": {
            "text/plain": [
              "array([[51, 43, 14, 27],\n",
              "       [38, 32, 44,  3],\n",
              "       [10,  9, 17, 54]])"
            ]
          },
          "metadata": {},
          "execution_count": 46
        }
      ]
    },
    {
      "cell_type": "code",
      "source": [
        "#ebar eder sobar sine value  ber kore dao:\n",
        "np.sin(arr_test)"
      ],
      "metadata": {
        "colab": {
          "base_uri": "https://localhost:8080/"
        },
        "id": "F4Feozc7ejVT",
        "outputId": "44d104a2-8ba7-48a5-bece-07b6f33f98e6"
      },
      "execution_count": null,
      "outputs": [
        {
          "output_type": "execute_result",
          "data": {
            "text/plain": [
              "array([[ 0.67022918, -0.83177474,  0.99060736,  0.95637593],\n",
              "       [ 0.29636858,  0.55142668,  0.01770193,  0.14112001],\n",
              "       [-0.54402111,  0.41211849, -0.96139749, -0.55878905]])"
            ]
          },
          "metadata": {},
          "execution_count": 47
        }
      ]
    },
    {
      "cell_type": "code",
      "source": [
        "#cos value\n",
        "np.cos(arr_test)"
      ],
      "metadata": {
        "colab": {
          "base_uri": "https://localhost:8080/"
        },
        "id": "5CYDZSRdew1j",
        "outputId": "71932708-4b91-4547-8f08-2dafe5eacbfc"
      },
      "execution_count": null,
      "outputs": [
        {
          "output_type": "execute_result",
          "data": {
            "text/plain": [
              "array([[ 0.7421542 ,  0.5551133 ,  0.13673722, -0.29213881],\n",
              "       [ 0.95507364,  0.83422336,  0.99984331, -0.9899925 ],\n",
              "       [-0.83907153, -0.91113026, -0.27516334, -0.82930983]])"
            ]
          },
          "metadata": {},
          "execution_count": 48
        }
      ]
    },
    {
      "cell_type": "code",
      "source": [
        "#tan value:\n",
        "np.tan(arr_test)"
      ],
      "metadata": {
        "colab": {
          "base_uri": "https://localhost:8080/"
        },
        "id": "W_feLPRne1XT",
        "outputId": "39f79b22-51eb-4046-e532-5adac710a5ab"
      },
      "execution_count": null,
      "outputs": [
        {
          "output_type": "execute_result",
          "data": {
            "text/plain": [
              "array([[ 0.90308615, -1.49838734,  7.24460662, -3.2737038 ],\n",
              "       [ 0.31030966,  0.66100604,  0.0177047 , -0.14254654],\n",
              "       [ 0.64836083, -0.45231566,  3.49391565,  0.6738001 ]])"
            ]
          },
          "metadata": {},
          "execution_count": 49
        }
      ]
    },
    {
      "cell_type": "code",
      "source": [
        "#log value:\n",
        "np.log10(arr_test)"
      ],
      "metadata": {
        "colab": {
          "base_uri": "https://localhost:8080/"
        },
        "id": "uGLjmlhxe6gn",
        "outputId": "c93f579f-1f90-41ff-92db-3b555cd0032d"
      },
      "execution_count": null,
      "outputs": [
        {
          "output_type": "execute_result",
          "data": {
            "text/plain": [
              "array([[1.70757018, 1.63346846, 1.14612804, 1.43136376],\n",
              "       [1.5797836 , 1.50514998, 1.64345268, 0.47712125],\n",
              "       [1.        , 0.95424251, 1.23044892, 1.73239376]])"
            ]
          },
          "metadata": {},
          "execution_count": 50
        }
      ]
    },
    {
      "cell_type": "code",
      "source": [
        "#exponent chai:\n",
        "np.exp(arr_test)"
      ],
      "metadata": {
        "colab": {
          "base_uri": "https://localhost:8080/"
        },
        "id": "N7HHA3owfBaZ",
        "outputId": "cc2f3afb-3f28-4df3-d7c6-892f13b0a039"
      },
      "execution_count": null,
      "outputs": [
        {
          "output_type": "execute_result",
          "data": {
            "text/plain": [
              "array([[1.40934908e+22, 4.72783947e+18, 1.20260428e+06, 5.32048241e+11],\n",
              "       [3.18559318e+16, 7.89629602e+13, 1.28516001e+19, 2.00855369e+01],\n",
              "       [2.20264658e+04, 8.10308393e+03, 2.41549528e+07, 2.83075330e+23]])"
            ]
          },
          "metadata": {},
          "execution_count": 51
        }
      ]
    },
    {
      "cell_type": "code",
      "source": [
        "#square root chai:\n",
        "np.sqrt(arr_test)"
      ],
      "metadata": {
        "colab": {
          "base_uri": "https://localhost:8080/"
        },
        "id": "uzLnxUvCfF5o",
        "outputId": "39d500bd-a805-4f2b-96ff-7797b4d77317"
      },
      "execution_count": null,
      "outputs": [
        {
          "output_type": "execute_result",
          "data": {
            "text/plain": [
              "array([[7.14142843, 6.55743852, 3.74165739, 5.19615242],\n",
              "       [6.164414  , 5.65685425, 6.63324958, 1.73205081],\n",
              "       [3.16227766, 3.        , 4.12310563, 7.34846923]])"
            ]
          },
          "metadata": {},
          "execution_count": 52
        }
      ]
    },
    {
      "cell_type": "code",
      "source": [
        "#power function\n",
        "#here power 2:\n",
        "np.power(arr_test,2)"
      ],
      "metadata": {
        "colab": {
          "base_uri": "https://localhost:8080/"
        },
        "id": "mEKpQLO1fPVA",
        "outputId": "e0f34fef-27ab-4d37-e389-42c51b7f2fd5"
      },
      "execution_count": null,
      "outputs": [
        {
          "output_type": "execute_result",
          "data": {
            "text/plain": [
              "array([[2601, 1849,  196,  729],\n",
              "       [1444, 1024, 1936,    9],\n",
              "       [ 100,   81,  289, 2916]])"
            ]
          },
          "metadata": {},
          "execution_count": 53
        }
      ]
    },
    {
      "cell_type": "code",
      "source": [
        "#mean of the data\n",
        "np.mean(arr_test)"
      ],
      "metadata": {
        "colab": {
          "base_uri": "https://localhost:8080/"
        },
        "id": "hiqXKf7afZ-N",
        "outputId": "ca5d394b-be13-4109-de9e-c577a62193dd"
      },
      "execution_count": null,
      "outputs": [
        {
          "output_type": "execute_result",
          "data": {
            "text/plain": [
              "28.5"
            ]
          },
          "metadata": {},
          "execution_count": 54
        }
      ]
    },
    {
      "cell_type": "code",
      "source": [
        "#median of the data:\n",
        "np.median(arr_test)"
      ],
      "metadata": {
        "colab": {
          "base_uri": "https://localhost:8080/"
        },
        "id": "5qJcuw3uflSN",
        "outputId": "da88657a-983c-438e-dab5-0d81cb026a9a"
      },
      "execution_count": null,
      "outputs": [
        {
          "output_type": "execute_result",
          "data": {
            "text/plain": [
              "29.5"
            ]
          },
          "metadata": {},
          "execution_count": 55
        }
      ]
    },
    {
      "cell_type": "code",
      "source": [
        "#let's see the standard deviation:\n",
        "np.std(arr_test)"
      ],
      "metadata": {
        "colab": {
          "base_uri": "https://localhost:8080/"
        },
        "id": "HzfnCrDBfpyP",
        "outputId": "f1df1234-aab7-43d2-8c96-68ff5e86d160"
      },
      "execution_count": null,
      "outputs": [
        {
          "output_type": "execute_result",
          "data": {
            "text/plain": [
              "16.899211026948368"
            ]
          },
          "metadata": {},
          "execution_count": 56
        }
      ]
    },
    {
      "cell_type": "code",
      "source": [
        "#minimum element\n",
        "np.min(arr_test)"
      ],
      "metadata": {
        "colab": {
          "base_uri": "https://localhost:8080/"
        },
        "id": "twIV_edRf7_1",
        "outputId": "c9bcbcff-e0aa-4fb3-e472-d1d8446c7fbc"
      },
      "execution_count": null,
      "outputs": [
        {
          "output_type": "execute_result",
          "data": {
            "text/plain": [
              "3"
            ]
          },
          "metadata": {},
          "execution_count": 57
        }
      ]
    },
    {
      "cell_type": "code",
      "source": [
        "#maximum element:\n",
        "np.max(arr_test)"
      ],
      "metadata": {
        "colab": {
          "base_uri": "https://localhost:8080/"
        },
        "id": "ej2hK5VmgAGG",
        "outputId": "bc655548-8512-4f97-ffcb-822f3dada8b3"
      },
      "execution_count": null,
      "outputs": [
        {
          "output_type": "execute_result",
          "data": {
            "text/plain": [
              "54"
            ]
          },
          "metadata": {},
          "execution_count": 58
        }
      ]
    }
  ]
}