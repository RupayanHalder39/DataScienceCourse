{
  "nbformat": 4,
  "nbformat_minor": 0,
  "metadata": {
    "colab": {
      "provenance": []
    },
    "kernelspec": {
      "name": "python3",
      "display_name": "Python 3"
    },
    "language_info": {
      "name": "python"
    }
  },
  "cells": [
    {
      "cell_type": "markdown",
      "source": [
        "Sort search and counting function"
      ],
      "metadata": {
        "id": "_yM4FccN3U65"
      }
    },
    {
      "cell_type": "code",
      "execution_count": null,
      "metadata": {
        "id": "gWauh6353NMG"
      },
      "outputs": [],
      "source": [
        "import numpy as np"
      ]
    },
    {
      "cell_type": "code",
      "source": [
        "arr=np.array([4,3,4,5,6,72,3,3,455,5,6,6])"
      ],
      "metadata": {
        "id": "daHbp9s03dr5"
      },
      "execution_count": null,
      "outputs": []
    },
    {
      "cell_type": "code",
      "source": [
        "arr"
      ],
      "metadata": {
        "colab": {
          "base_uri": "https://localhost:8080/"
        },
        "id": "tbisIfyt3ra5",
        "outputId": "f14a0a78-710c-4914-8bce-e555d7f3cb04"
      },
      "execution_count": null,
      "outputs": [
        {
          "output_type": "execute_result",
          "data": {
            "text/plain": [
              "array([  4,   3,   4,   5,   6,  72,   3,   3, 455,   5,   6,   6])"
            ]
          },
          "metadata": {},
          "execution_count": 3
        }
      ]
    },
    {
      "cell_type": "code",
      "source": [
        "#sort in assending order\n",
        "np.sort(arr)"
      ],
      "metadata": {
        "colab": {
          "base_uri": "https://localhost:8080/"
        },
        "id": "gIFHwELd3tSw",
        "outputId": "67bc3e4b-5dfe-4e65-dd0d-5f415dea36d9"
      },
      "execution_count": null,
      "outputs": [
        {
          "output_type": "execute_result",
          "data": {
            "text/plain": [
              "array([  3,   3,   3,   4,   4,   5,   5,   6,   6,   6,  72, 455])"
            ]
          },
          "metadata": {},
          "execution_count": 4
        }
      ]
    },
    {
      "cell_type": "code",
      "source": [
        "#ami ekta arbitary element diye search korbo je kon position e amra data ta insert korte parbo:\n",
        "#34 ke amra arr er moddhe kon position e rakhte parbo\n",
        "np.searchsorted(arr,34)"
      ],
      "metadata": {
        "colab": {
          "base_uri": "https://localhost:8080/"
        },
        "id": "mtpwuI323yYp",
        "outputId": "dd8157e0-65c7-4cb7-c707-f60ffc1344a6"
      },
      "execution_count": null,
      "outputs": [
        {
          "output_type": "execute_result",
          "data": {
            "text/plain": [
              "12"
            ]
          },
          "metadata": {},
          "execution_count": 5
        }
      ]
    },
    {
      "cell_type": "code",
      "source": [
        "arr1=np.array([0,345,454,0,0,0,0,0])"
      ],
      "metadata": {
        "id": "QWpF6js24L0D"
      },
      "execution_count": null,
      "outputs": []
    },
    {
      "cell_type": "code",
      "source": [
        "#now count non zero datas in the array:\n",
        "np.count_nonzero(arr1)"
      ],
      "metadata": {
        "colab": {
          "base_uri": "https://localhost:8080/"
        },
        "id": "TNDurfz94ccP",
        "outputId": "a8b81e9e-1457-47ff-c9cb-c2f538b98dea"
      },
      "execution_count": null,
      "outputs": [
        {
          "output_type": "execute_result",
          "data": {
            "text/plain": [
              "2"
            ]
          },
          "metadata": {},
          "execution_count": 7
        }
      ]
    },
    {
      "cell_type": "code",
      "source": [
        "arr"
      ],
      "metadata": {
        "colab": {
          "base_uri": "https://localhost:8080/"
        },
        "id": "8FEPlYpu4mkD",
        "outputId": "f1fe5a74-52c0-4ffb-a4e2-2e412179d922"
      },
      "execution_count": null,
      "outputs": [
        {
          "output_type": "execute_result",
          "data": {
            "text/plain": [
              "array([  4,   3,   4,   5,   6,  72,   3,   3, 455,   5,   6,   6])"
            ]
          },
          "metadata": {},
          "execution_count": 8
        }
      ]
    },
    {
      "cell_type": "code",
      "source": [
        "#amra dekhte chai kothay kon position e more than 6 er data ache\n",
        "np.where(arr>6)"
      ],
      "metadata": {
        "colab": {
          "base_uri": "https://localhost:8080/"
        },
        "id": "4kHH4c-e4oa1",
        "outputId": "ceb5c9ab-8a5a-4c2c-bdcc-707c64231ccc"
      },
      "execution_count": null,
      "outputs": [
        {
          "output_type": "execute_result",
          "data": {
            "text/plain": [
              "(array([5, 8]),)"
            ]
          },
          "metadata": {},
          "execution_count": 9
        }
      ]
    },
    {
      "cell_type": "code",
      "source": [
        "#see the elements of that position\n",
        "arr[ np.where(arr>6) ]"
      ],
      "metadata": {
        "colab": {
          "base_uri": "https://localhost:8080/"
        },
        "id": "BGdQAUMo451i",
        "outputId": "01b4a4e7-ecb6-4e82-b2b3-5bd3ca4b2a2a"
      },
      "execution_count": null,
      "outputs": [
        {
          "output_type": "execute_result",
          "data": {
            "text/plain": [
              "array([ 72, 455])"
            ]
          },
          "metadata": {},
          "execution_count": 14
        }
      ]
    },
    {
      "cell_type": "markdown",
      "source": [
        "Byte swapping"
      ],
      "metadata": {
        "id": "_fMQThlP5h4U"
      }
    },
    {
      "cell_type": "code",
      "source": [
        "arr"
      ],
      "metadata": {
        "colab": {
          "base_uri": "https://localhost:8080/"
        },
        "id": "AHysaCYC5jzF",
        "outputId": "f6b373ec-2bf8-40f2-8a3c-76c5080db6d7"
      },
      "execution_count": null,
      "outputs": [
        {
          "output_type": "execute_result",
          "data": {
            "text/plain": [
              "array([  4,   3,   4,   5,   6,  72,   3,   3, 455,   5,   6,   6])"
            ]
          },
          "metadata": {},
          "execution_count": 15
        }
      ]
    },
    {
      "cell_type": "code",
      "source": [
        "arr.byteswap()"
      ],
      "metadata": {
        "colab": {
          "base_uri": "https://localhost:8080/"
        },
        "id": "4Td3dxyw5l0Q",
        "outputId": "28d43258-6a53-42d1-b576-77d20a60eb16"
      },
      "execution_count": null,
      "outputs": [
        {
          "output_type": "execute_result",
          "data": {
            "text/plain": [
              "array([  288230376151711744,   216172782113783808,   288230376151711744,\n",
              "         360287970189639680,   432345564227567616,  5188146770730811392,\n",
              "         216172782113783808,   216172782113783808, -4107001385185181696,\n",
              "         360287970189639680,   432345564227567616,   432345564227567616])"
            ]
          },
          "metadata": {},
          "execution_count": 16
        }
      ]
    },
    {
      "cell_type": "markdown",
      "source": [
        "Numpy ---> copies and views"
      ],
      "metadata": {
        "id": "p3t3FYoc5rm_"
      }
    },
    {
      "cell_type": "code",
      "source": [
        "arr"
      ],
      "metadata": {
        "colab": {
          "base_uri": "https://localhost:8080/"
        },
        "id": "kU9NzC3P5uoI",
        "outputId": "6b367b3e-b427-44a9-8887-7353bb0cea86"
      },
      "execution_count": null,
      "outputs": [
        {
          "output_type": "execute_result",
          "data": {
            "text/plain": [
              "array([  4,   3,   4,   5,   6,  72,   3,   3, 455,   5,   6,   6])"
            ]
          },
          "metadata": {},
          "execution_count": 17
        }
      ]
    },
    {
      "cell_type": "code",
      "source": [
        "a=np.copy(arr)"
      ],
      "metadata": {
        "id": "Ug7UeZfp5yjr"
      },
      "execution_count": null,
      "outputs": []
    },
    {
      "cell_type": "markdown",
      "source": [
        "arr ar a er location alada , deep copy"
      ],
      "metadata": {
        "id": "9BjX56xg6AWB"
      }
    },
    {
      "cell_type": "code",
      "source": [
        "#so we are doing b=arr\n",
        "b=arr.view()"
      ],
      "metadata": {
        "id": "__1tCPgi6ELp"
      },
      "execution_count": null,
      "outputs": []
    },
    {
      "cell_type": "code",
      "source": [
        "b"
      ],
      "metadata": {
        "colab": {
          "base_uri": "https://localhost:8080/"
        },
        "id": "XNiwXnYh6TgH",
        "outputId": "163daae5-23c3-4678-cceb-3559370215d0"
      },
      "execution_count": null,
      "outputs": [
        {
          "output_type": "execute_result",
          "data": {
            "text/plain": [
              "array([  4,   3,   4,   5,   6,  72,   3,   3, 455,   5,   6,   6])"
            ]
          },
          "metadata": {},
          "execution_count": 21
        }
      ]
    },
    {
      "cell_type": "code",
      "source": [
        "arr"
      ],
      "metadata": {
        "colab": {
          "base_uri": "https://localhost:8080/"
        },
        "id": "wOktm-_J6Wcw",
        "outputId": "b935a401-d46c-4599-836c-7a8a62c9bb0a"
      },
      "execution_count": null,
      "outputs": [
        {
          "output_type": "execute_result",
          "data": {
            "text/plain": [
              "array([  4,   3,   4,   5,   6,  72,   3,   3, 455,   5,   6,   6])"
            ]
          },
          "metadata": {},
          "execution_count": 22
        }
      ]
    },
    {
      "cell_type": "code",
      "source": [
        "b[0]=67\n",
        "print('b=',b)\n",
        "print('arr=',arr)"
      ],
      "metadata": {
        "colab": {
          "base_uri": "https://localhost:8080/"
        },
        "id": "FgSqCr676ayx",
        "outputId": "f372e76f-f1c8-4ce1-b890-79d66345ff1a"
      },
      "execution_count": null,
      "outputs": [
        {
          "output_type": "stream",
          "name": "stdout",
          "text": [
            "b= [ 67   3   4   5   6  72   3   3 455   5   6   6]\n",
            "arr= [ 67   3   4   5   6  72   3   3 455   5   6   6]\n"
          ]
        }
      ]
    },
    {
      "cell_type": "markdown",
      "source": [
        "Numpy - matrix library"
      ],
      "metadata": {
        "id": "sPyxEgqb6rIR"
      }
    },
    {
      "cell_type": "code",
      "source": [
        "import numpy.matlib as nm"
      ],
      "metadata": {
        "id": "WOTw33pz6uM6"
      },
      "execution_count": null,
      "outputs": []
    },
    {
      "cell_type": "code",
      "source": [
        "nm.zeros(5)"
      ],
      "metadata": {
        "colab": {
          "base_uri": "https://localhost:8080/"
        },
        "id": "OAbjsF5t61rL",
        "outputId": "b7a8a71b-b333-4223-c044-b68f5b4f89ba"
      },
      "execution_count": null,
      "outputs": [
        {
          "output_type": "execute_result",
          "data": {
            "text/plain": [
              "matrix([[0., 0., 0., 0., 0.]])"
            ]
          },
          "metadata": {},
          "execution_count": 25
        }
      ]
    },
    {
      "cell_type": "code",
      "source": [
        "nm.ones((3,4))"
      ],
      "metadata": {
        "colab": {
          "base_uri": "https://localhost:8080/"
        },
        "id": "a36kf5Wf65Q6",
        "outputId": "d09a74ea-c0ac-4a42-fa6c-aa68833f3303"
      },
      "execution_count": null,
      "outputs": [
        {
          "output_type": "execute_result",
          "data": {
            "text/plain": [
              "matrix([[1., 1., 1., 1.],\n",
              "        [1., 1., 1., 1.],\n",
              "        [1., 1., 1., 1.]])"
            ]
          },
          "metadata": {},
          "execution_count": 27
        }
      ]
    },
    {
      "cell_type": "code",
      "source": [
        "nm.eye(5)"
      ],
      "metadata": {
        "colab": {
          "base_uri": "https://localhost:8080/"
        },
        "id": "NLcrFMq46-Qi",
        "outputId": "b8088f6a-a35d-4280-eea0-3d4f522932cd"
      },
      "execution_count": null,
      "outputs": [
        {
          "output_type": "execute_result",
          "data": {
            "text/plain": [
              "matrix([[1., 0., 0., 0., 0.],\n",
              "        [0., 1., 0., 0., 0.],\n",
              "        [0., 0., 1., 0., 0.],\n",
              "        [0., 0., 0., 1., 0.],\n",
              "        [0., 0., 0., 0., 1.]])"
            ]
          },
          "metadata": {},
          "execution_count": 29
        }
      ]
    },
    {
      "cell_type": "markdown",
      "source": [
        "Numpy -- Linear Algebra"
      ],
      "metadata": {
        "id": "Bj3phMr_7GMy"
      }
    },
    {
      "cell_type": "code",
      "source": [
        "arr1=np.array([[1, 2, 3], [4, 5, 6]])         #dimension 3x2\n",
        "arr2=np.array([[7, 8], [9, 10], [11, 12]])    #dimension 2x3"
      ],
      "metadata": {
        "id": "PKOcvzHI7PI3"
      },
      "execution_count": null,
      "outputs": []
    },
    {
      "cell_type": "code",
      "source": [
        "arr1"
      ],
      "metadata": {
        "colab": {
          "base_uri": "https://localhost:8080/"
        },
        "id": "lAZpaRji7lww",
        "outputId": "a99b2e0f-cd6d-4135-e7b2-4c4dfac9e727"
      },
      "execution_count": null,
      "outputs": [
        {
          "output_type": "execute_result",
          "data": {
            "text/plain": [
              "array([[1, 2, 3],\n",
              "       [4, 5, 6]])"
            ]
          },
          "metadata": {},
          "execution_count": 34
        }
      ]
    },
    {
      "cell_type": "code",
      "source": [
        "arr2"
      ],
      "metadata": {
        "colab": {
          "base_uri": "https://localhost:8080/"
        },
        "id": "f207vGzI7nrs",
        "outputId": "ec5eab2a-f02d-4183-e167-cfdcaffe5b5c"
      },
      "execution_count": null,
      "outputs": [
        {
          "output_type": "execute_result",
          "data": {
            "text/plain": [
              "array([[ 7,  8],\n",
              "       [ 9, 10],\n",
              "       [11, 12]])"
            ]
          },
          "metadata": {},
          "execution_count": 35
        }
      ]
    },
    {
      "cell_type": "code",
      "source": [
        "#dot product or matrix multiplication :\n",
        "np.dot(arr1,arr2)"
      ],
      "metadata": {
        "colab": {
          "base_uri": "https://localhost:8080/"
        },
        "id": "J3GOWzTf8MLH",
        "outputId": "b524d248-c4f5-4dd3-c764-b7a2287c5b7b"
      },
      "execution_count": null,
      "outputs": [
        {
          "output_type": "execute_result",
          "data": {
            "text/plain": [
              "array([[ 58,  64],\n",
              "       [139, 154]])"
            ]
          },
          "metadata": {},
          "execution_count": 36
        }
      ]
    },
    {
      "cell_type": "code",
      "source": [
        "#another way was\n",
        "arr1@arr2"
      ],
      "metadata": {
        "colab": {
          "base_uri": "https://localhost:8080/"
        },
        "id": "kNtz1qiI8XTl",
        "outputId": "a3652560-cc68-4dcb-9d8a-bd10f6524390"
      },
      "execution_count": null,
      "outputs": [
        {
          "output_type": "execute_result",
          "data": {
            "text/plain": [
              "array([[ 58,  64],\n",
              "       [139, 154]])"
            ]
          },
          "metadata": {},
          "execution_count": 37
        }
      ]
    }
  ]
}